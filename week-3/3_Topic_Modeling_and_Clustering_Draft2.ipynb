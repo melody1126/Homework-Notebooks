{
  "cells": [
    {
      "cell_type": "markdown",
      "metadata": {
        "id": "WlFyUrnvmKhd"
      },
      "source": [
        "\n",
        "# Week 3 - Discovering higher-level Patterns (Topic Modeling & Clustering)\n",
        "\n",
        "The first 2 weeks have primarily used the word count of documents as their measure, such as counting the number of \"positive\" and \"negative\" words to determine sentiment.\n",
        "\n",
        "This week, we learn a second kind of document representation in clusters or topics. First, we take a text corpus that we have developed and discovery emergent clusters through a process known as clustering or partitioning. We pilot this here both with a well-known *flat* clustering method, `kmeans`, and also a *hierarchical* approach, `Ward's (minimum variance) method`. We will demonstrate a simple (graphical) approach to identifying optimal cluster number, the sillhouette method, and evaluate the quality of unsupervised clusters on labeled data. Next, we will explore a method of two dimensional content clustering called topic modeling (e.g., words cluster in topics; topics cluster in documents). This statistical technique models and computationally induces *topics* from data, which are sparse distributions over (nonexclusive clusters of) words, from which documents can formally be described as sparse mixtures. We will explore these topics and consider their utility for understanding trends within a corpus. We will consider how to construct models that take document cluster and topic loadings as predictive features, the basis of influence metrics and dynamically over time.\n",
        "\n",
        "For this notebook we will be using the following packages:"
      ]
    },
    {
      "cell_type": "code",
      "source": [
        "#clear the drive\n",
        "from google.colab import drive\n",
        "drive.flush_and_unmount()"
      ],
      "metadata": {
        "id": "KcmGHOTNXK-q"
      },
      "execution_count": 1,
      "outputs": []
    },
    {
      "cell_type": "code",
      "source": [
        "from google.colab import drive\n",
        "drive.mount(\"/content/drive\", force_remount = True)"
      ],
      "metadata": {
        "colab": {
          "base_uri": "https://localhost:8080/"
        },
        "id": "8XD--iZzRdGK",
        "outputId": "d6aaddf8-28ba-4112-aa6b-778f5b4f2d28"
      },
      "execution_count": 2,
      "outputs": [
        {
          "output_type": "stream",
          "name": "stdout",
          "text": [
            "Mounted at /content/drive\n"
          ]
        }
      ]
    },
    {
      "cell_type": "code",
      "source": [
        "import os\n",
        "root_dir = \"/content/drive/My Drive/\"\n",
        "data_dir = '/content/drive/MyDrive/Chicago/Academics/2022 Winter/Soci 40133 Content Analysis/Homework-Notebooks/data'"
      ],
      "metadata": {
        "id": "DHmQxSWauLP-"
      },
      "execution_count": 3,
      "outputs": []
    },
    {
      "cell_type": "code",
      "source": [
        "root_dir"
      ],
      "metadata": {
        "colab": {
          "base_uri": "https://localhost:8080/",
          "height": 34
        },
        "id": "Uxc9skx1X1nq",
        "outputId": "4f6f38ae-88ae-41d2-9be3-7eb2f6763ad1"
      },
      "execution_count": 4,
      "outputs": [
        {
          "output_type": "execute_result",
          "data": {
            "application/vnd.google.colaboratory.intrinsic+json": {
              "type": "string"
            },
            "text/plain": [
              "'/content/drive/My Drive/'"
            ]
          },
          "metadata": {},
          "execution_count": 4
        }
      ]
    },
    {
      "cell_type": "code",
      "source": [
        "data_dir"
      ],
      "metadata": {
        "colab": {
          "base_uri": "https://localhost:8080/",
          "height": 34
        },
        "id": "w7q0z2yPX3yd",
        "outputId": "bf743b2b-8ab1-4f79-cee6-ec9dbbf000f1"
      },
      "execution_count": 5,
      "outputs": [
        {
          "output_type": "execute_result",
          "data": {
            "application/vnd.google.colaboratory.intrinsic+json": {
              "type": "string"
            },
            "text/plain": [
              "'/content/drive/MyDrive/Chicago/Academics/2022 Winter/Soci 40133 Content Analysis/Homework-Notebooks/data'"
            ]
          },
          "metadata": {},
          "execution_count": 5
        }
      ]
    },
    {
      "cell_type": "code",
      "source": [
        "os.chdir(data_dir)"
      ],
      "metadata": {
        "id": "P0XOthkyvTZ_"
      },
      "execution_count": 7,
      "outputs": []
    },
    {
      "cell_type": "code",
      "source": [
        "pwd"
      ],
      "metadata": {
        "colab": {
          "base_uri": "https://localhost:8080/",
          "height": 34
        },
        "id": "FiUvpIllvYOu",
        "outputId": "6da5d3c8-78e5-4a49-a4c8-62a0d1ed520c"
      },
      "execution_count": 8,
      "outputs": [
        {
          "output_type": "execute_result",
          "data": {
            "application/vnd.google.colaboratory.intrinsic+json": {
              "type": "string"
            },
            "text/plain": [
              "'/content/drive/MyDrive/Chicago/Academics/2022 Winter/Soci 40133 Content Analysis/Homework-Notebooks/data'"
            ]
          },
          "metadata": {},
          "execution_count": 8
        }
      ]
    },
    {
      "cell_type": "code",
      "source": [
        "os.listdir(data_dir)"
      ],
      "metadata": {
        "colab": {
          "base_uri": "https://localhost:8080/"
        },
        "id": "18kLcT5KvdT-",
        "outputId": "49471a14-e0d7-4e3e-f16b-0c56281d1a30"
      },
      "execution_count": 10,
      "outputs": [
        {
          "output_type": "execute_result",
          "data": {
            "text/plain": [
              "['1992embeddings_hs_new3.sg',\n",
              " 'APSabstracts1950s.csv',\n",
              " 'Bayesian-echo',\n",
              " 'IMAGES',\n",
              " 'ObamaClintonReleases.csv',\n",
              " 'PhysRev.98.875.jpg',\n",
              " 'SampleJobAds.csv',\n",
              " 'Shakespeare',\n",
              " 'Spam_Data',\n",
              " 'audio_samples',\n",
              " 'cola_public',\n",
              " 'dataforgssstudy',\n",
              " 'dool',\n",
              " 'grimmerPressReleases',\n",
              " 'hot_Reviews.csv',\n",
              " 'imagenet_classes.txt',\n",
              " 'loopdesign.png',\n",
              " 'nytimes_cbow.reduced.txt',\n",
              " 'pyAnno',\n",
              " 'reddit.csv',\n",
              " 'scikit_learn_data',\n",
              " 'senReleasesTraining.csv',\n",
              " 'trump_tweets',\n",
              " 'whReleases.csv',\n",
              " 'education_corpora.jsonl']"
            ]
          },
          "metadata": {},
          "execution_count": 10
        }
      ]
    },
    {
      "cell_type": "code",
      "execution_count": null,
      "metadata": {
        "collapsed": true,
        "id": "Of4lEv5lmKhe"
      },
      "outputs": [],
      "source": [
        "!pip install git+git://github.com/UChicago-Computational-Content-Analysis/lucem_illud.git\n",
        "\n",
        "#@title\n",
        "#Special module written for this class\n",
        "#This provides access to data and to helper functions from previous weeks\n",
        "#Make sure you update it before starting this notebook\n",
        "import lucem_illud #pip install -U git+git://github.com/UChicago-Computational-Content-Analysis/lucem_illud.git\n",
        "\n",
        "\n",
        "#All these packages need to be installed from pip\n",
        "#These are all for the cluster detection\n",
        "import sklearn\n",
        "import sklearn.feature_extraction.text\n",
        "import sklearn.pipeline\n",
        "import sklearn.preprocessing\n",
        "import sklearn.datasets\n",
        "import sklearn.cluster\n",
        "import sklearn.decomposition\n",
        "import sklearn.metrics\n",
        "\n",
        "import scipy #For hierarchical clustering and some visuals\n",
        "#import scipy.cluster.hierarchy\n",
        "import gensim#For topic modeling\n",
        "import requests #For downloading our datasets\n",
        "import numpy as np #for arrays\n",
        "import pandas #gives us DataFrames\n",
        "import matplotlib.pyplot as plt #For graphics\n",
        "import matplotlib.cm #Still for graphics\n",
        "import seaborn as sns #Makes the graphics look nicer\n",
        "\n",
        "#This 'magic' command makes the plots work better\n",
        "#in the notebook, don't use it outside of a notebook.\n",
        "#Also you can ignore the warning, it\n",
        "%matplotlib inline\n",
        "\n",
        "import itertools\n",
        "import json"
      ]
    },
    {
      "cell_type": "markdown",
      "metadata": {
        "id": "K2xHUhu9mKhe"
      },
      "source": [
        "# Getting our corpora\n",
        "\n",
        "To begin, we will use a well known corpus of testing documents from the *20 Newsgroups corpus*, a dataset commonly used to illustrate text applications of text clustering and classification. This comes packaged with sklearn and comprises approximately 20,000 newsgroup documents, partitioned (nearly) evenly across 20 newsgroups. It was originally collected by Ken Lang, probably for his 1995 *Newsweeder: Learning to filter netnews* paper. The data is organized into 20 distinct newsgroups, each corresponding to a different topic. Some of the newsgroups are very closely related (e.g. comp.sys.ibm.pc.hardware / comp.sys.mac.hardware), while others are unrelated (e.g misc.forsale / soc.religion.christian). "
      ]
    },
    {
      "cell_type": "code",
      "execution_count": null,
      "metadata": {
        "id": "ki1AAsiBmKhe"
      },
      "outputs": [],
      "source": [
        "#@title\n",
        "newsgroups = sklearn.datasets.fetch_20newsgroups(subset='train', data_home = '../data/scikit_learn_data')\n",
        "print(dir(newsgroups))"
      ]
    },
    {
      "cell_type": "markdown",
      "metadata": {
        "id": "B1zmUi_rmKhe"
      },
      "source": [
        "We can ascertain the categories with `target_names` or the actual files with `filenames`"
      ]
    },
    {
      "cell_type": "code",
      "execution_count": null,
      "metadata": {
        "id": "-VgUTRNPmKhe"
      },
      "outputs": [],
      "source": [
        "#@title\n",
        "print(newsgroups.target_names)\n",
        "print(len(newsgroups.data))"
      ]
    },
    {
      "cell_type": "markdown",
      "metadata": {
        "id": "YFxladQZmKhf"
      },
      "source": [
        "We will start by converting the provided data into pandas DataFrames.\n",
        "\n",
        "First we reduce our dataset for this analysis by dropping some extraneous information and converting it into a DataFrame."
      ]
    },
    {
      "cell_type": "code",
      "execution_count": null,
      "metadata": {
        "id": "EPm_fxnomKhf"
      },
      "outputs": [],
      "source": [
        "#@title\n",
        "newsgroupsCategories = ['comp.sys.mac.hardware', 'comp.windows.x', 'misc.forsale', 'rec.autos']\n",
        "\n",
        "newsgroupsDF = pandas.DataFrame(columns = ['text', 'category', 'source_file'])\n",
        "\n",
        "for category in newsgroupsCategories:\n",
        "    print(\"Fetching data for: {}\".format(category))\n",
        "    ng = sklearn.datasets.fetch_20newsgroups(subset='train', categories = [category], remove=['headers', 'footers', 'quotes'], data_home = '../data/scikit_learn_data/')\n",
        "    newsgroupsDF = newsgroupsDF.append(pandas.DataFrame({'text' : ng.data, 'category' : [category] * len(ng.data), 'source_file' : ng.filenames}), ignore_index=True)\n",
        "\n",
        "#Creating an explicit index column for later\n",
        "\n",
        "#newsgroupsDF['index'] = range(len(newsgroupsDF))\n",
        "#newsgroupsDF.set_index('index', inplace = True)\n",
        "print(len(newsgroupsDF))\n",
        "newsgroupsDF[:10]"
      ]
    },
    {
      "cell_type": "markdown",
      "metadata": {
        "id": "7JqJ9fpamKhf"
      },
      "source": [
        "Next, we can convert the documents into word count vectors (e.g., *soc.religion.christian message a* might contain 3 mentions of \"church\", 2 of \"jesus\", 1 of \"religion\", etc., yielding a CountVector=[3,2,1,...])"
      ]
    },
    {
      "cell_type": "code",
      "execution_count": null,
      "metadata": {
        "id": "VJdGi22XmKhf"
      },
      "outputs": [],
      "source": [
        "#@title\n",
        "#First it needs to be initialized\n",
        "ngCountVectorizer = sklearn.feature_extraction.text.CountVectorizer()\n",
        "#Then trained\n",
        "newsgroupsVects = ngCountVectorizer.fit_transform(newsgroupsDF['text'])\n",
        "print(newsgroupsVects.shape)"
      ]
    },
    {
      "cell_type": "markdown",
      "metadata": {
        "id": "Ts75qSJSmKhf"
      },
      "source": [
        "I'm pretty sure that you're very familiar with the cell above now, but let's go through the concepts again. \n",
        "\n",
        "What do we want to do here? We want to do vectorization, i.e., converting texts into numerical features (vectors) as required by machine learning algorithms. And this is what feature_extraction module does: to extract features from texts in a format as required by ML algorithms. feature_extraction module has four classes: CountVectorizer, DictVectorizer, TfidfVectorizer, and FeatureHasher. Here, we use CountVectorizer, but we'll also use TfidfVectorizer as well below.\n",
        "\n",
        "There are various strategies by which we extract features. Here, we use CountVectorizer, and, in particular, we use 'Bag of Words' representation. In other words, the features we hope to extract from the texts are each individual token occurrence frequency. We simply count the the occurrence of each token in each document. So, here, we get a document-term-matrix, in which documents are characterized by the occurrences of tokens. Other forms of features, such as the relative position information of words, are ignored. We'll see other types of representations and strategies as well soon, such as N-gram (by the way, we can do n-gram with CountVectorizer. CountVectorizer class takes a set of parameters, such as analyzer, which you can specify the n-gram). \n",
        "\n",
        "the first line of the cell above instantiate a class, CountVectorizer(). In other words, you created an instance, or realization of a class. What is a class and what does instantiation mean? That's a long story, maybe for next time."
      ]
    },
    {
      "cell_type": "markdown",
      "metadata": {
        "id": "oo2ZqeudmKhf"
      },
      "source": [
        "This gives us a matrix with row a document and each column a word. The matrix is mostly zeros, so we store it as a sparse matrix, a data structure that contains and indexes only the nonzero entries."
      ]
    },
    {
      "cell_type": "code",
      "execution_count": null,
      "metadata": {
        "id": "ticcOMk7mKhf"
      },
      "outputs": [],
      "source": [
        "#@title\n",
        "newsgroupsVects"
      ]
    },
    {
      "cell_type": "markdown",
      "metadata": {
        "id": "sim5XTzJmKhf"
      },
      "source": [
        "We can use the normal operations on this sparse matrix or convert it to normal matrix (not recommended for large sparse matrices :-)"
      ]
    },
    {
      "cell_type": "code",
      "execution_count": null,
      "metadata": {
        "id": "d0Xdg04umKhg"
      },
      "outputs": [],
      "source": [
        "#@title\n",
        "newsgroupsVects[:10,:20].toarray()"
      ]
    },
    {
      "cell_type": "markdown",
      "metadata": {
        "id": "dqQjREONmKhg"
      },
      "source": [
        "What is the toarray() function here? It's similar to todense()--todense() and toarray() both returns a dense representation of a matrix; however, todense() returns a matrix representation while toarray() returns a ndarray representation."
      ]
    },
    {
      "cell_type": "markdown",
      "metadata": {
        "id": "rL6_9-7MmKhg"
      },
      "source": [
        "We can also lookup the indices of different words using the Vectorizer"
      ]
    },
    {
      "cell_type": "code",
      "execution_count": null,
      "metadata": {
        "scrolled": true,
        "id": "XaLfR9oqmKhg"
      },
      "outputs": [],
      "source": [
        "#@title\n",
        "ngCountVectorizer.vocabulary_.get('vector')"
      ]
    },
    {
      "cell_type": "markdown",
      "metadata": {
        "id": "MyynQWMRmKhg"
      },
      "source": [
        "There are some more interesting things to do...\n",
        "\n",
        "Lets start with [term frequency–inverse document frequency](http://scikit-learn.org/stable/modules/generated/sklearn.feature_extraction.text.TfidfTransformer.html)(tf-idf), a method for weighting document-distinguishing words."
      ]
    },
    {
      "cell_type": "code",
      "execution_count": null,
      "metadata": {
        "id": "4-E8sYC1mKhl"
      },
      "outputs": [],
      "source": [
        "#@title\n",
        "#initialize\n",
        "newsgroupsTFTransformer = sklearn.feature_extraction.text.TfidfTransformer().fit(newsgroupsVects)\n",
        "#train\n",
        "newsgroupsTF = newsgroupsTFTransformer.transform(newsgroupsVects)\n",
        "print(newsgroupsTF.shape)"
      ]
    },
    {
      "cell_type": "markdown",
      "metadata": {
        "id": "K9xIXVmXmKhl"
      },
      "source": [
        "This gives us the tf-idf for each word in each text"
      ]
    },
    {
      "cell_type": "code",
      "execution_count": null,
      "metadata": {
        "scrolled": true,
        "id": "ElRqpAD6mKhl"
      },
      "outputs": [],
      "source": [
        "#@title\n",
        "list(zip(ngCountVectorizer.vocabulary_.keys(), newsgroupsTF.data))[:20]"
      ]
    },
    {
      "cell_type": "markdown",
      "metadata": {
        "id": "VkpM6eYHmKhl"
      },
      "source": [
        "Let's see what we're doing here. First, you need to know what vocabulary\\_ does. vocabulary\\_ is an attribute of the CountVectorizer, which gives you a mapping of terms to feature indices. It gives you all the terms and their feature indices, so it's a dictionary. So, by doing \"ngCountVectorizer.vocabulary\\_.keys()\", we get the keys of the dictionary, which are the terms. "
      ]
    },
    {
      "cell_type": "markdown",
      "metadata": {
        "id": "HcIViwGhmKhm"
      },
      "source": [
        "At first glance, there appears to be a lot of garbage littering this unordered list with unique words and stopwords. Note, however, that words like *apple*, *rgb*, and *voltage* distinguish this newsgroup document, while stopwords post a much lower weight. Note that we could filter out stop words, stem and lem our data before vectorizering, or we can instead use tf-idf to filter our data (or **both**). For exact explanation of all options look [here](http://scikit-learn.org/stable/modules/generated/sklearn.feature_extraction.text.TfidfVectorizer.html). To prune this matrix of features, we now limit our word vector to 1000 words with at least 3 occurrences, which do not occur in more than half of the documents. There is an extensive science and art to feature engineering for machine learning applications like clustering."
      ]
    },
    {
      "cell_type": "code",
      "execution_count": null,
      "metadata": {
        "collapsed": true,
        "id": "f276bplvmKhm"
      },
      "outputs": [],
      "source": [
        "#@title\n",
        "#initialize\n",
        "ngTFVectorizer = sklearn.feature_extraction.text.TfidfVectorizer(max_df=0.5, max_features=1000, min_df=3, stop_words='english', norm='l2')\n",
        "#train\n",
        "newsgroupsTFVects = ngTFVectorizer.fit_transform(newsgroupsDF['text'])"
      ]
    },
    {
      "cell_type": "markdown",
      "metadata": {
        "id": "HryUOv6PmKhm"
      },
      "source": [
        "Lets look at the matrix"
      ]
    },
    {
      "cell_type": "code",
      "execution_count": null,
      "metadata": {
        "id": "L-1iNzKLmKhm"
      },
      "outputs": [],
      "source": [
        "#@title\n",
        "newsgroupsDF['text']"
      ]
    },
    {
      "cell_type": "markdown",
      "metadata": {
        "id": "d1WgtZ_0mKhm"
      },
      "source": [
        "The matrix is much smaller now, only 1000 words, but the same number of documents\n",
        "\n",
        "We can still look at the words:"
      ]
    },
    {
      "cell_type": "code",
      "execution_count": null,
      "metadata": {
        "id": "A6VaOJ-6mKhm"
      },
      "outputs": [],
      "source": [
        "#@title\n",
        "try:\n",
        "    print(ngTFVectorizer.vocabulary_['vector'])\n",
        "except KeyError:\n",
        "    print('vector is missing')\n",
        "    print('The available words are: {} ...'.format(list(ngTFVectorizer.vocabulary_.keys())[:10]))"
      ]
    },
    {
      "cell_type": "markdown",
      "metadata": {
        "id": "Bf2GXTOlmKhm"
      },
      "source": [
        "This is a reasonable matrix of features with which to begin identifying clusters."
      ]
    },
    {
      "cell_type": "markdown",
      "metadata": {
        "id": "ZXsiVTbAmKhn"
      },
      "source": [
        "# Flat Clustering with $K$-means\n",
        "\n",
        "Lets start with $k$-means, an approach that begins with random clusters of predefined number, then iterates cluster reassignment and evaluates the new clusters relative to an objective function, recursively.\n",
        "\n",
        "To do this we will need to know how many clusters we are looking for. Here the *true number* of clusters is 4. Of course, in most cases you would not know the number in advance."
      ]
    },
    {
      "cell_type": "code",
      "execution_count": null,
      "metadata": {
        "id": "c1j1lefJmKhn"
      },
      "outputs": [],
      "source": [
        "#@title\n",
        "numClusters = len(set(newsgroupsDF['category']))\n",
        "numClusters"
      ]
    },
    {
      "cell_type": "markdown",
      "metadata": {
        "id": "n6YJWu3-mKhn"
      },
      "source": [
        "Then we can initialize our cluster finder"
      ]
    },
    {
      "cell_type": "code",
      "execution_count": null,
      "metadata": {
        "collapsed": true,
        "id": "Lios9O1DmKhn"
      },
      "outputs": [],
      "source": [
        "#@title\n",
        "#k-means++ is a better way of finding the starting points\n",
        "#We could also try providing our own\n",
        "km = sklearn.cluster.KMeans(n_clusters=numClusters, init='k-means++')"
      ]
    },
    {
      "cell_type": "markdown",
      "metadata": {
        "id": "vBkXpcLomKhn"
      },
      "source": [
        "And now we can calculate the clusters"
      ]
    },
    {
      "cell_type": "code",
      "execution_count": null,
      "metadata": {
        "id": "QBqrLHCfmKhn"
      },
      "outputs": [],
      "source": [
        "#@title\n",
        "km.fit(newsgroupsTFVects)"
      ]
    },
    {
      "cell_type": "markdown",
      "metadata": {
        "id": "OyS1_DWFmKhn"
      },
      "source": [
        "Once we have the clusters, we can evaluate them with a variety of metrics that sklearn provides. We will look at a few, including *Homogeneity*, *Completeness*, *V-measure* and *Adjusted Rand Score*. \n",
        "\n",
        "*Homogeneity* is a measure that grows (from 0 to 1) to the degree that all of its clusters contain only data points which are members of a single class (e.g., newsgroup). \n",
        "\n",
        "*Completeness* is *Homogeneity's* converse: a measure that grows (0 to 1) to the degree that all data points of a given class are also elements of the same cluster.\n",
        "\n",
        "The *V-measure* is the harmonic mean of *Homogeniety* and *Completeness* ($v = 2 * (homogeneity * completeness) / (homogeneity + completeness$).\n",
        "\n",
        "the *Adjusted Rand Score* is built atop the *Rand Index (RI)*, which computes the similarity between two clusterings by considering all pairs of samples and counting pairs assigned in the same or different clusters in the predicted and true clusterings (e.g., actual newsgroups). The *RI* is then adjusted for chance as follows:\n",
        "$ARI = (RI - RI_{expected}) / (max(RI) - RI_{expected})$.\n",
        "The Adjusted Rand Index is thus ensured to have a value close to 0.0 for random labeling independent of the number of clusters and samples, 1.0 when the clusterings are identical, and -1.0 when they are as bad (i.e., cross-cutting) as they can be."
      ]
    },
    {
      "cell_type": "code",
      "execution_count": null,
      "metadata": {
        "id": "SR9OOvqomKhn"
      },
      "outputs": [],
      "source": [
        "#@title\n",
        "print(\"The available metrics are: {}\".format([s for s in dir(sklearn.metrics) if s[0] != '_']))\n",
        "print(\"For our clusters:\")\n",
        "print(\"Homogeneity: {:0.3f}\".format(sklearn.metrics.homogeneity_score(newsgroupsDF['category'], km.labels_)))\n",
        "print(\"Completeness: {:0.3f}\".format(sklearn.metrics.completeness_score(newsgroupsDF['category'], km.labels_)))\n",
        "print(\"V-measure: {:0.3f}\".format(sklearn.metrics.v_measure_score(newsgroupsDF['category'], km.labels_)))\n",
        "print(\"Adjusted Rand Score: {:0.3f}\".format(sklearn.metrics.adjusted_rand_score(newsgroupsDF['category'], km.labels_)))"
      ]
    },
    {
      "cell_type": "markdown",
      "metadata": {
        "id": "PNQHYwpjmKhn"
      },
      "source": [
        "You can evaluate these for different clustering solutions ($1-N$ clusters). You can also interrogate the alignment between specific documents and their cluster assignments by adding the cluster labels to the pandas dataframe."
      ]
    },
    {
      "cell_type": "code",
      "execution_count": null,
      "metadata": {
        "id": "sev4d5JXmKhn"
      },
      "outputs": [],
      "source": [
        "#@title\n",
        "newsgroupsDF['kmeans_predictions'] = km.labels_\n",
        "newsgroupsDF"
      ]
    },
    {
      "cell_type": "markdown",
      "metadata": {
        "id": "iuRBzG9XmKho"
      },
      "source": [
        "We can also look at the distinguishing features in each cluster:"
      ]
    },
    {
      "cell_type": "code",
      "execution_count": null,
      "metadata": {
        "id": "ZQR1rZYymKho"
      },
      "outputs": [],
      "source": [
        "#@title\n",
        "terms = ngTFVectorizer.get_feature_names()\n",
        "print(\"Top terms per cluster:\")\n",
        "order_centroids = km.cluster_centers_.argsort()[:, ::-1]\n",
        "for i in range(numClusters):\n",
        "    print(\"Cluster %d:\" % i)\n",
        "    for ind in order_centroids[i, :10]:\n",
        "        print(' %s' % terms[ind])\n",
        "    print('\\n')"
      ]
    },
    {
      "cell_type": "markdown",
      "metadata": {
        "id": "6D2qFELGmKho"
      },
      "source": [
        "Let's construct a visualization of the clusters. First, we will first reduce the\n",
        "dimensionality of the data using principal components analysis (PCA)."
      ]
    },
    {
      "cell_type": "code",
      "execution_count": null,
      "metadata": {
        "collapsed": true,
        "id": "PxEquWGcmKhp"
      },
      "outputs": [],
      "source": [
        "#@title\n",
        "PCA = sklearn.decomposition.PCA\n",
        "pca = PCA(n_components = 2).fit(newsgroupsTFVects.toarray())\n",
        "reduced_data = pca.transform(newsgroupsTFVects.toarray())"
      ]
    },
    {
      "cell_type": "markdown",
      "metadata": {
        "collapsed": true,
        "id": "9nGMlo__mKhp"
      },
      "source": [
        "The cell below is optional. It allows you to do a biplot"
      ]
    },
    {
      "cell_type": "code",
      "execution_count": null,
      "metadata": {
        "collapsed": true,
        "id": "ZV0oDEBjmKhp"
      },
      "outputs": [],
      "source": [
        "#@title\n",
        "components = pca.components_\n",
        "keyword_ids = list(set(order_centroids[:,:10].flatten())) #Get the ids of the most distinguishing words(features) from your kmeans model.\n",
        "words = [terms[i] for i in keyword_ids]#Turn the ids into words.\n",
        "x = components[:,keyword_ids][0,:] #Find the coordinates of those words in your biplot.\n",
        "y = components[:,keyword_ids][1,:]"
      ]
    },
    {
      "cell_type": "markdown",
      "metadata": {
        "id": "BCbxOdh3mKhp"
      },
      "source": [
        "Then, let's build a color map for the true labels."
      ]
    },
    {
      "cell_type": "code",
      "execution_count": null,
      "metadata": {
        "id": "bswSi3lomKhq"
      },
      "outputs": [],
      "source": [
        "#@title\n",
        "colordict = {\n",
        "'comp.sys.mac.hardware': 'red',\n",
        "'comp.windows.x': 'orange',\n",
        "'misc.forsale': 'green',\n",
        "'rec.autos': 'blue',\n",
        "    }\n",
        "colors = [colordict[c] for c in newsgroupsDF['category']]\n",
        "print(\"The categories' colors are:\\n{}\".format(colordict.items()))"
      ]
    },
    {
      "cell_type": "markdown",
      "metadata": {
        "id": "4vdY2_prmKhq"
      },
      "source": [
        "Let's plot the data using the true labels as the colors of our data points."
      ]
    },
    {
      "cell_type": "code",
      "execution_count": null,
      "metadata": {
        "id": "N9A8efLamKhq"
      },
      "outputs": [],
      "source": [
        "#@title\n",
        "fig = plt.figure(figsize = (10,6))\n",
        "ax = fig.add_subplot(111)\n",
        "ax.set_frame_on(False)\n",
        "ax.scatter(reduced_data[:, 0], reduced_data[:, 1], color = colors, alpha = 0.5, label = colors)\n",
        "plt.xticks(())\n",
        "plt.yticks(())\n",
        "plt.title('True Classes')\n",
        "plt.show()"
      ]
    },
    {
      "cell_type": "markdown",
      "metadata": {
        "id": "OszI9jGqmKhq"
      },
      "source": [
        "One nice thing about PCA is that we can also do a biplot and map our feature\n",
        "vectors to the same space."
      ]
    },
    {
      "cell_type": "code",
      "execution_count": null,
      "metadata": {
        "id": "tVhS7KSgmKhq"
      },
      "outputs": [],
      "source": [
        "#@title\n",
        "fig = plt.figure(figsize = (16,9))\n",
        "ax = fig.add_subplot(111)\n",
        "ax.set_frame_on(False)\n",
        "ax.scatter(reduced_data[:, 0], reduced_data[:, 1], color = colors, alpha = 0.3, label = colors)\n",
        "for i, word in enumerate(words):\n",
        "    ax.annotate(word, (x[i],y[i]))\n",
        "plt.xticks(())\n",
        "plt.yticks(())\n",
        "plt.title('True Classes')\n",
        "plt.show()"
      ]
    },
    {
      "cell_type": "markdown",
      "metadata": {
        "id": "3gexHNUCmKhq"
      },
      "source": [
        "Let's do it again with predicted clusters."
      ]
    },
    {
      "cell_type": "code",
      "execution_count": null,
      "metadata": {
        "collapsed": true,
        "id": "XduPtHSImKhq"
      },
      "outputs": [],
      "source": [
        "#@title\n",
        "colors_p = [colordict[newsgroupsCategories[l]] for l in km.labels_]"
      ]
    },
    {
      "cell_type": "code",
      "execution_count": null,
      "metadata": {
        "id": "3uYojgBSmKhq"
      },
      "outputs": [],
      "source": [
        "#@title\n",
        "fig = plt.figure(figsize = (10,6))\n",
        "ax = fig.add_subplot(111)\n",
        "ax.set_frame_on(False)\n",
        "plt.scatter(reduced_data[:, 0], reduced_data[:, 1], color = colors_p, alpha = 0.5)\n",
        "plt.xticks(())\n",
        "plt.yticks(())\n",
        "plt.title('Predicted Clusters\\n k = 4')\n",
        "plt.show()"
      ]
    },
    {
      "cell_type": "markdown",
      "metadata": {
        "id": "jrFKCNC9mKhq"
      },
      "source": [
        "Let's try with 3 clusters."
      ]
    },
    {
      "cell_type": "code",
      "execution_count": null,
      "metadata": {
        "id": "d9o2ropKmKhq"
      },
      "outputs": [],
      "source": [
        "#@title\n",
        "km3 = sklearn.cluster.KMeans(n_clusters= 3, init='k-means++')\n",
        "km3.fit(newsgroupsTFVects.toarray())"
      ]
    },
    {
      "cell_type": "markdown",
      "metadata": {
        "id": "1VTQZnWRmKhr"
      },
      "source": [
        "# Selecting Cluster Number\n",
        "\n",
        "We can select an optimal cluster number by identifying the lowest of the metrics listed above (e.g., V-measure), but often you don't have \"ground truth\" or labeled data. For identifying the \"best\" number of clusters in an unsupervised way, we demonstrate the Silhouette method. Many other methods also exist (e.g., Bayesian Information Criteria or BIC, the visual \"elbow criteria\", etc.)\n",
        "\n",
        "First we will define a helper function:"
      ]
    },
    {
      "cell_type": "code",
      "execution_count": null,
      "metadata": {
        "collapsed": true,
        "id": "V3D8f-KsmKhr"
      },
      "outputs": [],
      "source": [
        "#@title\n",
        "def plotSilhouette(n_clusters, X):\n",
        "    fig, (ax1, ax2) = plt.subplots(ncols=2, figsize = (15,5))\n",
        "    \n",
        "    ax1.set_xlim([-0.1, 1])\n",
        "    ax1.set_ylim([0, len(X) + (n_clusters + 1) * 10])\n",
        "    clusterer = sklearn.cluster.KMeans(n_clusters=n_clusters, random_state=10)\n",
        "    cluster_labels = clusterer.fit_predict(X)\n",
        "    \n",
        "    silhouette_avg = sklearn.metrics.silhouette_score(X, cluster_labels)\n",
        "\n",
        "    # Compute the silhouette scores for each sample\n",
        "    sample_silhouette_values = sklearn.metrics.silhouette_samples(X, cluster_labels)\n",
        "\n",
        "    y_lower = 10\n",
        "    \n",
        "    for i in range(n_clusters):\n",
        "        ith_cluster_silhouette_values = sample_silhouette_values[cluster_labels == i]\n",
        "\n",
        "        ith_cluster_silhouette_values.sort()\n",
        "\n",
        "        size_cluster_i = ith_cluster_silhouette_values.shape[0]\n",
        "        y_upper = y_lower + size_cluster_i\n",
        "        cmap = matplotlib.cm.get_cmap(\"nipy_spectral\")\n",
        "        color = cmap(float(i) / n_clusters)\n",
        "        ax1.fill_betweenx(np.arange(y_lower, y_upper),\n",
        "                          0, ith_cluster_silhouette_values,\n",
        "                          facecolor=color, edgecolor=color, alpha=0.7)\n",
        "\n",
        "        ax1.text(-0.05, y_lower + 0.5 * size_cluster_i, str(i))\n",
        "\n",
        "        y_lower = y_upper + 10\n",
        "    \n",
        "    ax1.set_title(\"The silhouette plot for the various clusters.\")\n",
        "    ax1.set_xlabel(\"The silhouette coefficient values\")\n",
        "    ax1.set_ylabel(\"Cluster label\")\n",
        "\n",
        "    ax1.axvline(x=silhouette_avg, color=\"red\", linestyle=\"--\")\n",
        "\n",
        "    ax1.set_yticks([])  # Clear the yaxis labels / ticks\n",
        "    ax1.set_xticks([-0.1, 0, 0.2, 0.4, 0.6, 0.8, 1])\n",
        "\n",
        "    # 2nd Plot showing the actual clusters formed\n",
        "    cmap = matplotlib.cm.get_cmap(\"nipy_spectral\")\n",
        "    colors = cmap(float(i) / n_clusters)\n",
        "    ax2.scatter(reduced_data[:, 0], reduced_data[:, 1], marker='.', s=30, lw=0, alpha=0.7,\n",
        "                c=colors)\n",
        "\n",
        "    # Labeling the clusters\n",
        "    centers = clusterer.cluster_centers_\n",
        "    projected_centers = pca.transform(centers)\n",
        "    # Draw white circles at cluster centers\n",
        "    ax2.scatter(projected_centers[:, 0], projected_centers[:, 1],\n",
        "                marker='o', c=\"white\", alpha=1, s=200)\n",
        "\n",
        "    for i, c in enumerate(projected_centers):\n",
        "        ax2.scatter(c[0], c[1], marker='$%d$' % i, alpha=1, s=50)\n",
        "\n",
        "    ax2.set_title(\"The visualization of the clustered data.\")\n",
        "    ax2.set_xlabel(\"PC 1\")\n",
        "    ax2.set_ylabel(\"PC 2\")\n",
        "\n",
        "    plt.suptitle((\"Silhouette analysis for KMeans clustering on sample data \"\n",
        "                  \"with n_clusters = %d\" % n_clusters),\n",
        "                 fontsize=14, fontweight='bold')\n",
        "    plt.show()\n",
        "    print(\"For n_clusters = {}, The average silhouette_score is : {:.3f}\".format(n_clusters, silhouette_avg))"
      ]
    },
    {
      "cell_type": "markdown",
      "metadata": {
        "id": "JjDPUwS5mKhr"
      },
      "source": [
        "Now we can examine a few different numbers of clusters:"
      ]
    },
    {
      "cell_type": "code",
      "execution_count": null,
      "metadata": {
        "id": "Kz6uazhSmKhr"
      },
      "outputs": [],
      "source": [
        "#@title\n",
        "X = newsgroupsTFVects.toarray()\n",
        "plotSilhouette(3, X)"
      ]
    },
    {
      "cell_type": "code",
      "execution_count": null,
      "metadata": {
        "id": "ay-4HqK6mKhr"
      },
      "outputs": [],
      "source": [
        "#@title\n",
        "X = newsgroupsTFVects.toarray()\n",
        "plotSilhouette(4, X)"
      ]
    },
    {
      "cell_type": "code",
      "execution_count": null,
      "metadata": {
        "id": "EBJvuERUmKhr"
      },
      "outputs": [],
      "source": [
        "#@title\n",
        "X = newsgroupsTFVects.toarray()\n",
        "plotSilhouette(5, X)"
      ]
    },
    {
      "cell_type": "code",
      "execution_count": null,
      "metadata": {
        "id": "y4gjBlDBmKhr"
      },
      "outputs": [],
      "source": [
        "#@title\n",
        "X = newsgroupsTFVects.toarray()\n",
        "plotSilhouette(6, X)"
      ]
    },
    {
      "cell_type": "markdown",
      "metadata": {
        "id": "YKD0Hy5AmKhr"
      },
      "source": [
        "Interestingly, the silhouette scores above suggests that 3 is a better number of clusters than 4, which would be accurate if we (reasonsably) grouped the two computer-themed groups."
      ]
    },
    {
      "cell_type": "markdown",
      "metadata": {
        "id": "AcCwCs9omKhr"
      },
      "source": [
        "# Getting new text data\n",
        "\n",
        "Lets start by using the same function as last lesson and loading a few press releases from 10 different senators into a DataFrame. The code to do this is below, but commented out as we've already downloaded the data to the data directory."
      ]
    },
    {
      "cell_type": "code",
      "execution_count": null,
      "metadata": {
        "id": "eXzDoI7LmKhr"
      },
      "outputs": [],
      "source": [
        "#@title\n",
        "targetSenator = 'Kennedy'# = ['Voinovich', 'Obama', 'Whitehouse', 'Snowe', 'Rockefeller', 'Murkowski', 'McCain', 'Kyl', 'Baucus', 'Frist']\n",
        "\"\"\"\n",
        "#Uncomment this to download your own data\n",
        "senReleasesTraining = pandas.DataFrame()\n",
        "\n",
        "print(\"Fetching {}'s data\".format(targetSenator))\n",
        "targetDF = lucem_illud.getGithubFiles('https://api.github.com/repos/lintool/GrimmerSenatePressReleases/contents/raw/{}'.format(targetSenator), maxFiles = 2000)\n",
        "targetDF['targetSenator'] = targetSenator\n",
        "senReleasesTraining = senReleasesTraining.append(targetDF, ignore_index = True)\n",
        "\n",
        "#Watch out for weird lines when converting to csv\n",
        "#one of them had to be removed from the Kennedy data so it could be re-read\n",
        "senReleasesTraining.to_csv(\"data/senReleasesTraining.csv\")\n",
        "\"\"\"\n",
        "\n",
        "senReleasesTraining = pandas.read_csv(\"../data/senReleasesTraining.csv\")\n",
        "\n",
        "senReleasesTraining[:5]"
      ]
    },
    {
      "cell_type": "markdown",
      "metadata": {
        "id": "njvRXuwmmKhs"
      },
      "source": [
        "Now we have the files we can tokenize and normalize."
      ]
    },
    {
      "cell_type": "markdown",
      "metadata": {
        "id": "tbNnM127mKhs"
      },
      "source": [
        "The normalized text is good, but we know that the texts will have a large amount of overlap so we can use tf-idf to remove some of the most frequent words. Before doing that, there is one empty cell, let's remove that."
      ]
    },
    {
      "cell_type": "code",
      "execution_count": null,
      "metadata": {
        "collapsed": true,
        "id": "lDbUwp6GmKhs"
      },
      "outputs": [],
      "source": [
        "#@title\n",
        "senReleasesTraining = senReleasesTraining.dropna(axis=0, how='any')"
      ]
    },
    {
      "cell_type": "code",
      "execution_count": null,
      "metadata": {
        "id": "p67iUueUmKhs"
      },
      "outputs": [],
      "source": [
        "#@title\n",
        "#Similar parameters to before, but stricter max df and no max num occurrences\n",
        "senTFVectorizer = sklearn.feature_extraction.text.TfidfVectorizer(max_df=100, min_df=2, stop_words='english', norm='l2')\n",
        "senTFVects = senTFVectorizer.fit_transform(senReleasesTraining['text'])\n",
        "senTFVectorizer.vocabulary_.get('senat', 'Missing \"Senate\"')"
      ]
    },
    {
      "cell_type": "markdown",
      "metadata": {
        "id": "tguJP-o-mKht"
      },
      "source": [
        "# Clustering with our new data\n",
        "\n",
        "One nice thing about using DataFrames for everything is that we can quickly convert code from one input to another. Below we are redoing the cluster detection with our senate data. If you setup your DataFrame the same way it should be able to run on this code, without much work.\n",
        "\n",
        "First we will define what we will be working with"
      ]
    },
    {
      "cell_type": "code",
      "execution_count": null,
      "metadata": {
        "collapsed": true,
        "id": "FytlYdm0mKht"
      },
      "outputs": [],
      "source": [
        "#@title\n",
        "targetDF = senReleasesTraining\n",
        "textColumn = 'text'\n",
        "numCategories = 3"
      ]
    },
    {
      "cell_type": "markdown",
      "metadata": {
        "id": "QE3eeqqimKht"
      },
      "source": [
        "Tf-IDf vectorizing"
      ]
    },
    {
      "cell_type": "code",
      "execution_count": null,
      "metadata": {
        "collapsed": true,
        "id": "oVw7MqDemKht"
      },
      "outputs": [],
      "source": [
        "#@title\n",
        "exampleTFVectorizer = sklearn.feature_extraction.text.TfidfVectorizer(max_df=0.5, max_features=1000, min_df=3, stop_words='english', norm='l2')\n",
        "#train\n",
        "exampleTFVects = ngTFVectorizer.fit_transform(targetDF[textColumn])"
      ]
    },
    {
      "cell_type": "markdown",
      "metadata": {
        "id": "w2LSzhtdmKht"
      },
      "source": [
        "Running k means"
      ]
    },
    {
      "cell_type": "code",
      "execution_count": null,
      "metadata": {
        "id": "4edcREffmKht"
      },
      "outputs": [],
      "source": [
        "#@title\n",
        "exampleKM = sklearn.cluster.KMeans(n_clusters = numCategories, init='k-means++')\n",
        "exampleKM.fit(exampleTFVects)"
      ]
    },
    {
      "cell_type": "markdown",
      "metadata": {
        "id": "HALSlFzzmKht"
      },
      "source": [
        "And visualize:"
      ]
    },
    {
      "cell_type": "code",
      "execution_count": null,
      "metadata": {
        "collapsed": true,
        "id": "pahw4jiXmKht"
      },
      "outputs": [],
      "source": [
        "#@title\n",
        "examplePCA = sklearn.decomposition.PCA(n_components = 2).fit(exampleTFVects.toarray())\n",
        "reducedPCA_data = examplePCA.transform(exampleTFVects.toarray())\n",
        "\n",
        "colors = list(plt.cm.rainbow(np.linspace(0,1, numCategories)))\n",
        "colors_p = [colors[l] for l in exampleKM.labels_]"
      ]
    },
    {
      "cell_type": "code",
      "execution_count": null,
      "metadata": {
        "id": "e09enhplmKht"
      },
      "outputs": [],
      "source": [
        "#@title\n",
        "fig = plt.figure(1)\n",
        "ax = fig.add_subplot(111)\n",
        "ax.set_frame_on(False)\n",
        "plt.scatter(reducedPCA_data[:, 0], reducedPCA_data[:, 1], color = colors_p, alpha = 0.5)\n",
        "plt.xticks(())\n",
        "plt.yticks(())\n",
        "plt.title('Predicted Clusters\\n k = {}'.format(numCategories))\n",
        "plt.show()"
      ]
    },
    {
      "cell_type": "markdown",
      "metadata": {
        "id": "17hTztSemKht"
      },
      "source": [
        "In this case, there may be two clusters that could be identified with Silhouette analysis or some of the metrics described above; although not having true classes makes that tricky. Below, we add these cluster assignments to the dataframe for individual perusal and evaluation."
      ]
    },
    {
      "cell_type": "code",
      "execution_count": null,
      "metadata": {
        "id": "8GUPpQL5mKht"
      },
      "outputs": [],
      "source": [
        "#@title\n",
        "targetDF['kmeans_predictions'] = exampleKM.labels_\n",
        "targetDF"
      ]
    },
    {
      "cell_type": "markdown",
      "metadata": {
        "id": "UGWYpcc4mKhu"
      },
      "source": [
        "## <font color=\"red\">*Exercise 1*</font>\n",
        "\n",
        "<font color=\"red\">Construct cells immediately below this that construct **features** and **cluster** your documents using **K-means** and a variety of **cluster numbers**. Interrogate the cluster contents in terms of both **documents** and **features**. Identify the \"optimal\" cluster number with **Silhouette analysis**. Plot clusters and features after reducing with **PCA**. What does this cluster structure reveal about the organization of documents in your corpora? "
      ]
    },
    {
      "cell_type": "markdown",
      "source": [
        "Dataset: three journals that Rober C. Woellner, the Director of the Board of Vocational Guidance and Placement at the University of Chicago, wrote in from 1930 to 1950."
      ],
      "metadata": {
        "id": "BAaTUw9dBhdO"
      }
    },
    {
      "cell_type": "code",
      "source": [
        "#unzip the zipped json file\n",
        "!gzip -d education_corpora.jsonl.gz"
      ],
      "metadata": {
        "id": "vpAxsNz1tznx",
        "colab": {
          "base_uri": "https://localhost:8080/"
        },
        "outputId": "b99a05b3-c752-4ba6-f517-52d9689c6587"
      },
      "execution_count": 12,
      "outputs": [
        {
          "output_type": "stream",
          "name": "stdout",
          "text": [
            "gzip: education_corpora.jsonl.gz: No such file or directory\n"
          ]
        }
      ]
    },
    {
      "cell_type": "code",
      "source": [
        "#read the json file into panda dataframe\n",
        "import pandas as pd\n",
        "df = pd.read_json('education_corpora.jsonl', lines=True)"
      ],
      "metadata": {
        "id": "IzC5_NNpwG5D"
      },
      "execution_count": 13,
      "outputs": []
    },
    {
      "cell_type": "code",
      "source": [
        "#df contains 7274 rows x 26 columns\n",
        "len(df)"
      ],
      "metadata": {
        "colab": {
          "base_uri": "https://localhost:8080/"
        },
        "id": "URmOZkMfwuys",
        "outputId": "918470e2-1901-42cf-9ca6-b11c8be40a73"
      },
      "execution_count": 14,
      "outputs": [
        {
          "output_type": "execute_result",
          "data": {
            "text/plain": [
              "7274"
            ]
          },
          "metadata": {},
          "execution_count": 14
        }
      ]
    },
    {
      "cell_type": "code",
      "source": [
        "jstorSample = df.sample(n=3500)"
      ],
      "metadata": {
        "id": "o-g9BOY3wwp-"
      },
      "execution_count": 87,
      "outputs": []
    },
    {
      "cell_type": "code",
      "source": [
        "#jstorSample is the 3500 randomly selected articles from the 7274 articles from three journals\n",
        "jstorSample[:10]"
      ],
      "metadata": {
        "id": "BtCxHQFR0BV6",
        "colab": {
          "base_uri": "https://localhost:8080/",
          "height": 992
        },
        "outputId": "cdb71480-cb7a-4cfb-f880-cb8691128421"
      },
      "execution_count": 62,
      "outputs": [
        {
          "output_type": "execute_result",
          "data": {
            "text/html": [
              "\n",
              "  <div id=\"df-a61bd425-deec-4eef-a6fa-f6e2bab97482\">\n",
              "    <div class=\"colab-df-container\">\n",
              "      <div>\n",
              "<style scoped>\n",
              "    .dataframe tbody tr th:only-of-type {\n",
              "        vertical-align: middle;\n",
              "    }\n",
              "\n",
              "    .dataframe tbody tr th {\n",
              "        vertical-align: top;\n",
              "    }\n",
              "\n",
              "    .dataframe thead th {\n",
              "        text-align: right;\n",
              "    }\n",
              "</style>\n",
              "<table border=\"1\" class=\"dataframe\">\n",
              "  <thead>\n",
              "    <tr style=\"text-align: right;\">\n",
              "      <th></th>\n",
              "      <th>creator</th>\n",
              "      <th>datePublished</th>\n",
              "      <th>docSubType</th>\n",
              "      <th>docType</th>\n",
              "      <th>id</th>\n",
              "      <th>identifier</th>\n",
              "      <th>isPartOf</th>\n",
              "      <th>issueNumber</th>\n",
              "      <th>language</th>\n",
              "      <th>outputFormat</th>\n",
              "      <th>pageCount</th>\n",
              "      <th>pageEnd</th>\n",
              "      <th>pageStart</th>\n",
              "      <th>pagination</th>\n",
              "      <th>provider</th>\n",
              "      <th>publicationYear</th>\n",
              "      <th>publisher</th>\n",
              "      <th>sourceCategory</th>\n",
              "      <th>tdmCategory</th>\n",
              "      <th>title</th>\n",
              "      <th>url</th>\n",
              "      <th>volumeNumber</th>\n",
              "      <th>wordCount</th>\n",
              "      <th>unigramCount</th>\n",
              "      <th>bigramCount</th>\n",
              "      <th>trigramCount</th>\n",
              "    </tr>\n",
              "  </thead>\n",
              "  <tbody>\n",
              "    <tr>\n",
              "      <th>2300</th>\n",
              "      <td>[Paul W. Terry]</td>\n",
              "      <td>1933-10-01</td>\n",
              "      <td>book-review</td>\n",
              "      <td>article</td>\n",
              "      <td>http://www.jstor.org/stable/1080010</td>\n",
              "      <td>[{'name': 'issn', 'value': '00366773'}, {'name...</td>\n",
              "      <td>The School Review</td>\n",
              "      <td>8</td>\n",
              "      <td>[eng]</td>\n",
              "      <td>[unigram, bigram, trigram]</td>\n",
              "      <td>3</td>\n",
              "      <td>633</td>\n",
              "      <td>631</td>\n",
              "      <td>pp. 631-633</td>\n",
              "      <td>jstor</td>\n",
              "      <td>1933</td>\n",
              "      <td>University of Chicago Press</td>\n",
              "      <td>[Education, Social Sciences]</td>\n",
              "      <td>NaN</td>\n",
              "      <td>A New Treatment of Teachers' Extra-Instruction...</td>\n",
              "      <td>http://www.jstor.org/stable/1080010</td>\n",
              "      <td>41</td>\n",
              "      <td>893</td>\n",
              "      <td>{'better': 2, 'deal': 2, 'ideas': 1, 'which': ...</td>\n",
              "      <td>{'the common': 1, 'literature on': 1, 'for sci...</td>\n",
              "      <td>{'availability of a': 1, 'size of classes.': 1...</td>\n",
              "    </tr>\n",
              "    <tr>\n",
              "      <th>5371</th>\n",
              "      <td>[Frances Swineford, Karl J. Holzinger]</td>\n",
              "      <td>1935-06-01</td>\n",
              "      <td>misc</td>\n",
              "      <td>article</td>\n",
              "      <td>http://www.jstor.org/stable/1080539</td>\n",
              "      <td>[{'name': 'issn', 'value': '00366773'}, {'name...</td>\n",
              "      <td>The School Review</td>\n",
              "      <td>6</td>\n",
              "      <td>[eng]</td>\n",
              "      <td>[unigram, bigram, trigram]</td>\n",
              "      <td>6</td>\n",
              "      <td>467</td>\n",
              "      <td>462</td>\n",
              "      <td>pp. 462-467</td>\n",
              "      <td>jstor</td>\n",
              "      <td>1935</td>\n",
              "      <td>University of Chicago Press</td>\n",
              "      <td>[Education, Social Sciences]</td>\n",
              "      <td>[Social sciences - Psychology, Information sci...</td>\n",
              "      <td>Selected References on Statistics and the Theo...</td>\n",
              "      <td>http://www.jstor.org/stable/1080539</td>\n",
              "      <td>43</td>\n",
              "      <td>1948</td>\n",
              "      <td>{'studied': 2, 'PIAGGIO,': 1, 'JACOB.': 1, '\"a...</td>\n",
              "      <td>{'standard error,': 1, 'from the': 4, '412. KE...</td>\n",
              "      <td>{'the technique that': 1, 'bibliography has be...</td>\n",
              "    </tr>\n",
              "    <tr>\n",
              "      <th>3958</th>\n",
              "      <td>[Beulah I. Coon]</td>\n",
              "      <td>1934-04-01</td>\n",
              "      <td>research-article</td>\n",
              "      <td>article</td>\n",
              "      <td>http://www.jstor.org/stable/1168054</td>\n",
              "      <td>[{'name': 'issn', 'value': '00346543'}, {'name...</td>\n",
              "      <td>Review of Educational Research</td>\n",
              "      <td>2</td>\n",
              "      <td>[eng]</td>\n",
              "      <td>[unigram, bigram, trigram]</td>\n",
              "      <td>4</td>\n",
              "      <td>185</td>\n",
              "      <td>182</td>\n",
              "      <td>pp. 182-185</td>\n",
              "      <td>jstor</td>\n",
              "      <td>1934</td>\n",
              "      <td>Sage Publications, Inc.</td>\n",
              "      <td>[Education, Social Sciences]</td>\n",
              "      <td>[Social sciences - Psychology, Education - For...</td>\n",
              "      <td>Home Economics</td>\n",
              "      <td>http://www.jstor.org/stable/1168054</td>\n",
              "      <td>4</td>\n",
              "      <td>1898</td>\n",
              "      <td>{'exclusion': 1, 'do': 2, 'economics.': 1, 'in...</td>\n",
              "      <td>{'of home': 2, 'by investigation': 1, 'three g...</td>\n",
              "      <td>{'material in different': 1, 'mind (525, 546)....</td>\n",
              "    </tr>\n",
              "    <tr>\n",
              "      <th>1063</th>\n",
              "      <td>[George E. Denman, Thomas J. Kirby]</td>\n",
              "      <td>1933-04-01</td>\n",
              "      <td>research-article</td>\n",
              "      <td>article</td>\n",
              "      <td>http://www.jstor.org/stable/1080701</td>\n",
              "      <td>[{'name': 'issn', 'value': '00366773'}, {'name...</td>\n",
              "      <td>The School Review</td>\n",
              "      <td>4</td>\n",
              "      <td>[eng]</td>\n",
              "      <td>[unigram, bigram, trigram]</td>\n",
              "      <td>6</td>\n",
              "      <td>289</td>\n",
              "      <td>284</td>\n",
              "      <td>pp. 284-289</td>\n",
              "      <td>jstor</td>\n",
              "      <td>1933</td>\n",
              "      <td>University of Chicago Press</td>\n",
              "      <td>[Education, Social Sciences]</td>\n",
              "      <td>[Physical sciences - Astronomy]</td>\n",
              "      <td>The Length of the Period and Pupil Achievement...</td>\n",
              "      <td>http://www.jstor.org/stable/1080701</td>\n",
              "      <td>41</td>\n",
              "      <td>1871</td>\n",
              "      <td>{'secondary': 2, 'given': 5, 'shown': 1, 'comm...</td>\n",
              "      <td>{'total time': 1, 'are using': 1, 'nine subjec...</td>\n",
              "      <td>{'schools belonging to': 1, 'all favor- ing': ...</td>\n",
              "    </tr>\n",
              "    <tr>\n",
              "      <th>871</th>\n",
              "      <td>[Thomas Woody]</td>\n",
              "      <td>1932-12-01</td>\n",
              "      <td>book-review</td>\n",
              "      <td>article</td>\n",
              "      <td>http://www.jstor.org/stable/1973959</td>\n",
              "      <td>[{'name': 'issn', 'value': '00221546'}, {'name...</td>\n",
              "      <td>The Journal of Higher Education</td>\n",
              "      <td>9</td>\n",
              "      <td>[eng]</td>\n",
              "      <td>[unigram, bigram, trigram]</td>\n",
              "      <td>2</td>\n",
              "      <td>515</td>\n",
              "      <td>514</td>\n",
              "      <td>pp. 514-515</td>\n",
              "      <td>jstor</td>\n",
              "      <td>1932</td>\n",
              "      <td>Ohio State University Press</td>\n",
              "      <td>[Education, Social Sciences]</td>\n",
              "      <td>NaN</td>\n",
              "      <td>Manuscript Series</td>\n",
              "      <td>http://www.jstor.org/stable/1973959</td>\n",
              "      <td>3</td>\n",
              "      <td>638</td>\n",
              "      <td>{'characterized': 1, 'Wheelock),': 1, 'any': 1...</td>\n",
              "      <td>{'As the': 1, 'along with': 1, 'in college,': ...</td>\n",
              "      <td>{'two volumes may': 1, 'Nevertheless, the page...</td>\n",
              "    </tr>\n",
              "    <tr>\n",
              "      <th>6493</th>\n",
              "      <td>[Josette Eugénie Spink]</td>\n",
              "      <td>1930-06-01</td>\n",
              "      <td>book-review</td>\n",
              "      <td>article</td>\n",
              "      <td>http://www.jstor.org/stable/1079861</td>\n",
              "      <td>[{'name': 'issn', 'value': '00366773'}, {'name...</td>\n",
              "      <td>The School Review</td>\n",
              "      <td>6</td>\n",
              "      <td>[eng]</td>\n",
              "      <td>[unigram, bigram, trigram]</td>\n",
              "      <td>2</td>\n",
              "      <td>476</td>\n",
              "      <td>475</td>\n",
              "      <td>pp. 475-476</td>\n",
              "      <td>jstor</td>\n",
              "      <td>1930</td>\n",
              "      <td>University of Chicago Press</td>\n",
              "      <td>[Education, Social Sciences]</td>\n",
              "      <td>NaN</td>\n",
              "      <td>A French Grammar to Develop Reading Ability</td>\n",
              "      <td>http://www.jstor.org/stable/1079861</td>\n",
              "      <td>38</td>\n",
              "      <td>796</td>\n",
              "      <td>{'introductory': 2, 'tried': 1, 'determine': 1...</td>\n",
              "      <td>{'accomplishment or': 1, 'Columbia Research': ...</td>\n",
              "      <td>{'removed will be': 1, 'of the dangers': 1, 'b...</td>\n",
              "    </tr>\n",
              "    <tr>\n",
              "      <th>5245</th>\n",
              "      <td>[J. Cayce Morrison]</td>\n",
              "      <td>1935-06-01</td>\n",
              "      <td>book-review</td>\n",
              "      <td>article</td>\n",
              "      <td>http://www.jstor.org/stable/1975600</td>\n",
              "      <td>[{'name': 'issn', 'value': '00221546'}, {'name...</td>\n",
              "      <td>The Journal of Higher Education</td>\n",
              "      <td>6</td>\n",
              "      <td>[eng]</td>\n",
              "      <td>[unigram, bigram, trigram]</td>\n",
              "      <td>1</td>\n",
              "      <td>342</td>\n",
              "      <td>342</td>\n",
              "      <td>p. 342</td>\n",
              "      <td>jstor</td>\n",
              "      <td>1935</td>\n",
              "      <td>Ohio State University Press</td>\n",
              "      <td>[Education, Social Sciences]</td>\n",
              "      <td>NaN</td>\n",
              "      <td>Civic Adult Education</td>\n",
              "      <td>http://www.jstor.org/stable/1975600</td>\n",
              "      <td>6</td>\n",
              "      <td>533</td>\n",
              "      <td>{'weakest': 1, 'that': 5, 'was': 3, 'survey': ...</td>\n",
              "      <td>{'concerned. J.': 1, 'should finance': 1, 'hop...</td>\n",
              "      <td>{'through the secondary': 1, 'day contradictio...</td>\n",
              "    </tr>\n",
              "    <tr>\n",
              "      <th>6873</th>\n",
              "      <td>[Harry J. Baker]</td>\n",
              "      <td>1932-10-01</td>\n",
              "      <td>research-article</td>\n",
              "      <td>article</td>\n",
              "      <td>http://www.jstor.org/stable/1167831</td>\n",
              "      <td>[{'name': 'issn', 'value': '00346543'}, {'name...</td>\n",
              "      <td>Review of Educational Research</td>\n",
              "      <td>4</td>\n",
              "      <td>[eng]</td>\n",
              "      <td>[unigram, bigram, trigram]</td>\n",
              "      <td>5</td>\n",
              "      <td>299</td>\n",
              "      <td>295</td>\n",
              "      <td>pp. 295-299</td>\n",
              "      <td>jstor</td>\n",
              "      <td>1932</td>\n",
              "      <td>Sage Publications, Inc.</td>\n",
              "      <td>[Education, Social Sciences]</td>\n",
              "      <td>[Mathematics - Applied mathematics]</td>\n",
              "      <td>The Construction and Statistical Interpretatio...</td>\n",
              "      <td>http://www.jstor.org/stable/1167831</td>\n",
              "      <td>2</td>\n",
              "      <td>2224</td>\n",
              "      <td>{'Symonds': 2, 'elements': 1, '(303)': 1, 'lef...</td>\n",
              "      <td>{'(5) The': 1, 'not obtained': 1, 'or study-':...</td>\n",
              "      <td>{'designed to measure': 1, 'offered a simple':...</td>\n",
              "    </tr>\n",
              "    <tr>\n",
              "      <th>2693</th>\n",
              "      <td>[Masanori Oshima]</td>\n",
              "      <td>1941-01-01</td>\n",
              "      <td>research-article</td>\n",
              "      <td>article</td>\n",
              "      <td>http://www.jstor.org/stable/1975325</td>\n",
              "      <td>[{'name': 'issn', 'value': '00221546'}, {'name...</td>\n",
              "      <td>The Journal of Higher Education</td>\n",
              "      <td>1</td>\n",
              "      <td>[eng]</td>\n",
              "      <td>[unigram, bigram, trigram]</td>\n",
              "      <td>3</td>\n",
              "      <td>28</td>\n",
              "      <td>26</td>\n",
              "      <td>pp. 26-28</td>\n",
              "      <td>jstor</td>\n",
              "      <td>1941</td>\n",
              "      <td>Ohio State University Press</td>\n",
              "      <td>[Education, Social Sciences]</td>\n",
              "      <td>[Philosophy - Applied philosophy, Social scien...</td>\n",
              "      <td>On Freedom in the University</td>\n",
              "      <td>http://www.jstor.org/stable/1975325</td>\n",
              "      <td>12</td>\n",
              "      <td>1425</td>\n",
              "      <td>{'prime': 1, 'most': 1, 'called': 1, 'governme...</td>\n",
              "      <td>{'to thoughts': 1, 'but to': 1, 'as an': 1, 't...</td>\n",
              "      <td>{'philosophical debate would': 1, 'by teaching...</td>\n",
              "    </tr>\n",
              "    <tr>\n",
              "      <th>1903</th>\n",
              "      <td>[Paul H. Douglas]</td>\n",
              "      <td>1933-11-01</td>\n",
              "      <td>book-review</td>\n",
              "      <td>article</td>\n",
              "      <td>http://www.jstor.org/stable/1975485</td>\n",
              "      <td>[{'name': 'issn', 'value': '00221546'}, {'name...</td>\n",
              "      <td>The Journal of Higher Education</td>\n",
              "      <td>8</td>\n",
              "      <td>[eng]</td>\n",
              "      <td>[unigram, bigram, trigram]</td>\n",
              "      <td>1</td>\n",
              "      <td>453</td>\n",
              "      <td>453</td>\n",
              "      <td>p. 453</td>\n",
              "      <td>jstor</td>\n",
              "      <td>1933</td>\n",
              "      <td>Ohio State University Press</td>\n",
              "      <td>[Education, Social Sciences]</td>\n",
              "      <td>NaN</td>\n",
              "      <td>A Call to Arms</td>\n",
              "      <td>http://www.jstor.org/stable/1975485</td>\n",
              "      <td>4</td>\n",
              "      <td>458</td>\n",
              "      <td>{'intellectual': 1, 'possibility': 1, 'America...</td>\n",
              "      <td>{'as an': 1, 'in which': 1, 'less formally': 1...</td>\n",
              "      <td>{'in the style': 1, 'qualifica- tions, it': 1,...</td>\n",
              "    </tr>\n",
              "  </tbody>\n",
              "</table>\n",
              "</div>\n",
              "      <button class=\"colab-df-convert\" onclick=\"convertToInteractive('df-a61bd425-deec-4eef-a6fa-f6e2bab97482')\"\n",
              "              title=\"Convert this dataframe to an interactive table.\"\n",
              "              style=\"display:none;\">\n",
              "        \n",
              "  <svg xmlns=\"http://www.w3.org/2000/svg\" height=\"24px\"viewBox=\"0 0 24 24\"\n",
              "       width=\"24px\">\n",
              "    <path d=\"M0 0h24v24H0V0z\" fill=\"none\"/>\n",
              "    <path d=\"M18.56 5.44l.94 2.06.94-2.06 2.06-.94-2.06-.94-.94-2.06-.94 2.06-2.06.94zm-11 1L8.5 8.5l.94-2.06 2.06-.94-2.06-.94L8.5 2.5l-.94 2.06-2.06.94zm10 10l.94 2.06.94-2.06 2.06-.94-2.06-.94-.94-2.06-.94 2.06-2.06.94z\"/><path d=\"M17.41 7.96l-1.37-1.37c-.4-.4-.92-.59-1.43-.59-.52 0-1.04.2-1.43.59L10.3 9.45l-7.72 7.72c-.78.78-.78 2.05 0 2.83L4 21.41c.39.39.9.59 1.41.59.51 0 1.02-.2 1.41-.59l7.78-7.78 2.81-2.81c.8-.78.8-2.07 0-2.86zM5.41 20L4 18.59l7.72-7.72 1.47 1.35L5.41 20z\"/>\n",
              "  </svg>\n",
              "      </button>\n",
              "      \n",
              "  <style>\n",
              "    .colab-df-container {\n",
              "      display:flex;\n",
              "      flex-wrap:wrap;\n",
              "      gap: 12px;\n",
              "    }\n",
              "\n",
              "    .colab-df-convert {\n",
              "      background-color: #E8F0FE;\n",
              "      border: none;\n",
              "      border-radius: 50%;\n",
              "      cursor: pointer;\n",
              "      display: none;\n",
              "      fill: #1967D2;\n",
              "      height: 32px;\n",
              "      padding: 0 0 0 0;\n",
              "      width: 32px;\n",
              "    }\n",
              "\n",
              "    .colab-df-convert:hover {\n",
              "      background-color: #E2EBFA;\n",
              "      box-shadow: 0px 1px 2px rgba(60, 64, 67, 0.3), 0px 1px 3px 1px rgba(60, 64, 67, 0.15);\n",
              "      fill: #174EA6;\n",
              "    }\n",
              "\n",
              "    [theme=dark] .colab-df-convert {\n",
              "      background-color: #3B4455;\n",
              "      fill: #D2E3FC;\n",
              "    }\n",
              "\n",
              "    [theme=dark] .colab-df-convert:hover {\n",
              "      background-color: #434B5C;\n",
              "      box-shadow: 0px 1px 3px 1px rgba(0, 0, 0, 0.15);\n",
              "      filter: drop-shadow(0px 1px 2px rgba(0, 0, 0, 0.3));\n",
              "      fill: #FFFFFF;\n",
              "    }\n",
              "  </style>\n",
              "\n",
              "      <script>\n",
              "        const buttonEl =\n",
              "          document.querySelector('#df-a61bd425-deec-4eef-a6fa-f6e2bab97482 button.colab-df-convert');\n",
              "        buttonEl.style.display =\n",
              "          google.colab.kernel.accessAllowed ? 'block' : 'none';\n",
              "\n",
              "        async function convertToInteractive(key) {\n",
              "          const element = document.querySelector('#df-a61bd425-deec-4eef-a6fa-f6e2bab97482');\n",
              "          const dataTable =\n",
              "            await google.colab.kernel.invokeFunction('convertToInteractive',\n",
              "                                                     [key], {});\n",
              "          if (!dataTable) return;\n",
              "\n",
              "          const docLinkHtml = 'Like what you see? Visit the ' +\n",
              "            '<a target=\"_blank\" href=https://colab.research.google.com/notebooks/data_table.ipynb>data table notebook</a>'\n",
              "            + ' to learn more about interactive tables.';\n",
              "          element.innerHTML = '';\n",
              "          dataTable['output_type'] = 'display_data';\n",
              "          await google.colab.output.renderOutput(dataTable, element);\n",
              "          const docLink = document.createElement('div');\n",
              "          docLink.innerHTML = docLinkHtml;\n",
              "          element.appendChild(docLink);\n",
              "        }\n",
              "      </script>\n",
              "    </div>\n",
              "  </div>\n",
              "  "
            ],
            "text/plain": [
              "                                     creator  ...                                       trigramCount\n",
              "2300                         [Paul W. Terry]  ...  {'availability of a': 1, 'size of classes.': 1...\n",
              "5371  [Frances Swineford, Karl J. Holzinger]  ...  {'the technique that': 1, 'bibliography has be...\n",
              "3958                        [Beulah I. Coon]  ...  {'material in different': 1, 'mind (525, 546)....\n",
              "1063     [George E. Denman, Thomas J. Kirby]  ...  {'schools belonging to': 1, 'all favor- ing': ...\n",
              "871                           [Thomas Woody]  ...  {'two volumes may': 1, 'Nevertheless, the page...\n",
              "6493                 [Josette Eugénie Spink]  ...  {'removed will be': 1, 'of the dangers': 1, 'b...\n",
              "5245                     [J. Cayce Morrison]  ...  {'through the secondary': 1, 'day contradictio...\n",
              "6873                        [Harry J. Baker]  ...  {'designed to measure': 1, 'offered a simple':...\n",
              "2693                       [Masanori Oshima]  ...  {'philosophical debate would': 1, 'by teaching...\n",
              "1903                       [Paul H. Douglas]  ...  {'in the style': 1, 'qualifica- tions, it': 1,...\n",
              "\n",
              "[10 rows x 26 columns]"
            ]
          },
          "metadata": {},
          "execution_count": 62
        }
      ]
    },
    {
      "cell_type": "code",
      "source": [
        "jstorCategories = ['The School Review', 'The Journal of Higher Education', 'Review of Educational Research']"
      ],
      "metadata": {
        "id": "TK2jHo-A4KSQ"
      },
      "execution_count": 63,
      "outputs": []
    },
    {
      "cell_type": "code",
      "source": [
        "jstorDF = pandas.DataFrame(columns = ['text', 'category', 'date'])"
      ],
      "metadata": {
        "id": "8T10AOx--pN8"
      },
      "execution_count": 64,
      "outputs": []
    },
    {
      "cell_type": "code",
      "source": [
        "#OH with Junsol\n",
        "for category in jstorCategories:\n",
        "  for index, row in jstorSample.iterrows():\n",
        "      for key in row['unigramCount']:\n",
        "          sentence = \"\"\n",
        "          value = row['unigramCount'][key]\n",
        "          for i in range(value):\n",
        "              sentence = sentence + key + \"\"\n",
        "      jstorSample.loc[index, 'text'] = sentence"
      ],
      "metadata": {
        "id": "X3RRQxTIAubk"
      },
      "execution_count": 65,
      "outputs": []
    },
    {
      "cell_type": "code",
      "source": [
        "jstorSample['category'] = jstorSample['isPartOf']"
      ],
      "metadata": {
        "id": "dVsfa1KcQhu5"
      },
      "execution_count": 66,
      "outputs": []
    },
    {
      "cell_type": "code",
      "source": [
        "#creating count vectors\n",
        "jsCountVectorizer = sklearn.feature_extraction.text.CountVectorizer()\n",
        "\n",
        "jstorVects = jsCountVectorizer.fit_transform(jstorSample['text'])\n",
        "print(jstorVects.shape)"
      ],
      "metadata": {
        "colab": {
          "base_uri": "https://localhost:8080/"
        },
        "id": "oLnLidxMzNgP",
        "outputId": "5073cf83-5570-4eea-de49-7748c3708f34"
      },
      "execution_count": 67,
      "outputs": [
        {
          "output_type": "stream",
          "name": "stdout",
          "text": [
            "(3500, 2611)\n"
          ]
        }
      ]
    },
    {
      "cell_type": "code",
      "source": [
        "#converting jstorVects into term frequency-inverse document frequency (tf-idf) vectors\n",
        "\n",
        "#initialize\n",
        "jstorTFTransformer = sklearn.feature_extraction.text.TfidfTransformer().fit(jstorVects)\n",
        "#train\n",
        "jstorTF = jstorTFTransformer.transform(jstorVects)\n",
        "print(jstorTF.shape)"
      ],
      "metadata": {
        "colab": {
          "base_uri": "https://localhost:8080/"
        },
        "id": "djo6iiAHwFGX",
        "outputId": "8ca1d67d-3ee7-49f3-9979-45abedb4b37a"
      },
      "execution_count": 68,
      "outputs": [
        {
          "output_type": "stream",
          "name": "stdout",
          "text": [
            "(3500, 2611)\n"
          ]
        }
      ]
    },
    {
      "cell_type": "code",
      "source": [
        "#terms should have at least 3 occurances and do not occur in more than 50% of documents\n",
        "\n",
        "#initialize\n",
        "jsTFVectorizer = sklearn.feature_extraction.text.TfidfVectorizer(max_df=0.5, max_features=500, min_df=3, stop_words='english', norm='l2')\n",
        "#train\n",
        "jstorTFVects = jsTFVectorizer.fit_transform(jstorSample['text'])"
      ],
      "metadata": {
        "id": "6fQaO1paw5qJ"
      },
      "execution_count": 70,
      "outputs": []
    },
    {
      "cell_type": "code",
      "source": [
        "#Part 1: K-means, flat clustering\n",
        "\n",
        "#there are three journals, so the true number of clusters if 3\n",
        "numClusters = 3\n",
        "km = sklearn.cluster.KMeans(n_clusters=numClusters, init='k-means++')\n",
        "km.fit(jstorTFVects)"
      ],
      "metadata": {
        "colab": {
          "base_uri": "https://localhost:8080/"
        },
        "id": "XbqK4FQuxYXy",
        "outputId": "9e032294-c058-4aea-deac-c66add0f8173"
      },
      "execution_count": 71,
      "outputs": [
        {
          "output_type": "execute_result",
          "data": {
            "text/plain": [
              "KMeans(n_clusters=3)"
            ]
          },
          "metadata": {},
          "execution_count": 71
        }
      ]
    },
    {
      "cell_type": "code",
      "source": [
        "#checking distinguishing feasutres in each cluster\n",
        "\n",
        "terms = jsTFVectorizer.get_feature_names()\n",
        "print(\"Top terms per cluster:\")\n",
        "order_centroids = km.cluster_centers_.argsort()[:, ::-1]\n",
        "for i in range(numClusters):\n",
        "    print(\"Cluster %d:\" % i)\n",
        "    for ind in order_centroids[i, :10]:\n",
        "        print(' %s' % terms[ind])\n",
        "    print('\\n')"
      ],
      "metadata": {
        "colab": {
          "base_uri": "https://localhost:8080/"
        },
        "id": "3WKV62fW2zcY",
        "outputId": "81c1e67a-f3de-47e2-d39d-d1ed37c4f372"
      },
      "execution_count": 72,
      "outputs": [
        {
          "output_type": "stream",
          "name": "stdout",
          "text": [
            "Top terms per cluster:\n",
            "Cluster 0:\n",
            " schools\n",
            " school\n",
            " education\n",
            " chicago\n",
            " college\n",
            " state\n",
            " time\n",
            " research\n",
            " teaching\n",
            " students\n",
            "\n",
            "\n",
            "Cluster 1:\n",
            " pp\n",
            " years\n",
            " form\n",
            " direction\n",
            " editorial\n",
            " education\n",
            " educational\n",
            " elementary\n",
            " emphasis\n",
            " english\n",
            "\n",
            "\n",
            "Cluster 2:\n",
            " ment\n",
            " years\n",
            " form\n",
            " direction\n",
            " editorial\n",
            " education\n",
            " educational\n",
            " elementary\n",
            " emphasis\n",
            " english\n",
            "\n",
            "\n"
          ]
        }
      ]
    },
    {
      "cell_type": "code",
      "source": [
        "#Reducing dimentionality of the data using Principal Component Analysis to visualize the clusters\n",
        "#converting jstoreVects into normal matrix: toarray() returns a ndarray, dense representation of a matrix\n",
        "\n",
        "PCA = sklearn.decomposition.PCA\n",
        "pca = PCA(n_components = 2).fit(jstorTFVects.toarray())\n",
        "reduced_data = pca.transform(jstorTFVects.toarray())"
      ],
      "metadata": {
        "id": "FiWlGMlUIpRF"
      },
      "execution_count": 73,
      "outputs": []
    },
    {
      "cell_type": "code",
      "source": [
        "jstorSample['category'] = jstorSample['isPartOf']"
      ],
      "metadata": {
        "id": "3H5Oo2kkOzfX"
      },
      "execution_count": 74,
      "outputs": []
    },
    {
      "cell_type": "code",
      "source": [
        "colordict = {\n",
        "'The School Review': 'red',\n",
        "'The Journal of Higher Education': 'green',\n",
        "'Review of Educational Research': 'blue',\n",
        "    }\n",
        "colors = [colordict[c] for c in jstorSample['category']]\n",
        "print(\"The categories' colors are:\\n{}\".format(colordict.items()))"
      ],
      "metadata": {
        "colab": {
          "base_uri": "https://localhost:8080/"
        },
        "id": "Y_Z8nT_RIiD0",
        "outputId": "b3cfa6e0-4f3f-4ea2-e1b5-66492e196b0b"
      },
      "execution_count": 75,
      "outputs": [
        {
          "output_type": "stream",
          "name": "stdout",
          "text": [
            "The categories' colors are:\n",
            "dict_items([('The School Review', 'red'), ('The Journal of Higher Education', 'green'), ('Review of Educational Research', 'blue')])\n"
          ]
        }
      ]
    },
    {
      "cell_type": "code",
      "source": [
        "#Plot using true labels as color of data points \n",
        "#looks like there are two outliers and a dense cluster in the lower left corner\n",
        "#this means the content in the journals are not very dissimilar\n",
        "\n",
        "fig = plt.figure(figsize = (10,6))\n",
        "ax = fig.add_subplot(111)\n",
        "ax.set_frame_on(False)\n",
        "ax.scatter(reduced_data[:, 0], reduced_data[:, 1], color = colors, alpha = 0.5, label = colors)\n",
        "plt.xticks(())\n",
        "plt.yticks(())\n",
        "plt.title('True Classes')\n",
        "plt.show()"
      ],
      "metadata": {
        "colab": {
          "base_uri": "https://localhost:8080/",
          "height": 372
        },
        "id": "HClK78vLA5Kr",
        "outputId": "470cc72f-56b6-4fca-c707-238c5f12ae9f"
      },
      "execution_count": 76,
      "outputs": [
        {
          "output_type": "display_data",
          "data": {
            "image/png": "[encoded data removed]",
            "text/plain": [
              "<Figure size 720x432 with 1 Axes>"
            ]
          },
          "metadata": {}
        }
      ]
    },
    {
      "cell_type": "code",
      "source": [
        "#Predicted clusters\n",
        "\n",
        "colors_p = [colordict[jstorCategories[l]] for l in km.labels_]\n",
        "\n",
        "fig = plt.figure(figsize = (10,6))\n",
        "ax = fig.add_subplot(111)\n",
        "ax.set_frame_on(False)\n",
        "plt.scatter(reduced_data[:, 0], reduced_data[:, 1], color = colors_p, alpha = 0.5)\n",
        "plt.xticks(())\n",
        "plt.yticks(())\n",
        "plt.title('Predicted Clusters\\n k = 3')\n",
        "plt.show()"
      ],
      "metadata": {
        "id": "PW65J6a7IloE",
        "colab": {
          "base_uri": "https://localhost:8080/",
          "height": 388
        },
        "outputId": "89e17d05-02c8-4dd6-c54b-03b1d555a944"
      },
      "execution_count": 77,
      "outputs": [
        {
          "output_type": "display_data",
          "data": {
            "image/png": "[encoded data removed]",
            "text/plain": [
              "<Figure size 720x432 with 1 Axes>"
            ]
          },
          "metadata": {}
        }
      ]
    },
    {
      "cell_type": "code",
      "source": [
        "#Part 2: Silouhette analysis\n",
        "\n",
        "def plotSilhouette(n_clusters, X):\n",
        "    fig, (ax1, ax2) = plt.subplots(ncols=2, figsize = (15,5))\n",
        "    \n",
        "    ax1.set_xlim([-0.1, 1])\n",
        "    ax1.set_ylim([0, len(X) + (n_clusters + 1) * 10])\n",
        "    clusterer = sklearn.cluster.KMeans(n_clusters=n_clusters, random_state=10)\n",
        "    cluster_labels = clusterer.fit_predict(X)\n",
        "    \n",
        "    silhouette_avg = sklearn.metrics.silhouette_score(X, cluster_labels)\n",
        "\n",
        "    # Compute the silhouette scores for each sample\n",
        "    sample_silhouette_values = sklearn.metrics.silhouette_samples(X, cluster_labels)\n",
        "\n",
        "    y_lower = 10\n",
        "    \n",
        "    for i in range(n_clusters):\n",
        "        ith_cluster_silhouette_values = sample_silhouette_values[cluster_labels == i]\n",
        "\n",
        "        ith_cluster_silhouette_values.sort()\n",
        "\n",
        "        size_cluster_i = ith_cluster_silhouette_values.shape[0]\n",
        "        y_upper = y_lower + size_cluster_i\n",
        "        cmap = matplotlib.cm.get_cmap(\"nipy_spectral\")\n",
        "        color = cmap(float(i) / n_clusters)\n",
        "        ax1.fill_betweenx(np.arange(y_lower, y_upper),\n",
        "                          0, ith_cluster_silhouette_values,\n",
        "                          facecolor=color, edgecolor=color, alpha=0.7)\n",
        "\n",
        "        ax1.text(-0.05, y_lower + 0.5 * size_cluster_i, str(i))\n",
        "\n",
        "        y_lower = y_upper + 10\n",
        "    \n",
        "    ax1.set_title(\"The silhouette plot for the various clusters.\")\n",
        "    ax1.set_xlabel(\"The silhouette coefficient values\")\n",
        "    ax1.set_ylabel(\"Cluster label\")\n",
        "\n",
        "    ax1.axvline(x=silhouette_avg, color=\"red\", linestyle=\"--\")\n",
        "\n",
        "    ax1.set_yticks([])  # Clear the yaxis labels / ticks\n",
        "    ax1.set_xticks([-0.1, 0, 0.2, 0.4, 0.6, 0.8, 1])\n",
        "\n",
        "    # 2nd Plot showing the actual clusters formed\n",
        "    cmap = matplotlib.cm.get_cmap(\"nipy_spectral\")\n",
        "    colors = cmap(float(i) / n_clusters)\n",
        "    ax2.scatter(reduced_data[:, 0], reduced_data[:, 1], marker='.', s=30, lw=0, alpha=0.7,\n",
        "                c=colors)\n",
        "\n",
        "    # Labeling the clusters\n",
        "    centers = clusterer.cluster_centers_\n",
        "    projected_centers = pca.transform(centers)\n",
        "    # Draw white circles at cluster centers\n",
        "    ax2.scatter(projected_centers[:, 0], projected_centers[:, 1],\n",
        "                marker='o', c=\"white\", alpha=1, s=200)\n",
        "\n",
        "    for i, c in enumerate(projected_centers):\n",
        "        ax2.scatter(c[0], c[1], marker='$%d$' % i, alpha=1, s=50)\n",
        "\n",
        "    ax2.set_title(\"The visualization of the clustered data.\")\n",
        "    ax2.set_xlabel(\"PC 1\")\n",
        "    ax2.set_ylabel(\"PC 2\")\n",
        "\n",
        "    plt.suptitle((\"Silhouette analysis for KMeans clustering on sample data \"\n",
        "                  \"with n_clusters = %d\" % n_clusters),\n",
        "                 fontsize=14, fontweight='bold')\n",
        "    plt.show()\n",
        "    print(\"For n_clusters = {}, The average silhouette_score is : {:.3f}\".format(n_clusters, silhouette_avg))"
      ],
      "metadata": {
        "id": "Q9D8K-mNUYPx"
      },
      "execution_count": 78,
      "outputs": []
    },
    {
      "cell_type": "code",
      "source": [
        "X = jstorTFVects.toarray()\n",
        "plotSilhouette(3, X)"
      ],
      "metadata": {
        "colab": {
          "base_uri": "https://localhost:8080/",
          "height": 422
        },
        "id": "dLZrFkoHVL4q",
        "outputId": "0fd7d3b5-2ee1-4697-c762-a7f5d522dcf4"
      },
      "execution_count": 79,
      "outputs": [
        {
          "output_type": "stream",
          "name": "stderr",
          "text": [
            "*c* argument looks like a single numeric RGB or RGBA sequence, which should be avoided as value-mapping will have precedence in case its length matches with *x* & *y*.  Please use the *color* keyword-argument or provide a 2-D array with a single row if you intend to specify the same RGB or RGBA value for all points.\n"
          ]
        },
        {
          "output_type": "display_data",
          "data": {
            "image/png": "[encoded data removed]",
            "text/plain": [
              "<Figure size 1080x360 with 2 Axes>"
            ]
          },
          "metadata": {
            "needs_background": "light"
          }
        },
        {
          "output_type": "stream",
          "name": "stdout",
          "text": [
            "For n_clusters = 3, The average silhouette_score is : 0.778\n"
          ]
        }
      ]
    },
    {
      "cell_type": "code",
      "source": [
        "X = jstorTFVects.toarray()\n",
        "plotSilhouette(2, X)"
      ],
      "metadata": {
        "colab": {
          "base_uri": "https://localhost:8080/",
          "height": 422
        },
        "id": "yDcQljBRVUa7",
        "outputId": "92d43197-5cff-4cc2-f665-8388d42262c5"
      },
      "execution_count": 80,
      "outputs": [
        {
          "output_type": "stream",
          "name": "stderr",
          "text": [
            "*c* argument looks like a single numeric RGB or RGBA sequence, which should be avoided as value-mapping will have precedence in case its length matches with *x* & *y*.  Please use the *color* keyword-argument or provide a 2-D array with a single row if you intend to specify the same RGB or RGBA value for all points.\n"
          ]
        },
        {
          "output_type": "display_data",
          "data": {
            "image/png": "[encoded data removed]",
            "text/plain": [
              "<Figure size 1080x360 with 2 Axes>"
            ]
          },
          "metadata": {
            "needs_background": "light"
          }
        },
        {
          "output_type": "stream",
          "name": "stdout",
          "text": [
            "For n_clusters = 2, The average silhouette_score is : 0.775\n"
          ]
        }
      ]
    },
    {
      "cell_type": "code",
      "source": [
        "X = jstorTFVects.toarray()\n",
        "plotSilhouette(4, X)"
      ],
      "metadata": {
        "colab": {
          "base_uri": "https://localhost:8080/",
          "height": 422
        },
        "id": "Z5Xh9wxyVXLG",
        "outputId": "bfc05145-39e4-4881-fd7e-734a20ee15fa"
      },
      "execution_count": 82,
      "outputs": [
        {
          "output_type": "stream",
          "name": "stderr",
          "text": [
            "*c* argument looks like a single numeric RGB or RGBA sequence, which should be avoided as value-mapping will have precedence in case its length matches with *x* & *y*.  Please use the *color* keyword-argument or provide a 2-D array with a single row if you intend to specify the same RGB or RGBA value for all points.\n"
          ]
        },
        {
          "output_type": "display_data",
          "data": {
            "image/png": "[encoded data removed]",
            "text/plain": [
              "<Figure size 1080x360 with 2 Axes>"
            ]
          },
          "metadata": {
            "needs_background": "light"
          }
        },
        {
          "output_type": "stream",
          "name": "stdout",
          "text": [
            "For n_clusters = 4, The average silhouette_score is : 0.781\n"
          ]
        }
      ]
    },
    {
      "cell_type": "code",
      "source": [
        "X = jstorTFVects.toarray()\n",
        "plotSilhouette(5, X)"
      ],
      "metadata": {
        "colab": {
          "base_uri": "https://localhost:8080/",
          "height": 422
        },
        "id": "4T_rzKkQVfr9",
        "outputId": "55ced032-dbc8-4734-c5c7-60b0fdee3098"
      },
      "execution_count": 84,
      "outputs": [
        {
          "output_type": "stream",
          "name": "stderr",
          "text": [
            "*c* argument looks like a single numeric RGB or RGBA sequence, which should be avoided as value-mapping will have precedence in case its length matches with *x* & *y*.  Please use the *color* keyword-argument or provide a 2-D array with a single row if you intend to specify the same RGB or RGBA value for all points.\n"
          ]
        },
        {
          "output_type": "display_data",
          "data": {
            "image/png": "[encoded data removed]",
            "text/plain": [
              "<Figure size 1080x360 with 2 Axes>"
            ]
          },
          "metadata": {
            "needs_background": "light"
          }
        },
        {
          "output_type": "stream",
          "name": "stdout",
          "text": [
            "For n_clusters = 5, The average silhouette_score is : 0.785\n"
          ]
        }
      ]
    },
    {
      "cell_type": "markdown",
      "source": [
        "**Some thoughts on the analysis**: \n",
        "The silouhette analysis above shows that 2 is a better number of clusters than 3. It is possible that two of the journals have similar content, or all three of them have similar content because they are all academic journals about educaiton. Another possibility is because there are some outliers in the sample of articles that skew graph of the clusters. Further analysis of the clusters would benefit from removal of these outlier observations."
      ],
      "metadata": {
        "id": "N_hq7GpJfDaM"
      }
    },
    {
      "cell_type": "markdown",
      "metadata": {
        "id": "tJ72zeOzmKhu"
      },
      "source": [
        "# Hierarchical Clustering with Wald's Method\n",
        "\n",
        "Next we approach a hierchical clustering method, which proposes nested clusters at any resolution (at the finest resolution, every document is its own cluster).\n",
        "\n",
        "Here we must begin by calculating how similar the documents are to one another.\n",
        "\n",
        "As a first pass, we take our matrix of word counts per document\n",
        "`newsgroupsTFVects` and create a word occurrence matrix measuring how similar\n",
        "the documents are to each other based on their number of shared words. (Note one could perform the converse operation, a document occurrence matrix measuring how similar  words are to each other based on their number of collocated documents)."
      ]
    },
    {
      "cell_type": "code",
      "execution_count": null,
      "metadata": {
        "id": "HZGfCZgMmKhu"
      },
      "outputs": [],
      "source": [
        "#@title\n",
        "newsgroupsTFVects"
      ]
    },
    {
      "cell_type": "code",
      "execution_count": null,
      "metadata": {
        "id": "14WKnReymKhu"
      },
      "outputs": [],
      "source": [
        "#@title\n",
        "newsgroupsTFVects[:100].todense()"
      ]
    },
    {
      "cell_type": "code",
      "execution_count": null,
      "metadata": {
        "id": "VKvc9ADqmKhu"
      },
      "outputs": [],
      "source": [
        "#@title\n",
        "newsgroupsCoocMat = newsgroupsTFVects * newsgroupsTFVects.T\n",
        "#set the diagonal to 0 since we don't care how similar texts are to themselves\n",
        "newsgroupsCoocMat.setdiag(0)\n",
        "#Another way of relating the texts is with their cosine similarity\n",
        "#newsgroupsCosinMat1 = 1 - sklearn.metrics.pairwise.cosine_similarity(newsgroupsTFVects)\n",
        "#But generally word occurrence is more accurate\n"
      ]
    },
    {
      "cell_type": "markdown",
      "metadata": {
        "id": "SgINWS8qmKhu"
      },
      "source": [
        "Now we can compute a tree of nested clusters. Here we will only look at the first 50 texts of each class because drawing the dendrograms can be computationally intensive (and visually complex)."
      ]
    },
    {
      "cell_type": "code",
      "execution_count": null,
      "metadata": {
        "collapsed": true,
        "id": "AGTwycCcmKhu"
      },
      "outputs": [],
      "source": [
        "#@title\n",
        "selectIndices = []\n",
        "indexToCat = []\n",
        "for c in set(newsgroupsDF['category']):\n",
        "    selectIndices += list(newsgroupsDF[newsgroupsDF['category'] == c].index)[:50]\n",
        "    indexToCat += [c] * 50\n",
        "    #.groupby('category').sum()"
      ]
    },
    {
      "cell_type": "code",
      "execution_count": null,
      "metadata": {
        "collapsed": true,
        "id": "18LTnNrsmKhu"
      },
      "outputs": [],
      "source": [
        "#@title\n",
        "subCoocMat = newsgroupsCoocMat[selectIndices,:][:,selectIndices]"
      ]
    },
    {
      "cell_type": "code",
      "execution_count": null,
      "metadata": {
        "id": "L1bUMxdwmKhu"
      },
      "outputs": [],
      "source": [
        "#@title\n",
        "linkage_matrix = scipy.cluster.hierarchy.ward(subCoocMat.toarray())\n",
        "linkage_matrix[:10]"
      ]
    },
    {
      "cell_type": "markdown",
      "metadata": {
        "id": "8K5MMhWJmKhu"
      },
      "source": [
        "Now we can visualize the tree"
      ]
    },
    {
      "cell_type": "code",
      "execution_count": null,
      "metadata": {
        "id": "DrP7xqKPmKhu"
      },
      "outputs": [],
      "source": [
        "#@title\n",
        "dendDat = scipy.cluster.hierarchy.dendrogram(linkage_matrix, get_leaves=True)"
      ]
    },
    {
      "cell_type": "markdown",
      "metadata": {
        "id": "vMDhNgwdmKhv"
      },
      "source": [
        "This plot may seem somewhat unwieldy. To make it easier to read, we can cut the tree after a number of branchings."
      ]
    },
    {
      "cell_type": "code",
      "execution_count": null,
      "metadata": {
        "id": "QbwffhhamKhv"
      },
      "outputs": [],
      "source": [
        "#@title\n",
        "dendrogramDat = scipy.cluster.hierarchy.dendrogram(linkage_matrix, p=4, truncate_mode='level', get_leaves=True)"
      ]
    },
    {
      "cell_type": "markdown",
      "metadata": {
        "id": "ZpOb2oCDmKhv"
      },
      "source": [
        "By default, the tree is colored to show the clusters based on their ['distance'](https://docs.scipy.org/doc/scipy-0.18.1/reference/generated/scipy.cluster.hierarchy.dendrogram.html#scipy.cluster.hierarchy.dendrogram) from one another, but there are other ways of forming hierarchical clusters.\n",
        "\n",
        "Another approach involves cutting the tree into `n` branches. We can do this with [`fcluster()`](https://docs.scipy.org/doc/scipy/reference/generated/scipy.cluster.hierarchy.fcluster.html#scipy.cluster.hierarchy.fcluster). Lets break the tree into 4 clusters. When we do this with all of the data in the dataframe, as below, we can add those clusters back for detailed evaluation."
      ]
    },
    {
      "cell_type": "code",
      "execution_count": null,
      "metadata": {
        "id": "zmc-FpymmKhv"
      },
      "outputs": [],
      "source": [
        "#@title\n",
        "hierarchicalClusters = scipy.cluster.hierarchy.fcluster(linkage_matrix, 4, 'maxclust')\n",
        "hierarchicalClusters"
      ]
    },
    {
      "cell_type": "markdown",
      "metadata": {
        "id": "9mbTP7G0mKhv"
      },
      "source": [
        "We can use this *get clusters* like we did with k-means. What if we do the full data set?"
      ]
    },
    {
      "cell_type": "code",
      "execution_count": null,
      "metadata": {
        "id": "_LAAPl8ymKhv"
      },
      "outputs": [],
      "source": [
        "#@title\n",
        "linkage_matrix_full = scipy.cluster.hierarchy.ward(newsgroupsCoocMat.toarray())\n",
        "hierarchicalClusters_full = scipy.cluster.hierarchy.fcluster(linkage_matrix_full, 4, 'maxclust')\n",
        "print(\"For our complete clusters:\")\n",
        "print(\"Homogeneity: {:0.3f}\".format(sklearn.metrics.homogeneity_score(newsgroupsDF['category'], hierarchicalClusters_full)))\n",
        "print(\"Completeness: {:0.3f}\".format(sklearn.metrics.completeness_score(newsgroupsDF['category'], hierarchicalClusters_full)))\n",
        "print(\"V-measure: {:0.3f}\".format(sklearn.metrics.v_measure_score(newsgroupsDF['category'], hierarchicalClusters_full)))\n",
        "print(\"Adjusted Rand Score: {:0.3f}\".format(sklearn.metrics.adjusted_rand_score(newsgroupsDF['category'], hierarchicalClusters_full)))"
      ]
    },
    {
      "cell_type": "markdown",
      "metadata": {
        "id": "27u8OE-WmKhv"
      },
      "source": [
        "Not quite as good as k-means. Perhaps we've got too many words for Ward or maybe we shouldn't be using TFIDF as that compresses the space. Still, the hierarchical model places constraints on the clustering not present with k-means, which come at a cost. Finally, we can bring those cluster assignments back to the data frame for deeper investigation."
      ]
    },
    {
      "cell_type": "code",
      "execution_count": null,
      "metadata": {
        "id": "gW52u7e9mKhv"
      },
      "outputs": [],
      "source": [
        "#@title\n",
        "newsgroupsDF['wald_predictions'] = hierarchicalClusters_full\n",
        "newsgroupsDF"
      ]
    },
    {
      "cell_type": "markdown",
      "metadata": {
        "id": "-mmba8TmmKhv"
      },
      "source": [
        "# Now let's do it with Senate press release data\n",
        "\n",
        "We can also do hierarchical clustering with the Senate data. Let's start by creating the linkage matrix:"
      ]
    },
    {
      "cell_type": "code",
      "execution_count": null,
      "metadata": {
        "id": "Abw8xfDWmKhv"
      },
      "outputs": [],
      "source": [
        "#@title\n",
        "exampleCoocMat = exampleTFVects * exampleTFVects.T\n",
        "exampleCoocMat.setdiag(0)\n",
        "examplelinkage_matrix = scipy.cluster.hierarchy.ward(exampleCoocMat[:100, :100].toarray())"
      ]
    },
    {
      "cell_type": "markdown",
      "metadata": {
        "id": "Tmem9Tp0mKhv"
      },
      "source": [
        "And visualize the tree:"
      ]
    },
    {
      "cell_type": "code",
      "execution_count": null,
      "metadata": {
        "id": "9let8fZdmKhv"
      },
      "outputs": [],
      "source": [
        "#@title\n",
        "ax = scipy.cluster.hierarchy.dendrogram(examplelinkage_matrix, p=5, truncate_mode='level')"
      ]
    },
    {
      "cell_type": "markdown",
      "metadata": {
        "id": "NYV1fmsJmKhw"
      },
      "source": [
        "Now let's do it with the entire data frame."
      ]
    },
    {
      "cell_type": "code",
      "execution_count": null,
      "metadata": {
        "collapsed": true,
        "id": "ofQS9oA9mKhw"
      },
      "outputs": [],
      "source": [
        "#@title\n",
        "example_linkage_matrix_full = scipy.cluster.hierarchy.ward(exampleCoocMat.toarray())\n",
        "example_hierarchicalClusters_full = scipy.cluster.hierarchy.fcluster(example_linkage_matrix_full, 4, 'maxclust')"
      ]
    },
    {
      "cell_type": "markdown",
      "metadata": {
        "id": "gk21zU1YmKhw"
      },
      "source": [
        "## <font color=\"red\">*Exercise 2*</font>\n",
        "\n",
        "<font color=\"red\">Construct cells immediately below this that hierarchically cluster your documents using two approaches, and visualize them with a tree. Interrogate the recursive cluster contents in terms of both documents and closenesses. What does this nested cluster structure reveal about the organization of documents in your sampled corpora? Moreover, if they do worse than kmeans (as above), why do you think this is the case (hint: using metrics if you have ground truth or silhouette if you do not)? \n",
        "\n",
        "<font color=\"red\">***Stretch***: Attempt using different distances into your clustering algorithms. (How) do they change the arrangement of clusters?"
      ]
    },
    {
      "cell_type": "code",
      "source": [
        "#creating word occurence matrix: how similar the documents are to each other based on their number of shared words\n",
        "\n",
        "jstorTFVects[:100].todense()\n",
        "\n",
        "jstorCoocMat = jstorTFVects * jstorTFVects.T\n",
        "#set the diagonal to 0 since we don't care how similar texts are to themselves\n",
        "jstorCoocMat.setdiag(0)"
      ],
      "metadata": {
        "colab": {
          "base_uri": "https://localhost:8080/"
        },
        "id": "XndDFVK1fxg6",
        "outputId": "1247ff6d-3a4f-4b2d-9b58-676e630643f2"
      },
      "execution_count": 99,
      "outputs": [
        {
          "output_type": "stream",
          "name": "stderr",
          "text": [
            "/usr/local/lib/python3.7/dist-packages/scipy/sparse/_index.py:126: SparseEfficiencyWarning: Changing the sparsity structure of a csr_matrix is expensive. lil_matrix is more efficient.\n",
            "  self._set_arrayXarray(i, j, x)\n"
          ]
        }
      ]
    },
    {
      "cell_type": "code",
      "source": [
        "#creating a tree of nested clusters\n",
        "selectIndices = []\n",
        "indexToCat = []\n",
        "\n",
        "for c in set(jstorSample['isPartOf']):\n",
        "    selectIndices += list(jstorSample[jstorSample['isPartOf'] == c].index)[:50]\n",
        "    indexToCat += [c] * 50\n",
        "    #.groupby('category').sum()"
      ],
      "metadata": {
        "id": "g07aOZMull29"
      },
      "execution_count": 103,
      "outputs": []
    },
    {
      "cell_type": "code",
      "source": [
        "subCoocMat = jstorCoocMat[selectIndices,:][:,selectIndices]\n",
        "\n",
        "#!!!! note to self: !!!!\n",
        "###!!!come back to this!! and finish exercise 2!!\n",
        "#why is this out of range??"
      ],
      "metadata": {
        "colab": {
          "base_uri": "https://localhost:8080/",
          "height": 298
        },
        "id": "bs2KdSLanO4s",
        "outputId": "a1a10a06-ea84-4bbf-ff2a-425729990c63"
      },
      "execution_count": 104,
      "outputs": [
        {
          "output_type": "error",
          "ename": "IndexError",
          "evalue": "ignored",
          "traceback": [
            "\u001b[0;31m---------------------------------------------------------------------------\u001b[0m",
            "\u001b[0;31mIndexError\u001b[0m                                Traceback (most recent call last)",
            "\u001b[0;32m<ipython-input-104-271e0a8963c9>\u001b[0m in \u001b[0;36m<module>\u001b[0;34m()\u001b[0m\n\u001b[0;32m----> 1\u001b[0;31m \u001b[0msubCoocMat\u001b[0m \u001b[0;34m=\u001b[0m \u001b[0mjstorCoocMat\u001b[0m\u001b[0;34m[\u001b[0m\u001b[0mselectIndices\u001b[0m\u001b[0;34m,\u001b[0m\u001b[0;34m:\u001b[0m\u001b[0;34m]\u001b[0m\u001b[0;34m[\u001b[0m\u001b[0;34m:\u001b[0m\u001b[0;34m,\u001b[0m\u001b[0mselectIndices\u001b[0m\u001b[0;34m]\u001b[0m\u001b[0;34m\u001b[0m\u001b[0;34m\u001b[0m\u001b[0m\n\u001b[0m",
            "\u001b[0;32m/usr/local/lib/python3.7/dist-packages/scipy/sparse/_index.py\u001b[0m in \u001b[0;36m__getitem__\u001b[0;34m(self, key)\u001b[0m\n\u001b[1;32m     33\u001b[0m     \"\"\"\n\u001b[1;32m     34\u001b[0m     \u001b[0;32mdef\u001b[0m \u001b[0m__getitem__\u001b[0m\u001b[0;34m(\u001b[0m\u001b[0mself\u001b[0m\u001b[0;34m,\u001b[0m \u001b[0mkey\u001b[0m\u001b[0;34m)\u001b[0m\u001b[0;34m:\u001b[0m\u001b[0;34m\u001b[0m\u001b[0;34m\u001b[0m\u001b[0m\n\u001b[0;32m---> 35\u001b[0;31m         \u001b[0mrow\u001b[0m\u001b[0;34m,\u001b[0m \u001b[0mcol\u001b[0m \u001b[0;34m=\u001b[0m \u001b[0mself\u001b[0m\u001b[0;34m.\u001b[0m\u001b[0m_validate_indices\u001b[0m\u001b[0;34m(\u001b[0m\u001b[0mkey\u001b[0m\u001b[0;34m)\u001b[0m\u001b[0;34m\u001b[0m\u001b[0;34m\u001b[0m\u001b[0m\n\u001b[0m\u001b[1;32m     36\u001b[0m         \u001b[0;31m# Dispatch to specialized methods.\u001b[0m\u001b[0;34m\u001b[0m\u001b[0;34m\u001b[0m\u001b[0;34m\u001b[0m\u001b[0m\n\u001b[1;32m     37\u001b[0m         \u001b[0;32mif\u001b[0m \u001b[0misinstance\u001b[0m\u001b[0;34m(\u001b[0m\u001b[0mrow\u001b[0m\u001b[0;34m,\u001b[0m \u001b[0mINT_TYPES\u001b[0m\u001b[0;34m)\u001b[0m\u001b[0;34m:\u001b[0m\u001b[0;34m\u001b[0m\u001b[0;34m\u001b[0m\u001b[0m\n",
            "\u001b[0;32m/usr/local/lib/python3.7/dist-packages/scipy/sparse/_index.py\u001b[0m in \u001b[0;36m_validate_indices\u001b[0;34m(self, key)\u001b[0m\n\u001b[1;32m    137\u001b[0m                 \u001b[0mrow\u001b[0m \u001b[0;34m+=\u001b[0m \u001b[0mM\u001b[0m\u001b[0;34m\u001b[0m\u001b[0;34m\u001b[0m\u001b[0m\n\u001b[1;32m    138\u001b[0m         \u001b[0;32melif\u001b[0m \u001b[0;32mnot\u001b[0m \u001b[0misinstance\u001b[0m\u001b[0;34m(\u001b[0m\u001b[0mrow\u001b[0m\u001b[0;34m,\u001b[0m \u001b[0mslice\u001b[0m\u001b[0;34m)\u001b[0m\u001b[0;34m:\u001b[0m\u001b[0;34m\u001b[0m\u001b[0;34m\u001b[0m\u001b[0m\n\u001b[0;32m--> 139\u001b[0;31m             \u001b[0mrow\u001b[0m \u001b[0;34m=\u001b[0m \u001b[0mself\u001b[0m\u001b[0;34m.\u001b[0m\u001b[0m_asindices\u001b[0m\u001b[0;34m(\u001b[0m\u001b[0mrow\u001b[0m\u001b[0;34m,\u001b[0m \u001b[0mM\u001b[0m\u001b[0;34m)\u001b[0m\u001b[0;34m\u001b[0m\u001b[0;34m\u001b[0m\u001b[0m\n\u001b[0m\u001b[1;32m    140\u001b[0m \u001b[0;34m\u001b[0m\u001b[0m\n\u001b[1;32m    141\u001b[0m         \u001b[0;32mif\u001b[0m \u001b[0misintlike\u001b[0m\u001b[0;34m(\u001b[0m\u001b[0mcol\u001b[0m\u001b[0;34m)\u001b[0m\u001b[0;34m:\u001b[0m\u001b[0;34m\u001b[0m\u001b[0;34m\u001b[0m\u001b[0m\n",
            "\u001b[0;32m/usr/local/lib/python3.7/dist-packages/scipy/sparse/_index.py\u001b[0m in \u001b[0;36m_asindices\u001b[0;34m(self, idx, length)\u001b[0m\n\u001b[1;32m    169\u001b[0m         \u001b[0mmax_indx\u001b[0m \u001b[0;34m=\u001b[0m \u001b[0mx\u001b[0m\u001b[0;34m.\u001b[0m\u001b[0mmax\u001b[0m\u001b[0;34m(\u001b[0m\u001b[0;34m)\u001b[0m\u001b[0;34m\u001b[0m\u001b[0;34m\u001b[0m\u001b[0m\n\u001b[1;32m    170\u001b[0m         \u001b[0;32mif\u001b[0m \u001b[0mmax_indx\u001b[0m \u001b[0;34m>=\u001b[0m \u001b[0mlength\u001b[0m\u001b[0;34m:\u001b[0m\u001b[0;34m\u001b[0m\u001b[0;34m\u001b[0m\u001b[0m\n\u001b[0;32m--> 171\u001b[0;31m             \u001b[0;32mraise\u001b[0m \u001b[0mIndexError\u001b[0m\u001b[0;34m(\u001b[0m\u001b[0;34m'index (%d) out of range'\u001b[0m \u001b[0;34m%\u001b[0m \u001b[0mmax_indx\u001b[0m\u001b[0;34m)\u001b[0m\u001b[0;34m\u001b[0m\u001b[0;34m\u001b[0m\u001b[0m\n\u001b[0m\u001b[1;32m    172\u001b[0m \u001b[0;34m\u001b[0m\u001b[0m\n\u001b[1;32m    173\u001b[0m         \u001b[0mmin_indx\u001b[0m \u001b[0;34m=\u001b[0m \u001b[0mx\u001b[0m\u001b[0;34m.\u001b[0m\u001b[0mmin\u001b[0m\u001b[0;34m(\u001b[0m\u001b[0;34m)\u001b[0m\u001b[0;34m\u001b[0m\u001b[0;34m\u001b[0m\u001b[0m\n",
            "\u001b[0;31mIndexError\u001b[0m: index (7221) out of range"
          ]
        }
      ]
    },
    {
      "cell_type": "code",
      "source": [
        "linkage_matrix = scipy.cluster.hierarchy.ward(subCoocMat.toarray())\n",
        "linkage_matrix[:10]\n",
        "\n"
      ],
      "metadata": {
        "id": "ILzO_uRInH23"
      },
      "execution_count": null,
      "outputs": []
    },
    {
      "cell_type": "code",
      "source": [
        "dendDat = scipy.cluster.hierarchy.dendrogram(linkage_matrix, get_leaves=True)"
      ],
      "metadata": {
        "id": "zRvg0H65mHt_"
      },
      "execution_count": null,
      "outputs": []
    },
    {
      "cell_type": "code",
      "source": [
        "dendrogramDat = scipy.cluster.hierarchy.dendrogram(linkage_matrix, p=4, truncate_mode='level', get_leaves=True)"
      ],
      "metadata": {
        "id": "e1M9aoRDmX6k"
      },
      "execution_count": null,
      "outputs": []
    },
    {
      "cell_type": "markdown",
      "metadata": {
        "id": "uM6S_ltpmKhw"
      },
      "source": [
        "# Gensim\n",
        "\n",
        "To do topic modeling we will also be using data from the [grimmer press releases corpus](ttps://github.com/lintool/GrimmerSenatePressReleases). To use the texts with gensim we need to create a `corpua` object, this takes a few steps. First we create a `Dictionary` that maps tokens to ids.\n",
        "\n",
        "Here again we make use of `lucem_illud` functions. The source code of both of these is in [processing.py](https://github.com/UChicago-Computational-Content-Analysis/lucem_illud/blob/main/lucem_illud/processing.py)."
      ]
    },
    {
      "cell_type": "code",
      "execution_count": null,
      "metadata": {
        "collapsed": true,
        "id": "9iZTk9ikmKhx"
      },
      "outputs": [],
      "source": [
        "#@title\n",
        "#Apply our functions\n",
        "senReleasesTraining['tokenized_text'] = senReleasesTraining['text'].apply(lambda x: lucem_illud.word_tokenize(x))\n",
        "senReleasesTraining['normalized_tokens'] = senReleasesTraining['tokenized_text'].apply(lambda x: lucem_illud.normalizeTokens(x))"
      ]
    },
    {
      "cell_type": "code",
      "execution_count": null,
      "metadata": {
        "id": "J8x4aVpVmKhx"
      },
      "outputs": [],
      "source": [
        "#@title\n",
        "senReleasesTraining[::100]"
      ]
    },
    {
      "cell_type": "code",
      "execution_count": null,
      "metadata": {
        "collapsed": true,
        "id": "vyvIU7lfmKhx"
      },
      "outputs": [],
      "source": [
        "#@title\n",
        "def dropMissing(wordLst, vocab):\n",
        "    return [w for w in wordLst if w in vocab]\n",
        "\n",
        "senReleasesTraining['reduced_tokens'] = senReleasesTraining['normalized_tokens'].apply(lambda x: dropMissing(x, senTFVectorizer.vocabulary_.keys()))"
      ]
    },
    {
      "cell_type": "code",
      "execution_count": null,
      "metadata": {
        "collapsed": true,
        "id": "M7k2pWAkmKhx"
      },
      "outputs": [],
      "source": [
        "#@title\n",
        "dictionary = gensim.corpora.Dictionary(senReleasesTraining['reduced_tokens'])"
      ]
    },
    {
      "cell_type": "markdown",
      "metadata": {
        "id": "FzCzwX_pmKhx"
      },
      "source": [
        "Then for each of the texts we create a list of tuples containing each token and its count. We will only use the first half of our dataset for now and will save the remainder for testing."
      ]
    },
    {
      "cell_type": "code",
      "execution_count": null,
      "metadata": {
        "collapsed": true,
        "id": "ZZ8W-bOhmKhx"
      },
      "outputs": [],
      "source": [
        "#@title\n",
        "corpus = [dictionary.doc2bow(text) for text in senReleasesTraining['reduced_tokens']]"
      ]
    },
    {
      "cell_type": "markdown",
      "metadata": {
        "id": "iHmkx9krmKhy"
      },
      "source": [
        "Then we serialize the corpus as a file and load it. This is an important step when the corpus is large."
      ]
    },
    {
      "cell_type": "code",
      "execution_count": null,
      "metadata": {
        "collapsed": true,
        "id": "jtUYKaWwmKhy"
      },
      "outputs": [],
      "source": [
        "#@title\n",
        "gensim.corpora.MmCorpus.serialize('senate.mm', corpus)\n",
        "senmm = gensim.corpora.MmCorpus('senate.mm')"
      ]
    },
    {
      "cell_type": "markdown",
      "metadata": {
        "id": "r3BdNp6jmKhy"
      },
      "source": [
        "Now we have a correctly formatted corpus that we can use for topic modeling and induction."
      ]
    },
    {
      "cell_type": "code",
      "execution_count": null,
      "metadata": {
        "collapsed": true,
        "id": "pdGhXdpdmKhy"
      },
      "outputs": [],
      "source": [
        "#@title\n",
        "senlda = gensim.models.ldamodel.LdaModel(corpus=senmm, id2word=dictionary, num_topics=10, alpha='auto', eta='auto')"
      ]
    },
    {
      "cell_type": "markdown",
      "metadata": {
        "id": "R1MYTjYVmKhy"
      },
      "source": [
        "We can inspect the degree to which distinct texts load on different topics. Here is one of the texts from the training set:"
      ]
    },
    {
      "cell_type": "code",
      "execution_count": null,
      "metadata": {
        "id": "lhIfybBLmKhy"
      },
      "outputs": [],
      "source": [
        "#@title\n",
        "sen1Bow = dictionary.doc2bow(senReleasesTraining['reduced_tokens'][0])\n",
        "sen1lda = senlda[sen1Bow]\n",
        "print(\"The topics of the text: {}\".format(senReleasesTraining['name'][0]))\n",
        "print(\"are: {}\".format(sen1lda))"
      ]
    },
    {
      "cell_type": "markdown",
      "metadata": {
        "id": "s8bKnBNPmKhy"
      },
      "source": [
        "We can now see which topics our model predicts press releases load on and make this into a `dataFrame` for later analysis."
      ]
    },
    {
      "cell_type": "code",
      "execution_count": null,
      "metadata": {
        "collapsed": true,
        "id": "e4X9tgfdmKhy"
      },
      "outputs": [],
      "source": [
        "#@title\n",
        "ldaDF = pandas.DataFrame({\n",
        "        'name' : senReleasesTraining['name'],\n",
        "        'topics' : [senlda[dictionary.doc2bow(l)] for l in senReleasesTraining['reduced_tokens']]\n",
        "    })"
      ]
    },
    {
      "cell_type": "markdown",
      "metadata": {
        "id": "UHu2wmNmmKhy"
      },
      "source": [
        "This is a bit unwieldy so lets make each topic its own column:"
      ]
    },
    {
      "cell_type": "code",
      "execution_count": null,
      "metadata": {
        "id": "WA8N7zwvmKhy"
      },
      "outputs": [],
      "source": [
        "#@title\n",
        "#Dict to temporally hold the probabilities\n",
        "topicsProbDict = {i : [0] * len(ldaDF) for i in range(senlda.num_topics)}\n",
        "\n",
        "#Load them into the dict\n",
        "for index, topicTuples in enumerate(ldaDF['topics']):\n",
        "    for topicNum, prob in topicTuples:\n",
        "        topicsProbDict[topicNum][index] = prob\n",
        "\n",
        "#Update the DataFrame\n",
        "for topicNum in range(senlda.num_topics):\n",
        "    ldaDF['topic_{}'.format(topicNum)] = topicsProbDict[topicNum]\n",
        "\n",
        "ldaDF[1::100]"
      ]
    },
    {
      "cell_type": "markdown",
      "metadata": {
        "id": "VuOFshOgmKhz"
      },
      "source": [
        "Now let's visualize this for several (e.g., 10) documents in the corpus. First we'll subset the data:"
      ]
    },
    {
      "cell_type": "code",
      "execution_count": null,
      "metadata": {
        "id": "B4QaM5mtmKhz"
      },
      "outputs": [],
      "source": [
        "#@title\n",
        "ldaDFV = ldaDF[:10][['topic_%d' %x for x in range(10)]]\n",
        "ldaDFVisN = ldaDF[:10][['name']]\n",
        "ldaDFVis = ldaDFV.as_matrix(columns=None)\n",
        "ldaDFVisNames = ldaDFVisN.as_matrix(columns=None)\n",
        "ldaDFV"
      ]
    },
    {
      "cell_type": "markdown",
      "metadata": {
        "id": "ujyT9O32mKhz"
      },
      "source": [
        "First we can visualize as a stacked bar chart:"
      ]
    },
    {
      "cell_type": "code",
      "execution_count": null,
      "metadata": {
        "id": "GoAdbGBImKhz"
      },
      "outputs": [],
      "source": [
        "#@title\n",
        "N = 10\n",
        "ind = np.arange(N)\n",
        "K = senlda.num_topics  # N documents, K topics\n",
        "ind = np.arange(N)  # the x-axis locations for the novels\n",
        "width = 0.5  # the width of the bars\n",
        "plots = []\n",
        "height_cumulative = np.zeros(N)\n",
        "\n",
        "for k in range(K):\n",
        "    color = plt.cm.coolwarm(k/K, 1)\n",
        "    if k == 0:\n",
        "        p = plt.bar(ind, ldaDFVis[:, k], width, color=color)\n",
        "    else:\n",
        "        p = plt.bar(ind, ldaDFVis[:, k], width, bottom=height_cumulative, color=color)\n",
        "    height_cumulative += ldaDFVis[:, k]\n",
        "    plots.append(p)\n",
        "    \n",
        "\n",
        "plt.ylim((0, 1))  # proportions sum to 1, so the height of the stacked bars is 1\n",
        "plt.ylabel('Topics')\n",
        "\n",
        "plt.title('Topics in Press Releases')\n",
        "plt.xticks(ind+width/2, ldaDFVisNames, rotation='vertical')\n",
        "\n",
        "plt.yticks(np.arange(0, 1, 10))\n",
        "topic_labels = ['Topic #{}'.format(k) for k in range(K)]\n",
        "plt.legend([p[0] for p in plots], topic_labels, loc='center left', frameon=True,  bbox_to_anchor = (1, .5))\n",
        "\n",
        "plt.show()"
      ]
    },
    {
      "cell_type": "markdown",
      "metadata": {
        "id": "WclBhGMBmKhz"
      },
      "source": [
        "We can also visualize as a heat map:"
      ]
    },
    {
      "cell_type": "code",
      "execution_count": null,
      "metadata": {
        "id": "RjSH-aQBmKhz"
      },
      "outputs": [],
      "source": [
        "#@title\n",
        "plt.pcolor(ldaDFVis, norm=None, cmap='Blues')\n",
        "plt.yticks(np.arange(ldaDFVis.shape[0])+0.5, ldaDFVisNames);\n",
        "plt.xticks(np.arange(ldaDFVis.shape[1])+0.5, topic_labels);\n",
        "\n",
        "# flip the y-axis so the texts are in the order we anticipate (Austen first, then Brontë)\n",
        "plt.gca().invert_yaxis()\n",
        "\n",
        "# rotate the ticks on the x-axis\n",
        "plt.xticks(rotation=90)\n",
        "\n",
        "# add a legend\n",
        "plt.colorbar(cmap='Blues')\n",
        "plt.tight_layout()  # fixes margins\n",
        "plt.show()"
      ]
    },
    {
      "cell_type": "markdown",
      "metadata": {
        "id": "58UuMpXJmKhz"
      },
      "source": [
        "We can also look at the top words from each topic to get a sense of the semantic (or syntactic) domain they represent. To look at the terms with the highest LDA weight in topic `1` we can do the following:"
      ]
    },
    {
      "cell_type": "code",
      "execution_count": null,
      "metadata": {
        "id": "n6ytOF6emKhz"
      },
      "outputs": [],
      "source": [
        "#@title\n",
        "senlda.show_topic(1)"
      ]
    },
    {
      "cell_type": "markdown",
      "metadata": {
        "id": "OLVXbipGmKhz"
      },
      "source": [
        "And if we want to make a dataFrame:"
      ]
    },
    {
      "cell_type": "code",
      "execution_count": null,
      "metadata": {
        "id": "PZXSkLJ-mKhz"
      },
      "outputs": [],
      "source": [
        "#@title\n",
        "topicsDict = {}\n",
        "for topicNum in range(senlda.num_topics):\n",
        "    topicWords = [w for w, p in senlda.show_topic(topicNum)]\n",
        "    topicsDict['Topic_{}'.format(topicNum)] = topicWords\n",
        "\n",
        "wordRanksDF = pandas.DataFrame(topicsDict)\n",
        "wordRanksDF"
      ]
    },
    {
      "cell_type": "markdown",
      "metadata": {
        "id": "3jPGcn9smKhz"
      },
      "source": [
        "We can see that several of the topics have the same top words, but there are definitely differences. We can try and make the topics more distinct by changing the $\\alpha$ and $\\eta$ parameters of the model. $\\alpha$ controls the sparsity of document-topic loadings, and $\\eta$ controls the sparsity of topic-word loadings.\n",
        "\n",
        "We can make a visualization of the distribution of words over any single topic."
      ]
    },
    {
      "cell_type": "code",
      "execution_count": null,
      "metadata": {
        "id": "YxN1Gy2XmKh0"
      },
      "outputs": [],
      "source": [
        "#@title\n",
        "topic1_df = pandas.DataFrame(senlda.show_topic(1, topn=50))\n",
        "plt.figure()\n",
        "topic1_df.plot.bar(legend = False)\n",
        "plt.title('Probability Distribution of Words, Topic 1')\n",
        "plt.show()"
      ]
    },
    {
      "cell_type": "markdown",
      "metadata": {
        "id": "feKCEKQ3mKh0"
      },
      "source": [
        "See how different $\\eta$ values can change the shape of the distribution."
      ]
    },
    {
      "cell_type": "code",
      "execution_count": null,
      "metadata": {
        "collapsed": true,
        "id": "7NYFZUNUmKh0"
      },
      "outputs": [],
      "source": [
        "#@title\n",
        "senlda1 = gensim.models.ldamodel.LdaModel(corpus=senmm, id2word=dictionary, num_topics=10, eta = 0.00001)\n",
        "senlda2 = gensim.models.ldamodel.LdaModel(corpus=senmm, id2word=dictionary, num_topics=10, eta = 0.9)"
      ]
    },
    {
      "cell_type": "code",
      "execution_count": null,
      "metadata": {
        "id": "JmB--vbMmKh0"
      },
      "outputs": [],
      "source": [
        "#@title\n",
        "topic11_df = pandas.DataFrame(senlda1.show_topic(1, topn=50))\n",
        "topic21_df = pandas.DataFrame(senlda2.show_topic(1, topn=50))\n",
        "\n",
        "fig, (ax1, ax2) = plt.subplots(1, 2)\n",
        "fig.set_size_inches(18, 7)\n",
        "topic11_df.plot.bar(legend = False, ax = ax1, title = '$\\eta$  = 0.00001')\n",
        "topic21_df.plot.bar(legend = False, ax = ax2, title = '$\\eta$  = 0.9')\n",
        "plt.show()"
      ]
    },
    {
      "cell_type": "markdown",
      "metadata": {
        "id": "syxNwikVgPH0"
      },
      "source": [
        "### Heirarchial Dirichlet Process\n",
        "\n",
        "We use LDA topic modeling above, but a similar alternative model you may run across is Hierarchical Dirichlet Processes, a nonparametric generalization of LDA. See, for example, [Teodoridis et al 2020](https://papers.ssrn.com/sol3/papers.cfm?abstract_id=3596233). One difference is how the researcher selects the number of topics."
      ]
    },
    {
      "cell_type": "code",
      "execution_count": null,
      "metadata": {
        "id": "D7hIA4hPgcc5"
      },
      "outputs": [],
      "source": [
        "#@title\n",
        "from gensim.models import HdpModel"
      ]
    },
    {
      "cell_type": "code",
      "execution_count": null,
      "metadata": {
        "id": "2hStv6DjFklq"
      },
      "outputs": [],
      "source": [
        "#@title\n",
        "hdpmodel = HdpModel(corpus=corpus, id2word=dictionary)"
      ]
    },
    {
      "cell_type": "code",
      "execution_count": null,
      "metadata": {
        "colab": {
          "base_uri": "https://localhost:8080/"
        },
        "id": "lErePHjxFkg_",
        "outputId": "fcd26a40-3071-49b9-a4ba-046418be3119"
      },
      "outputs": [
        {
          "data": {
            "text/plain": [
              "[(0,\n",
              "  '0.003*plai + 0.003*year + 0.003*game + 0.003*like + 0.003*season + 0.003*film + 0.003*star + 0.002*time + 0.002*team + 0.002*produc'),\n",
              " (1,\n",
              "  '0.006*game + 0.006*film + 0.005*work + 0.004*time + 0.004*year + 0.003*said + 0.003*like + 0.003*right + 0.003*vote + 0.003*season'),\n",
              " (2,\n",
              "  '0.005*like + 0.004*januari + 0.004*time + 0.004*spaghetti + 0.003*recip + 0.003*pasta + 0.003*look + 0.003*pan + 0.003*thank + 0.003*pie'),\n",
              " (3,\n",
              "  '0.005*game + 0.003*season + 0.003*year + 0.003*content + 0.003*time + 0.003*team + 0.002*develop + 0.002*plai + 0.002*new + 0.002*point'),\n",
              " (4,\n",
              "  '0.004*like + 0.003*film + 0.003*movi + 0.003*world + 0.003*year + 0.003*want + 0.002*car + 0.002*women + 0.002*time + 0.002*know'),\n",
              " (5,\n",
              "  '0.004*game + 0.004*year + 0.003*team + 0.002*run + 0.002*april + 0.002*time + 0.002*season + 0.002*film + 0.002*world + 0.002*wai'),\n",
              " (6,\n",
              "  '0.004*game + 0.003*like + 0.003*blazer + 0.003*year + 0.003*season + 0.003*olshei + 0.003*portland + 0.003*trail + 0.003*time + 0.003*player'),\n",
              " (7,\n",
              "  '0.004*game + 0.003*point + 0.003*team + 0.002*time + 0.002*best + 0.002*season + 0.002*hornet + 0.002*plai + 0.002*year + 0.002*like'),\n",
              " (8,\n",
              "  '0.002*richardson + 0.001*world + 0.001*book + 0.001*new + 0.001*wai + 0.001*like + 0.001*music + 0.001*team + 0.001*help + 0.001*year'),\n",
              " (9,\n",
              "  '0.002*game + 0.002*bryant + 0.002*new + 0.001*time + 0.001*year + 0.001*plai + 0.001*ono’ + 0.001*song + 0.001*ono + 0.001*said'),\n",
              " (10,\n",
              "  '0.005*game + 0.002*develop + 0.002*new + 0.002*said + 0.002*vive + 0.001*want + 0.001*go + 0.001*lot + 0.001*right + 0.001*make'),\n",
              " (11,\n",
              "  '0.004*nba + 0.002*africa + 0.001*game + 0.001*econet + 0.001*bbc + 0.001*includ + 0.001*media + 0.001*content + 0.001*tomato + 0.001*new'),\n",
              " (12,\n",
              "  '0.002*tabl + 0.001*plai + 0.001*cav + 0.001*game + 0.001*like + 0.001*seri + 0.001*team + 0.001*raptor + 0.001*pinbal + 0.001*season'),\n",
              " (13,\n",
              "  '0.002*strahan + 0.002*ripa + 0.002*new + 0.001*live + 0.001*host + 0.001*peopl + 0.001*abc + 0.001*said + 0.001*want + 0.001*kelli'),\n",
              " (14,\n",
              "  '0.003*gear + 0.003*game + 0.002*war + 0.002*plai + 0.002*like + 0.001*cover + 0.001*new + 0.001*season + 0.001*multiplay + 0.001*map'),\n",
              " (15,\n",
              "  '0.003*bean + 0.002*green + 0.002*krisha + 0.002*curri + 0.001*game + 0.001*lemon + 0.001*warrior + 0.001*kerr + 0.001*butter + 0.001*plai'),\n",
              " (16,\n",
              "  '0.003*game + 0.002*rpg + 0.002*final + 0.001*fantasi + 0.001*develop + 0.001*go + 0.001*stori + 0.001*need + 0.001*work + 0.001*pocket'),\n",
              " (17,\n",
              "  '0.011*june + 0.005*minicamp + 0.004*april + 0.004*offseason + 0.004*workout + 0.004*report + 0.004*mandatori + 0.003*ota + 0.001*program + 0.001*voluntari'),\n",
              " (18,\n",
              "  '0.002*game + 0.002*book + 0.002*illustr + 0.001*stori + 0.001*william + 0.001*award + 0.001*year + 0.001*water + 0.001*excel + 0.001*market'),\n",
              " (19,\n",
              "  '0.005*game + 0.003*daviau + 0.002*legaci + 0.001*player + 0.001*design + 0.001*work + 0.001*idea + 0.001*risk + 0.001*tournament + 0.001*like')]"
            ]
          },
          "execution_count": 41,
          "metadata": {
            "tags": []
          },
          "output_type": "execute_result"
        }
      ],
      "source": [
        "#@title\n",
        "hdpmodel.print_topics()"
      ]
    },
    {
      "cell_type": "markdown",
      "metadata": {
        "id": "luPvBEh7Kezp"
      },
      "source": [
        "Gensim sets the default number of topics as 150. This [stack overflow link](https://stackoverflow.com/questions/31543542/hierarchical-dirichlet-process-gensim-topic-number-independent-of-corpus-size) walks you through how to truncate these topics."
      ]
    },
    {
      "cell_type": "code",
      "execution_count": null,
      "metadata": {
        "id": "IO0ZQsMrHaf2"
      },
      "outputs": [],
      "source": [
        "#@title\n",
        "hdptexts = hdpmodel[corpus]"
      ]
    },
    {
      "cell_type": "code",
      "execution_count": null,
      "metadata": {
        "colab": {
          "base_uri": "https://localhost:8080/"
        },
        "id": "rZ_wUnk2Hnn2",
        "outputId": "56fffc6d-e7d6-4ca9-e4e9-1269ec2f29a1"
      },
      "outputs": [
        {
          "data": {
            "text/plain": [
              "[(6, 0.9978556642767126)]"
            ]
          },
          "execution_count": 43,
          "metadata": {
            "tags": []
          },
          "output_type": "execute_result"
        }
      ],
      "source": [
        "#@title\n",
        "hdptexts[0]"
      ]
    },
    {
      "cell_type": "markdown",
      "metadata": {
        "id": "mhOZEFyMKiNh"
      },
      "source": [
        "This [HDP tutorial](https://towardsdatascience.com/dont-be-afraid-of-nonparametric-topic-models-part-2-python-e5666db347a) walks us through alternative HDP implementations outside of gensim."
      ]
    },
    {
      "cell_type": "markdown",
      "metadata": {
        "id": "jkjF1jmRmKh2"
      },
      "source": [
        "## <font color=\"red\">*Exercise 3*</font>\n",
        "\n",
        "<font color=\"red\">Construct cells immediately below this that topic model documents related to your anticipated final project. Interrogate and visually plot (e.g., as a bar graph?) the topic-word loadings and the document-topic loadings. What does this topic structure reveal about the distribution of contents across your documents? Systematically vary the $\\alpha$, $\\eta$, and topic number of the model for your text and describe in detail whether and how these changes led to distinctive outcomes, visible to you as analyst.  \n",
        "\n",
        "<font color=\"red\">**Stretch**: Cluster your documents, but instead of using words alone, use their topic loadings as an additional set of features. Do these topic loadings increase the apparent semantic coherence of your clusters?</font> "
      ]
    },
    {
      "cell_type": "code",
      "source": [
        ""
      ],
      "metadata": {
        "id": "K3AwnZ36olTw"
      },
      "execution_count": null,
      "outputs": []
    },
    {
      "cell_type": "code",
      "source": [
        "#topic model\n",
        "jstorlda = gensim.models.ldamodel.LdaModel(corpus=jstorSample, id2word=dictionary, num_topics=10, alpha='auto', eta='auto')"
      ],
      "metadata": {
        "colab": {
          "base_uri": "https://localhost:8080/",
          "height": 175
        },
        "id": "6cAxhC-8oHq8",
        "outputId": "6b90d42e-6dc1-401e-920c-ddb142513864"
      },
      "execution_count": 107,
      "outputs": [
        {
          "output_type": "error",
          "ename": "NameError",
          "evalue": "ignored",
          "traceback": [
            "\u001b[0;31m---------------------------------------------------------------------------\u001b[0m",
            "\u001b[0;31mNameError\u001b[0m                                 Traceback (most recent call last)",
            "\u001b[0;32m<ipython-input-107-530ce1dad8de>\u001b[0m in \u001b[0;36m<module>\u001b[0;34m()\u001b[0m\n\u001b[1;32m      1\u001b[0m \u001b[0;31m#topic model\u001b[0m\u001b[0;34m\u001b[0m\u001b[0;34m\u001b[0m\u001b[0;34m\u001b[0m\u001b[0m\n\u001b[0;32m----> 2\u001b[0;31m \u001b[0mjstorlda\u001b[0m \u001b[0;34m=\u001b[0m \u001b[0mgensim\u001b[0m\u001b[0;34m.\u001b[0m\u001b[0mmodels\u001b[0m\u001b[0;34m.\u001b[0m\u001b[0mldamodel\u001b[0m\u001b[0;34m.\u001b[0m\u001b[0mLdaModel\u001b[0m\u001b[0;34m(\u001b[0m\u001b[0mcorpus\u001b[0m\u001b[0;34m=\u001b[0m\u001b[0mjstorSample\u001b[0m\u001b[0;34m,\u001b[0m \u001b[0mid2word\u001b[0m\u001b[0;34m=\u001b[0m\u001b[0mdictionary\u001b[0m\u001b[0;34m,\u001b[0m \u001b[0mnum_topics\u001b[0m\u001b[0;34m=\u001b[0m\u001b[0;36m10\u001b[0m\u001b[0;34m,\u001b[0m \u001b[0malpha\u001b[0m\u001b[0;34m=\u001b[0m\u001b[0;34m'auto'\u001b[0m\u001b[0;34m,\u001b[0m \u001b[0meta\u001b[0m\u001b[0;34m=\u001b[0m\u001b[0;34m'auto'\u001b[0m\u001b[0;34m)\u001b[0m\u001b[0;34m\u001b[0m\u001b[0;34m\u001b[0m\u001b[0m\n\u001b[0m",
            "\u001b[0;31mNameError\u001b[0m: name 'dictionary' is not defined"
          ]
        }
      ]
    },
    {
      "cell_type": "markdown",
      "metadata": {
        "id": "YAy0eL63mKh2"
      },
      "source": [
        "## Extending Topic Models within broader research pipelines\n",
        "\n",
        "Topic models can be the base of more complex analysis. One good example is the paper - Individuals, institutions, and innovation in the debates of the French Revolution (https://www.pnas.org/content/115/18/4607), where they use topic models to find similarities and differences between the topics of different individuals. Let us revisit this idea using the Soap opera database. Who innovates and influences the most within the Soap?\n",
        "\n",
        "The next few lines of code follows the same process as last weeks notebook. Please visit the old notebook to read descriptions of the code if you have forgotten what it does. `lucem_illud.loadDavies` can be found in [loaders.py](https://github.com/UChicago-Computational-Content-Analysis/lucem_illud/blob/main/lucem_illud/loaders.py)."
      ]
    },
    {
      "cell_type": "code",
      "execution_count": null,
      "metadata": {
        "collapsed": true,
        "id": "FQZgh65AmKh2"
      },
      "outputs": [],
      "source": [
        "#@title\n",
        "corpora_address = \"/Users/bhargavvader/Downloads/Academics_Tech/corpora/SOAP\""
      ]
    },
    {
      "cell_type": "code",
      "execution_count": null,
      "metadata": {
        "id": "rxG0IeOZmKh2"
      },
      "outputs": [],
      "source": [
        "#@title\n",
        "soap_texts = lucem_illud.loadDavies(corpora_address, num_files=2000)"
      ]
    },
    {
      "cell_type": "code",
      "execution_count": null,
      "metadata": {
        "collapsed": true,
        "id": "lJr_-ECEmKh2"
      },
      "outputs": [],
      "source": [
        "#@title\n",
        "import zipfile\n",
        "import pandas as pd"
      ]
    },
    {
      "cell_type": "code",
      "execution_count": null,
      "metadata": {
        "collapsed": true,
        "id": "S8lC2JiOmKh2"
      },
      "outputs": [],
      "source": [
        "#@title\n",
        "zfile = zipfile.ZipFile(corpora_address + \"/soap_sources.zip\")\n",
        "source = []"
      ]
    },
    {
      "cell_type": "code",
      "execution_count": null,
      "metadata": {
        "collapsed": true,
        "id": "0ukzU-gFmKh3"
      },
      "outputs": [],
      "source": [
        "#@title\n",
        "for file in zfile.namelist():\n",
        "    with zfile.open(file) as f:\n",
        "        for line in f:\n",
        "            source.append(line)"
      ]
    },
    {
      "cell_type": "code",
      "execution_count": null,
      "metadata": {
        "collapsed": true,
        "id": "6wsnrVylmKh3"
      },
      "outputs": [],
      "source": [
        "#@title\n",
        "soap_dict = {}"
      ]
    },
    {
      "cell_type": "code",
      "execution_count": null,
      "metadata": {
        "collapsed": true,
        "id": "wQ9bQ7_bmKh3"
      },
      "outputs": [],
      "source": [
        "#@title\n",
        "for soap in source[3:]:\n",
        "    try:\n",
        "        textID, year, show, url = soap.decode(\"utf-8\").split(\"\\t\")\n",
        "    except UnicodeDecodeError:\n",
        "        continue\n",
        "    if show.strip() not in soap_dict:\n",
        "        soap_dict[show.strip()] = []\n",
        "    if show.strip() in soap_dict:\n",
        "        try:\n",
        "            soap_dict[show.strip()].append(soap_texts[textID.strip()])\n",
        "        except KeyError:\n",
        "            continue"
      ]
    },
    {
      "cell_type": "code",
      "execution_count": null,
      "metadata": {
        "id": "HLQcazL2mKh3"
      },
      "outputs": [],
      "source": [
        "#@title\n",
        "soap_dict.keys()"
      ]
    },
    {
      "cell_type": "code",
      "execution_count": null,
      "metadata": {
        "collapsed": true,
        "id": "AJhHX-RYmKh3"
      },
      "outputs": [],
      "source": [
        "#@title\n",
        "soap_df = pd.DataFrame(columns=[\"Soap Name\", \"Tokenized Texts\"])"
      ]
    },
    {
      "cell_type": "code",
      "execution_count": null,
      "metadata": {
        "collapsed": true,
        "id": "77qjlTQrmKh3"
      },
      "outputs": [],
      "source": [
        "#@title\n",
        "i = 0"
      ]
    },
    {
      "cell_type": "code",
      "execution_count": null,
      "metadata": {
        "id": "gyIMmRkXmKh3"
      },
      "outputs": [],
      "source": [
        "#@title\n",
        "for soap in soap_dict:\n",
        "    # since there were multiple lists\n",
        "    print(soap)\n",
        "    full_script = []\n",
        "    for part in soap_dict[soap]:\n",
        "        full_script = full_script + part\n",
        "    soap_df.loc[i] = [soap, full_script]\n",
        "    i += 1"
      ]
    },
    {
      "cell_type": "code",
      "execution_count": null,
      "metadata": {
        "id": "agAC20yBmKh3"
      },
      "outputs": [],
      "source": [
        "#@title\n",
        "soap_df"
      ]
    },
    {
      "cell_type": "markdown",
      "metadata": {
        "id": "Ac5nggoZmKh3"
      },
      "source": [
        "Checking to see which index I should use. In my example it is the last one, so I choose my index as 9. It might be different for you!"
      ]
    },
    {
      "cell_type": "code",
      "execution_count": null,
      "metadata": {
        "collapsed": true,
        "id": "sVV_xxgdmKh3"
      },
      "outputs": [],
      "source": [
        "#@title\n",
        "dool = soap_df['Tokenized Texts'][9]"
      ]
    },
    {
      "cell_type": "code",
      "execution_count": null,
      "metadata": {
        "id": "zOSMFH8tmKh3"
      },
      "outputs": [],
      "source": [
        "#@title\n",
        "' '.join(dool[0:1500])"
      ]
    },
    {
      "cell_type": "code",
      "execution_count": null,
      "metadata": {
        "collapsed": true,
        "id": "B8WX9GZYmKh3"
      },
      "outputs": [],
      "source": [
        "#@title\n",
        "characters = {}\n",
        "for token in dool:\n",
        "    if token[0] == '@':\n",
        "        # all characters or actions start with @, so we add that to character\n",
        "        if token[2:] not in characters:\n",
        "            characters[token[2:]] = 0\n",
        "        if token[2:] in characters:\n",
        "            characters[token[2:]] += 1"
      ]
    },
    {
      "cell_type": "code",
      "execution_count": null,
      "metadata": {
        "collapsed": true,
        "id": "_K2NLIdXmKh4"
      },
      "outputs": [],
      "source": [
        "#@title\n",
        "import networkx as nx"
      ]
    },
    {
      "cell_type": "code",
      "execution_count": null,
      "metadata": {
        "collapsed": true,
        "id": "XmERlajnmKh4"
      },
      "outputs": [],
      "source": [
        "#@title\n",
        "actor_network = nx.Graph()"
      ]
    },
    {
      "cell_type": "code",
      "execution_count": null,
      "metadata": {
        "collapsed": true,
        "id": "FYhtcf3KmKh4"
      },
      "outputs": [],
      "source": [
        "#@title\n",
        "for character in characters:\n",
        "    if characters[character] > 2000:\n",
        "        actor_network.add_node(character, lines_spoken= characters[character], words=[])"
      ]
    },
    {
      "cell_type": "code",
      "execution_count": null,
      "metadata": {
        "collapsed": true,
        "id": "NBYZ_VmnmKh4"
      },
      "outputs": [],
      "source": [
        "#@title\n",
        "i = 0"
      ]
    },
    {
      "cell_type": "code",
      "execution_count": null,
      "metadata": {
        "collapsed": true,
        "id": "rPB4C8t_mKh4"
      },
      "outputs": [],
      "source": [
        "#@title\n",
        "all_texts = []"
      ]
    },
    {
      "cell_type": "code",
      "execution_count": null,
      "metadata": {
        "collapsed": true,
        "id": "I6aJ9SohmKh4"
      },
      "outputs": [],
      "source": [
        "#@title\n",
        "for token in dool:\n",
        "    i += 1\n",
        "    if i > len(dool):\n",
        "        break\n",
        "    if token[0] == \"@\":\n",
        "        if token[2:] in actor_network.nodes():\n",
        "            j = i\n",
        "            for token_ in dool[i:]:\n",
        "                if token_[0] == \"@\":\n",
        "                    # if both the characters exist in the graph, add a weight\n",
        "                    if token_[2:] != token[2:] and token_[2:] in actor_network.nodes():\n",
        "                        if (token[2:], token_[2:]) not in actor_network.edges():\n",
        "                            actor_network.add_edge(token[2:], token_[2:], weight=0)\n",
        "                        if (token[2:], token_[2:]) in actor_network.edges():\n",
        "                            actor_network.edges[(token[2:], token_[2:])]['weight'] += 1\n",
        "                    break\n",
        "                j += 1\n",
        "            # adding characters sentences\n",
        "            actor_network.nodes[token[2:]]['words'].append(dool[i:j])\n",
        "            all_texts.append(lucem_illud.normalizeTokens(dool[i:j]))"
      ]
    },
    {
      "cell_type": "code",
      "execution_count": null,
      "metadata": {
        "id": "D82gwqQ6mKh4"
      },
      "outputs": [],
      "source": [
        "#@title\n",
        "nx.draw(actor_network, with_labels=True, font_weight='bold')"
      ]
    },
    {
      "cell_type": "markdown",
      "metadata": {
        "id": "qhSlSrSjmKh4"
      },
      "source": [
        "Ok - so we have our graph now. Let us create a topic model with all the texts spoken by the characters, see what's being spoken about, and construct topic distributions for each character. What does our all_texts corpus look like?"
      ]
    },
    {
      "cell_type": "code",
      "execution_count": null,
      "metadata": {
        "id": "Dlj9K04imKh4"
      },
      "outputs": [],
      "source": [
        "#@title\n",
        "all_texts[0:10]"
      ]
    },
    {
      "cell_type": "code",
      "execution_count": null,
      "metadata": {
        "collapsed": true,
        "id": "EST1gHFAmKh5"
      },
      "outputs": [],
      "source": [
        "#@title\n",
        "dictionary = gensim.corpora.Dictionary(all_texts)"
      ]
    },
    {
      "cell_type": "code",
      "execution_count": null,
      "metadata": {
        "collapsed": true,
        "id": "Is07PeirmKh5"
      },
      "outputs": [],
      "source": [
        "#@title\n",
        "corpus = [dictionary.doc2bow(text) for text in all_texts]"
      ]
    },
    {
      "cell_type": "code",
      "execution_count": null,
      "metadata": {
        "collapsed": true,
        "id": "ryaE0guAmKh5"
      },
      "outputs": [],
      "source": [
        "#@title\n",
        "gensim.corpora.MmCorpus.serialize('dool.mm', corpus)\n",
        "doolcorpus = gensim.corpora.MmCorpus('dool.mm')"
      ]
    },
    {
      "cell_type": "code",
      "execution_count": null,
      "metadata": {
        "collapsed": true,
        "id": "DrY81dgqmKh5"
      },
      "outputs": [],
      "source": [
        "#@title\n",
        "doollda = gensim.models.ldamodel.LdaModel(corpus=doolcorpus, id2word=dictionary, num_topics=10, alpha='auto', eta='auto')"
      ]
    },
    {
      "cell_type": "code",
      "execution_count": null,
      "metadata": {
        "id": "fosyg8rPmKh5"
      },
      "outputs": [],
      "source": [
        "#@title\n",
        "doollda.show_topics()"
      ]
    },
    {
      "cell_type": "markdown",
      "metadata": {
        "id": "yq-HA0mnmKh5"
      },
      "source": [
        "Are your topics interpretable/interesting? Sometimes they require a good deal of fine tuning and parameter choosing to get it to work in a nice way. Check out the gensim ldamodel documentation page and see what parameters you can play around with and try the model again!"
      ]
    },
    {
      "cell_type": "code",
      "execution_count": null,
      "metadata": {
        "collapsed": true,
        "id": "wC8QtNmgmKh5"
      },
      "outputs": [],
      "source": [
        "#@title\n",
        "for actor in actor_network.nodes():\n",
        "    actor_all_words = []\n",
        "    for sent in actor_network.nodes[actor]['words']:\n",
        "        for word in sent:\n",
        "            actor_all_words += word\n",
        "    actor_network.nodes[actor]['topic_distribution'] = doollda[dictionary.doc2bow(lucem_illud.normalizeTokens(actor_all_words))]"
      ]
    },
    {
      "cell_type": "markdown",
      "metadata": {
        "id": "tD9vCc8qmKh5"
      },
      "source": [
        "We now have topic distributions for each character. Let us have a brief look at what the characters are talking about. "
      ]
    },
    {
      "cell_type": "code",
      "execution_count": null,
      "metadata": {
        "id": "_NSZlh8FmKh5"
      },
      "outputs": [],
      "source": [
        "#@title\n",
        "for actor in actor_network.nodes():\n",
        "    print(actor, actor_network.nodes[actor]['topic_distribution'])"
      ]
    },
    {
      "cell_type": "markdown",
      "metadata": {
        "id": "WgOChepTmKh5"
      },
      "source": [
        "Quickly eye-balling these distributions suggest that the model itself could be tuned better - all the topics are loaded more or less equally. \n",
        "\n",
        "In the paper I linked to earlier, they found similarities or differences using the KL divergence - this is a topic we've dealt with before. Let us plot a heatmap with these values."
      ]
    },
    {
      "cell_type": "code",
      "execution_count": null,
      "metadata": {
        "collapsed": true,
        "id": "v9ZDCu4kmKh5"
      },
      "outputs": [],
      "source": [
        "#@title\n",
        "from gensim.matutils import kullback_leibler"
      ]
    },
    {
      "cell_type": "code",
      "execution_count": null,
      "metadata": {
        "collapsed": true,
        "id": "YeX8QHwfmKh6"
      },
      "outputs": [],
      "source": [
        "#@title\n",
        "def convert_to_prob(bow):\n",
        "    ps = []\n",
        "    for topic_no, topic_prob in bow:\n",
        "        ps.append(topic_prob)\n",
        "    return ps"
      ]
    },
    {
      "cell_type": "code",
      "execution_count": null,
      "metadata": {
        "collapsed": true,
        "id": "Qu5jUaLgmKh6"
      },
      "outputs": [],
      "source": [
        "#@title\n",
        "L = []\n",
        "for actor_1 in actor_network.nodes():\n",
        "    p = actor_network.nodes[actor_1]['topic_distribution'] \n",
        "    p = convert_to_prob(p)\n",
        "    l = []\n",
        "    for actor_2 in actor_network.nodes():\n",
        "        q = actor_network.nodes[actor_2]['topic_distribution'] \n",
        "        q = convert_to_prob(q)\n",
        "        l.append(kullback_leibler(p, q))\n",
        "    L.append(l)\n",
        "M = np.array(L)"
      ]
    },
    {
      "cell_type": "code",
      "execution_count": null,
      "metadata": {
        "id": "BckJPr81mKh6"
      },
      "outputs": [],
      "source": [
        "#@title\n",
        "fig = plt.figure()\n",
        "div = pandas.DataFrame(M, columns = list(actor_network.nodes()), index = list(actor_network.nodes()))\n",
        "ax = sns.heatmap(div)\n",
        "plt.show()"
      ]
    },
    {
      "cell_type": "markdown",
      "metadata": {
        "id": "_GBkNEcfmKh6"
      },
      "source": [
        "This is one example of how we can use topic models to analyse a network - what other data exploration can you come up with?  Maybe see what are the themes surrounding the top topics for each of the actors? You now have the infrastructure to explore the network and the topics. Gensim has a great set of Jupyter Notebooks which illustrate their methods and functions - https://github.com/RaRe-Technologies/gensim/tree/develop/docs/notebooks. The Auto Examples page also has a good variety of examples - https://radimrehurek.com/gensim/auto_examples/. \n",
        "\n",
        "\n",
        "### Dynamic Topic Modelling\n",
        "\n",
        "Dynamic Topic Modelling is a time based topic model method introduced by David Blei and John Lafferty. It allows one to see topics evolve over a time annotated corpus. I would recommend first viewing the Dynamic Topic Model tutorial on Gensim (https://github.com/RaRe-Technologies/gensim/blob/develop/docs/notebooks/ldaseqmodel.ipynb) to understand what exactly it's about. \n",
        "\n",
        "(An acknowledgement - Bhargav (the author of most of this class's code) wrote the code for Gensim's Dynamic Topic Models back in 2016 as a Google Summer of Code student, and they're still using it as are thousands of others!)\n",
        "\n",
        "To demonstrate it on a time based corpus, we will create a corpus from COHA."
      ]
    },
    {
      "cell_type": "code",
      "execution_count": null,
      "metadata": {
        "collapsed": true,
        "id": "kYYxMMbImKh6"
      },
      "outputs": [],
      "source": [
        "#@title\n",
        "corpora_address = \"/Users/bhargavvader/Downloads/Academics_Tech/corpora/COHA\""
      ]
    },
    {
      "cell_type": "code",
      "execution_count": null,
      "metadata": {
        "id": "aCKHowH1mKh6"
      },
      "outputs": [],
      "source": [
        "#@title\n",
        "coha_texts = lucem_illud.loadDavies(corpora_address, return_raw=True)"
      ]
    },
    {
      "cell_type": "code",
      "execution_count": null,
      "metadata": {
        "id": "h89konbfmKh6"
      },
      "outputs": [],
      "source": [
        "#@title\n",
        "list(coha_texts.keys())[0:5]"
      ]
    },
    {
      "cell_type": "markdown",
      "metadata": {
        "id": "va8lfmCPmKh6"
      },
      "source": [
        "We'd have to approach this differently: note that while extracting the corpus we returned the raw texts, and the dictionary keys already contain some useful information: the year published, and the genre. neat! We can now create some corpora, organised by year and by genre."
      ]
    },
    {
      "cell_type": "code",
      "execution_count": null,
      "metadata": {
        "collapsed": true,
        "id": "DKxMMSAmmKh6"
      },
      "outputs": [],
      "source": [
        "#@title\n",
        "coha_genres = {}\n",
        "coha_years = {}"
      ]
    },
    {
      "cell_type": "code",
      "execution_count": null,
      "metadata": {
        "collapsed": true,
        "id": "WHJOn2hGmKh6"
      },
      "outputs": [],
      "source": [
        "#@title\n",
        "for article in coha_texts:\n",
        "    genre, year, id_ = article.split(\"_\")\n",
        "    if genre not in coha_genres:\n",
        "        coha_genres[genre] = []\n",
        "    if genre in coha_genres:\n",
        "        coha_genres[genre].append(coha_texts[article])\n",
        "    \n",
        "    if year not in coha_years:\n",
        "        coha_years[year] = []\n",
        "    if year in coha_years:\n",
        "        coha_years[year].append(coha_texts[article])"
      ]
    },
    {
      "cell_type": "code",
      "execution_count": null,
      "metadata": {
        "id": "hEyJoJkCmKh7"
      },
      "outputs": [],
      "source": [
        "#@title\n",
        "coha_genres.keys()"
      ]
    },
    {
      "cell_type": "code",
      "execution_count": null,
      "metadata": {
        "id": "UvwPhj26mKh7"
      },
      "outputs": [],
      "source": [
        "#@title\n",
        "coha_years.keys()"
      ]
    },
    {
      "cell_type": "markdown",
      "metadata": {
        "id": "itonYvw5mKh7"
      },
      "source": [
        "That's neat: we have 4 genres and 200 years. We have to now decide how many time slices we want. Let us see how the corpus is distributed.\n",
        "\n",
        "If you went through the tutorial, you would notice how we would need to arrange the corpora year wise.\n",
        "We also have to arrange the number of topics per year."
      ]
    },
    {
      "cell_type": "code",
      "execution_count": null,
      "metadata": {
        "collapsed": true,
        "id": "m5hm5ICQmKh7"
      },
      "outputs": [],
      "source": [
        "#@title\n",
        "import collections"
      ]
    },
    {
      "cell_type": "code",
      "execution_count": null,
      "metadata": {
        "collapsed": true,
        "id": "eDJnvEmImKh7"
      },
      "outputs": [],
      "source": [
        "#@title\n",
        "years = []\n",
        "year_lens = []"
      ]
    },
    {
      "cell_type": "code",
      "execution_count": null,
      "metadata": {
        "collapsed": true,
        "id": "DCGmUIZ_mKh7"
      },
      "outputs": [],
      "source": [
        "#@title\n",
        "for year_info in collections.OrderedDict(sorted(coha_years.items())):\n",
        "    years.append(year_info)\n",
        "    year_lens.append(len((coha_years[year_info])))"
      ]
    },
    {
      "cell_type": "code",
      "execution_count": null,
      "metadata": {
        "id": "wdCK89KDmKh7"
      },
      "outputs": [],
      "source": [
        "#@title\n",
        "years[0], years[-1]"
      ]
    },
    {
      "cell_type": "code",
      "execution_count": null,
      "metadata": {
        "id": "uiFkS5anmKh7"
      },
      "outputs": [],
      "source": [
        "#@title\n",
        "import matplotlib.pyplot as plt\n",
        "plt.plot(years, year_lens)"
      ]
    },
    {
      "cell_type": "markdown",
      "metadata": {
        "id": "Ms8I52TImKh7"
      },
      "source": [
        "The X axis isn't legible, but you can get the point: there are far less articles in the beginning, and then it grows. Maybe in our 5 time slices, we do: 1810-1880, 1881-1913, 1914-1950, 1950-1990, 1990-2009?\n",
        "I use some historical intuition to use these time periods, you are encouraged to try your different time slices (for e.g, 20 10 year periods, 10 20 year periods, by total number of papers, etc)"
      ]
    },
    {
      "cell_type": "code",
      "execution_count": null,
      "metadata": {
        "collapsed": true,
        "id": "Ucwrv2AmmKh7"
      },
      "outputs": [],
      "source": [
        "#@title\n",
        "all_texts_coha = []\n",
        "docs_per_timeslice = [0, 0, 0, 0, 0]\n",
        "i = 0"
      ]
    },
    {
      "cell_type": "code",
      "execution_count": null,
      "metadata": {
        "collapsed": true,
        "id": "jqUt8Z0EmKh7"
      },
      "outputs": [],
      "source": [
        "#@title\n",
        "for year_info in collections.OrderedDict(sorted(coha_years.items())):\n",
        "    large_files = 0\n",
        "    for article in coha_years[year_info]:\n",
        "        try:\n",
        "            if len(article[2]) < 1500000:\n",
        "                all_texts_coha.append(lucem_illud.normalizeTokens(article[2].decode(\"utf-8\")))\n",
        "            if len(article[2]) >= 1500000:\n",
        "                large_files += 1\n",
        "        except IndexError:\n",
        "            continue\n",
        "    # these numbers are the number of years in the \n",
        "    if i < 70:\n",
        "        docs_per_year[0] += len(coha_years[year_info]) - large_files\n",
        "    if i >= 70 and i < 103:\n",
        "        docs_per_year[1] += len(coha_years[year_info]) - large_files\n",
        "    if i >= 103 and i < 140:\n",
        "        docs_per_year[2] += len(coha_years[year_info]) - large_files\n",
        "    if i >= 140 and i < 180:\n",
        "        docs_per_year[3] += len(coha_years[year_info]) - large_files\n",
        "    if i >= 180:\n",
        "        docs_per_year[4] += len(coha_years[year_info]) - large_files\n",
        "    i += 1"
      ]
    },
    {
      "cell_type": "markdown",
      "metadata": {
        "id": "GAHc3ts6mKh8"
      },
      "source": [
        "#### Smaller Corpora\n",
        "\n",
        "The original size of the corpus is wayyy too big for our laptops. Let us demo this with a smaller size. You are welcome to try different sizes until you get the size you would like.\n",
        "I am using a 100 documents per time slice for this example."
      ]
    },
    {
      "cell_type": "code",
      "execution_count": null,
      "metadata": {
        "collapsed": true,
        "id": "u3E8_D5_mKh8"
      },
      "outputs": [],
      "source": [
        "#@title\n",
        "def choose_n(corpus, time_slices, nums=100):\n",
        "    new_corpus = corpus[0:nums]\n",
        "    for time_slice in time_slices[:-1]:\n",
        "        new_corpus = new_corpus + corpus[time_slice:time_slice+nums]\n",
        "    return new_corpus"
      ]
    },
    {
      "cell_type": "markdown",
      "metadata": {
        "id": "xLDT3UaxmKh8"
      },
      "source": [
        "Now, COHA also has some really large files, full books and the like: we're going to now split up really large files such that each of the documents are only 1000 tokens long. This function will return a split up document and the number of files it has been split into, so we can accordingly adjust the documents per time slice, which is important for Dynamic Topic Modelling to work."
      ]
    },
    {
      "cell_type": "code",
      "execution_count": null,
      "metadata": {
        "collapsed": true,
        "id": "K1rwsCjfmKh8"
      },
      "outputs": [],
      "source": [
        "#@title\n",
        "def split_up(document, doc_size=1000):\n",
        "    new_docs = [document[i:i + doc_size] for i in range(0, len(document), doc_size)]\n",
        "    return(new_docs, len(new_docs))"
      ]
    },
    {
      "cell_type": "code",
      "execution_count": null,
      "metadata": {
        "collapsed": true,
        "id": "yjT3Z10pmKh8"
      },
      "outputs": [],
      "source": [
        "#@title\n",
        "small_corpus = choose_n(all_texts_coha, docs_per_year, nums=100)"
      ]
    },
    {
      "cell_type": "code",
      "execution_count": null,
      "metadata": {
        "collapsed": true,
        "id": "a1N-6p4vmKh8"
      },
      "outputs": [],
      "source": [
        "#@title\n",
        "final_corpus= []"
      ]
    },
    {
      "cell_type": "code",
      "execution_count": null,
      "metadata": {
        "collapsed": true,
        "id": "RQFkCe7EmKh8"
      },
      "outputs": [],
      "source": [
        "#@title\n",
        "docs_per_time_slice = [0, 0, 0, 0, 0]"
      ]
    },
    {
      "cell_type": "markdown",
      "metadata": {
        "id": "4IP01lHxmKh8"
      },
      "source": [
        "I now use the split method to create my final corpus. Note that I hardcode values for the time slice to figure out the number of documets per time slice. Now I have a representative number of documents in each time slice. "
      ]
    },
    {
      "cell_type": "code",
      "execution_count": null,
      "metadata": {
        "collapsed": true,
        "id": "dsTZZm8LmKh8"
      },
      "outputs": [],
      "source": [
        "#@title\n",
        "for i, article in enumerate(small_corpus):\n",
        "    # identify time slice based on article number \n",
        "    if i < 100:\n",
        "        time = 0\n",
        "    if i > 100 and i <= 200:\n",
        "        time = 1\n",
        "    if i > 200 and i <= 300:\n",
        "        time = 2\n",
        "    if i > 300 and i <= 400:\n",
        "        time = 3\n",
        "    if i > 400 and i <= 500:\n",
        "        time = 4\n",
        "        \n",
        "    if len(article) > 1000:\n",
        "        split_docs, no_docs = split_up(article)\n",
        "        for doc in split_docs:\n",
        "            final_corpus.append(doc)\n",
        "        docs_per_time_slice[time] += no_docs\n",
        "    else:\n",
        "        final_corpus.append(article)\n",
        "        docs_per_time_slice[time] += 1\n",
        "    # just a check if the counts are correctly added\n",
        "    if np.sum(docs_per_time_slice) != len(final_corpus):\n",
        "        print(np.sum(docs_per_time_slice), len(final_corpus))"
      ]
    },
    {
      "cell_type": "code",
      "execution_count": null,
      "metadata": {
        "collapsed": true,
        "id": "UzzIiTESmKh9"
      },
      "outputs": [],
      "source": [
        "#@title\n",
        "dictionary = gensim.corpora.Dictionary(final_corpus)"
      ]
    },
    {
      "cell_type": "code",
      "execution_count": null,
      "metadata": {
        "collapsed": true,
        "id": "elnopQQkmKh9"
      },
      "outputs": [],
      "source": [
        "#@title\n",
        "corpus = [dictionary.doc2bow(text) for text in final_corpus]"
      ]
    },
    {
      "cell_type": "code",
      "execution_count": null,
      "metadata": {
        "collapsed": true,
        "id": "_RPz8U3JmKh9"
      },
      "outputs": [],
      "source": [
        "#@title\n",
        "gensim.corpora.MmCorpus.serialize('coha.mm', corpus)\n",
        "cohacorpus = gensim.corpora.MmCorpus('coha.mm')"
      ]
    },
    {
      "cell_type": "code",
      "execution_count": null,
      "metadata": {
        "collapsed": true,
        "id": "jcUVeDr2mKh9"
      },
      "outputs": [],
      "source": [
        "#@title\n",
        "from gensim.models import ldaseqmodel"
      ]
    },
    {
      "cell_type": "code",
      "execution_count": null,
      "metadata": {
        "id": "m_xloT0QmKh9"
      },
      "outputs": [],
      "source": [
        "#@title\n",
        "ldaseq = ldaseqmodel.LdaSeqModel(corpus=corpus, id2word=dictionary, time_slice=docs_per_time_slice, num_topics=4)"
      ]
    },
    {
      "cell_type": "code",
      "execution_count": null,
      "metadata": {
        "id": "rwF2DZr8mKh9"
      },
      "outputs": [],
      "source": [
        "#@title\n",
        "ldaseq.print_topics(time=0)[1]"
      ]
    },
    {
      "cell_type": "code",
      "execution_count": null,
      "metadata": {
        "id": "xuNQh6NtmKh9"
      },
      "outputs": [],
      "source": [
        "#@title\n",
        "ldaseq.print_topics(time=4)[1]"
      ]
    },
    {
      "cell_type": "markdown",
      "metadata": {
        "id": "2Rgq5LKYmKh9"
      },
      "source": [
        "What can you see from the analysis? I encourage you to explore the tutorial and see what else you can do with this dataset. In the above model I can see how the topic related to state evolves slowly, with the word president not previously there coming into the topic. I will now save this model and also upload it on GitHub so that you can see how it works. Note that the Dynamic Topic Model is a very time consuming algorithm: you might want to start a run overnight if you intend on using it in your analysis."
      ]
    },
    {
      "cell_type": "code",
      "execution_count": null,
      "metadata": {
        "collapsed": true,
        "id": "P9RUR5qpmKh9"
      },
      "outputs": [],
      "source": [
        "#@title\n",
        "ldaseq.save(\"ldaseqmodel\")"
      ]
    },
    {
      "cell_type": "code",
      "execution_count": null,
      "metadata": {
        "collapsed": true,
        "id": "RzsjexfUmKh9"
      },
      "outputs": [],
      "source": [
        "#@title\n",
        "loaded_model = ldaseqmodel.LdaSeqModel.load(\"ldaseqmodel\")"
      ]
    },
    {
      "cell_type": "markdown",
      "metadata": {
        "id": "QN5zsBlTmKh9"
      },
      "source": [
        "For future research, you can also consider the Structural Topic Model (STM), which can integrate any covariates (e.g., time, author, document length) into your topic model. Unfortunately there is not yet an implementation of this in Python, but there is a wonderful [R package](https://www.structuraltopicmodel.com/) authored by Molly Roberts, Brandon Stewart, and Dustin Tingley.\n",
        "\n",
        "Here are plate diagrams of LDA and STM, which may help you visualize the way STM adds covariates to the \"left\" and \"right\" of the standard LDA model.\n",
        "\n",
        "<img src=\"https://raw.githubusercontent.com/UChicago-Computational-Content-Analysis/Homework-Notebooks/main/week-3/img/lda_stm_plate_diagrams.jpg\" alt=\"https://raw.githubusercontent.com/UChicago-Computational-Content-Analysis/Homework-Notebooks/main/week-3/img/lda_stm_plate_diagrams.jpg\" style=\"width:500px\">"
      ]
    },
    {
      "cell_type": "markdown",
      "metadata": {
        "id": "g4GpZufrmKh-"
      },
      "source": [
        "\n",
        "\n",
        "## <font color=\"red\">*Exercise 4*</font>\n",
        "\n",
        "<font color=\"red\">Construct cells immediately below this that use dynamic topic models on datasets relevant to your final project. You can also extend the analysis of the COHA or Soap datasets, if relevant to the comparison of data for your projects. (You could possibly use coha_genres dictionary to conduct analysis on topic evolution for a particular genre? What themes do you see evolving throughout these corpora?)"
      ]
    }
  ],
  "metadata": {
    "anaconda-cloud": {},
    "kernelspec": {
      "display_name": "Python 3 (ipykernel)",
      "language": "python",
      "name": "python3"
    },
    "language_info": {
      "codemirror_mode": {
        "name": "ipython",
        "version": 3
      },
      "file_extension": ".py",
      "mimetype": "text/x-python",
      "name": "python",
      "nbconvert_exporter": "python",
      "pygments_lexer": "ipython3",
      "version": "3.9.7"
    },
    "colab": {
      "name": "3-Topic-Modeling-and-Clustering-Draft2.ipynb",
      "provenance": [],
      "collapsed_sections": [
        "ZXsiVTbAmKhn",
        "1VTQZnWRmKhr",
        "AcCwCs9omKhr",
        "tJ72zeOzmKhu",
        "-mmba8TmmKhv",
        "gk21zU1YmKhw",
        "uM6S_ltpmKhw",
        "syxNwikVgPH0",
        "jkjF1jmRmKh2",
        "YAy0eL63mKh2",
        "_GBkNEcfmKh6",
        "GAHc3ts6mKh8",
        "g4GpZufrmKh-"
      ]
    }
  },
  "nbformat": 4,
  "nbformat_minor": 0
}