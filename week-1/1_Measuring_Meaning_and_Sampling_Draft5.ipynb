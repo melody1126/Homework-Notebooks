{
  "cells": [
    {
      "cell_type": "markdown",
      "metadata": {
        "id": "JU1ThAa04KMB"
      },
      "source": [
        "# Week 1 - Measuring Meaning & Sampling\n",
        "This week, we begin by \"begging, borrowing and stealing\" text from several\n",
        "contexts of human communication (e.g., PDFs, HTML, Word) and preparing it for\n",
        "machines to \"read\" and analyze. This notebook outlines scraping text from the\n",
        "web, PDF and Word documents. Then we detail \"spidering\" or walking\n",
        "through hyperlinks to build samples of online content, and using APIs,\n",
        "Application Programming Interfaces, provided by webservices to access their\n",
        "content. Along the way, we will use regular expressions, outlined in the\n",
        "reading, to remove unwanted formatting and ornamentation. Finally, we discuss\n",
        "various text encodings, filtering and data structures in which text can be\n",
        "placed for analysis. Next, we ask you to begin building a corpus for preliminary analysis and articulate what your sample represents in context of your final project.\n",
        "\n",
        "If you are new to Google Colab, please take a look at [this brief introduction to the platform](https://colab.research.google.com/drive/1fV_2ZrdF-Vve8L7ZZAjanPS6tCh_HGnN). For each assignment on Colab, you should first click _File_ -> _Save a copy in Drive_ to create your own .ipynb file to submit. You will also need to run a cell like this if you are storing your data on Google Drive:"
      ]
    },
    {
      "cell_type": "code",
      "source": [
        "from google.colab import drive\n",
        "drive.mount(\"/content/drive\")"
      ],
      "metadata": {
        "id": "cG07PPAr5s2y"
      },
      "execution_count": null,
      "outputs": []
    },
    {
      "cell_type": "markdown",
      "metadata": {
        "id": "wsiychv-Omaw"
      },
      "source": [
        "We made a python package just for this course: lucem_illud. If you haven't installed this package, you should run the following code first. You don't need to install the package later; all you need to do is just to import the package with: import lucem_illud. For your final projects, you may find it useful to [read the lucem_illud source code](https://github.com/UChicago-Computational-Content-Analysis/lucem_illud/tree/main/lucem_illud) and modify your code for your own interests."
      ]
    },
    {
      "cell_type": "code",
      "execution_count": null,
      "metadata": {
        "id": "E5HYvEJeOmax"
      },
      "outputs": [],
      "source": [
        "!pip install git+git://github.com/UChicago-Computational-Content-Analysis/lucem_illud.git\n",
        "#installing lucem_illud package\n",
        "#lucem_illud is a Latin phrase meaning \"that light\", the insight we can discover in text data!\n",
        "#If you get an error like \"Access is denied\", try running the `pip` command on the command line as an administrator."
      ]
    },
    {
      "cell_type": "markdown",
      "metadata": {
        "id": "gml7JVVdOmaz"
      },
      "source": [
        "If you're not familiar with jupyter notebook, you may wonder what the exclamation mark(!) at the beginning of the command does (or even what pip means). The exclamation mark enables us to execute Terminal commands in the notebook cells (e.g., run `!ls` to display files in the current folder).\n",
        "\n",
        "For this notebook we will be using the following packages:"
      ]
    },
    {
      "cell_type": "code",
      "execution_count": null,
      "metadata": {
        "id": "O8EOGoXbOma0"
      },
      "outputs": [],
      "source": [
        "#Special module written for this class\n",
        "#This provides access to data and to helper functions from previous weeks\n",
        "import lucem_illud #pip install git+git://github.com/UChicago-Computational-Content-Analysis/lucem_illud.git\n",
        "\n",
        "#All these packages need to be installed from pip\n",
        "import requests #for http requests\n",
        "import bs4 #called `beautifulsoup4`, an html parser\n",
        "import pandas #gives us DataFrames\n",
        "import docx #reading MS doc files, install as `python-docx`\n",
        "\n",
        "#Stuff for pdfs\n",
        "#Install as `pdfminer2`\n",
        "import pdfminer.pdfinterp\n",
        "import pdfminer.converter\n",
        "import pdfminer.layout\n",
        "import pdfminer.pdfpage\n",
        "\n",
        "#These come with Python\n",
        "import re #for regexs\n",
        "import urllib.parse #For joining urls\n",
        "import io #for making http requests look like files\n",
        "import json #For Tumblr API responses\n",
        "import os.path #For checking if files exist\n",
        "import os #For making directories"
      ]
    },
    {
      "cell_type": "markdown",
      "metadata": {
        "id": "1FBeOb62Oma1"
      },
      "source": [
        "We will also be working on the following files/urls"
      ]
    },
    {
      "cell_type": "code",
      "execution_count": null,
      "metadata": {
        "id": "FCg_QdR7Oma2"
      },
      "outputs": [],
      "source": [
        "wikipedia_base_url = 'https://en.wikipedia.org'\n",
        "wikipedia_content_analysis = 'https://en.wikipedia.org/wiki/Content_analysis'\n",
        "content_analysis_save = 'wikipedia_content_analysis.html'\n",
        "example_text_file = 'sometextfile.txt'\n",
        "information_extraction_pdf = 'https://github.com/Computational-Content-Analysis-2018/Data-Files/raw/master/1-intro/Content%20Analysis%2018.pdf'\n",
        "example_docx = 'https://github.com/Computational-Content-Analysis-2018/Data-Files/raw/master/1-intro/macs6000_connecting_to_midway.docx'\n",
        "example_docx_save = 'example.docx'"
      ]
    },
    {
      "cell_type": "markdown",
      "metadata": {
        "id": "bZM9Pw3lOma3"
      },
      "source": [
        "# Scraping\n",
        "\n",
        "Before we can start analyzing content we need to obtain it. Sometimes it will be\n",
        "provided to us from a pre-curated text archive, but sometimes we will need to\n",
        "download it. As a starting example we will attempt to download the wikipedia\n",
        "page on content analysis. The page is located at [https://en.wikipedia.org/wiki/Content_analysis](https://en.wikipedia.org/wiki/Content_analysis) so lets start\n",
        "with that.\n",
        "\n",
        "We can do this by making an HTTP GET request to that url, a GET request is\n",
        "simply a **request to the server** to **provide the contents given by some url**. The\n",
        "other request we will be using in this class is called a POST request and\n",
        "**requests the server to take some content we provide**. While the Python standard\n",
        "library does have the ability do make GET requests we will be using the\n",
        "[_requests_](http://docs.python-requests.org/en/master/) package as it is _'the\n",
        "only Non-GMO HTTP library for Python'_...also it provides a nicer interface."
      ]
    },
    {
      "cell_type": "code",
      "execution_count": null,
      "metadata": {
        "id": "hhzQ0oNBOma4",
        "colab": {
          "base_uri": "https://localhost:8080/"
        },
        "outputId": "2dcbd5bc-707e-45b5-f26b-789b5f3e4947"
      },
      "outputs": [
        {
          "output_type": "execute_result",
          "data": {
            "text/plain": [
              "<Response [200]>"
            ]
          },
          "metadata": {},
          "execution_count": 7
        }
      ],
      "source": [
        "#request the server to get the content from the url\n",
        "\n",
        "wikipedia_content_analysis = 'https://en.wikipedia.org/wiki/Content_analysis'\n",
        "requests.get(wikipedia_content_analysis)"
      ]
    },
    {
      "cell_type": "markdown",
      "metadata": {
        "id": "OBLNFuYqOma5"
      },
      "source": [
        "`'Response [200]'` means the server responded with what we asked for. If you get\n",
        "another number (e.g. 404) it likely means there was some kind of error, these\n",
        "codes are called HTTP response codes and a list of them can be found\n",
        "[here](https://en.wikipedia.org/wiki/List_of_HTTP_status_codes). The response\n",
        "object contains all the data the server sent including the website's contents\n",
        "and the HTTP header. We are interested in the contents which we can access with\n",
        "the `.text` attribute."
      ]
    },
    {
      "cell_type": "code",
      "execution_count": null,
      "metadata": {
        "id": "0MX6yy-GOma6",
        "colab": {
          "base_uri": "https://localhost:8080/"
        },
        "outputId": "cf424203-acde-433b-aa21-04ba3c475fd4"
      },
      "outputs": [
        {
          "output_type": "stream",
          "name": "stdout",
          "text": [
            "<!DOCTYPE html>\n",
            "<html class=\"client-nojs\" lang=\"en\" dir=\"ltr\">\n",
            "<head>\n",
            "<meta charset=\"UTF-8\"/>\n",
            "<title>Content analysis - Wikipedia</title>\n",
            "<script>document.documentElement.className=\"client-js\";RLCONF={\"wgBreakFrames\":false,\"wgSeparatorTransformTable\":[\"\",\"\"],\"wgDigitTransformTable\":[\"\",\"\"],\"wgDefaultDateFormat\":\"dmy\",\"wgMonthNames\":[\"\",\"January\",\"February\",\"March\",\"April\",\"May\",\"June\",\"July\",\"August\",\"September\",\"October\",\"November\",\"December\"],\"wgRequestId\":\"b9c8e081-21c4-4a67-9388-86a3e0c195e4\",\"wgCSPNonce\":false,\"wgCanonicalNamespace\":\"\",\"wgCanonicalSpecialPageName\":false,\"wgNamespaceNumber\":0,\"wgPageName\":\"Content_analysis\",\"wgTitle\":\"Content analysis\",\"wgCurRevisionId\":1065940520,\"wgRevisionId\":1065940520,\"wgArticleId\":473317,\"wgIsArticle\":true,\"wgIsRedirect\":false,\"wgAction\":\"view\",\"wgUserName\":null,\"wgUserGroups\":[\"*\"],\"wgCategories\":[\"Articles with short description\",\"Short description matches Wikidata\",\"Articles prone to spam from October 2017\",\"Articles with BNE identifiers\",\n"
          ]
        }
      ],
      "source": [
        "#storing what we get from wikipedia url as a new variable, wikiContentRequest\n",
        "\n",
        "wikiContentRequest = requests.get(wikipedia_content_analysis)\n",
        "print(wikiContentRequest.text[:1000])"
      ]
    },
    {
      "cell_type": "markdown",
      "metadata": {
        "id": "v476yylWOma6"
      },
      "source": [
        "This is not what we were looking for, because it is the start of the HTML that\n",
        "makes up the website. This is HTML and is meant to be read by computers. Luckily\n",
        "we have a computer to parse it for us. To do the parsing we will use [_Beautiful\n",
        "Soup_](https://www.crummy.com/software/BeautifulSoup/) which is a better parser\n",
        "than the one in the standard library."
      ]
    },
    {
      "cell_type": "markdown",
      "metadata": {
        "id": "sKsCntAsOma7"
      },
      "source": [
        "But before we proceed to Beautiful Soup, a digression about Python syntax, especially about objects and functions.\n",
        "For those who are not familiar with the syntax of python (or, if you're familiar with R programming), you might wonder what requests.get or wikiContentRequest.text mean. To understand this, you need to first understand what objects are. You may have heard that Python is an object oriented programming language (unlike the procedure oriented programming language, an example of which is R). Object is a set of variables (or, data) and functions into which you pass your data. So, in object oriented programming languages, like python, variables and functions are bunleded into objects.\n",
        "\n",
        "For example, let's look at wikiContentRequest. We use dir() function, which **returns the list of attributes and functions of objects**."
      ]
    },
    {
      "cell_type": "code",
      "execution_count": null,
      "metadata": {
        "id": "bFWJZHqhOma7"
      },
      "outputs": [],
      "source": [
        " dir(wikiContentRequest)"
      ]
    },
    {
      "cell_type": "markdown",
      "metadata": {
        "id": "N2i8w-JwOma8"
      },
      "source": [
        "There's 'text' here. We used 'wikiContentRequest.text' to access 'text.' In other words, we use .(dot notation) to access functions from objects. wikiContentRequest has a set of functions, as shown above, and we used 'wikiContentRequest.text' to access one of them. By the way, dot notations do not necessarily refer to functions--it **refers to anything that the entity contains**. \n",
        "\n"
      ]
    },
    {
      "cell_type": "markdown",
      "metadata": {
        "id": "3heEYqz3Oma8"
      },
      "source": [
        "Moving on to the next step: BeautifulSoup, a Python library which extracts data from HTML and XML, and transforms HTML files into Python objects."
      ]
    },
    {
      "cell_type": "code",
      "execution_count": null,
      "metadata": {
        "id": "q9aPjhBQOma8",
        "colab": {
          "base_uri": "https://localhost:8080/"
        },
        "outputId": "40a0d918-db24-4718-88dc-af2afe695a5c"
      },
      "outputs": [
        {
          "output_type": "stream",
          "name": "stdout",
          "text": [
            "\n",
            "\n",
            "\n",
            "\n",
            "Content analysis - Wikipedia\n",
            "document.documentElement.className=\"client-js\";RLCONF={\"wgBreakFrames\":false,\"wgSeparatorTransformTable\":[\"\",\"\"],\"wgDigitTransformTable\":[\"\",\"\"],\"wgDefaultDateFormat\":\n"
          ]
        }
      ],
      "source": [
        "# calling BeautifulSoup function on the only TEXT from HTML content of wikipedia page, which we used requests.get() to obtain from webpage\n",
        "\n",
        "wikiContentSoup = bs4.BeautifulSoup(wikiContentRequest.text, 'html.parser')\n",
        "print(wikiContentSoup.text[:200])"
      ]
    },
    {
      "cell_type": "markdown",
      "metadata": {
        "id": "x3nSYukpOma9"
      },
      "source": [
        "This is better but there's still random whitespace and we have more than just\n",
        "the text of the article. This is because what we requested is the whole webpage,\n",
        "not just the text for the article.\n",
        "\n",
        "We want to extract only the text we care about, and in order to do this we will\n",
        "need to inspect the html. One way to do this is simply to go to the website with\n",
        "a browser and use its inspection or view source tool. If javascript or other\n",
        "dynamic loading occurs on the page, however, it is likely that what Python\n",
        "receives is not what you will see, so we will need to inspect what Python\n",
        "receives. To do this we can save the html `requests` obtained."
      ]
    },
    {
      "cell_type": "code",
      "source": [
        "dir(wikipedia_content_analysis)\n",
        "#??what does 'wikipedia_content_analysis.html' do?? There is no html when calling dir() on the variable"
      ],
      "metadata": {
        "id": "vbttLHxXvm3t"
      },
      "execution_count": null,
      "outputs": []
    },
    {
      "cell_type": "code",
      "execution_count": null,
      "metadata": {
        "id": "ZcLAorw7Oma9"
      },
      "outputs": [],
      "source": [
        "# as we open the wikipedia page, write in an empty file the text we get from the wikipedia page\n",
        "#reminder: webpage – wikipedia_content_analysis = 'https://en.wikipedia.org/wiki/Content_analysis'\n",
        "#reminder: ??HTML?? – content_analysis_save = 'wikipedia_content_analysis.html'\n",
        "#reminder: info extracted from webpage – wikiContentRequest = requests.get(wikipedia_content_analysis)\n",
        "\n",
        "content_analysis_save = 'wikipedia_content_analysis.html'\n",
        "\n",
        "with open(content_analysis_save, mode='w', encoding='utf-8') as f:\n",
        "    f.write(wikiContentRequest.text)"
      ]
    },
    {
      "cell_type": "markdown",
      "metadata": {
        "id": "I7zi62goOma9"
      },
      "source": [
        "open() is a function which literally opens and returns the file. This function has multiple modes, and, here, we used mode as 'w', which means: open a file for writing. And then, we use 'write' function to write on the empty file (content_analysis_save) that we created using open(content_analysis_save, mode='w', encoding='utf-8').} What did we write on this file? The text we got from wikiContentRequest.text"
      ]
    },
    {
      "cell_type": "markdown",
      "metadata": {
        "id": "z9-kcKydOma-"
      },
      "source": [
        "Now let's open the file (`wikipedia_content_analysis.html`) we just created with\n",
        "a web browser. It should look sort of like the original but without the images\n",
        "and formatting.\n",
        "\n",
        "As there is very little standardization on structuring webpages, figuring out\n",
        "how best to extract what you want is an art. Looking at this page it looks like\n",
        "all the main textual content is inside `<p>`(paragraph) tags within the `<body>`\n",
        "tag. "
      ]
    },
    {
      "cell_type": "code",
      "execution_count": null,
      "metadata": {
        "scrolled": true,
        "id": "UTiDo5jGOma-",
        "colab": {
          "base_uri": "https://localhost:8080/"
        },
        "outputId": "ec492e9d-c787-4671-ac59-93b93d443e1d"
      },
      "outputs": [
        {
          "output_type": "stream",
          "name": "stdout",
          "text": [
            "South Asia \n",
            "\n",
            "Middle East\n",
            "\n",
            "Europe\n",
            "\n"
          ]
        }
      ],
      "source": [
        "contentPTags = wikiContentSoup.body.findAll('p')\n",
        "for pTag in contentPTags[:3]:\n",
        "    print(pTag.text)\n",
        "  \n",
        "#contentPTags[:3] means getting line 1–3"
      ]
    },
    {
      "cell_type": "code",
      "source": [
        "dir(contentPTags)"
      ],
      "metadata": {
        "id": "7ugNCfJuagjY"
      },
      "execution_count": null,
      "outputs": []
    },
    {
      "cell_type": "markdown",
      "metadata": {
        "id": "K-HEFlXROma-"
      },
      "source": [
        "Another excursion for those who are not familiar with programming: for loop. For loop is used to iterate over a sequence. \"ContentPTags\" contains multiple paragraphs, each of which starts and ends with `<p>`. What the \"for pTag in contentPtags[:3]\" does here is: find each paragraph in contentPTags, which, here, we limited to the first three using contentPtags[:3], and then print each paragraph. So, we have three paragraphs. By the way, you can insert `<p>` in juputer notebook!"
      ]
    },
    {
      "cell_type": "markdown",
      "metadata": {
        "id": "P3WbGS2aOma_"
      },
      "source": [
        "We now have all the text from the page, split up by paragraph. If we wanted to\n",
        "get the section headers or references as well it would require a bit more work,\n",
        "but is doable.\n",
        "\n",
        "There is one more thing we might want to do before sending this text to be\n",
        "processed, remove the references indicators (`[2]`, `[3]` , etc). To do this we\n",
        "can use a short regular expression (regex)."
      ]
    },
    {
      "cell_type": "code",
      "execution_count": null,
      "metadata": {
        "id": "W1Km-YmsOma_",
        "colab": {
          "base_uri": "https://localhost:8080/"
        },
        "outputId": "4bcee4fc-0c5a-4127-b810-caba3cf6708c"
      },
      "outputs": [
        {
          "output_type": "stream",
          "name": "stdout",
          "text": [
            "                                       paragraph-text\n",
            "0                                       South Asia \\n\n",
            "1                                       Middle East\\n\n",
            "2                                            Europe\\n\n",
            "3                                     North America\\n\n",
            "4   Content analysis is the study of documents and...\n",
            "5   Practices and philosophies of content analysis...\n",
            "6   Computers are increasingly used in content ana...\n",
            "7   Content analysis is best understood as a broad...\n",
            "8   The simplest and most objective form of conten...\n",
            "9   A further step in analysis is the distinction ...\n",
            "10  Quantitative content analysis highlights frequ...\n",
            "11  Siegfried Kracauer provides a critique of quan...\n",
            "12  With the rise of common computing facilities l...\n",
            "13  By having contents of communication available ...\n",
            "14  Computer-assisted analysis can help with large...\n",
            "15  Robert Weber notes: \"To make valid inferences ...\n",
            "16  There are five types of texts in content analy...\n",
            "17  Content analysis is research using the categor...\n",
            "18  Over the years, content analysis has been appl...\n",
            "19  In recent times, particularly with the advent ...\n",
            "20  Quantitative content analysis has enjoyed a re...\n",
            "21  Content analysis can also be described as stud...\n",
            "22  Manifest content is readily understandable at ...\n",
            "23  Holsti groups fifteen uses of content analysis...\n",
            "24  He also places these uses into the context of ...\n",
            "25  The following table shows fifteen uses of cont...\n",
            "26  As a counterpoint, there are limits to the sco...\n",
            "27  The process of the initial coding scheme or ap...\n",
            "28  With either approach above, immersing oneself ...\n",
            "29                                                 \\n\n"
          ]
        }
      ],
      "source": [
        "contentParagraphs = []\n",
        "for pTag in contentPTags:\n",
        "    #strings starting with r are raw so their \\'s are not modifier characters\n",
        "    #If we didn't start with r the string would be: '\\\\[\\\\d+\\\\]'\n",
        "    contentParagraphs.append(re.sub(r'\\[\\d+\\]', '', pTag.text))\n",
        "\n",
        "#convert to a DataFrame\n",
        "contentParagraphsDF = pandas.DataFrame({'paragraph-text' : contentParagraphs})\n",
        "print(contentParagraphsDF)"
      ]
    },
    {
      "cell_type": "markdown",
      "metadata": {
        "id": "32iXyFviOma_"
      },
      "source": [
        "Since we learned how to do for loop, you might get what we did here: using contentParagraphs = [], we made an empty list; and then, for each paragraph in contentPTags, we substituted every [\\d+\\] with '', i.e., removed every [\\d+\\], and then appended each paragraph (now without [\\d+\\]) to the empty list. As we can see, we have a dataframe, each row of which is each paragraph of contentPTags, without reference indicators. \n",
        "\n",
        "By the way, what does [\\d+\\] mean? If you are not familiar with regex, it is a way of specifying searches in text.\n",
        "A regex engine takes in the search pattern, in the above case `'\\[\\d+\\]'` and\n",
        "some string, the paragraph texts. Then it reads the input string one character\n",
        "at a time checking if it matches the search. Here the regex `'\\d'` matches\n",
        "number characters (while `'\\['` and `'\\]'` capture the braces on either side)."
      ]
    },
    {
      "cell_type": "markdown",
      "metadata": {
        "id": "Ta624Xp-Oma_"
      },
      "source": [
        "Now we have a `DataFrame` containing all relevant text from the page ready to be processed"
      ]
    },
    {
      "cell_type": "code",
      "execution_count": null,
      "metadata": {
        "id": "aMRe7UEvOma_",
        "colab": {
          "base_uri": "https://localhost:8080/"
        },
        "outputId": "2ba809b4-2549-4a96-a9cf-5930714b121d"
      },
      "outputs": [
        {
          "output_type": "execute_result",
          "data": {
            "text/plain": [
              "<re.Match object; span=(36, 37), match='2'>"
            ]
          },
          "metadata": {},
          "execution_count": 26
        }
      ],
      "source": [
        "findNumber = r'\\d'\n",
        "regexResults = re.search(findNumber, 'not a number, not a number, numbers 2134567890, not a number')\n",
        "regexResults"
      ]
    },
    {
      "cell_type": "markdown",
      "metadata": {
        "id": "70nwprj2OmbA"
      },
      "source": [
        "In Python the regex package (`re`) usually returns `Match` objects (you can have\n",
        "multiple pattern hits in a a single `Match`), to get the string that matched our\n",
        "pattern we can use the `.group()` method, and as we want the first one we will\n",
        "ask for the 0'th group."
      ]
    },
    {
      "cell_type": "code",
      "execution_count": null,
      "metadata": {
        "id": "YPz34LJiOmbA",
        "colab": {
          "base_uri": "https://localhost:8080/"
        },
        "outputId": "d36f3180-4e21-4d05-aa14-1a05181fa760"
      },
      "outputs": [
        {
          "output_type": "stream",
          "name": "stdout",
          "text": [
            "2\n"
          ]
        }
      ],
      "source": [
        "print(regexResults.group(0))"
      ]
    },
    {
      "cell_type": "markdown",
      "metadata": {
        "id": "xu-YZGe4OmbA"
      },
      "source": [
        "That gives us the first number, if we wanted the whole block of numbers we can\n",
        "add a wildcard `'+'` which requests 1 or more instances of the preceding\n",
        "character."
      ]
    },
    {
      "cell_type": "code",
      "execution_count": null,
      "metadata": {
        "id": "stERg5HHOmbA",
        "colab": {
          "base_uri": "https://localhost:8080/"
        },
        "outputId": "95614d67-a3f5-44a9-dbfd-c5bf01eb2c78"
      },
      "outputs": [
        {
          "output_type": "stream",
          "name": "stdout",
          "text": [
            "2134567890\n"
          ]
        }
      ],
      "source": [
        "findNumbers = r'\\d+'\n",
        "regexResults = re.search(findNumbers, 'not a number, not a number, numbers 2134567890, not a number')\n",
        "print(regexResults.group(0))"
      ]
    },
    {
      "cell_type": "markdown",
      "metadata": {
        "id": "DczZWZWeOmbB"
      },
      "source": [
        "Now we have the whole block of numbers, there are a huge number of special\n",
        "characters in regex, for the full description of Python's implementation look at\n",
        "the [re docs](https://docs.python.org/3/library/re.html) there is also a short\n",
        "[tutorial](https://docs.python.org/3/howto/regex.html#regex-howto)."
      ]
    },
    {
      "cell_type": "markdown",
      "metadata": {
        "id": "vVTLl6J-OmbB"
      },
      "source": [
        "# <font color=\"red\">Exercise 1</font>\n",
        "<font color=\"red\">Construct cells immediately below this that describe and download webcontent relating to your anticipated final project. Use beautiful soup and at least five regular expressions to extract relevant, nontrivial *chunks* of that content (e.g., cleaned sentences, paragraphs, etc.) to a pandas `Dataframe`.</font>"
      ]
    },
    {
      "cell_type": "code",
      "source": [
        "from google.colab import drive\n",
        "drive.mount(\"/content/drive\")"
      ],
      "metadata": {
        "colab": {
          "base_uri": "https://localhost:8080/"
        },
        "id": "C66wxx2y57DZ",
        "outputId": "ef635e3d-1d17-426b-b691-ec69a87280a7"
      },
      "execution_count": 1,
      "outputs": [
        {
          "output_type": "stream",
          "name": "stdout",
          "text": [
            "Mounted at /content/drive\n"
          ]
        }
      ]
    },
    {
      "cell_type": "code",
      "source": [
        "!pip install git+git://github.com/UChicago-Computational-Content-Analysis/lucem_illud.git"
      ],
      "metadata": {
        "colab": {
          "base_uri": "https://localhost:8080/"
        },
        "id": "ajLUrGG96-Kq",
        "outputId": "592e7a83-1864-43a5-f147-feec33b2f0a1"
      },
      "execution_count": 2,
      "outputs": [
        {
          "output_type": "stream",
          "name": "stdout",
          "text": [
            "Collecting git+git://github.com/UChicago-Computational-Content-Analysis/lucem_illud.git\n",
            "  Cloning git://github.com/UChicago-Computational-Content-Analysis/lucem_illud.git to /tmp/pip-req-build-s31agnq9\n",
            "  Running command git clone -q git://github.com/UChicago-Computational-Content-Analysis/lucem_illud.git /tmp/pip-req-build-s31agnq9\n",
            "Requirement already satisfied: numpy in /usr/local/lib/python3.7/dist-packages (from lucem-illud==8.0.1) (1.19.5)\n",
            "Requirement already satisfied: requests in /usr/local/lib/python3.7/dist-packages (from lucem-illud==8.0.1) (2.23.0)\n",
            "Requirement already satisfied: pandas in /usr/local/lib/python3.7/dist-packages (from lucem-illud==8.0.1) (1.1.5)\n",
            "Collecting python-docx\n",
            "  Downloading python-docx-0.8.11.tar.gz (5.6 MB)\n",
            "\u001b[K     |████████████████████████████████| 5.6 MB 4.9 MB/s \n",
            "\u001b[?25hRequirement already satisfied: pillow in /usr/local/lib/python3.7/dist-packages (from lucem-illud==8.0.1) (7.1.2)\n",
            "Collecting pdfminer2\n",
            "  Downloading pdfminer2-20151206-py2.py3-none-any.whl (117 kB)\n",
            "\u001b[K     |████████████████████████████████| 117 kB 60.6 MB/s \n",
            "\u001b[?25hCollecting GitPython\n",
            "  Downloading GitPython-3.1.26-py3-none-any.whl (180 kB)\n",
            "\u001b[K     |████████████████████████████████| 180 kB 68.6 MB/s \n",
            "\u001b[?25hRequirement already satisfied: wordcloud in /usr/local/lib/python3.7/dist-packages (from lucem-illud==8.0.1) (1.5.0)\n",
            "Requirement already satisfied: scipy in /usr/local/lib/python3.7/dist-packages (from lucem-illud==8.0.1) (1.4.1)\n",
            "Requirement already satisfied: seaborn in /usr/local/lib/python3.7/dist-packages (from lucem-illud==8.0.1) (0.11.2)\n",
            "Requirement already satisfied: scikit-learn in /usr/local/lib/python3.7/dist-packages (from lucem-illud==8.0.1) (1.0.2)\n",
            "Requirement already satisfied: nltk in /usr/local/lib/python3.7/dist-packages (from lucem-illud==8.0.1) (3.2.5)\n",
            "Requirement already satisfied: gensim in /usr/local/lib/python3.7/dist-packages (from lucem-illud==8.0.1) (3.6.0)\n",
            "Requirement already satisfied: matplotlib in /usr/local/lib/python3.7/dist-packages (from lucem-illud==8.0.1) (3.2.2)\n",
            "Collecting pyanno3\n",
            "  Downloading pyanno3-2.0.2.tar.gz (76 kB)\n",
            "\u001b[K     |████████████████████████████████| 76 kB 4.7 MB/s \n",
            "\u001b[?25hRequirement already satisfied: beautifulsoup4 in /usr/local/lib/python3.7/dist-packages (from lucem-illud==8.0.1) (4.6.3)\n",
            "Requirement already satisfied: graphviz in /usr/local/lib/python3.7/dist-packages (from lucem-illud==8.0.1) (0.10.1)\n",
            "Collecting boto3\n",
            "  Downloading boto3-1.20.39-py3-none-any.whl (131 kB)\n",
            "\u001b[K     |████████████████████████████████| 131 kB 71.7 MB/s \n",
            "\u001b[?25hRequirement already satisfied: networkx in /usr/local/lib/python3.7/dist-packages (from lucem-illud==8.0.1) (2.6.3)\n",
            "Collecting pydub\n",
            "  Downloading pydub-0.25.1-py2.py3-none-any.whl (32 kB)\n",
            "Collecting speechrecognition\n",
            "  Downloading SpeechRecognition-3.8.1-py2.py3-none-any.whl (32.8 MB)\n",
            "\u001b[K     |████████████████████████████████| 32.8 MB 1.3 MB/s \n",
            "\u001b[?25hCollecting pysoundfile\n",
            "  Downloading PySoundFile-0.9.0.post1-py2.py3-none-any.whl (24 kB)\n",
            "Requirement already satisfied: scikit-image in /usr/local/lib/python3.7/dist-packages (from lucem-illud==8.0.1) (0.18.3)\n",
            "Requirement already satisfied: IPython in /usr/local/lib/python3.7/dist-packages (from lucem-illud==8.0.1) (5.5.0)\n",
            "Requirement already satisfied: spacy in /usr/local/lib/python3.7/dist-packages (from lucem-illud==8.0.1) (2.2.4)\n",
            "Collecting jmespath<1.0.0,>=0.7.1\n",
            "  Downloading jmespath-0.10.0-py2.py3-none-any.whl (24 kB)\n",
            "Collecting s3transfer<0.6.0,>=0.5.0\n",
            "  Downloading s3transfer-0.5.0-py3-none-any.whl (79 kB)\n",
            "\u001b[K     |████████████████████████████████| 79 kB 7.1 MB/s \n",
            "\u001b[?25hCollecting botocore<1.24.0,>=1.23.39\n",
            "  Downloading botocore-1.23.39-py3-none-any.whl (8.5 MB)\n",
            "\u001b[K     |████████████████████████████████| 8.5 MB 67.7 MB/s \n",
            "\u001b[?25hCollecting urllib3<1.27,>=1.25.4\n",
            "  Downloading urllib3-1.26.8-py2.py3-none-any.whl (138 kB)\n",
            "\u001b[K     |████████████████████████████████| 138 kB 65.1 MB/s \n",
            "\u001b[?25hRequirement already satisfied: python-dateutil<3.0.0,>=2.1 in /usr/local/lib/python3.7/dist-packages (from botocore<1.24.0,>=1.23.39->boto3->lucem-illud==8.0.1) (2.8.2)\n",
            "Requirement already satisfied: six>=1.5 in /usr/local/lib/python3.7/dist-packages (from python-dateutil<3.0.0,>=2.1->botocore<1.24.0,>=1.23.39->boto3->lucem-illud==8.0.1) (1.15.0)\n",
            "Requirement already satisfied: smart-open>=1.2.1 in /usr/local/lib/python3.7/dist-packages (from gensim->lucem-illud==8.0.1) (5.2.1)\n",
            "Requirement already satisfied: typing-extensions>=3.7.4.3 in /usr/local/lib/python3.7/dist-packages (from GitPython->lucem-illud==8.0.1) (3.10.0.2)\n",
            "Collecting gitdb<5,>=4.0.1\n",
            "  Downloading gitdb-4.0.9-py3-none-any.whl (63 kB)\n",
            "\u001b[K     |████████████████████████████████| 63 kB 1.4 MB/s \n",
            "\u001b[?25hCollecting smmap<6,>=3.0.1\n",
            "  Downloading smmap-5.0.0-py3-none-any.whl (24 kB)\n",
            "Requirement already satisfied: simplegeneric>0.8 in /usr/local/lib/python3.7/dist-packages (from IPython->lucem-illud==8.0.1) (0.8.1)\n",
            "Requirement already satisfied: pygments in /usr/local/lib/python3.7/dist-packages (from IPython->lucem-illud==8.0.1) (2.6.1)\n",
            "Requirement already satisfied: traitlets>=4.2 in /usr/local/lib/python3.7/dist-packages (from IPython->lucem-illud==8.0.1) (5.1.1)\n",
            "Requirement already satisfied: pickleshare in /usr/local/lib/python3.7/dist-packages (from IPython->lucem-illud==8.0.1) (0.7.5)\n",
            "Requirement already satisfied: setuptools>=18.5 in /usr/local/lib/python3.7/dist-packages (from IPython->lucem-illud==8.0.1) (57.4.0)\n",
            "Requirement already satisfied: pexpect in /usr/local/lib/python3.7/dist-packages (from IPython->lucem-illud==8.0.1) (4.8.0)\n",
            "Requirement already satisfied: decorator in /usr/local/lib/python3.7/dist-packages (from IPython->lucem-illud==8.0.1) (4.4.2)\n",
            "Requirement already satisfied: prompt-toolkit<2.0.0,>=1.0.4 in /usr/local/lib/python3.7/dist-packages (from IPython->lucem-illud==8.0.1) (1.0.18)\n",
            "Requirement already satisfied: wcwidth in /usr/local/lib/python3.7/dist-packages (from prompt-toolkit<2.0.0,>=1.0.4->IPython->lucem-illud==8.0.1) (0.2.5)\n",
            "Requirement already satisfied: kiwisolver>=1.0.1 in /usr/local/lib/python3.7/dist-packages (from matplotlib->lucem-illud==8.0.1) (1.3.2)\n",
            "Requirement already satisfied: cycler>=0.10 in /usr/local/lib/python3.7/dist-packages (from matplotlib->lucem-illud==8.0.1) (0.11.0)\n",
            "Requirement already satisfied: pyparsing!=2.0.4,!=2.1.2,!=2.1.6,>=2.0.1 in /usr/local/lib/python3.7/dist-packages (from matplotlib->lucem-illud==8.0.1) (3.0.6)\n",
            "Requirement already satisfied: pytz>=2017.2 in /usr/local/lib/python3.7/dist-packages (from pandas->lucem-illud==8.0.1) (2018.9)\n",
            "Requirement already satisfied: ptyprocess>=0.5 in /usr/local/lib/python3.7/dist-packages (from pexpect->IPython->lucem-illud==8.0.1) (0.7.0)\n",
            "Collecting traits\n",
            "  Downloading traits-6.3.2-cp37-cp37m-manylinux_2_5_x86_64.manylinux1_x86_64.manylinux_2_12_x86_64.manylinux2010_x86_64.whl (5.1 MB)\n",
            "\u001b[K     |████████████████████████████████| 5.1 MB 63.1 MB/s \n",
            "\u001b[?25hRequirement already satisfied: cffi>=0.6 in /usr/local/lib/python3.7/dist-packages (from pysoundfile->lucem-illud==8.0.1) (1.15.0)\n",
            "Requirement already satisfied: pycparser in /usr/local/lib/python3.7/dist-packages (from cffi>=0.6->pysoundfile->lucem-illud==8.0.1) (2.21)\n",
            "Requirement already satisfied: lxml>=2.3.2 in /usr/local/lib/python3.7/dist-packages (from python-docx->lucem-illud==8.0.1) (4.2.6)\n",
            "Requirement already satisfied: chardet<4,>=3.0.2 in /usr/local/lib/python3.7/dist-packages (from requests->lucem-illud==8.0.1) (3.0.4)\n",
            "Requirement already satisfied: idna<3,>=2.5 in /usr/local/lib/python3.7/dist-packages (from requests->lucem-illud==8.0.1) (2.10)\n",
            "Requirement already satisfied: certifi>=2017.4.17 in /usr/local/lib/python3.7/dist-packages (from requests->lucem-illud==8.0.1) (2021.10.8)\n",
            "Collecting urllib3<1.27,>=1.25.4\n",
            "  Downloading urllib3-1.25.11-py2.py3-none-any.whl (127 kB)\n",
            "\u001b[K     |████████████████████████████████| 127 kB 63.7 MB/s \n",
            "\u001b[?25hRequirement already satisfied: imageio>=2.3.0 in /usr/local/lib/python3.7/dist-packages (from scikit-image->lucem-illud==8.0.1) (2.4.1)\n",
            "Requirement already satisfied: tifffile>=2019.7.26 in /usr/local/lib/python3.7/dist-packages (from scikit-image->lucem-illud==8.0.1) (2021.11.2)\n",
            "Requirement already satisfied: PyWavelets>=1.1.1 in /usr/local/lib/python3.7/dist-packages (from scikit-image->lucem-illud==8.0.1) (1.2.0)\n",
            "Requirement already satisfied: joblib>=0.11 in /usr/local/lib/python3.7/dist-packages (from scikit-learn->lucem-illud==8.0.1) (1.1.0)\n",
            "Requirement already satisfied: threadpoolctl>=2.0.0 in /usr/local/lib/python3.7/dist-packages (from scikit-learn->lucem-illud==8.0.1) (3.0.0)\n",
            "Requirement already satisfied: tqdm<5.0.0,>=4.38.0 in /usr/local/lib/python3.7/dist-packages (from spacy->lucem-illud==8.0.1) (4.62.3)\n",
            "Requirement already satisfied: srsly<1.1.0,>=1.0.2 in /usr/local/lib/python3.7/dist-packages (from spacy->lucem-illud==8.0.1) (1.0.5)\n",
            "Requirement already satisfied: plac<1.2.0,>=0.9.6 in /usr/local/lib/python3.7/dist-packages (from spacy->lucem-illud==8.0.1) (1.1.3)\n",
            "Requirement already satisfied: preshed<3.1.0,>=3.0.2 in /usr/local/lib/python3.7/dist-packages (from spacy->lucem-illud==8.0.1) (3.0.6)\n",
            "Requirement already satisfied: catalogue<1.1.0,>=0.0.7 in /usr/local/lib/python3.7/dist-packages (from spacy->lucem-illud==8.0.1) (1.0.0)\n",
            "Requirement already satisfied: thinc==7.4.0 in /usr/local/lib/python3.7/dist-packages (from spacy->lucem-illud==8.0.1) (7.4.0)\n",
            "Requirement already satisfied: blis<0.5.0,>=0.4.0 in /usr/local/lib/python3.7/dist-packages (from spacy->lucem-illud==8.0.1) (0.4.1)\n",
            "Requirement already satisfied: cymem<2.1.0,>=2.0.2 in /usr/local/lib/python3.7/dist-packages (from spacy->lucem-illud==8.0.1) (2.0.6)\n",
            "Requirement already satisfied: wasabi<1.1.0,>=0.4.0 in /usr/local/lib/python3.7/dist-packages (from spacy->lucem-illud==8.0.1) (0.9.0)\n",
            "Requirement already satisfied: murmurhash<1.1.0,>=0.28.0 in /usr/local/lib/python3.7/dist-packages (from spacy->lucem-illud==8.0.1) (1.0.6)\n",
            "Requirement already satisfied: importlib-metadata>=0.20 in /usr/local/lib/python3.7/dist-packages (from catalogue<1.1.0,>=0.0.7->spacy->lucem-illud==8.0.1) (4.10.0)\n",
            "Requirement already satisfied: zipp>=0.5 in /usr/local/lib/python3.7/dist-packages (from importlib-metadata>=0.20->catalogue<1.1.0,>=0.0.7->spacy->lucem-illud==8.0.1) (3.7.0)\n",
            "Building wheels for collected packages: lucem-illud, pyanno3, python-docx\n",
            "  Building wheel for lucem-illud (setup.py) ... \u001b[?25l\u001b[?25hdone\n",
            "  Created wheel for lucem-illud: filename=lucem_illud-8.0.1-py3-none-any.whl size=34964 sha256=6fb2e9f4ace15571609eacb92b7ec88add40a87fdb9bcf36177bfebb7bda0efb\n",
            "  Stored in directory: /tmp/pip-ephem-wheel-cache-yzo13bhg/wheels/a5/6a/0f/ddf40c68215bc4b072c455caa6a08e0031c92187c93a1b5a81\n",
            "  Building wheel for pyanno3 (setup.py) ... \u001b[?25l\u001b[?25hdone\n",
            "  Created wheel for pyanno3: filename=pyanno3-2.0.2-py3-none-any.whl size=116978 sha256=4ed175740b2cd3db12bb5ae6bca7f666ae72978d6acc5b86c0e2d9840ce2b786\n",
            "  Stored in directory: /root/.cache/pip/wheels/28/eb/a9/d9c212d9388cde6cf3ee6edd7aa3891624bca58b24d9c26c76\n",
            "  Building wheel for python-docx (setup.py) ... \u001b[?25l\u001b[?25hdone\n",
            "  Created wheel for python-docx: filename=python_docx-0.8.11-py3-none-any.whl size=184507 sha256=1f226952048eb1874218b6492bae4e75329acd71fa33ca68ea307dee448acb32\n",
            "  Stored in directory: /root/.cache/pip/wheels/f6/6f/b9/d798122a8b55b74ad30b5f52b01482169b445fbb84a11797a6\n",
            "Successfully built lucem-illud pyanno3 python-docx\n",
            "Installing collected packages: urllib3, jmespath, smmap, botocore, traits, s3transfer, gitdb, speechrecognition, python-docx, pysoundfile, pydub, pyanno3, pdfminer2, GitPython, boto3, lucem-illud\n",
            "  Attempting uninstall: urllib3\n",
            "    Found existing installation: urllib3 1.24.3\n",
            "    Uninstalling urllib3-1.24.3:\n",
            "      Successfully uninstalled urllib3-1.24.3\n",
            "\u001b[31mERROR: pip's dependency resolver does not currently take into account all the packages that are installed. This behaviour is the source of the following dependency conflicts.\n",
            "datascience 0.10.6 requires folium==0.2.1, but you have folium 0.8.3 which is incompatible.\u001b[0m\n",
            "Successfully installed GitPython-3.1.26 boto3-1.20.39 botocore-1.23.39 gitdb-4.0.9 jmespath-0.10.0 lucem-illud-8.0.1 pdfminer2-20151206 pyanno3-2.0.2 pydub-0.25.1 pysoundfile-0.9.0.post1 python-docx-0.8.11 s3transfer-0.5.0 smmap-5.0.0 speechrecognition-3.8.1 traits-6.3.2 urllib3-1.25.11\n"
          ]
        }
      ]
    },
    {
      "cell_type": "code",
      "source": [
        "#Special module written for this class\n",
        "#This provides access to data and to helper functions from previous weeks\n",
        "import lucem_illud #pip install git+git://github.com/UChicago-Computational-Content-Analysis/lucem_illud.git\n",
        "\n",
        "#All these packages need to be installed from pip\n",
        "import requests #for http requests\n",
        "import bs4 #called `beautifulsoup4`, an html parser\n",
        "import pandas #gives us DataFrames\n",
        "import docx #reading MS doc files, install as `python-docx`\n",
        "\n",
        "#Stuff for pdfs\n",
        "#Install as `pdfminer2`\n",
        "import pdfminer.pdfinterp\n",
        "import pdfminer.converter\n",
        "import pdfminer.layout\n",
        "import pdfminer.pdfpage\n",
        "\n",
        "#These come with Python\n",
        "import re #for regexs\n",
        "import urllib.parse #For joining urls\n",
        "import io #for making http requests look like files\n",
        "import json #For Tumblr API responses\n",
        "import os.path #For checking if files exist\n",
        "import os #For making directories"
      ],
      "metadata": {
        "id": "dfQTC7GX7BeQ"
      },
      "execution_count": 6,
      "outputs": []
    },
    {
      "cell_type": "markdown",
      "source": [
        "***Data Source***\n",
        "\n",
        "New York Times – chose this because it is open to public, does not require UChicago login (unlike Readers' Guide Retrospective, Hathi, JSTOR)\n",
        "\n",
        "base_url = https://www.nytimes.com/search?dropmab=true&endDate=19500101&query=%22liberal%20education%22&sort=oldest&startDate=19210101\n",
        "\n",
        "base_url is created by searching \"liberal education\" in quotes in the New York Times, then limiting the results from 01/01/1921 to 01/01/1950 and ranking the results from Date Oldest"
      ],
      "metadata": {
        "id": "nTAJr_21lgOt"
      }
    },
    {
      "cell_type": "code",
      "source": [
        "#data_url is the 1st item from base_url – but seem to need OCR algorithm to decipher the text\n",
        "#this item is COOLIDGE DEFENDS COLLEGE STANDARDS; Our American Institutions Have Come From a People Inspired by Them. TECHNICAL SCHOOLS GOOD But They Can Only Supplement, Not Replace the Liberal Education, Vice President Declares.\n",
        "\n",
        "article_url = \"https://www.nytimes.com/1922/05/07/archives/coolidge-defends-college-standards-our-american-institutions-have.html?searchResultPosition=1\"\n",
        "requests.get(article_url)\n"
      ],
      "metadata": {
        "id": "71ENLZn8xE02",
        "colab": {
          "base_uri": "https://localhost:8080/"
        },
        "outputId": "a16b222a-84e3-4d44-9001-88d863d09a9c"
      },
      "execution_count": 8,
      "outputs": [
        {
          "output_type": "execute_result",
          "data": {
            "text/plain": [
              "<Response [200]>"
            ]
          },
          "metadata": {},
          "execution_count": 8
        }
      ]
    },
    {
      "cell_type": "markdown",
      "source": [
        "This requests.get() returned <Response [403]> if put in the actual PDF of the Full Article\n",
        "https://timesmachine.nytimes.com/timesmachine/1922/05/07/99021553.html?pageNumber=33\n",
        "\n",
        "It returned <Response [200]> if put in the digitized New York Times article snippet that included \"liberal education\" -> used this instead\n",
        "https://www.nytimes.com/1922/05/07/archives/coolidge-defends-college-standards-our-american-institutions-have.html?searchResultPosition=1"
      ],
      "metadata": {
        "id": "8zVEXHoq70eO"
      }
    },
    {
      "cell_type": "code",
      "source": [
        "#checking the type of info we get from URL, is HTML stuff, and 'text' is one of the returns from dir()\n",
        "\n",
        "articleContentRequest = requests.get(article_url)\n",
        "print(articleContentRequest.text[:1000])"
      ],
      "metadata": {
        "colab": {
          "base_uri": "https://localhost:8080/"
        },
        "id": "LNcriF6afjeC",
        "outputId": "607bbe1d-4b79-4279-d609-c99ae425198f"
      },
      "execution_count": 9,
      "outputs": [
        {
          "output_type": "stream",
          "name": "stdout",
          "text": [
            "<!DOCTYPE html>\n",
            "<html lang=\"en\" class=\"story nytapp-vi-article\"  xmlns:og=\"http://opengraphprotocol.org/schema/\">\n",
            "  <head>\n",
            "    <meta charset=\"utf-8\" />\n",
            "    <title data-rh=\"true\">COOLIDGE DEFENDS COLLEGE STANDARDS; Our American Institutions Have Come From a People Inspired by Them. TECHNICAL SCHOOLS GOOD But They Can Only Supplement, Not Replace the Liberal Education, Vice President Declares. - The New York Times</title>\n",
            "    <meta data-rh=\"true\" name=\"robots\" content=\"noarchive, max-image-preview:large\"/><meta data-rh=\"true\" name=\"description\" content=\"\"/><meta data-rh=\"true\" property=\"og:url\" content=\"https://www.nytimes.com/1922/05/07/archives/coolidge-defends-college-standards-our-american-institutions-have.html\"/><meta data-rh=\"true\" property=\"og:type\" content=\"article\"/><meta data-rh=\"true\" property=\"og:title\" content=\"COOLIDGE DEFENDS COLLEGE STANDARDS; Our American Institutions Have Come From a People Inspired by Them. TECHNICAL SCHOOLS GOOD But They Can Only Supplement, Not Repl\n"
          ]
        }
      ]
    },
    {
      "cell_type": "code",
      "source": [
        "dir(articleContentRequest)"
      ],
      "metadata": {
        "id": "g-pUlyUD987R"
      },
      "execution_count": null,
      "outputs": []
    },
    {
      "cell_type": "code",
      "source": [
        "#calling BeautifulSoup on the 'text' stuff from the HTML content\n",
        "\n",
        "articleContentSoup = bs4.BeautifulSoup(articleContentRequest.text, 'html.parser')\n",
        "print(articleContentSoup.text[:101])\n",
        "\n",
        "#each unit within [] of dataContentSoup.text[] is a character space"
      ],
      "metadata": {
        "colab": {
          "base_uri": "https://localhost:8080/"
        },
        "id": "prwJgpdQf4_G",
        "outputId": "46fe306a-331a-4fa4-90f3-d0abc629efe2"
      },
      "execution_count": 10,
      "outputs": [
        {
          "output_type": "stream",
          "name": "stdout",
          "text": [
            "\n",
            "\n",
            "\n",
            "\n",
            "COOLIDGE DEFENDS COLLEGE STANDARDS; Our American Institutions Have Come From a People Inspired by\n"
          ]
        }
      ]
    },
    {
      "cell_type": "code",
      "source": [
        "#when we open the data_url link, write in the empty file with the text we get from that url\n",
        "#do this so we can observe the html content\n",
        "\n",
        "content_save = 'article_url.html'\n",
        "\n",
        "with open(content_save, mode='w', encoding='utf-8') as f:\n",
        "  f.write(articleContentRequest.text)"
      ],
      "metadata": {
        "id": "R3rZsWFxfyWK"
      },
      "execution_count": 11,
      "outputs": []
    },
    {
      "cell_type": "code",
      "source": [
        "open(content_save)\n",
        "dir(content_save)"
      ],
      "metadata": {
        "id": "PRn1NFFU-Qq8"
      },
      "execution_count": null,
      "outputs": []
    },
    {
      "cell_type": "code",
      "source": [
        "#using HTML pTags, as the example wikipedia showed\n",
        "\n",
        "contentPTags = articleContentSoup.body.findAll('p')\n",
        "for pTag in contentPTags[:100]:\n",
        "  print(pTag.text)"
      ],
      "metadata": {
        "colab": {
          "base_uri": "https://localhost:8080/"
        },
        "id": "4Nb6zQBuFwoS",
        "outputId": "d837cbb4-d136-47d8-960f-c1353e94c232"
      },
      "execution_count": 16,
      "outputs": [
        {
          "output_type": "stream",
          "name": "stdout",
          "text": [
            "Advertisement\n",
            "Supported by\n",
            "1\n",
            "NEW HAVEN, Conn., May 6.--American institutions have come from the people but they have come from a people directed, led and inspired by the ideals which came from the colleges. Vice President Coolidge declared before a meeting of the New England Association of Colleges and Secondary Schools here today.   View Full Article in Timesmachine »\n",
            "Advertisement\n"
          ]
        }
      ]
    },
    {
      "cell_type": "code",
      "source": [
        "#a failed semicolon attempt – ask in OH\n",
        "\n",
        "\n",
        "#find all the semicolons in the content soup – semicolons separate sentences\n",
        "#tried to do this for semicolons, but this was not successful here\n",
        "\n",
        "# contentSemicolons = articleContentSoup.body.findAll(';')\n",
        "# for Semicolon in contentSemicolons[:3]:\n",
        "#   print(Semicolon.text)\n",
        "\n",
        "#this command did not return any text bc not HTML tags\n",
        "\n",
        "\n",
        "#create empty array for sentences of content soup to go\n",
        "# contentSentences = []\n",
        "\n",
        "# for Semicolon in contentSemicolons:\n",
        "#   contentSentences.append(contentSemicolons.text)"
      ],
      "metadata": {
        "id": "Fds9qKlL8moY"
      },
      "execution_count": null,
      "outputs": []
    },
    {
      "cell_type": "code",
      "source": [
        "#putting chunk of cleaned sentences into panda dataframe\n",
        "\n",
        "contentParagraphs = []\n",
        "for pTag in contentPTags:\n",
        "  contentParagraphs.append(re.sub(r'\\[\\d+\\]', '', pTag.text))"
      ],
      "metadata": {
        "id": "wppL3H8cjg02"
      },
      "execution_count": 21,
      "outputs": []
    },
    {
      "cell_type": "code",
      "source": [
        "contentParagraphsDF = pandas.DataFrame({'paragraph-text' : contentParagraphs})\n",
        "print(contentParagraphsDF)"
      ],
      "metadata": {
        "colab": {
          "base_uri": "https://localhost:8080/"
        },
        "id": "-gfLrNaGHnCZ",
        "outputId": "362e7c6f-4dc0-451a-905e-7aa6a6cc44b9"
      },
      "execution_count": 23,
      "outputs": [
        {
          "output_type": "stream",
          "name": "stdout",
          "text": [
            "                                      paragraph-text\n",
            "0                                      Advertisement\n",
            "1                                       Supported by\n",
            "2                                                  1\n",
            "3  NEW HAVEN, Conn., May 6.--American institution...\n",
            "4                                      Advertisement\n"
          ]
        }
      ]
    },
    {
      "cell_type": "markdown",
      "metadata": {
        "id": "8jW4D33OOmbB"
      },
      "source": [
        "\n",
        "# Spidering\n",
        "\n",
        "What if we want to to get a bunch of different pages from wikipedia. We would\n",
        "need to get the url for each of the pages we want. Typically, we want pages that\n",
        "are linked to by other pages and so we will need to parse pages and identify the\n",
        "links. Right now we will be retrieving all links in the body of the content\n",
        "analysis page.\n",
        "\n",
        "To do this we will need to find all the `<a>` (anchor) tags with `href`s\n",
        "(hyperlink references) inside of `<p>` tags. `href` can have many\n",
        "[different](http://stackoverflow.com/questions/4855168/what-is-href-and-why-is-\n",
        "it-used) [forms](https://en.wikipedia.org/wiki/Hyperlink#Hyperlinks_in_HTML) so\n",
        "dealing with them can be tricky, but generally, you will want to extract\n",
        "absolute or relative links. An absolute link is one you can follow without\n",
        "modification, while a relative link requires a base url that you will then\n",
        "append. Wikipedia uses relative urls for its internal links: below is an example\n",
        "for dealing with them."
      ]
    },
    {
      "cell_type": "code",
      "execution_count": 25,
      "metadata": {
        "id": "qdkr4sdqOmbB",
        "colab": {
          "base_uri": "https://localhost:8080/"
        },
        "outputId": "d07d46c4-d91c-4b8e-dbf8-516dc2bd5f74"
      },
      "outputs": [
        {
          "output_type": "stream",
          "name": "stdout",
          "text": [
            "[]\n"
          ]
        }
      ],
      "source": [
        "wikipedia_base_url = 'https://en.wikipedia.org'\n",
        "\n",
        "otherPAgeURLS = []\n",
        "#We also want to know where the links come from so we also will get:\n",
        "#the paragraph number\n",
        "#the word the link is in\n",
        "for paragraphNum, pTag in enumerate(contentPTags):\n",
        "    #we only want hrefs that link to wiki pages\n",
        "    tagLinks = pTag.findAll('a', href=re.compile('/wiki/'), class_=False)\n",
        "    for aTag in tagLinks:\n",
        "        #We need to extract the url from the <a> tag\n",
        "        relurl = aTag.get('href')\n",
        "        linkText = aTag.text\n",
        "        #wikipedia_base_url is the base we can use the urllib joining function to merge them\n",
        "        #Giving a nice structured tupe like this means we can use tuple expansion later\n",
        "        otherPAgeURLS.append((\n",
        "            urllib.parse.urljoin(wikipedia_base_url, relurl),\n",
        "            paragraphNum,\n",
        "            linkText,\n",
        "        ))\n",
        "print(otherPAgeURLS[:10])"
      ]
    },
    {
      "cell_type": "code",
      "execution_count": null,
      "metadata": {
        "id": "VXTYESNnOmbC"
      },
      "outputs": [],
      "source": [
        "print(contentPTags)"
      ]
    },
    {
      "cell_type": "markdown",
      "metadata": {
        "id": "-q30EjBVOmbC"
      },
      "source": [
        "Another excursion: Why do we use enumerate() here? enumerate() takes a collection, enumerates, and returns an enumate object with both the numbers and the collection. For example, contentPTags (the collection we used here) is comprised of paragraphs. We want the paragraph number of each paragraph. And this is what enumerate() does: it returns the paragraph number and the paragraph. "
      ]
    },
    {
      "cell_type": "markdown",
      "metadata": {
        "id": "kq15Be4lOmbC"
      },
      "source": [
        "We will be adding these new texts to our DataFrame `contentParagraphsDF` so we\n",
        "will need to add 2 more columns to keep track of paragraph numbers and sources."
      ]
    },
    {
      "cell_type": "code",
      "execution_count": null,
      "metadata": {
        "id": "bTC9HDnnOmbC"
      },
      "outputs": [],
      "source": [
        "contentParagraphsDF['source'] = [wikipedia_content_analysis] * len(contentParagraphsDF['paragraph-text'])\n",
        "contentParagraphsDF['paragraph-number'] = range(len(contentParagraphsDF['paragraph-text']))\n",
        "\n",
        "contentParagraphsDF"
      ]
    },
    {
      "cell_type": "markdown",
      "metadata": {
        "id": "W4gwpoSiOmbC"
      },
      "source": [
        "Then we can add two more columns to our `Dataframe` and define a function to\n",
        "parse\n",
        "each linked page and add its text to our DataFrame."
      ]
    },
    {
      "cell_type": "code",
      "execution_count": null,
      "metadata": {
        "id": "x4bPl7pHOmbD"
      },
      "outputs": [],
      "source": [
        "contentParagraphsDF['source-paragraph-number'] = [None] * len(contentParagraphsDF['paragraph-text'])\n",
        "contentParagraphsDF['source-paragraph-text'] = [None] * len(contentParagraphsDF['paragraph-text'])\n",
        "\n",
        "def getTextFromWikiPage(targetURL, sourceParNum, sourceText):\n",
        "    #Make a dict to store data before adding it to the DataFrame\n",
        "    parsDict = {'source' : [], 'paragraph-number' : [], 'paragraph-text' : [], 'source-paragraph-number' : [],  'source-paragraph-text' : []}\n",
        "    #Now we get the page\n",
        "    r = requests.get(targetURL)\n",
        "    soup = bs4.BeautifulSoup(r.text, 'html.parser')\n",
        "    #enumerating gives use the paragraph number\n",
        "    for parNum, pTag in enumerate(soup.body.findAll('p')):\n",
        "        #same regex as before\n",
        "        parsDict['paragraph-text'].append(re.sub(r'\\[\\d+\\]', '', pTag.text))\n",
        "        parsDict['paragraph-number'].append(parNum)\n",
        "        parsDict['source'].append(targetURL)\n",
        "        parsDict['source-paragraph-number'].append(sourceParNum)\n",
        "        parsDict['source-paragraph-text'].append(sourceText)\n",
        "    return pandas.DataFrame(parsDict)"
      ]
    },
    {
      "cell_type": "markdown",
      "metadata": {
        "id": "06YOrHrSOmbD"
      },
      "source": [
        "And run it on our list of link tags"
      ]
    },
    {
      "cell_type": "code",
      "execution_count": null,
      "metadata": {
        "id": "R_H3t8gtOmbD"
      },
      "outputs": [],
      "source": [
        "for urlTuple in otherPAgeURLS[:3]:\n",
        "    #ignore_index means the indices will not be reset after each append\n",
        "    contentParagraphsDF = contentParagraphsDF.append(getTextFromWikiPage(*urlTuple),ignore_index=True)\n",
        "contentParagraphsDF"
      ]
    },
    {
      "cell_type": "markdown",
      "metadata": {
        "id": "JFgBxV4LOmbD"
      },
      "source": [
        "\n",
        "# <font color=\"red\">Exercise 2</font>\n",
        "<font color=\"red\">Construct cells immediately below this that spider webcontent from another site with content relating to your anticipated final project. Specifically, identify urls on a core page, then follow and extract content from them into a pandas `Dataframe`. In addition, demonstrate a *recursive* spider, which follows more than one level of links (i.e., follows links from a site, then follows links on followed sites to new sites, etc.), making sure to define a reasonable endpoint so that you do not wander the web forever :-).</font>\n",
        "\n"
      ]
    },
    {
      "cell_type": "markdown",
      "source": [
        "***Data Source***\n",
        "\n",
        "Same as before, base_url from searching \"liberal education\" in quotes in the New York Times, then limiting the results from 01/01/1921 to 01/01/1950 and ranking the results from Date Oldest"
      ],
      "metadata": {
        "id": "mZLc6qPYIC5Q"
      }
    },
    {
      "cell_type": "code",
      "source": [
        "base_url = 'https://www.nytimes.com/search?dropmab=true&endDate=19500101&query=%22liberal%20education%22&sort=oldest&startDate=19210101'"
      ],
      "metadata": {
        "id": "3RN0Hqh-H27y"
      },
      "execution_count": 26,
      "outputs": []
    },
    {
      "cell_type": "code",
      "source": [
        "otherPAgeURLS = []\n",
        "\n",
        "for paragraphNum, pTag in enumerate(contentPTags):\n",
        "  tagLinks = pTag.findAll('a', href=re.compile('/nytimes/'), class_=False)\n",
        "  for aTag in tagLinks:\n",
        "    relurl = aTag.get('href')\n",
        "    linkText = aTag.text\n",
        "    otherPAgeURLS.append(\n",
        "        (\n",
        "            urllib.parse.urljoin(base_url, relurl),\n",
        "         paragraphNum,\n",
        "         linkText\n",
        "        )\n",
        "    )\n",
        "    print(otherPAgeURLS[:10])"
      ],
      "metadata": {
        "colab": {
          "base_uri": "https://localhost:8080/"
        },
        "id": "0pfnJhOiIM-4",
        "outputId": "5a351876-017e-49dd-dfd0-18e9e06d7759"
      },
      "execution_count": 28,
      "outputs": [
        {
          "output_type": "stream",
          "name": "stdout",
          "text": [
            "[<p>Advertisement</p>, <p>Supported by</p>, <p class=\"css-c2jxua e6idgb70\">1</p>, <p class=\"css-1byx4j2\">NEW HAVEN, Conn., May 6.--American institutions have come from the people but they have come from a people directed, led and inspired by the ideals which came from the colleges. Vice President Coolidge declared before a meeting of the New England Association of Colleges and Secondary Schools here today.  <!-- --> <a class=\"css-kb7u95\" href=\"http://timesmachine.nytimes.com/timesmachine/1922/05/07/99021553.html\" rel=\"noopener noreferrer\" target=\"_blank\">View Full Article in Timesmachine »</a></p>, <p>Advertisement</p>]\n"
          ]
        }
      ]
    },
    {
      "cell_type": "code",
      "source": [
        "print(contentPTags)"
      ],
      "metadata": {
        "colab": {
          "base_uri": "https://localhost:8080/"
        },
        "id": "oWl2R2aoLYh_",
        "outputId": "0b8ce3de-ae60-4669-d6c3-581a1cfcd2bc"
      },
      "execution_count": 29,
      "outputs": [
        {
          "output_type": "stream",
          "name": "stdout",
          "text": [
            "[<p>Advertisement</p>, <p>Supported by</p>, <p class=\"css-c2jxua e6idgb70\">1</p>, <p class=\"css-1byx4j2\">NEW HAVEN, Conn., May 6.--American institutions have come from the people but they have come from a people directed, led and inspired by the ideals which came from the colleges. Vice President Coolidge declared before a meeting of the New England Association of Colleges and Secondary Schools here today.  <!-- --> <a class=\"css-kb7u95\" href=\"http://timesmachine.nytimes.com/timesmachine/1922/05/07/99021553.html\" rel=\"noopener noreferrer\" target=\"_blank\">View Full Article in Timesmachine »</a></p>, <p>Advertisement</p>]\n"
          ]
        }
      ]
    },
    {
      "cell_type": "code",
      "source": [
        "contentParagraphsDF['source'] = [article_url] * len(contentParagraphsDF['paragraph-text'])\n",
        "contentParagraphsDF['paragraph-number'] = range(len(contentParagraphsDF['paragraph-text']))\n",
        "\n",
        "contentParagraphsDF"
      ],
      "metadata": {
        "colab": {
          "base_uri": "https://localhost:8080/",
          "height": 201
        },
        "id": "tt1n_Y99LccZ",
        "outputId": "612ee160-ff8b-4080-f267-58131c0fc960"
      },
      "execution_count": 30,
      "outputs": [
        {
          "output_type": "execute_result",
          "data": {
            "text/html": [
              "\n",
              "  <div id=\"df-96cd7594-e1e5-42fc-85a2-9348cbfa23fc\">\n",
              "    <div class=\"colab-df-container\">\n",
              "      <div>\n",
              "<style scoped>\n",
              "    .dataframe tbody tr th:only-of-type {\n",
              "        vertical-align: middle;\n",
              "    }\n",
              "\n",
              "    .dataframe tbody tr th {\n",
              "        vertical-align: top;\n",
              "    }\n",
              "\n",
              "    .dataframe thead th {\n",
              "        text-align: right;\n",
              "    }\n",
              "</style>\n",
              "<table border=\"1\" class=\"dataframe\">\n",
              "  <thead>\n",
              "    <tr style=\"text-align: right;\">\n",
              "      <th></th>\n",
              "      <th>paragraph-text</th>\n",
              "      <th>source</th>\n",
              "      <th>paragraph-number</th>\n",
              "    </tr>\n",
              "  </thead>\n",
              "  <tbody>\n",
              "    <tr>\n",
              "      <th>0</th>\n",
              "      <td>Advertisement</td>\n",
              "      <td>https://www.nytimes.com/1922/05/07/archives/co...</td>\n",
              "      <td>0</td>\n",
              "    </tr>\n",
              "    <tr>\n",
              "      <th>1</th>\n",
              "      <td>Supported by</td>\n",
              "      <td>https://www.nytimes.com/1922/05/07/archives/co...</td>\n",
              "      <td>1</td>\n",
              "    </tr>\n",
              "    <tr>\n",
              "      <th>2</th>\n",
              "      <td>1</td>\n",
              "      <td>https://www.nytimes.com/1922/05/07/archives/co...</td>\n",
              "      <td>2</td>\n",
              "    </tr>\n",
              "    <tr>\n",
              "      <th>3</th>\n",
              "      <td>NEW HAVEN, Conn., May 6.--American institution...</td>\n",
              "      <td>https://www.nytimes.com/1922/05/07/archives/co...</td>\n",
              "      <td>3</td>\n",
              "    </tr>\n",
              "    <tr>\n",
              "      <th>4</th>\n",
              "      <td>Advertisement</td>\n",
              "      <td>https://www.nytimes.com/1922/05/07/archives/co...</td>\n",
              "      <td>4</td>\n",
              "    </tr>\n",
              "  </tbody>\n",
              "</table>\n",
              "</div>\n",
              "      <button class=\"colab-df-convert\" onclick=\"convertToInteractive('df-96cd7594-e1e5-42fc-85a2-9348cbfa23fc')\"\n",
              "              title=\"Convert this dataframe to an interactive table.\"\n",
              "              style=\"display:none;\">\n",
              "        \n",
              "  <svg xmlns=\"http://www.w3.org/2000/svg\" height=\"24px\"viewBox=\"0 0 24 24\"\n",
              "       width=\"24px\">\n",
              "    <path d=\"M0 0h24v24H0V0z\" fill=\"none\"/>\n",
              "    <path d=\"M18.56 5.44l.94 2.06.94-2.06 2.06-.94-2.06-.94-.94-2.06-.94 2.06-2.06.94zm-11 1L8.5 8.5l.94-2.06 2.06-.94-2.06-.94L8.5 2.5l-.94 2.06-2.06.94zm10 10l.94 2.06.94-2.06 2.06-.94-2.06-.94-.94-2.06-.94 2.06-2.06.94z\"/><path d=\"M17.41 7.96l-1.37-1.37c-.4-.4-.92-.59-1.43-.59-.52 0-1.04.2-1.43.59L10.3 9.45l-7.72 7.72c-.78.78-.78 2.05 0 2.83L4 21.41c.39.39.9.59 1.41.59.51 0 1.02-.2 1.41-.59l7.78-7.78 2.81-2.81c.8-.78.8-2.07 0-2.86zM5.41 20L4 18.59l7.72-7.72 1.47 1.35L5.41 20z\"/>\n",
              "  </svg>\n",
              "      </button>\n",
              "      \n",
              "  <style>\n",
              "    .colab-df-container {\n",
              "      display:flex;\n",
              "      flex-wrap:wrap;\n",
              "      gap: 12px;\n",
              "    }\n",
              "\n",
              "    .colab-df-convert {\n",
              "      background-color: #E8F0FE;\n",
              "      border: none;\n",
              "      border-radius: 50%;\n",
              "      cursor: pointer;\n",
              "      display: none;\n",
              "      fill: #1967D2;\n",
              "      height: 32px;\n",
              "      padding: 0 0 0 0;\n",
              "      width: 32px;\n",
              "    }\n",
              "\n",
              "    .colab-df-convert:hover {\n",
              "      background-color: #E2EBFA;\n",
              "      box-shadow: 0px 1px 2px rgba(60, 64, 67, 0.3), 0px 1px 3px 1px rgba(60, 64, 67, 0.15);\n",
              "      fill: #174EA6;\n",
              "    }\n",
              "\n",
              "    [theme=dark] .colab-df-convert {\n",
              "      background-color: #3B4455;\n",
              "      fill: #D2E3FC;\n",
              "    }\n",
              "\n",
              "    [theme=dark] .colab-df-convert:hover {\n",
              "      background-color: #434B5C;\n",
              "      box-shadow: 0px 1px 3px 1px rgba(0, 0, 0, 0.15);\n",
              "      filter: drop-shadow(0px 1px 2px rgba(0, 0, 0, 0.3));\n",
              "      fill: #FFFFFF;\n",
              "    }\n",
              "  </style>\n",
              "\n",
              "      <script>\n",
              "        const buttonEl =\n",
              "          document.querySelector('#df-96cd7594-e1e5-42fc-85a2-9348cbfa23fc button.colab-df-convert');\n",
              "        buttonEl.style.display =\n",
              "          google.colab.kernel.accessAllowed ? 'block' : 'none';\n",
              "\n",
              "        async function convertToInteractive(key) {\n",
              "          const element = document.querySelector('#df-96cd7594-e1e5-42fc-85a2-9348cbfa23fc');\n",
              "          const dataTable =\n",
              "            await google.colab.kernel.invokeFunction('convertToInteractive',\n",
              "                                                     [key], {});\n",
              "          if (!dataTable) return;\n",
              "\n",
              "          const docLinkHtml = 'Like what you see? Visit the ' +\n",
              "            '<a target=\"_blank\" href=https://colab.research.google.com/notebooks/data_table.ipynb>data table notebook</a>'\n",
              "            + ' to learn more about interactive tables.';\n",
              "          element.innerHTML = '';\n",
              "          dataTable['output_type'] = 'display_data';\n",
              "          await google.colab.output.renderOutput(dataTable, element);\n",
              "          const docLink = document.createElement('div');\n",
              "          docLink.innerHTML = docLinkHtml;\n",
              "          element.appendChild(docLink);\n",
              "        }\n",
              "      </script>\n",
              "    </div>\n",
              "  </div>\n",
              "  "
            ],
            "text/plain": [
              "                                      paragraph-text  ... paragraph-number\n",
              "0                                      Advertisement  ...                0\n",
              "1                                       Supported by  ...                1\n",
              "2                                                  1  ...                2\n",
              "3  NEW HAVEN, Conn., May 6.--American institution...  ...                3\n",
              "4                                      Advertisement  ...                4\n",
              "\n",
              "[5 rows x 3 columns]"
            ]
          },
          "metadata": {},
          "execution_count": 30
        }
      ]
    },
    {
      "cell_type": "code",
      "source": [
        "for urlTuple in otherPAgeURLS[:3]:\n",
        "    #ignore_index means the indices will not be reset after each append\n",
        "    contentParagraphsDF = contentParagraphsDF.append(getTextFromNYTPage(*urlTuple),ignore_index=True)\n",
        "contentParagraphsDF"
      ],
      "metadata": {
        "colab": {
          "base_uri": "https://localhost:8080/",
          "height": 201
        },
        "id": "l7VefBe4LwCY",
        "outputId": "749305ce-b855-41f9-edb7-349a21d45137"
      },
      "execution_count": 32,
      "outputs": [
        {
          "output_type": "execute_result",
          "data": {
            "text/html": [
              "\n",
              "  <div id=\"df-4d5e2092-5f0c-43d2-b9ea-8b59dd24e46c\">\n",
              "    <div class=\"colab-df-container\">\n",
              "      <div>\n",
              "<style scoped>\n",
              "    .dataframe tbody tr th:only-of-type {\n",
              "        vertical-align: middle;\n",
              "    }\n",
              "\n",
              "    .dataframe tbody tr th {\n",
              "        vertical-align: top;\n",
              "    }\n",
              "\n",
              "    .dataframe thead th {\n",
              "        text-align: right;\n",
              "    }\n",
              "</style>\n",
              "<table border=\"1\" class=\"dataframe\">\n",
              "  <thead>\n",
              "    <tr style=\"text-align: right;\">\n",
              "      <th></th>\n",
              "      <th>paragraph-text</th>\n",
              "      <th>source</th>\n",
              "      <th>paragraph-number</th>\n",
              "    </tr>\n",
              "  </thead>\n",
              "  <tbody>\n",
              "    <tr>\n",
              "      <th>0</th>\n",
              "      <td>Advertisement</td>\n",
              "      <td>https://www.nytimes.com/1922/05/07/archives/co...</td>\n",
              "      <td>0</td>\n",
              "    </tr>\n",
              "    <tr>\n",
              "      <th>1</th>\n",
              "      <td>Supported by</td>\n",
              "      <td>https://www.nytimes.com/1922/05/07/archives/co...</td>\n",
              "      <td>1</td>\n",
              "    </tr>\n",
              "    <tr>\n",
              "      <th>2</th>\n",
              "      <td>1</td>\n",
              "      <td>https://www.nytimes.com/1922/05/07/archives/co...</td>\n",
              "      <td>2</td>\n",
              "    </tr>\n",
              "    <tr>\n",
              "      <th>3</th>\n",
              "      <td>NEW HAVEN, Conn., May 6.--American institution...</td>\n",
              "      <td>https://www.nytimes.com/1922/05/07/archives/co...</td>\n",
              "      <td>3</td>\n",
              "    </tr>\n",
              "    <tr>\n",
              "      <th>4</th>\n",
              "      <td>Advertisement</td>\n",
              "      <td>https://www.nytimes.com/1922/05/07/archives/co...</td>\n",
              "      <td>4</td>\n",
              "    </tr>\n",
              "  </tbody>\n",
              "</table>\n",
              "</div>\n",
              "      <button class=\"colab-df-convert\" onclick=\"convertToInteractive('df-4d5e2092-5f0c-43d2-b9ea-8b59dd24e46c')\"\n",
              "              title=\"Convert this dataframe to an interactive table.\"\n",
              "              style=\"display:none;\">\n",
              "        \n",
              "  <svg xmlns=\"http://www.w3.org/2000/svg\" height=\"24px\"viewBox=\"0 0 24 24\"\n",
              "       width=\"24px\">\n",
              "    <path d=\"M0 0h24v24H0V0z\" fill=\"none\"/>\n",
              "    <path d=\"M18.56 5.44l.94 2.06.94-2.06 2.06-.94-2.06-.94-.94-2.06-.94 2.06-2.06.94zm-11 1L8.5 8.5l.94-2.06 2.06-.94-2.06-.94L8.5 2.5l-.94 2.06-2.06.94zm10 10l.94 2.06.94-2.06 2.06-.94-2.06-.94-.94-2.06-.94 2.06-2.06.94z\"/><path d=\"M17.41 7.96l-1.37-1.37c-.4-.4-.92-.59-1.43-.59-.52 0-1.04.2-1.43.59L10.3 9.45l-7.72 7.72c-.78.78-.78 2.05 0 2.83L4 21.41c.39.39.9.59 1.41.59.51 0 1.02-.2 1.41-.59l7.78-7.78 2.81-2.81c.8-.78.8-2.07 0-2.86zM5.41 20L4 18.59l7.72-7.72 1.47 1.35L5.41 20z\"/>\n",
              "  </svg>\n",
              "      </button>\n",
              "      \n",
              "  <style>\n",
              "    .colab-df-container {\n",
              "      display:flex;\n",
              "      flex-wrap:wrap;\n",
              "      gap: 12px;\n",
              "    }\n",
              "\n",
              "    .colab-df-convert {\n",
              "      background-color: #E8F0FE;\n",
              "      border: none;\n",
              "      border-radius: 50%;\n",
              "      cursor: pointer;\n",
              "      display: none;\n",
              "      fill: #1967D2;\n",
              "      height: 32px;\n",
              "      padding: 0 0 0 0;\n",
              "      width: 32px;\n",
              "    }\n",
              "\n",
              "    .colab-df-convert:hover {\n",
              "      background-color: #E2EBFA;\n",
              "      box-shadow: 0px 1px 2px rgba(60, 64, 67, 0.3), 0px 1px 3px 1px rgba(60, 64, 67, 0.15);\n",
              "      fill: #174EA6;\n",
              "    }\n",
              "\n",
              "    [theme=dark] .colab-df-convert {\n",
              "      background-color: #3B4455;\n",
              "      fill: #D2E3FC;\n",
              "    }\n",
              "\n",
              "    [theme=dark] .colab-df-convert:hover {\n",
              "      background-color: #434B5C;\n",
              "      box-shadow: 0px 1px 3px 1px rgba(0, 0, 0, 0.15);\n",
              "      filter: drop-shadow(0px 1px 2px rgba(0, 0, 0, 0.3));\n",
              "      fill: #FFFFFF;\n",
              "    }\n",
              "  </style>\n",
              "\n",
              "      <script>\n",
              "        const buttonEl =\n",
              "          document.querySelector('#df-4d5e2092-5f0c-43d2-b9ea-8b59dd24e46c button.colab-df-convert');\n",
              "        buttonEl.style.display =\n",
              "          google.colab.kernel.accessAllowed ? 'block' : 'none';\n",
              "\n",
              "        async function convertToInteractive(key) {\n",
              "          const element = document.querySelector('#df-4d5e2092-5f0c-43d2-b9ea-8b59dd24e46c');\n",
              "          const dataTable =\n",
              "            await google.colab.kernel.invokeFunction('convertToInteractive',\n",
              "                                                     [key], {});\n",
              "          if (!dataTable) return;\n",
              "\n",
              "          const docLinkHtml = 'Like what you see? Visit the ' +\n",
              "            '<a target=\"_blank\" href=https://colab.research.google.com/notebooks/data_table.ipynb>data table notebook</a>'\n",
              "            + ' to learn more about interactive tables.';\n",
              "          element.innerHTML = '';\n",
              "          dataTable['output_type'] = 'display_data';\n",
              "          await google.colab.output.renderOutput(dataTable, element);\n",
              "          const docLink = document.createElement('div');\n",
              "          docLink.innerHTML = docLinkHtml;\n",
              "          element.appendChild(docLink);\n",
              "        }\n",
              "      </script>\n",
              "    </div>\n",
              "  </div>\n",
              "  "
            ],
            "text/plain": [
              "                                      paragraph-text  ... paragraph-number\n",
              "0                                      Advertisement  ...                0\n",
              "1                                       Supported by  ...                1\n",
              "2                                                  1  ...                2\n",
              "3  NEW HAVEN, Conn., May 6.--American institution...  ...                3\n",
              "4                                      Advertisement  ...                4\n",
              "\n",
              "[5 rows x 3 columns]"
            ]
          },
          "metadata": {},
          "execution_count": 32
        }
      ]
    },
    {
      "cell_type": "markdown",
      "metadata": {
        "id": "dXtaSZCkOmbE"
      },
      "source": [
        "## API (Tumblr)\n",
        "\n",
        "Generally website owners do not like you scraping their sites. If done badly,\n",
        "scarping can act like a DOS attack so you should be careful how often you make\n",
        "calls to a site. Some sites want automated tools to access their data, so they\n",
        "create [application programming interface\n",
        "(APIs)](https://en.wikipedia.org/wiki/Application_programming_interface). An API\n",
        "specifies a procedure for an application (or script) to access their data. Often\n",
        "this is though a [representational state transfer\n",
        "(REST)](https://en.wikipedia.org/wiki/Representational_state_transfer) web\n",
        "service, which just means if you make correctly formatted HTTP requests they\n",
        "will return nicely formatted data.\n",
        "\n",
        "A nice example for us to study is [Tumblr](https://www.tumblr.com), they have a\n",
        "[simple RESTful API](https://www.tumblr.com/docs/en/api/v1) that allows you to\n",
        "read posts without any complicated html parsing.\n",
        "\n",
        "We can get the first 20 posts from a blog by making an http GET request to\n",
        "`'http://{blog}.tumblr.com/api/read/json'`, were `{blog}` is the name of the\n",
        "target blog. Lets try and get the posts from [http://lolcats-lol-\n",
        "cat.tumblr.com/](http://lolcats-lol-cat.tumblr.com/) (Note the blog says at the\n",
        "top 'One hour one pic lolcats', but the canonical name that Tumblr uses is in\n",
        "the URL 'lolcats-lol-cat')."
      ]
    },
    {
      "cell_type": "code",
      "execution_count": null,
      "metadata": {
        "id": "MG5_q9A6OmbE",
        "colab": {
          "base_uri": "https://localhost:8080/"
        },
        "outputId": "478b7a39-c6e8-4209-e582-50bcb41c36b6"
      },
      "outputs": [
        {
          "output_type": "stream",
          "name": "stdout",
          "text": [
            "var tumblr_api_read = {\"tumblelog\":{\"title\":\"One hour one pic lolcats\",\"description\":\"\",\"name\":\"lolcats-lol-cat\",\"timezone\":\"Europe\\/Paris\",\"cname\":false,\"feeds\":[]},\"posts-start\":0,\"posts-total\":3925,\"posts-type\":false,\"posts\":[{\"id\":\"662815854023655425\",\"url\":\"https:\\/\\/lolcats-lol-cat.tumblr.com\\/post\\/662815854023655425\",\"url-with-slug\":\"https:\\/\\/lolcats-lol-cat.tumblr.com\\/post\\/662815854023655425\",\"type\":\"photo\",\"date-gmt\":\"2021-09-20 04:00:56 GMT\",\"date\":\"Mon, 20 Sep 2021 06:00:56\",\"bookmarklet\":0,\"mobile\":0,\"feed-item\":\"\",\"from-feed-id\":0,\"unix-timestamp\":1632110456,\"format\":\"html\",\"reblog-key\":\"kjH8cg34\",\"slug\":\"\",\"is-submission\":false,\"like-button\":\"<div class=\\\"like_button\\\" data-post-id=\\\"662815854023655425\\\" data-blog-name=\\\"lolcats-lol-cat\\\" id=\\\"like_button_662815854023655425\\\"><iframe id=\\\"like_iframe_662815854023655425\\\" src=\\\"https:\\/\\/assets.tumblr.com\\/assets\\/html\\/like_iframe.html?_v=66c22ab5319d742bca5762b8d18f9d06#name=lolcats-lol-cat&amp;post_id=66281585402365\n"
          ]
        }
      ],
      "source": [
        "tumblrAPItarget = 'http://{}.tumblr.com/api/read/json'\n",
        "\n",
        "r = requests.get(tumblrAPItarget.format('lolcats-lol-cat'))\n",
        "\n",
        "print(r.text[:1000])"
      ]
    },
    {
      "cell_type": "markdown",
      "metadata": {
        "id": "fUyJcV_BOmbF"
      },
      "source": [
        "This might not look very good on first inspection, but it has far fewer angle\n",
        "braces than html, which makes it easier to parse. What we have is\n",
        "[JSON](https://en.wikipedia.org/wiki/JSON) a 'human readable' text based data\n",
        "transmission format based on javascript. Luckily, we can readily convert it to a\n",
        "python `dict`."
      ]
    },
    {
      "cell_type": "code",
      "execution_count": null,
      "metadata": {
        "id": "NAanoykvOmbF",
        "colab": {
          "base_uri": "https://localhost:8080/"
        },
        "outputId": "e31081c0-4246-4662-dd67-ef3ff5a688d6"
      },
      "outputs": [
        {
          "output_type": "stream",
          "name": "stdout",
          "text": [
            "dict_keys(['tumblelog', 'posts-start', 'posts-total', 'posts-type', 'posts'])\n",
            "20\n"
          ]
        }
      ],
      "source": [
        "#We need to load only the stuff between the curly braces\n",
        "d = json.loads(r.text[len('var tumblr_api_read = '):-2])\n",
        "print(d.keys())\n",
        "print(len(d['posts']))"
      ]
    },
    {
      "cell_type": "markdown",
      "metadata": {
        "id": "qiJMc6rMOmbF"
      },
      "source": [
        "If we read the [API specification](https://www.tumblr.com/docs/en/api/v1), we\n",
        "will see there are a lot of things we can get if we add things to our GET\n",
        "request. First we can retrieve posts by their id number. Let's first get post\n",
        "`146020177084`."
      ]
    },
    {
      "cell_type": "code",
      "execution_count": null,
      "metadata": {
        "id": "BwWjv6WHOmbG"
      },
      "outputs": [],
      "source": [
        "r = requests.get(tumblrAPItarget.format('lolcats-lol-cat'), params = {'id' : 146020177084})\n",
        "d = json.loads(r.text[len('var tumblr_api_read = '):-2])\n",
        "d['posts'][0].keys()\n",
        "d['posts'][0]['photo-url-1280']\n",
        "\n",
        "with open('lolcat.gif', 'wb') as f:\n",
        "    gifRequest = requests.get(d['posts'][0]['photo-url-1280'], stream = True)\n",
        "    f.write(gifRequest.content)"
      ]
    },
    {
      "cell_type": "markdown",
      "metadata": {
        "id": "J3RRqYt-OmbG"
      },
      "source": [
        "<img src='lolcat.gif'>\n",
        "\n",
        "Such beauty; such vigor (If you can't see it you have to refresh the page). Now\n",
        "we could retrieve the text from all posts as well\n",
        "as related metadata, like the post date, caption or tags. We could also get\n",
        "links to all the images."
      ]
    },
    {
      "cell_type": "code",
      "execution_count": null,
      "metadata": {
        "id": "KM33Tbc4OmbG",
        "colab": {
          "base_uri": "https://localhost:8080/",
          "height": 1000
        },
        "outputId": "5382a2af-f636-44dc-89c5-75211119a21d"
      },
      "outputs": [
        {
          "output_type": "execute_result",
          "data": {
            "text/html": [
              "\n",
              "  <div id=\"df-c54b7eed-9952-4bb3-9753-aaf764a04e42\">\n",
              "    <div class=\"colab-df-container\">\n",
              "      <div>\n",
              "<style scoped>\n",
              "    .dataframe tbody tr th:only-of-type {\n",
              "        vertical-align: middle;\n",
              "    }\n",
              "\n",
              "    .dataframe tbody tr th {\n",
              "        vertical-align: top;\n",
              "    }\n",
              "\n",
              "    .dataframe thead th {\n",
              "        text-align: right;\n",
              "    }\n",
              "</style>\n",
              "<table border=\"1\" class=\"dataframe\">\n",
              "  <thead>\n",
              "    <tr style=\"text-align: right;\">\n",
              "      <th></th>\n",
              "      <th>id</th>\n",
              "      <th>photo-url</th>\n",
              "      <th>date</th>\n",
              "      <th>tags</th>\n",
              "      <th>photo-type</th>\n",
              "    </tr>\n",
              "  </thead>\n",
              "  <tbody>\n",
              "    <tr>\n",
              "      <th>0</th>\n",
              "      <td>662815854023655425</td>\n",
              "      <td>https://64.media.tumblr.com/021eac8fbcafbb00a5...</td>\n",
              "      <td>Mon, 20 Sep 2021 06:00:56</td>\n",
              "      <td>[gif, lolcat, lolcats, cat, funny]</td>\n",
              "      <td>gif</td>\n",
              "    </tr>\n",
              "    <tr>\n",
              "      <th>1</th>\n",
              "      <td>662778109891952640</td>\n",
              "      <td>https://64.media.tumblr.com/8c0517adb8c71e4a3d...</td>\n",
              "      <td>Sun, 19 Sep 2021 20:01:00</td>\n",
              "      <td>[cat, cats, lol, lolcat, lolcats]</td>\n",
              "      <td>png</td>\n",
              "    </tr>\n",
              "    <tr>\n",
              "      <th>2</th>\n",
              "      <td>662657302700146688</td>\n",
              "      <td>https://64.media.tumblr.com/061d27cda309d5c809...</td>\n",
              "      <td>Sat, 18 Sep 2021 12:00:50</td>\n",
              "      <td>[cat, cats, lol, lolcat, lolcats]</td>\n",
              "      <td>jpg</td>\n",
              "    </tr>\n",
              "    <tr>\n",
              "      <th>3</th>\n",
              "      <td>662513901538246656</td>\n",
              "      <td>https://64.media.tumblr.com/80584a9d1ff4ddc4fc...</td>\n",
              "      <td>Thu, 16 Sep 2021 22:01:32</td>\n",
              "      <td>[cat, cats, lol, lolcat, lolcats]</td>\n",
              "      <td>png</td>\n",
              "    </tr>\n",
              "    <tr>\n",
              "      <th>4</th>\n",
              "      <td>662257177983090688</td>\n",
              "      <td>https://64.media.tumblr.com/893b320cd2e8970a20...</td>\n",
              "      <td>Tue, 14 Sep 2021 02:01:01</td>\n",
              "      <td>[cat, cats, lol, lolcat, lolcats]</td>\n",
              "      <td>jpg</td>\n",
              "    </tr>\n",
              "    <tr>\n",
              "      <th>5</th>\n",
              "      <td>662166591527698432</td>\n",
              "      <td>https://64.media.tumblr.com/c7f0a0a9184e480e15...</td>\n",
              "      <td>Mon, 13 Sep 2021 02:01:11</td>\n",
              "      <td>[cat, cats, lol, lolcat, lolcats]</td>\n",
              "      <td>jpg</td>\n",
              "    </tr>\n",
              "    <tr>\n",
              "      <th>6</th>\n",
              "      <td>662113740899090432</td>\n",
              "      <td>https://64.media.tumblr.com/07f7be7f71917a6049...</td>\n",
              "      <td>Sun, 12 Sep 2021 12:01:09</td>\n",
              "      <td>[cat, cats, lol, lolcat, lolcats]</td>\n",
              "      <td>jpg</td>\n",
              "    </tr>\n",
              "    <tr>\n",
              "      <th>7</th>\n",
              "      <td>661955166248026112</td>\n",
              "      <td>https://64.media.tumblr.com/205f030c48d31f8960...</td>\n",
              "      <td>Fri, 10 Sep 2021 18:00:40</td>\n",
              "      <td>[cat, cats, lol, lolcat, lolcats]</td>\n",
              "      <td>jpg</td>\n",
              "    </tr>\n",
              "    <tr>\n",
              "      <th>8</th>\n",
              "      <td>661894830378614784</td>\n",
              "      <td>https://64.media.tumblr.com/c463bff883fec2045b...</td>\n",
              "      <td>Fri, 10 Sep 2021 02:01:39</td>\n",
              "      <td>[cat, cats, lol, lolcat, lolcats]</td>\n",
              "      <td>png</td>\n",
              "    </tr>\n",
              "    <tr>\n",
              "      <th>9</th>\n",
              "      <td>661864596682964992</td>\n",
              "      <td>https://64.media.tumblr.com/b840ddb3aa2303206b...</td>\n",
              "      <td>Thu, 09 Sep 2021 18:01:06</td>\n",
              "      <td>[cat, cats, lol, lolcat, lolcats]</td>\n",
              "      <td>jpg</td>\n",
              "    </tr>\n",
              "    <tr>\n",
              "      <th>10</th>\n",
              "      <td>661826822696321024</td>\n",
              "      <td>https://64.media.tumblr.com/adc18e35b1844be41a...</td>\n",
              "      <td>Thu, 09 Sep 2021 08:00:42</td>\n",
              "      <td>[cat, cats, lol, lolcat, lolcats]</td>\n",
              "      <td>png</td>\n",
              "    </tr>\n",
              "    <tr>\n",
              "      <th>11</th>\n",
              "      <td>661804260632215552</td>\n",
              "      <td>https://64.media.tumblr.com/caae5b433ada6d6cb3...</td>\n",
              "      <td>Thu, 09 Sep 2021 02:02:05</td>\n",
              "      <td>[cat, cats, lol, lolcat, lolcats]</td>\n",
              "      <td>png</td>\n",
              "    </tr>\n",
              "    <tr>\n",
              "      <th>12</th>\n",
              "      <td>661766453508407296</td>\n",
              "      <td>https://64.media.tumblr.com/9d8cf92208aec32b93...</td>\n",
              "      <td>Wed, 08 Sep 2021 16:01:10</td>\n",
              "      <td>[cat, cats, lol, lolcat, lolcats]</td>\n",
              "      <td>jpg</td>\n",
              "    </tr>\n",
              "    <tr>\n",
              "      <th>13</th>\n",
              "      <td>661623017704685568</td>\n",
              "      <td>https://64.media.tumblr.com/4a5ae6732ab54227a4...</td>\n",
              "      <td>Tue, 07 Sep 2021 02:01:19</td>\n",
              "      <td>[cat, cats, lol, lolcat, lolcats]</td>\n",
              "      <td>jpg</td>\n",
              "    </tr>\n",
              "    <tr>\n",
              "      <th>14</th>\n",
              "      <td>661555057316298752</td>\n",
              "      <td>https://64.media.tumblr.com/c92a31829a6d88381e...</td>\n",
              "      <td>Mon, 06 Sep 2021 08:01:07</td>\n",
              "      <td>[cat, cats, lol, lolcat, lolcats]</td>\n",
              "      <td>jpg</td>\n",
              "    </tr>\n",
              "    <tr>\n",
              "      <th>15</th>\n",
              "      <td>661509804401065984</td>\n",
              "      <td>https://64.media.tumblr.com/2653be7b6e3a8efb9e...</td>\n",
              "      <td>Sun, 05 Sep 2021 20:01:50</td>\n",
              "      <td>[cat, cats, lol, lolcat, lolcats]</td>\n",
              "      <td>png</td>\n",
              "    </tr>\n",
              "    <tr>\n",
              "      <th>16</th>\n",
              "      <td>661411625970106368</td>\n",
              "      <td>https://64.media.tumblr.com/e508b4d0fcc083750b...</td>\n",
              "      <td>Sat, 04 Sep 2021 18:01:20</td>\n",
              "      <td>[cat, cats, lol, lolcat, lolcats]</td>\n",
              "      <td>jpg</td>\n",
              "    </tr>\n",
              "    <tr>\n",
              "      <th>17</th>\n",
              "      <td>661260621178945536</td>\n",
              "      <td>https://64.media.tumblr.com/28e64b8d19014a4c98...</td>\n",
              "      <td>Fri, 03 Sep 2021 02:01:10</td>\n",
              "      <td>[cat, cats, lol, lolcat, lolcats]</td>\n",
              "      <td>png</td>\n",
              "    </tr>\n",
              "    <tr>\n",
              "      <th>18</th>\n",
              "      <td>661177569862991872</td>\n",
              "      <td>https://64.media.tumblr.com/9ffadbe3e1d5fb20f8...</td>\n",
              "      <td>Thu, 02 Sep 2021 04:01:06</td>\n",
              "      <td>[cat, cats, lol, lolcat, lolcats]</td>\n",
              "      <td>png</td>\n",
              "    </tr>\n",
              "    <tr>\n",
              "      <th>19</th>\n",
              "      <td>661154964805140480</td>\n",
              "      <td>https://64.media.tumblr.com/27dce173c9e6cf3f05...</td>\n",
              "      <td>Wed, 01 Sep 2021 22:01:49</td>\n",
              "      <td>[cat, cats, lol, lolcat, lolcats]</td>\n",
              "      <td>jpg</td>\n",
              "    </tr>\n",
              "    <tr>\n",
              "      <th>20</th>\n",
              "      <td>660988818837651457</td>\n",
              "      <td>https://64.media.tumblr.com/02db958e8649c04d19...</td>\n",
              "      <td>Tue, 31 Aug 2021 02:00:59</td>\n",
              "      <td>[cat, cats, lol, lolcat, lolcats]</td>\n",
              "      <td>jpg</td>\n",
              "    </tr>\n",
              "    <tr>\n",
              "      <th>21</th>\n",
              "      <td>660935942249578496</td>\n",
              "      <td>https://64.media.tumblr.com/80b5d0f3c5636990b9...</td>\n",
              "      <td>Mon, 30 Aug 2021 12:00:32</td>\n",
              "      <td>[cat, cats, lol, lolcat, lolcats]</td>\n",
              "      <td>jpg</td>\n",
              "    </tr>\n",
              "    <tr>\n",
              "      <th>22</th>\n",
              "      <td>660905765646843905</td>\n",
              "      <td>https://64.media.tumblr.com/a2eb4c91986a0c1e23...</td>\n",
              "      <td>Mon, 30 Aug 2021 04:00:54</td>\n",
              "      <td>[cat, cats, lol, lolcat, lolcats]</td>\n",
              "      <td>jpg</td>\n",
              "    </tr>\n",
              "    <tr>\n",
              "      <th>23</th>\n",
              "      <td>660898202755661824</td>\n",
              "      <td>https://64.media.tumblr.com/061d27cda309d5c809...</td>\n",
              "      <td>Mon, 30 Aug 2021 02:00:41</td>\n",
              "      <td>[cat, cats, lol, lolcat, lolcats]</td>\n",
              "      <td>jpg</td>\n",
              "    </tr>\n",
              "    <tr>\n",
              "      <th>24</th>\n",
              "      <td>660883122996576256</td>\n",
              "      <td>https://64.media.tumblr.com/2d1137cbf0dbe21d8b...</td>\n",
              "      <td>Sun, 29 Aug 2021 22:01:00</td>\n",
              "      <td>[cat, cats, lol, lolcat, lolcats]</td>\n",
              "      <td>png</td>\n",
              "    </tr>\n",
              "    <tr>\n",
              "      <th>25</th>\n",
              "      <td>660732105459924992</td>\n",
              "      <td>https://64.media.tumblr.com/cccbbc09b009b581a9...</td>\n",
              "      <td>Sat, 28 Aug 2021 06:00:38</td>\n",
              "      <td>[cat, cats, lol, lolcat, lolcats]</td>\n",
              "      <td>jpg</td>\n",
              "    </tr>\n",
              "    <tr>\n",
              "      <th>26</th>\n",
              "      <td>660475424163364864</td>\n",
              "      <td>https://64.media.tumblr.com/9d700e79b1615fac2f...</td>\n",
              "      <td>Wed, 25 Aug 2021 10:00:48</td>\n",
              "      <td>[cat, cats, lol, lolcat, lolcats]</td>\n",
              "      <td>jpg</td>\n",
              "    </tr>\n",
              "    <tr>\n",
              "      <th>27</th>\n",
              "      <td>660324431590277120</td>\n",
              "      <td>https://64.media.tumblr.com/7cc2c0f675bc099be4...</td>\n",
              "      <td>Mon, 23 Aug 2021 18:00:50</td>\n",
              "      <td>[cat, cats, lol, lolcat, lolcats]</td>\n",
              "      <td>png</td>\n",
              "    </tr>\n",
              "    <tr>\n",
              "      <th>28</th>\n",
              "      <td>660196106964221952</td>\n",
              "      <td>https://64.media.tumblr.com/c024195387a46a6f77...</td>\n",
              "      <td>Sun, 22 Aug 2021 08:01:10</td>\n",
              "      <td>[cat, cats, lol, lolcat, lolcats]</td>\n",
              "      <td>png</td>\n",
              "    </tr>\n",
              "    <tr>\n",
              "      <th>29</th>\n",
              "      <td>660143257603506176</td>\n",
              "      <td>https://64.media.tumblr.com/fdf46563a9b09ec147...</td>\n",
              "      <td>Sat, 21 Aug 2021 18:01:09</td>\n",
              "      <td>[cat, cats, lol, lolcat, lolcats]</td>\n",
              "      <td>jpg</td>\n",
              "    </tr>\n",
              "    <tr>\n",
              "      <th>30</th>\n",
              "      <td>660060193333346304</td>\n",
              "      <td>https://64.media.tumblr.com/4183c34ae67f92f290...</td>\n",
              "      <td>Fri, 20 Aug 2021 20:00:53</td>\n",
              "      <td>[cat, cats, lol, lolcat, lolcats]</td>\n",
              "      <td>jpg</td>\n",
              "    </tr>\n",
              "    <tr>\n",
              "      <th>31</th>\n",
              "      <td>659743087466332160</td>\n",
              "      <td>https://64.media.tumblr.com/01c63fcc1d5fc2e0e0...</td>\n",
              "      <td>Tue, 17 Aug 2021 08:00:37</td>\n",
              "      <td>[cat, cats, lol, lolcat, lolcats]</td>\n",
              "      <td>png</td>\n",
              "    </tr>\n",
              "    <tr>\n",
              "      <th>32</th>\n",
              "      <td>659705393411391488</td>\n",
              "      <td>https://64.media.tumblr.com/42a1477d18728fb088...</td>\n",
              "      <td>Mon, 16 Aug 2021 22:01:30</td>\n",
              "      <td>[cat, cats, lol, lolcat, lolcats]</td>\n",
              "      <td>png</td>\n",
              "    </tr>\n",
              "    <tr>\n",
              "      <th>33</th>\n",
              "      <td>659660051218317312</td>\n",
              "      <td>https://64.media.tumblr.com/a4392b133ed186fad8...</td>\n",
              "      <td>Mon, 16 Aug 2021 10:00:48</td>\n",
              "      <td>[cat, cats, lol, lolcat, lolcats]</td>\n",
              "      <td>jpg</td>\n",
              "    </tr>\n",
              "    <tr>\n",
              "      <th>34</th>\n",
              "      <td>659539266591981568</td>\n",
              "      <td>https://64.media.tumblr.com/9024bc51ad17d40b80...</td>\n",
              "      <td>Sun, 15 Aug 2021 02:00:59</td>\n",
              "      <td>[cat, cats, lol, lolcat, lolcats]</td>\n",
              "      <td>jpg</td>\n",
              "    </tr>\n",
              "    <tr>\n",
              "      <th>35</th>\n",
              "      <td>659509078641557504</td>\n",
              "      <td>https://64.media.tumblr.com/12afb1b79928488a1a...</td>\n",
              "      <td>Sat, 14 Aug 2021 18:01:09</td>\n",
              "      <td>[cat, cats, lol, lolcat, lolcats]</td>\n",
              "      <td>png</td>\n",
              "    </tr>\n",
              "    <tr>\n",
              "      <th>36</th>\n",
              "      <td>659342999892967424</td>\n",
              "      <td>https://64.media.tumblr.com/29a90b59498d9ae55f...</td>\n",
              "      <td>Thu, 12 Aug 2021 22:01:24</td>\n",
              "      <td>[cat, cats, lol, lolcat, lolcats]</td>\n",
              "      <td>jpg</td>\n",
              "    </tr>\n",
              "    <tr>\n",
              "      <th>37</th>\n",
              "      <td>659108907014356992</td>\n",
              "      <td>https://64.media.tumblr.com/7a11be8b9524535da2...</td>\n",
              "      <td>Tue, 10 Aug 2021 08:00:36</td>\n",
              "      <td>[cat, cats, lol, lolcat, lolcats]</td>\n",
              "      <td>jpg</td>\n",
              "    </tr>\n",
              "    <tr>\n",
              "      <th>38</th>\n",
              "      <td>658867320238850049</td>\n",
              "      <td>https://64.media.tumblr.com/bf7efc7edad65675ad...</td>\n",
              "      <td>Sat, 07 Aug 2021 16:00:41</td>\n",
              "      <td>[cat, cats, lol, lolcat, lolcats]</td>\n",
              "      <td>jpg</td>\n",
              "    </tr>\n",
              "    <tr>\n",
              "      <th>39</th>\n",
              "      <td>658844675622453248</td>\n",
              "      <td>https://64.media.tumblr.com/c2b58415fe3fed86a2...</td>\n",
              "      <td>Sat, 07 Aug 2021 10:00:45</td>\n",
              "      <td>[cat, cats, lol, lolcat, lolcats]</td>\n",
              "      <td>jpg</td>\n",
              "    </tr>\n",
              "    <tr>\n",
              "      <th>40</th>\n",
              "      <td>658814510935769088</td>\n",
              "      <td>https://64.media.tumblr.com/d70155b2bdd5763cca...</td>\n",
              "      <td>Sat, 07 Aug 2021 02:01:18</td>\n",
              "      <td>[cat, cats, lol, lolcat, lolcats]</td>\n",
              "      <td>jpg</td>\n",
              "    </tr>\n",
              "    <tr>\n",
              "      <th>41</th>\n",
              "      <td>658338845753999360</td>\n",
              "      <td>https://64.media.tumblr.com/1fca341b03f832d679...</td>\n",
              "      <td>Sun, 01 Aug 2021 20:00:48</td>\n",
              "      <td>[cat, cats, lol, lolcat, lolcats]</td>\n",
              "      <td>png</td>\n",
              "    </tr>\n",
              "    <tr>\n",
              "      <th>42</th>\n",
              "      <td>658225598089609217</td>\n",
              "      <td>https://64.media.tumblr.com/07aad399cc881a2399...</td>\n",
              "      <td>Sat, 31 Jul 2021 14:00:47</td>\n",
              "      <td>[cat, cats, lol, lolcat, lolcats]</td>\n",
              "      <td>jpg</td>\n",
              "    </tr>\n",
              "    <tr>\n",
              "      <th>43</th>\n",
              "      <td>658210575863742464</td>\n",
              "      <td>https://64.media.tumblr.com/d5b0639155ee97c854...</td>\n",
              "      <td>Sat, 31 Jul 2021 10:02:00</td>\n",
              "      <td>[cat, cats, lol, lolcat, lolcats]</td>\n",
              "      <td>jpg</td>\n",
              "    </tr>\n",
              "    <tr>\n",
              "      <th>44</th>\n",
              "      <td>658165190497583104</td>\n",
              "      <td>https://64.media.tumblr.com/ea6ad0eae613c5f60f...</td>\n",
              "      <td>Fri, 30 Jul 2021 22:00:38</td>\n",
              "      <td>[gif, lolcat, lolcats, cat, funny]</td>\n",
              "      <td>gif</td>\n",
              "    </tr>\n",
              "    <tr>\n",
              "      <th>45</th>\n",
              "      <td>657946256220536832</td>\n",
              "      <td>https://64.media.tumblr.com/16cf3a5e394112f7d0...</td>\n",
              "      <td>Wed, 28 Jul 2021 12:00:46</td>\n",
              "      <td>[cat, cats, lol, lolcat, lolcats]</td>\n",
              "      <td>jpg</td>\n",
              "    </tr>\n",
              "    <tr>\n",
              "      <th>46</th>\n",
              "      <td>657931173576704000</td>\n",
              "      <td>https://64.media.tumblr.com/2b7dfb6b1677079a45...</td>\n",
              "      <td>Wed, 28 Jul 2021 08:01:02</td>\n",
              "      <td>[cat, cats, lol, lolcat, lolcats]</td>\n",
              "      <td>jpg</td>\n",
              "    </tr>\n",
              "    <tr>\n",
              "      <th>47</th>\n",
              "      <td>657312093673078784</td>\n",
              "      <td>https://64.media.tumblr.com/17fe9380eed8516e45...</td>\n",
              "      <td>Wed, 21 Jul 2021 12:01:01</td>\n",
              "      <td>[cat, cats, lol, lolcat, lolcats]</td>\n",
              "      <td>png</td>\n",
              "    </tr>\n",
              "    <tr>\n",
              "      <th>48</th>\n",
              "      <td>656677912834195456</td>\n",
              "      <td>https://64.media.tumblr.com/7c4e668dc5eb0e89ed...</td>\n",
              "      <td>Wed, 14 Jul 2021 12:00:59</td>\n",
              "      <td>[cat, cats, lol, lolcat, lolcats]</td>\n",
              "      <td>jpg</td>\n",
              "    </tr>\n",
              "    <tr>\n",
              "      <th>49</th>\n",
              "      <td>656647679801212928</td>\n",
              "      <td>https://64.media.tumblr.com/f411261fd1e6911697...</td>\n",
              "      <td>Wed, 14 Jul 2021 04:00:27</td>\n",
              "      <td>[cat, cats, lol, lolcat, lolcats]</td>\n",
              "      <td>jpg</td>\n",
              "    </tr>\n",
              "  </tbody>\n",
              "</table>\n",
              "</div>\n",
              "      <button class=\"colab-df-convert\" onclick=\"convertToInteractive('df-c54b7eed-9952-4bb3-9753-aaf764a04e42')\"\n",
              "              title=\"Convert this dataframe to an interactive table.\"\n",
              "              style=\"display:none;\">\n",
              "        \n",
              "  <svg xmlns=\"http://www.w3.org/2000/svg\" height=\"24px\"viewBox=\"0 0 24 24\"\n",
              "       width=\"24px\">\n",
              "    <path d=\"M0 0h24v24H0V0z\" fill=\"none\"/>\n",
              "    <path d=\"M18.56 5.44l.94 2.06.94-2.06 2.06-.94-2.06-.94-.94-2.06-.94 2.06-2.06.94zm-11 1L8.5 8.5l.94-2.06 2.06-.94-2.06-.94L8.5 2.5l-.94 2.06-2.06.94zm10 10l.94 2.06.94-2.06 2.06-.94-2.06-.94-.94-2.06-.94 2.06-2.06.94z\"/><path d=\"M17.41 7.96l-1.37-1.37c-.4-.4-.92-.59-1.43-.59-.52 0-1.04.2-1.43.59L10.3 9.45l-7.72 7.72c-.78.78-.78 2.05 0 2.83L4 21.41c.39.39.9.59 1.41.59.51 0 1.02-.2 1.41-.59l7.78-7.78 2.81-2.81c.8-.78.8-2.07 0-2.86zM5.41 20L4 18.59l7.72-7.72 1.47 1.35L5.41 20z\"/>\n",
              "  </svg>\n",
              "      </button>\n",
              "      \n",
              "  <style>\n",
              "    .colab-df-container {\n",
              "      display:flex;\n",
              "      flex-wrap:wrap;\n",
              "      gap: 12px;\n",
              "    }\n",
              "\n",
              "    .colab-df-convert {\n",
              "      background-color: #E8F0FE;\n",
              "      border: none;\n",
              "      border-radius: 50%;\n",
              "      cursor: pointer;\n",
              "      display: none;\n",
              "      fill: #1967D2;\n",
              "      height: 32px;\n",
              "      padding: 0 0 0 0;\n",
              "      width: 32px;\n",
              "    }\n",
              "\n",
              "    .colab-df-convert:hover {\n",
              "      background-color: #E2EBFA;\n",
              "      box-shadow: 0px 1px 2px rgba(60, 64, 67, 0.3), 0px 1px 3px 1px rgba(60, 64, 67, 0.15);\n",
              "      fill: #174EA6;\n",
              "    }\n",
              "\n",
              "    [theme=dark] .colab-df-convert {\n",
              "      background-color: #3B4455;\n",
              "      fill: #D2E3FC;\n",
              "    }\n",
              "\n",
              "    [theme=dark] .colab-df-convert:hover {\n",
              "      background-color: #434B5C;\n",
              "      box-shadow: 0px 1px 3px 1px rgba(0, 0, 0, 0.15);\n",
              "      filter: drop-shadow(0px 1px 2px rgba(0, 0, 0, 0.3));\n",
              "      fill: #FFFFFF;\n",
              "    }\n",
              "  </style>\n",
              "\n",
              "      <script>\n",
              "        const buttonEl =\n",
              "          document.querySelector('#df-c54b7eed-9952-4bb3-9753-aaf764a04e42 button.colab-df-convert');\n",
              "        buttonEl.style.display =\n",
              "          google.colab.kernel.accessAllowed ? 'block' : 'none';\n",
              "\n",
              "        async function convertToInteractive(key) {\n",
              "          const element = document.querySelector('#df-c54b7eed-9952-4bb3-9753-aaf764a04e42');\n",
              "          const dataTable =\n",
              "            await google.colab.kernel.invokeFunction('convertToInteractive',\n",
              "                                                     [key], {});\n",
              "          if (!dataTable) return;\n",
              "\n",
              "          const docLinkHtml = 'Like what you see? Visit the ' +\n",
              "            '<a target=\"_blank\" href=https://colab.research.google.com/notebooks/data_table.ipynb>data table notebook</a>'\n",
              "            + ' to learn more about interactive tables.';\n",
              "          element.innerHTML = '';\n",
              "          dataTable['output_type'] = 'display_data';\n",
              "          await google.colab.output.renderOutput(dataTable, element);\n",
              "          const docLink = document.createElement('div');\n",
              "          docLink.innerHTML = docLinkHtml;\n",
              "          element.appendChild(docLink);\n",
              "        }\n",
              "      </script>\n",
              "    </div>\n",
              "  </div>\n",
              "  "
            ],
            "text/plain": [
              "                    id  ... photo-type\n",
              "0   662815854023655425  ...        gif\n",
              "1   662778109891952640  ...        png\n",
              "2   662657302700146688  ...        jpg\n",
              "3   662513901538246656  ...        png\n",
              "4   662257177983090688  ...        jpg\n",
              "5   662166591527698432  ...        jpg\n",
              "6   662113740899090432  ...        jpg\n",
              "7   661955166248026112  ...        jpg\n",
              "8   661894830378614784  ...        png\n",
              "9   661864596682964992  ...        jpg\n",
              "10  661826822696321024  ...        png\n",
              "11  661804260632215552  ...        png\n",
              "12  661766453508407296  ...        jpg\n",
              "13  661623017704685568  ...        jpg\n",
              "14  661555057316298752  ...        jpg\n",
              "15  661509804401065984  ...        png\n",
              "16  661411625970106368  ...        jpg\n",
              "17  661260621178945536  ...        png\n",
              "18  661177569862991872  ...        png\n",
              "19  661154964805140480  ...        jpg\n",
              "20  660988818837651457  ...        jpg\n",
              "21  660935942249578496  ...        jpg\n",
              "22  660905765646843905  ...        jpg\n",
              "23  660898202755661824  ...        jpg\n",
              "24  660883122996576256  ...        png\n",
              "25  660732105459924992  ...        jpg\n",
              "26  660475424163364864  ...        jpg\n",
              "27  660324431590277120  ...        png\n",
              "28  660196106964221952  ...        png\n",
              "29  660143257603506176  ...        jpg\n",
              "30  660060193333346304  ...        jpg\n",
              "31  659743087466332160  ...        png\n",
              "32  659705393411391488  ...        png\n",
              "33  659660051218317312  ...        jpg\n",
              "34  659539266591981568  ...        jpg\n",
              "35  659509078641557504  ...        png\n",
              "36  659342999892967424  ...        jpg\n",
              "37  659108907014356992  ...        jpg\n",
              "38  658867320238850049  ...        jpg\n",
              "39  658844675622453248  ...        jpg\n",
              "40  658814510935769088  ...        jpg\n",
              "41  658338845753999360  ...        png\n",
              "42  658225598089609217  ...        jpg\n",
              "43  658210575863742464  ...        jpg\n",
              "44  658165190497583104  ...        gif\n",
              "45  657946256220536832  ...        jpg\n",
              "46  657931173576704000  ...        jpg\n",
              "47  657312093673078784  ...        png\n",
              "48  656677912834195456  ...        jpg\n",
              "49  656647679801212928  ...        jpg\n",
              "\n",
              "[50 rows x 5 columns]"
            ]
          },
          "metadata": {},
          "execution_count": 29
        }
      ],
      "source": [
        "#Putting a max in case the blog has millions of images\n",
        "#The given max will be rounded up to the nearest multiple of 50\n",
        "def tumblrImageScrape(blogName, maxImages = 200):\n",
        "    #Restating this here so the function isn't dependent on any external variables\n",
        "    tumblrAPItarget = 'http://{}.tumblr.com/api/read/json'\n",
        "\n",
        "    #There are a bunch of possible locations for the photo url\n",
        "    possiblePhotoSuffixes = [1280, 500, 400, 250, 100]\n",
        "\n",
        "    #These are the pieces of information we will be gathering,\n",
        "    #at the end we will convert this to a DataFrame.\n",
        "    #There are a few other datums we could gather like the captions\n",
        "    #you can read the Tumblr documentation to learn how to get them\n",
        "    #https://www.tumblr.com/docs/en/api/v1\n",
        "    postsData = {\n",
        "        'id' : [],\n",
        "        'photo-url' : [],\n",
        "        'date' : [],\n",
        "        'tags' : [],\n",
        "        'photo-type' : []\n",
        "    }\n",
        "\n",
        "    #Tumblr limits us to a max of 50 posts per request\n",
        "    for requestNum in range(maxImages // 50):\n",
        "        requestParams = {\n",
        "            'start' : requestNum * 50,\n",
        "            'num' : 50,\n",
        "            'type' : 'photo'\n",
        "        }\n",
        "        r = requests.get(tumblrAPItarget.format(blogName), params = requestParams)\n",
        "        requestDict = json.loads(r.text[len('var tumblr_api_read = '):-2])\n",
        "        for postDict in requestDict['posts']:\n",
        "            #We are dealing with uncleaned data, we can't trust it.\n",
        "            #Specifically, not all posts are guaranteed to have the fields we want\n",
        "            try:\n",
        "                postsData['id'].append(postDict['id'])\n",
        "                postsData['date'].append(postDict['date'])\n",
        "                postsData['tags'].append(postDict['tags'])\n",
        "            except KeyError as e:\n",
        "                raise KeyError(\"Post {} from {} is missing: {}\".format(postDict['id'], blogName, e))\n",
        "\n",
        "            foundSuffix = False\n",
        "            for suffix in possiblePhotoSuffixes:\n",
        "                try:\n",
        "                    photoURL = postDict['photo-url-{}'.format(suffix)]\n",
        "                    postsData['photo-url'].append(photoURL)\n",
        "                    postsData['photo-type'].append(photoURL.split('.')[-1])\n",
        "                    foundSuffix = True\n",
        "                    break\n",
        "                except KeyError:\n",
        "                    pass\n",
        "            if not foundSuffix:\n",
        "                #Make sure your error messages are useful\n",
        "                #You will be one of the users\n",
        "                raise KeyError(\"Post {} from {} is missing a photo url\".format(postDict['id'], blogName))\n",
        "\n",
        "    return pandas.DataFrame(postsData)\n",
        "tumblrImageScrape('lolcats-lol-cat', 50)"
      ]
    },
    {
      "cell_type": "markdown",
      "metadata": {
        "id": "CswLIJBZOmbH"
      },
      "source": [
        "Now we have the urls of a bunch of images and can run OCR on them to gather\n",
        "compelling meme narratives, accompanied by cats.\n",
        "\n",
        "# Files\n",
        "\n",
        "What if the text we want isn't on a webpage? There are a many other sources of\n",
        "text available, typically organized into *files*.\n",
        "\n",
        "## Raw text (and encoding)\n",
        "\n",
        "The most basic form of storing text is as a _raw text_ document. Source code\n",
        "(`.py`, `.r`, etc) is usually raw text as are text files (`.txt`) and those with\n",
        "many other extension (e.g., .csv, .dat, etc.). Opening an unknown file with a\n",
        "text editor is often a great way of learning what the file is.\n",
        "\n",
        "We can create a text file in python with the `open()` function"
      ]
    },
    {
      "cell_type": "code",
      "execution_count": null,
      "metadata": {
        "id": "iqMbyp3oOmbH"
      },
      "outputs": [],
      "source": [
        "#example_text_file = 'sometextfile.txt'\n",
        "#stringToWrite = 'A line\\nAnother line\\nA line with a few unusual symbols \\u2421 \\u241B \\u20A0 \\u20A1 \\u20A2 \\u20A3 \\u0D60\\n'\n",
        "stringToWrite = 'A line\\nAnother line\\nA line with a few unusual symbols ␡ ␛ ₠ ₡ ₢ ₣ ൠ\\n'\n",
        "\n",
        "with open(example_text_file, mode = 'w', encoding='utf-8') as f:\n",
        "    f.write(stringToWrite)"
      ]
    },
    {
      "cell_type": "markdown",
      "metadata": {
        "id": "9ezVCruFOmbH"
      },
      "source": [
        "Notice the `encoding='utf-8'` argument, which specifies how we map the bits from\n",
        "the file to the glyphs (and whitespace characters like tab (`'\\t'`) or newline\n",
        "(`'\\n'`)) on the screen. When dealing only with latin letters, arabic numerals\n",
        "and the other symbols on America keyboards you usually do not have to worry\n",
        "about encodings as the ones used today are backwards compatible with\n",
        "[ASCII](https://en.wikipedia.org/wiki/ASCII), which gives the binary\n",
        "representation of 128 characters.\n",
        "\n",
        "Some of you, however, will want to use other characters (e.g., Chinese\n",
        "characters). To solve this there is\n",
        "[Unicode](https://en.wikipedia.org/wiki/Unicode) which assigns numbers to\n",
        "symbols, e.g., 041 is `'A'` and 03A3 is `'Σ'` (numbers starting with 0 are\n",
        "hexadecimal). Often non/beyond-ASCII characters are called Unicode characters.\n",
        "Unicode contains 1,114,112 characters, about 10\\% of which have been assigned.\n",
        "Unfortunately there are many ways used to map combinations of bits to Unicode\n",
        "symbols. The ones you are likely to encounter are called by Python _utf-8_,\n",
        "_utf-16_ and _latin-1_. _utf-8_ is the standard for Linux and Mac OS while both\n",
        "_utf-16_ and _latin-1_ are used by windows. If you use the wrong encoding,\n",
        "characters can appear wrong, sometimes change in number or Python could raise an\n",
        "exception. Lets see what happens when we open the file we just created with\n",
        "different encodings."
      ]
    },
    {
      "cell_type": "code",
      "execution_count": null,
      "metadata": {
        "id": "FNSzFZkUOmbI",
        "colab": {
          "base_uri": "https://localhost:8080/"
        },
        "outputId": "b8428682-8530-4b83-e56a-7ece2bf1a2b1"
      },
      "outputs": [
        {
          "output_type": "stream",
          "name": "stdout",
          "text": [
            "This is with the correct encoding:\n",
            "A line\n",
            "Another line\n",
            "A line with a few unusual symbols ␡ ␛ ₠ ₡ ₢ ₣ ൠ\n",
            "\n",
            "This is with the wrong encoding:\n",
            "A line\n",
            "Another line\n",
            "A line with a few unusual symbols â¡ â â  â¡ â¢ â£ àµ \n",
            "\n"
          ]
        }
      ],
      "source": [
        "with open(example_text_file, encoding='utf-8') as f:\n",
        "    print(\"This is with the correct encoding:\")\n",
        "    print(f.read())\n",
        "\n",
        "with open(example_text_file, encoding='latin-1') as f:\n",
        "    print(\"This is with the wrong encoding:\")\n",
        "    print(f.read())"
      ]
    },
    {
      "cell_type": "markdown",
      "metadata": {
        "id": "bw8ytOqgOmbI"
      },
      "source": [
        "Notice that with _latin-1_ the unicode characters are mixed up and there are too\n",
        "many of them. You need to keep in mind encoding when obtaining text files.\n",
        "Determining the encoding can sometime involve substantial work."
      ]
    },
    {
      "cell_type": "markdown",
      "metadata": {
        "id": "bbfdy4vGOmbI"
      },
      "source": [
        "We can also load many text files at once. Lets start by looking at the Shakespeare files in the `data` directory "
      ]
    },
    {
      "cell_type": "code",
      "execution_count": null,
      "metadata": {
        "id": "sjLJ-XecOmbI",
        "colab": {
          "base_uri": "https://localhost:8080/",
          "height": 191
        },
        "outputId": "39481e75-11ba-4f9a-b103-19543738357d"
      },
      "outputs": [
        {
          "output_type": "error",
          "ename": "FileNotFoundError",
          "evalue": "ignored",
          "traceback": [
            "\u001b[0;31m---------------------------------------------------------------------------\u001b[0m",
            "\u001b[0;31mFileNotFoundError\u001b[0m                         Traceback (most recent call last)",
            "\u001b[0;32m<ipython-input-31-4b47ba5edc9e>\u001b[0m in \u001b[0;36m<module>\u001b[0;34m()\u001b[0m\n\u001b[0;32m----> 1\u001b[0;31m \u001b[0;32mwith\u001b[0m \u001b[0mopen\u001b[0m\u001b[0;34m(\u001b[0m\u001b[0;34m'./data/Shakespeare/midsummer_nights_dream.txt'\u001b[0m\u001b[0;34m)\u001b[0m \u001b[0;32mas\u001b[0m \u001b[0mf\u001b[0m\u001b[0;34m:\u001b[0m\u001b[0;34m\u001b[0m\u001b[0;34m\u001b[0m\u001b[0m\n\u001b[0m\u001b[1;32m      2\u001b[0m     \u001b[0mmidsummer\u001b[0m \u001b[0;34m=\u001b[0m \u001b[0mf\u001b[0m\u001b[0;34m.\u001b[0m\u001b[0mread\u001b[0m\u001b[0;34m(\u001b[0m\u001b[0;34m)\u001b[0m\u001b[0;34m\u001b[0m\u001b[0;34m\u001b[0m\u001b[0m\n\u001b[1;32m      3\u001b[0m \u001b[0mprint\u001b[0m\u001b[0;34m(\u001b[0m\u001b[0mmidsummer\u001b[0m\u001b[0;34m[\u001b[0m\u001b[0;34m-\u001b[0m\u001b[0;36m700\u001b[0m\u001b[0;34m:\u001b[0m\u001b[0;34m]\u001b[0m\u001b[0;34m)\u001b[0m\u001b[0;34m\u001b[0m\u001b[0;34m\u001b[0m\u001b[0m\n",
            "\u001b[0;31mFileNotFoundError\u001b[0m: [Errno 2] No such file or directory: './data/Shakespeare/midsummer_nights_dream.txt'"
          ]
        }
      ],
      "source": [
        "with open('./data/Shakespeare/midsummer_nights_dream.txt') as f:\n",
        "    midsummer = f.read()\n",
        "print(midsummer[-700:])"
      ]
    },
    {
      "cell_type": "markdown",
      "metadata": {
        "id": "mRXmq-UaOmbI"
      },
      "source": [
        "By the way, depending on your working directory, you might get errors such as: [Errno 2] No such file or directory: '../data/Shakespeare/midsummer_nights_dream.txt.' Don't panic, it's nothing, just check your working directory. \n",
        "\n",
        "Then to load all the files in `./data/Shakespeare` we can use a for loop with `scandir`:"
      ]
    },
    {
      "cell_type": "code",
      "execution_count": null,
      "metadata": {
        "id": "21UaeDenOmbJ"
      },
      "outputs": [],
      "source": [
        "targetDir = './data/Shakespeare' #Change this to your own directory of texts\n",
        "shakespearText = []\n",
        "shakespearFileName = []\n",
        "\n",
        "for file in (file for file in os.scandir(targetDir) if file.is_file() and not file.name.startswith('.')):\n",
        "    with open(file.path, encoding=\"utf-8\") as f:\n",
        "        shakespearText.append(f.read())\n",
        "    shakespearFileName.append(file.name)"
      ]
    },
    {
      "cell_type": "markdown",
      "metadata": {
        "id": "BWWr9-tcOmbJ"
      },
      "source": [
        "Then we can put them all in pandas DataFrame"
      ]
    },
    {
      "cell_type": "code",
      "execution_count": null,
      "metadata": {
        "id": "Knvif7JmOmbJ"
      },
      "outputs": [],
      "source": [
        "shakespear_df = pandas.DataFrame({'text' : shakespearText}, index = shakespearFileName)\n",
        "shakespear_df"
      ]
    },
    {
      "cell_type": "markdown",
      "metadata": {
        "id": "CWKhyCfCOmbJ"
      },
      "source": [
        "Getting your text in a format like this is the first step of most analysis"
      ]
    },
    {
      "cell_type": "markdown",
      "metadata": {
        "id": "V9T2gL7UOmbJ"
      },
      "source": [
        "## PDF\n",
        "\n",
        "Another common way text will be stored is in a PDF file. First we will download\n",
        "a pdf in Python. To do that lets grab a chapter from\n",
        "_Speech and Language Processing_, chapter 21 is on Information Extraction which\n",
        "seems apt. It is stored as a pdf at [https://web.stanford.edu/~jurafsky/slp3/21.\n",
        "pdf](https://web.stanford.edu/~jurafsky/slp3/21.pdf) although we are downloading\n",
        "from a copy just in case Jurafsky changes their website."
      ]
    },
    {
      "cell_type": "code",
      "execution_count": null,
      "metadata": {
        "id": "zv1NpgUkOmbJ"
      },
      "outputs": [],
      "source": [
        "#information_extraction_pdf = 'https://github.com/KnowledgeLab/content_analysis/raw/data/21.pdf'\n",
        "\n",
        "infoExtractionRequest = requests.get(information_extraction_pdf, stream=True)\n",
        "print(infoExtractionRequest.text[:1000])"
      ]
    },
    {
      "cell_type": "markdown",
      "metadata": {
        "id": "pZcS8uBlOmbJ"
      },
      "source": [
        "It says `'pdf'`, so thats a good sign. The rest though looks like we are having\n",
        "issues with an encoding. The random characters are not caused by our encoding\n",
        "being wrong, however. They are cause by there not being an encoding for those\n",
        "parts at all. PDFs are nominally binary files, meaning there are sections of\n",
        "binary that are specific to pdf and nothing else so you need something that\n",
        "knows about pdf to read them. To do that we will be using\n",
        "[`PyPDF2`](https://github.com/mstamy2/PyPDF2), a PDF processing library for\n",
        "Python 3.\n",
        "\n",
        "\n",
        "Because PDFs are a very complicated file format pdfminer requires a large amount\n",
        "of boilerplate code to extract text, we have written a function that takes in an\n",
        "open PDF file and returns the text so you don't have to."
      ]
    },
    {
      "cell_type": "code",
      "execution_count": null,
      "metadata": {
        "id": "G-NK0_u0OmbK"
      },
      "outputs": [],
      "source": [
        "def readPDF(pdfFile):\n",
        "    #Based on code from http://stackoverflow.com/a/20905381/4955164\n",
        "    #Using utf-8, if there are a bunch of random symbols try changing this\n",
        "    codec = 'utf-8'\n",
        "    rsrcmgr = pdfminer.pdfinterp.PDFResourceManager()\n",
        "    retstr = io.StringIO()\n",
        "    layoutParams = pdfminer.layout.LAParams()\n",
        "    device = pdfminer.converter.TextConverter(rsrcmgr, retstr, laparams = layoutParams, codec = codec)\n",
        "    #We need a device and an interpreter\n",
        "    interpreter = pdfminer.pdfinterp.PDFPageInterpreter(rsrcmgr, device)\n",
        "    password = ''\n",
        "    maxpages = 0\n",
        "    caching = True\n",
        "    pagenos=set()\n",
        "    for page in pdfminer.pdfpage.PDFPage.get_pages(pdfFile, pagenos, maxpages=maxpages, password=password,caching=caching, check_extractable=True):\n",
        "        interpreter.process_page(page)\n",
        "    device.close()\n",
        "    returnedString = retstr.getvalue()\n",
        "    retstr.close()\n",
        "    return returnedString"
      ]
    },
    {
      "cell_type": "markdown",
      "metadata": {
        "id": "4z-HjO90OmbK"
      },
      "source": [
        "First we need to take the response object and convert it into a 'file like'\n",
        "object so that pdfminer can read it. To do this we will use `io`'s `BytesIO`."
      ]
    },
    {
      "cell_type": "code",
      "execution_count": null,
      "metadata": {
        "id": "sM0uY2utOmbK"
      },
      "outputs": [],
      "source": [
        "infoExtractionBytes = io.BytesIO(infoExtractionRequest.content)"
      ]
    },
    {
      "cell_type": "markdown",
      "metadata": {
        "id": "stf5WQdeOmbK"
      },
      "source": [
        "Now we can give it to pdfminer."
      ]
    },
    {
      "cell_type": "code",
      "execution_count": null,
      "metadata": {
        "id": "iuUIzn_UOmbK"
      },
      "outputs": [],
      "source": [
        "print(readPDF(infoExtractionBytes)[:550])"
      ]
    },
    {
      "cell_type": "markdown",
      "metadata": {
        "id": "-AldBWnAOmbK"
      },
      "source": [
        "From here we can either look at the full text or fiddle with our PDF reader and\n",
        "get more information about individual blocks of text.\n",
        "\n",
        "## Word Docs\n",
        "\n",
        "The other type of document you are likely to encounter is the `.docx`, these are\n",
        "actually a version of [XML](https://en.wikipedia.org/wiki/Office_Open_XML), just\n",
        "like HTML, and like HTML we will use a specialized parser.\n",
        "\n",
        "For this class we will use [`python-docx`](https://python-\n",
        "docx.readthedocs.io/en/latest/) which provides a nice simple interface for\n",
        "reading `.docx` files"
      ]
    },
    {
      "cell_type": "code",
      "execution_count": null,
      "metadata": {
        "id": "HZwVUc8POmbK"
      },
      "outputs": [],
      "source": [
        "#example_docx = 'https://github.com/KnowledgeLab/content_analysis/raw/data/example_doc.docx'\n",
        "\n",
        "r = requests.get(example_docx, stream=True)\n",
        "d = docx.Document(io.BytesIO(r.content))\n",
        "for paragraph in d.paragraphs[:7]:\n",
        "    print(paragraph.text)"
      ]
    },
    {
      "cell_type": "markdown",
      "metadata": {
        "id": "Zo8XdsmpOmbL"
      },
      "source": [
        "This procedure uses the `io.BytesIO` class again, since `docx.Document` expects\n",
        "a file. Another way to do it is to save the document to a file and then read it\n",
        "like any other file. If we do this we can either delete the file afterwords, or\n",
        "save it and avoid downloading the following time.\n",
        "\n",
        "This function is useful as a part of many different tasks so it and others like it will be added to the helper package `lucem_illud` so we can use it later without having to retype it."
      ]
    },
    {
      "cell_type": "code",
      "execution_count": null,
      "metadata": {
        "id": "H0LzxTw-OmbL"
      },
      "outputs": [],
      "source": [
        "def downloadIfNeeded(targetURL, outputFile, **openkwargs):\n",
        "    if not os.path.isfile(outputFile):\n",
        "        outputDir = os.path.dirname(outputFile)\n",
        "        #This function is a more general os.mkdir()\n",
        "        if len(outputDir) > 0:\n",
        "            os.makedirs(outputDir, exist_ok = True)\n",
        "        r = requests.get(targetURL, stream=True)\n",
        "        #Using a closure like this is generally better than having to\n",
        "        #remember to close the file. There are ways to make this function\n",
        "        #work as a closure too\n",
        "        with open(outputFile, 'wb') as f:\n",
        "            f.write(r.content)\n",
        "    return open(outputFile, **openkwargs)"
      ]
    },
    {
      "cell_type": "markdown",
      "metadata": {
        "id": "BTtnnzAyOmbL"
      },
      "source": [
        "This function will download, save and open `outputFile` as `outputFile` or just\n",
        "open it if `outputFile` exists. By default `open()` will open the file as read\n",
        "only text with the local encoding, which may cause issues if its not a text\n",
        "file."
      ]
    },
    {
      "cell_type": "code",
      "execution_count": null,
      "metadata": {
        "id": "l4F3q0wpOmbL"
      },
      "outputs": [],
      "source": [
        "try:\n",
        "    d = docx.Document(downloadIfNeeded(example_docx, example_docx_save))\n",
        "except Exception as e:\n",
        "    print(e)"
      ]
    },
    {
      "cell_type": "markdown",
      "metadata": {
        "id": "8jy-hEavOmbL"
      },
      "source": [
        "We need to tell `open()` to read in binary mode (`'rb'`), this is why we added\n",
        "`**openkwargs`, this allows us to pass any keyword arguments (kwargs) from\n",
        "`downloadIfNeeded` to `open()`."
      ]
    },
    {
      "cell_type": "code",
      "execution_count": null,
      "metadata": {
        "id": "V9An1Z_QOmbL"
      },
      "outputs": [],
      "source": [
        "d = docx.Document(downloadIfNeeded(example_docx, example_docx_save, mode = 'rb'))\n",
        "for paragraph in d.paragraphs[:7]:\n",
        "    print(paragraph.text)"
      ]
    },
    {
      "cell_type": "markdown",
      "metadata": {
        "id": "AECbTJunOmbL"
      },
      "source": [
        "Now we can read the file with `docx.Document` and not have to wait for it to be\n",
        "downloaded every time."
      ]
    },
    {
      "cell_type": "markdown",
      "metadata": {
        "id": "V_d35FzzOmbM"
      },
      "source": [
        "\n",
        "# <font color=\"red\">Exercise 3</font>\n",
        "<font color=\"red\">Construct cells immediately below this that extract and organize textual content from text, PDF or Word into a pandas dataframe.</font>\n"
      ]
    },
    {
      "cell_type": "code",
      "source": [
        "#Extracting PDF into pandas dataframe"
      ],
      "metadata": {
        "id": "Chr-4grII3vg"
      },
      "execution_count": null,
      "outputs": []
    },
    {
      "cell_type": "markdown",
      "source": [
        "Using "
      ],
      "metadata": {
        "id": "sKkR_9KrMwYb"
      }
    },
    {
      "cell_type": "code",
      "source": [
        "information_extraction_pdf = 'https://zenodo.org/record/2474493/files/article.pdf?download=1'\n",
        "\n",
        "infoExtractionRequest = requests.get(information_extraction_pdf, stream=True)\n",
        "print(infoExtractionRequest.text[:1000])"
      ],
      "metadata": {
        "colab": {
          "base_uri": "https://localhost:8080/"
        },
        "id": "NXUaEz9tM7MF",
        "outputId": "d1a7d8af-4679-4b69-8ac1-a9583a355659"
      },
      "execution_count": 38,
      "outputs": [
        {
          "output_type": "stream",
          "name": "stdout",
          "text": [
            "%PDF-1.4\n",
            "%����\n",
            "5 0 obj\n",
            "<< /Linearized 1 /L 88650 /H [ 999 170 ] /O 8 /E 85058 /N 1 /T 88432 >>\n",
            "endobj\n",
            "                                                                                                                 \n",
            "xref\n",
            "5 27\n",
            "0000000015 00000 n \n",
            "0000000934 00000 n \n",
            "0000000999 00000 n \n",
            "0000001169 00000 n \n",
            "0000001554 00000 n \n",
            "0000002733 00000 n \n",
            "0000003901 00000 n \n",
            "0000004017 00000 n \n",
            "0000004134 00000 n \n",
            "0000004253 00000 n \n",
            "0000004372 00000 n \n",
            "0000005885 00000 n \n",
            "0000007267 00000 n \n",
            "0000008720 00000 n \n",
            "0000010118 00000 n \n",
            "0000011487 00000 n \n",
            "0000012824 00000 n \n",
            "0000014068 00000 n \n",
            "0000015393 00000 n \n",
            "0000081134 00000 n \n",
            "0000081775 00000 n \n",
            "0000081804 00000 n \n",
            "0000081893 00000 n \n",
            "0000082529 00000 n \n",
            "0000083160 00000 n \n",
            "0000083791 00000 n \n",
            "0000084425 00000 n \n",
            "trailer << /Info 4 0 R /Root 6 0 R /Size 32 /Prev 88424                 /ID [<7e60307e33b913374e330b8348fd043f><9256dc8a636740b4a59e270102d10c72>] >>\n",
            "startxref\n",
            "0\n",
            "%%EOF\n",
            "6 0 obj\n",
            "<< /Metadata 3 0 R /Pages 1 0 R /Type /Catalog >>\n",
            "endobj\n",
            "7\n"
          ]
        }
      ]
    },
    {
      "cell_type": "code",
      "source": [
        "def readPDF(pdfFile):\n",
        "    #Based on code from http://stackoverflow.com/a/20905381/4955164\n",
        "    #Using utf-8, if there are a bunch of random symbols try changing this\n",
        "    codec = 'utf-8'\n",
        "    rsrcmgr = pdfminer.pdfinterp.PDFResourceManager()\n",
        "    retstr = io.StringIO()\n",
        "    layoutParams = pdfminer.layout.LAParams()\n",
        "    device = pdfminer.converter.TextConverter(rsrcmgr, retstr, laparams = layoutParams, codec = codec)\n",
        "  \n",
        "    interpreter = pdfminer.pdfinterp.PDFPageInterpreter(rsrcmgr, device)\n",
        "    password = ''\n",
        "    maxpages = 0\n",
        "    caching = True\n",
        "    pagenos=set()\n",
        "    for page in pdfminer.pdfpage.PDFPage.get_pages(pdfFile, pagenos, maxpages=maxpages, password=password,caching=caching, check_extractable=True):\n",
        "        interpreter.process_page(page)\n",
        "    device.close()\n",
        "    returnedString = retstr.getvalue()\n",
        "    retstr.close()\n",
        "    return returnedString"
      ],
      "metadata": {
        "id": "hWoEd7yuNWxO"
      },
      "execution_count": 39,
      "outputs": []
    },
    {
      "cell_type": "code",
      "source": [
        "infoExtractionBytes = io.BytesIO(infoExtractionRequest.content)"
      ],
      "metadata": {
        "id": "bxRZzT8BNZJo"
      },
      "execution_count": 40,
      "outputs": []
    },
    {
      "cell_type": "code",
      "source": [
        "print(readPDF(infoExtractionBytes)[1690:5000])"
      ],
      "metadata": {
        "colab": {
          "base_uri": "https://localhost:8080/"
        },
        "id": "YtMEewkuNbWF",
        "outputId": "8f580fe7-4008-490e-ca07-3562968b6989"
      },
      "execution_count": 54,
      "outputs": [
        {
          "output_type": "stream",
          "name": "stdout",
          "text": [
            " \n",
            "\n",
            "I t   is  the  general  useful- \n",
            "eyes of  the  public. \n",
            "ness  of  the  individual,  not  merely  to  llilnself \n",
            "and  to those with whom he stands  in  business \n",
            "relations,  but  to  society  at  large.  Modern \n",
            "thought ancl  inrestigation  lead  to  the  conclu- \n",
            "sion, that  man  himself,  the  iilstitutions under \n",
            "which he  lives.  and  the  conditions  which  sur-\n",
            "round  him,  arc  subject  to  slow,  progressive \n",
            "changes;  and  that  it  depends  very largely on \n",
            "the  policy  of  each  generation  of  mankind \n",
            "whether  these  c1i:tnges  shall  be  in  the way  of \n",
            "improvement  or  retl.ogression.  During  the \n",
            "next fifty rears all of  us will have passedfrom \n",
            "the  stage  of  :lctive  life,  and  the  course  of \n",
            "events  will  be  very  largely  directed  by  men \n",
            "who are still unboru.  The happiness  of  those \n",
            "Inen is, from the widest philanthropic point  of \n",
            "viem,  just  as  important  as  the  happiness  of \n",
            "those who now  inhabit  the  earth ; and, in  the \n",
            "light of  modern  science,  we  now  see  that  that \n",
            "happiness depends  very largely  upon  our  own \n",
            "actions.  We t h ~ ~ s  \n",
            "an\n",
            "interest  and  a  field  of  solicitude  in which we \n",
            "need the best thought of  the time.  The ques- \n",
            "tion  is, what  form  of  education  and  training \n",
            "will best  fit tlie  now rising  generation  for  the \n",
            "duty of  improving tlie condition of  the genera- \n",
            "tion to follow it ? \n",
            "\n",
            "have  opened  out  to  us \n",
            "\n",
            "WHAT  IS  A  L I B E R A L   E D U C A T I O N ?  \n",
            "I  DO  not  intend,  in  the  present  paper,  to \n",
            "cnter upon the disyutecl  question  between  the \n",
            "advocates of  classicd  culture on the oue hand, \n",
            "nnd  those  of  scientific  training  on  the  other; \n",
            "because  it  seenls  to  me  that the line  on  which \n",
            "the two  parties  diride  is not that which really \n",
            "divlcles  the  thought  of  the  day. \n",
            "If  we  loolr \n",
            "closely  into  the  case.  ~ v cshall  see  that  the \n",
            "objects of  a  higher  education  may  be  divided \n",
            "into three classes,  insteacl  of  the  two  familiar \n",
            "ones of liberal ancl professional. \n",
            "I n  fact, what \n",
            "me  commonly  call  a  liberal  education  should, \n",
            "I  think,  have  two  separate  objects.  With \n",
            "the  iclea  of  a  professional  education  n;e  are \n",
            "all familiar : it is  that which  enal)les  the  pos- \n",
            "sessol- to pursue with  a d ~ ~ a n t a g e  some wealth- \n",
            "proclucing specialty.  Although, in accordance \n",
            "with  n-ell-knonrn ecoiloinic principles,  it is  de- \n",
            "signed  to  illalce  the  indiridual  usef~ll to  his \n",
            "fellow-men,  tlie ultimate  object  in  viem  is  the \n",
            "gaining of  a livelihood  by  the  indivicl~ial him- \n",
            "self.  On  the  other  hand,  the  object  had  in \n",
            "view i11  what is commonl~ lin0~11as culture, is \n",
            "not the  mere  gaining  of  a  livelihood,  but  the \n",
            "acquisition of  those ideas, and the  training  of \n",
            "those powers, which  col~cluce to the  happiness \n",
            "of  the  individual.  From  this  poilit  of  view, \n",
            "colture may be  considered  an end unto itself. \n",
            "\n",
            "The third  object  which we have  to  consider \n",
            "is only  beginning to receive recognition in  the \n",
            "\n",
            "Let it be nnderstooil that we are now speak- \n",
            "ing, not  of  the  education  of  the  masses,  but \n",
            "of  that  higher  education which  is  necessarily \n",
            "confinecl to a small minority.  So far  as  I am \n",
            "aware,  that  fraction  of  the  male  populatioi) \n",
            "which\n"
          ]
        }
      ]
    },
    {
      "cell_type": "markdown",
      "source": [
        "# <font color=\"red\">Exercise 4</font>\n",
        "<font color=\"red\">In the two cells immediately following, describe a possible project (e.g., it might end up being your final project, but need not be if you are still searching): __WHAT__ you will analyze--the texts you will select and the social game, world and actors you intend to learn about through your analysis (<100 words); __WHY__ you will analyze these texts to learn about that context--justify the rationale behind your proposed sample design for this project, based on the readings. What is the social game, social work, or social actors about whom you are seeking to make inferences? What are the virtues of your proposed sample with respect to your research questions? What are its limitations? What are alternatives? What would be a reasonable path to \"scale up\" your sample for further analysis (i.e., high-profile publication)? (<150 words)? [__Note__: your individual or collective project will change over the course of the quarter as new data and/or analysis opportunities arise or if old ones fade away.]</font>"
      ],
      "metadata": {
        "id": "d1TZsRUixXxh"
      }
    },
    {
      "cell_type": "markdown",
      "source": [
        "# What?\n",
        "\n",
        "<100 words\n",
        "\n",
        "I will analyze the texts from Readers’ Guide Retrospective from 1925 to 1950. The social game of interest is in American higher education, and the actors are faculty members and administrators of US universities in that period. Through analyzing the frequencies that terms of the liberal arts and the vocational are used together in the same article, I want to learn about the relationship between liberal education and vocational guidance. "
      ],
      "metadata": {
        "id": "zfLNtcyrxoz2"
      }
    },
    {
      "cell_type": "markdown",
      "source": [
        "# Why?\n",
        "\n",
        "<150 words\n",
        "\n",
        "The articles from Readers' Guide Retrospective include a comprehensive corpus of articles that regular Americans read during the period of interest. This serves as a good starting place to track how the cultural attitude towards the liberal arts and its association with the vocational aspects of education. The inference I would like to make is that the liberal arts was more closely associated with vocational guidance and placement at the beginning – in the 1925 to 1935 period, undergraduate student advising at the University of Chicago contained academic, vocational, and therapeutic counseling. The University thought of the student as a whole person and provided advising in this manner. I hope to infer from the data that the public also considered liberal education closely related to the vocational, but there was an increasing division between the two."
      ],
      "metadata": {
        "id": "viaSJK7jxuKd"
      }
    },
    {
      "cell_type": "markdown",
      "metadata": {
        "id": "Bwyfg2yrOmbM"
      },
      "source": [
        "### Sources:\n",
        "\n",
        "Other popular sources for internet data:\n",
        "\n",
        "[reddit](https://www.reddit.com/) - https://praw.readthedocs.io/en/v2.1.21/\n",
        "\n",
        "[twitter](https://twitter.com/) - https://pypi.org/project/python-twitter/\n",
        "\n",
        "[project gutenburg](https://www.gutenberg.org/) - https://github.com/ageitgey/Gutenberg \n",
        "\n"
      ]
    }
  ],
  "metadata": {
    "kernelspec": {
      "display_name": "Python 3 (ipykernel)",
      "language": "python",
      "name": "python3"
    },
    "language_info": {
      "codemirror_mode": {
        "name": "ipython",
        "version": 3
      },
      "file_extension": ".py",
      "mimetype": "text/x-python",
      "name": "python",
      "nbconvert_exporter": "python",
      "pygments_lexer": "ipython3",
      "version": "3.9.7"
    },
    "colab": {
      "name": "1-Measuring-Meaning-and-Sampling-Draft5.ipynb",
      "provenance": [],
      "collapsed_sections": [
        "bZM9Pw3lOma3",
        "dXtaSZCkOmbE",
        "CswLIJBZOmbH"
      ]
    }
  },
  "nbformat": 4,
  "nbformat_minor": 0
}