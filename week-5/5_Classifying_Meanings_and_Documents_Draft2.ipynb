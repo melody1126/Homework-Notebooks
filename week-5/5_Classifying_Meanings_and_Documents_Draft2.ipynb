{
  "cells": [
    {
      "cell_type": "markdown",
      "metadata": {
        "id": "PaLrFcSuXmBb"
      },
      "source": [
        "# Week 5 - Classifying Meanings & Documents\n",
        "\n",
        "Recall that Week 1 of this course focused on how to find and extract text data, while weeks 2 through 4 each covered a different type of content representations:\n",
        "\n",
        "2. computational linguistics (e.g., keyword count)\n",
        "3. clustering and topic modeling (e.g., LDA)\n",
        "4. embeddings (e.g., _word2vec_)\n",
        "\n",
        "Now we show how classification, arguably the most common social science task, can be done with different representations. Note that the second representation, *clustering*, allows us to stably partition text data (e.g., documents, turns of conversation) according to all patterns of covariation among available text features. Classification, by contrast, partitions text data according to only those features and their variation that enable us to mimic and extrapolate human annotations.\n",
        "\n",
        "We will show how to use a variety of classification methods, including Logistic regression, K-nearest neighbor, decision trees and random forests, support vector machines and even a simple neural network, the perceptron. We will also demonstrate ensemble techniques that can link several such methods into a single, more accurate, classification pipeline. We will finally learn to use conventions and metrics to evaluate classifier performance on out-of-sample data. "
      ]
    },
    {
      "cell_type": "code",
      "source": [
        "from google.colab import drive\n",
        "drive.flush_and_unmount()"
      ],
      "metadata": {
        "colab": {
          "base_uri": "https://localhost:8080/"
        },
        "id": "0A7pZmYvkeKZ",
        "outputId": "14c44a77-f80d-4c7e-f73b-517fac382479"
      },
      "execution_count": null,
      "outputs": [
        {
          "output_type": "stream",
          "name": "stdout",
          "text": [
            "Drive not mounted, so nothing to flush and unmount.\n"
          ]
        }
      ]
    },
    {
      "cell_type": "code",
      "source": [
        "from google.colab import drive\n",
        "drive.mount(\"/content/drive\")"
      ],
      "metadata": {
        "colab": {
          "base_uri": "https://localhost:8080/"
        },
        "id": "6ZC1WJkpkes4",
        "outputId": "b576c178-3bd3-44c0-af74-cef743e69c4e"
      },
      "execution_count": null,
      "outputs": [
        {
          "output_type": "stream",
          "name": "stdout",
          "text": [
            "Mounted at /content/drive\n"
          ]
        }
      ]
    },
    {
      "cell_type": "code",
      "source": [
        "import os\n",
        "root_dir = \"/content/drive/My Drive/\"\n",
        "data_dir = '/content/drive/MyDrive/Chicago/Academics/2022 Winter/Soci 40133 Content Analysis/Homework-Notebooks/data'\n",
        "os.chdir(data_dir)"
      ],
      "metadata": {
        "id": "WWtbZKQEkfg3"
      },
      "execution_count": null,
      "outputs": []
    },
    {
      "cell_type": "code",
      "execution_count": null,
      "metadata": {
        "id": "-9ViCwnLXmBe"
      },
      "outputs": [],
      "source": [
        "#Special module written for this class\n",
        "#This provides access to data and to helper functions from previous weeks\n",
        "#Make sure you update it before starting this notebook\n",
        "!pip install -U git+git://github.com/UChicago-Computational-Content-Analysis/lucem_illud.git\n",
        "import lucem_illud\n",
        "\n",
        "#All these packages need to be installed from pip\n",
        "#For ML\n",
        "import sklearn\n",
        "# import sklearn.naive_bayes\n",
        "import sklearn.tree\n",
        "import sklearn.ensemble\n",
        "import sklearn.neural_network\n",
        "import sklearn.decomposition\n",
        "\n",
        "import numpy as np #arrays\n",
        "import matplotlib.pyplot as plt #Plots\n",
        "import matplotlib.colors # For nice colours\n",
        "import seaborn #Makes plots look nice, also heatmaps\n",
        "import scipy as sp #for interp\n",
        "\n",
        "import pyanno #On python3 make sure to pip install pyanno3\n",
        "\n",
        "#We need to import these this way due to how pyanno is setup\n",
        "from pyanno.measures import pairwise_matrix, agreement, cohens_kappa, cohens_weighted_kappa, fleiss_kappa, krippendorffs_alpha, pearsons_rho, scotts_pi, spearmans_rho\n",
        "from pyanno.annotations import AnnotationsContainer\n",
        "from pyanno.models import ModelA, ModelBt, ModelB\n",
        "\n",
        "from functools import reduce\n",
        "from itertools import permutations\n",
        "import math\n",
        "\n",
        "#These are from the standard library\n",
        "import collections\n",
        "import os\n",
        "import os.path\n",
        "import random\n",
        "import re\n",
        "import glob\n",
        "import pandas\n",
        "import requests\n",
        "import json\n",
        "import math\n",
        "\n",
        "#This 'magic' command makes the plots work better\n",
        "#in the notebook, don't use it outside of a notebook.\n",
        "#Also you can ignore the warning\n",
        "%matplotlib inline"
      ]
    },
    {
      "cell_type": "markdown",
      "metadata": {
        "id": "_D7ITspBXmBf"
      },
      "source": [
        "# Annotations"
      ]
    },
    {
      "cell_type": "markdown",
      "metadata": {
        "id": "CDMiV3BsXmBg"
      },
      "source": [
        "This is a course on \"computational\" content analysis, but the best computer today is arguably still the human brain. Our aim is to augment human intelligence and scholarship. One of the most important strategies is to have real, live _Homo sapiens_ annotate text, assigning numbers or categories to individual texts. We can computationally compare annotations across humans, and we can use annotations to train computational models.\n",
        "\n",
        "Let's take a quick look at Rzhetsky et al (2009)'s sample dataset, which can be found [here](https://github.com/enthought/uchicago-pyanno/tree/master/data). This data is the result of a content analytic / content extraction study in which Andrey Rzhetsky and colleagues from the National Library of Medicine, published [here](http://journals.plos.org/ploscompbiol/article?id=10.1371/journal.pcbi.1000391) in [PLOS Computational Biology](http://journals.plos.org/ploscompbiol/), gave eight annotators 10,000 sentence chunks from biomedical text in biomedical abstracts and articles, then asked them, in a loop design schematically illustrated below that provided 3 independent codings for each document. The sampling strategy pursued diversity by drawing from PubMed abstracts (1000) and full-text articles (9000: 20% from abstracts, 10% from introductions, 20% from methods, 25% from results, and 25% from discussions.) The dataset extract here involves respondents codes for sentences in terms of their *Evidence*: {0, 1, 2, 3, -1} where 0 is the complete lack of evidence, 3 is direct evidence present within the sentence, and -1 is didn't respond. (They also crowdsourced and analyzed *polarity*, *certainty*, and *number*). For example, consider the following two abutting sentence chunks: *\"Because null mutations in toxR and toxT abolish CT and TcpA expression in the El Tor biotype and also attenuate virulence...\"* [i.e., average certainty = 0], *\"...it is likely that the ToxR regulon has functional similarities between the two biotypes despite the clear differences in the inducing parameters observed in vitro\"* [i.e., average certainty = 1].\""
      ]
    },
    {
      "cell_type": "markdown",
      "metadata": {
        "id": "YZX-6iQzXmBh"
      },
      "source": [
        "<img src=\"https://github.com/UChicago-Computational-Content-Analysis/Homework-Notebooks/blob/main/data/loopdesign.png?raw=true\" alt=\"https://github.com/UChicago-Computational-Content-Analysis/Homework-Notebooks/blob/main/data/loopdesign.png?raw=true\" style=\"width:500px\">"
      ]
    },
    {
      "cell_type": "code",
      "execution_count": null,
      "metadata": {
        "id": "ztT6_7hzXmBh"
      },
      "outputs": [],
      "source": [
        "# Remember if you are on Google Colab, you need to upload or `git clone` the datafile\n",
        "# and your path will probably be something like \"#content/drive/MyDrive//data/pyAnno/testdata_numerical.txt\"\n",
        "x = np.loadtxt(\"../data/pyAnno/testdata_numerical.txt\")\n",
        "# make entire array into categorical variables, 1, 2, 3, 4 -> 1st category is anotated as 0, 2nd as 1, 3rd as 2, 4th as 3, -1 as missing value\n",
        "anno = AnnotationsContainer.from_array(x, missing_values=[-1])"
      ]
    },
    {
      "cell_type": "code",
      "source": [
        "x"
      ],
      "metadata": {
        "colab": {
          "base_uri": "https://localhost:8080/"
        },
        "id": "Ou9FSAnChcje",
        "outputId": "f9992573-7042-44bd-b284-453882d38922"
      },
      "execution_count": null,
      "outputs": [
        {
          "output_type": "execute_result",
          "data": {
            "text/plain": [
              "array([[ 2.,  3.,  4., ..., -1., -1., -1.],\n",
              "       [ 1.,  1.,  1., ..., -1., -1., -1.],\n",
              "       [ 3.,  3.,  2., ..., -1., -1., -1.],\n",
              "       ...,\n",
              "       [ 3.,  3., -1., ..., -1., -1.,  2.],\n",
              "       [ 3.,  3., -1., ..., -1., -1.,  4.],\n",
              "       [ 2.,  2., -1., ..., -1., -1.,  1.]])"
            ]
          },
          "metadata": {},
          "execution_count": 6
        }
      ]
    },
    {
      "cell_type": "markdown",
      "metadata": {
        "id": "n6CAqSKsXmBi"
      },
      "source": [
        "Interrogate the AnnotationsContainer object."
      ]
    },
    {
      "cell_type": "code",
      "source": [
        "anno"
      ],
      "metadata": {
        "colab": {
          "base_uri": "https://localhost:8080/"
        },
        "id": "YPTFgUDsg4LR",
        "outputId": "f77f24c0-f7c2-4011-ead4-8a90077717f9"
      },
      "execution_count": null,
      "outputs": [
        {
          "output_type": "execute_result",
          "data": {
            "text/plain": [
              "<pyanno.annotations.AnnotationsContainer at 0x7f15bd6a2dd0>"
            ]
          },
          "metadata": {},
          "execution_count": 6
        }
      ]
    },
    {
      "cell_type": "code",
      "execution_count": null,
      "metadata": {
        "id": "PpBOlNrGXmBi",
        "colab": {
          "base_uri": "https://localhost:8080/"
        },
        "outputId": "173716b9-0bb5-4eab-f685-b6a585926fc1"
      },
      "outputs": [
        {
          "output_type": "execute_result",
          "data": {
            "text/plain": [
              "array([[ 1,  2,  3, ..., -1, -1, -1],\n",
              "       [ 0,  0,  0, ..., -1, -1, -1],\n",
              "       [ 2,  2,  1, ..., -1, -1, -1],\n",
              "       ...,\n",
              "       [ 2,  2, -1, ..., -1, -1,  1],\n",
              "       [ 2,  2, -1, ..., -1, -1,  3],\n",
              "       [ 1,  1, -1, ..., -1, -1,  0]])"
            ]
          },
          "metadata": {},
          "execution_count": 8
        }
      ],
      "source": [
        "anno.annotations"
      ]
    },
    {
      "cell_type": "code",
      "execution_count": null,
      "metadata": {
        "id": "LC4Cicv6XmBj",
        "colab": {
          "base_uri": "https://localhost:8080/"
        },
        "outputId": "d10d817c-3ff2-4dfb-98b4-786bfdf2f982"
      },
      "outputs": [
        {
          "output_type": "execute_result",
          "data": {
            "text/plain": [
              "[1.0, 2.0, 3.0, 4.0]"
            ]
          },
          "metadata": {},
          "execution_count": 9
        }
      ],
      "source": [
        "anno.labels"
      ]
    },
    {
      "cell_type": "code",
      "execution_count": null,
      "metadata": {
        "id": "x74EN5S6XmBj",
        "colab": {
          "base_uri": "https://localhost:8080/"
        },
        "outputId": "bd68b62e-0f36-4118-ecc1-5bac68fc81e0"
      },
      "outputs": [
        {
          "output_type": "execute_result",
          "data": {
            "text/plain": [
              "[-1]"
            ]
          },
          "metadata": {},
          "execution_count": 10
        }
      ],
      "source": [
        "anno.missing_values"
      ]
    },
    {
      "cell_type": "markdown",
      "metadata": {
        "id": "x--dHYzZXmBk"
      },
      "source": [
        "# Annotation Statistics"
      ]
    },
    {
      "cell_type": "markdown",
      "metadata": {
        "id": "kENQwnXkXmBk"
      },
      "source": [
        "First, we assume categorical codes...that each code is qualitatively distinct from each other. Two measures are primarily used for this: Scott's $\\pi$, Cohen's $\\kappa$, and Krippendorff's $\\alpha$ which each measure the extent of agreement between two annotators, but take into account the possibility of the agreement occurring by chance in slightly different ways. Any agreement measure begins with the frequency of codes:"
      ]
    },
    {
      "cell_type": "code",
      "execution_count": null,
      "metadata": {
        "id": "B4m0-oZSXmBk",
        "colab": {
          "base_uri": "https://localhost:8080/"
        },
        "outputId": "518bfd8a-6825-4248-f16d-81945ad6416d"
      },
      "outputs": [
        {
          "output_type": "execute_result",
          "data": {
            "text/plain": [
              "array([0.11666667, 0.245     , 0.34083333, 0.2975    ])"
            ]
          },
          "metadata": {},
          "execution_count": 11
        }
      ],
      "source": [
        "pyanno.measures.agreement.labels_frequency(anno.annotations,4)"
      ]
    },
    {
      "cell_type": "markdown",
      "metadata": {
        "id": "QrpunO36XmBl"
      },
      "source": [
        "Now consider the \"confusion matrix\" or matrix of coded agreements between any two coders:"
      ]
    },
    {
      "cell_type": "code",
      "execution_count": null,
      "metadata": {
        "id": "hyYmEVdqXmBl",
        "colab": {
          "base_uri": "https://localhost:8080/",
          "height": 330
        },
        "outputId": "282928e5-0bee-4c56-e839-0cd07d8a1208"
      },
      "outputs": [
        {
          "output_type": "stream",
          "name": "stdout",
          "text": [
            "[[ 8.  7.  3.  2.]\n",
            " [ 9. 30. 13.  3.]\n",
            " [ 2.  9. 42. 11.]\n",
            " [ 1.  7. 14. 39.]]\n"
          ]
        },
        {
          "output_type": "display_data",
          "data": {
            "image/png": "[encoded data removed]",
            "text/plain": [
              "<Figure size 432x288 with 2 Axes>"
            ]
          },
          "metadata": {
            "needs_background": "light"
          }
        }
      ],
      "source": [
        "c = pyanno.measures.agreement.confusion_matrix(anno.annotations[:,0], anno.annotations[:,1],4)\n",
        "print(c)\n",
        "ac = seaborn.heatmap(c)\n",
        "plt.show()"
      ]
    },
    {
      "cell_type": "markdown",
      "metadata": {
        "id": "CHExHmaJXmBl"
      },
      "source": [
        "Scott's $\\pi$ is computed as:\n",
        "\n",
        "$\\pi = \\frac{\\text{Pr}(a)-\\text{Pr}(e)}{1-\\text{Pr}(e)}$\n",
        "\n",
        "Where Pr($a$) is relative observed agreement, and Pr($e$) is expected agreement using joint proportions calculated from the confusion matrix or matrix of coded agreements between any two coders:"
      ]
    },
    {
      "cell_type": "code",
      "execution_count": null,
      "metadata": {
        "id": "SRX6C_4NXmBl",
        "colab": {
          "base_uri": "https://localhost:8080/"
        },
        "outputId": "b7191de6-660d-4038-e7b4-0cdfa46426b4"
      },
      "outputs": [
        {
          "output_type": "execute_result",
          "data": {
            "text/plain": [
              "0.4386478265891502"
            ]
          },
          "metadata": {},
          "execution_count": 13
        }
      ],
      "source": [
        "scotts_pi(anno.annotations[:,0], anno.annotations[:,1])"
      ]
    },
    {
      "cell_type": "markdown",
      "metadata": {
        "id": "nuvCn94lXmBl"
      },
      "source": [
        "The generalization of Scott's $\\pi$ to $n$ coders is Fleiss' $\\kappa$ (Fleiss called it $\\kappa$ because he thought he was generalizing Cohen's $\\kappa$)"
      ]
    },
    {
      "cell_type": "code",
      "execution_count": null,
      "metadata": {
        "id": "zXbcbWSTXmBm",
        "colab": {
          "base_uri": "https://localhost:8080/"
        },
        "outputId": "67b7553d-5d72-4d97-af30-f10af6c11288"
      },
      "outputs": [
        {
          "output_type": "execute_result",
          "data": {
            "text/plain": [
              "0.40417653771912765"
            ]
          },
          "metadata": {},
          "execution_count": 14
        }
      ],
      "source": [
        "fleiss_kappa(anno.annotations[::])"
      ]
    },
    {
      "cell_type": "markdown",
      "metadata": {
        "id": "JYGEt2NKXmBm"
      },
      "source": [
        "Krippendorff's $\\alpha$ generalizes of Fleiss' $\\kappa$ to $n$ coders and takes into account the fact that annotations here are not categorically different, but ordinal, by adding a weight matrix in which off-diagonal cells contain weights indicating the seriousness of the disagreement between each score. When produced with no arguments, it simply produces an arithmetic distance (e.g., 3-1=2), such that cells one off the diagonal are weighted 1, two off 2, etc."
      ]
    },
    {
      "cell_type": "code",
      "execution_count": null,
      "metadata": {
        "id": "Wt3v_WUPXmBm",
        "colab": {
          "base_uri": "https://localhost:8080/"
        },
        "outputId": "d947814e-f866-4708-cd00-810b78565998"
      },
      "outputs": [
        {
          "output_type": "execute_result",
          "data": {
            "text/plain": [
              "0.6472588223831547"
            ]
          },
          "metadata": {},
          "execution_count": 15
        }
      ],
      "source": [
        "krippendorffs_alpha(anno.annotations[::])"
      ]
    },
    {
      "cell_type": "markdown",
      "metadata": {
        "id": "f8z0xTvAXmBm"
      },
      "source": [
        "Like Scott's $\\pi$, Cohen's $\\kappa$ also takes into account the possibility of the agreement occurring by chance, but in the following way:\n",
        "\n",
        "$\\kappa = \\frac{p_o-p_e}{1-p_e}=1-\\frac{1-p_o}{p_e}$\n",
        "\n",
        "where $p_o$ is the relative observed agreement among raters, and $p_e$ is the hypothetical probability of chance agreement, using the observed data to calculate the probabilities of each observer randomly saying each category. If the raters are in complete agreement then $\\kappa = 1$. If there is no agreement among the raters other than what would be expected by chance (as given by $p_e$), $\\kappa ≤ 0 $. Here, Cohen's $\\kappa$ statistic for the first two annotators is computed. This is probably the most common metric of agreement."
      ]
    },
    {
      "cell_type": "code",
      "execution_count": null,
      "metadata": {
        "id": "fuL8QpoEXmBn"
      },
      "outputs": [],
      "source": [
        "cohens_kappa(anno.annotations[:,0], anno.annotations[:,1])"
      ]
    },
    {
      "cell_type": "code",
      "execution_count": null,
      "metadata": {
        "id": "3DT0QM-kXmBn",
        "colab": {
          "base_uri": "https://localhost:8080/"
        },
        "outputId": "df8311df-8859-4494-c211-3c767e842ae9"
      },
      "outputs": [
        {
          "output_type": "stream",
          "name": "stdout",
          "text": [
            "[[ 1.         -0.125       0.14285714  0.          0.4        -0.125\n",
            "  -0.125      -0.5         0.          0.14285714]\n",
            " [-0.125       1.          0.14285714  0.          0.14285714  0.5\n",
            "   0.         -0.5         0.          0.14285714]\n",
            " [ 0.14285714  0.14285714  1.          0.          0.          0.14285714\n",
            "  -0.5        -0.28571429  0.          0.        ]\n",
            " [ 0.          0.          0.                 nan  0.          0.\n",
            "   0.          0.          0.          0.        ]\n",
            " [ 0.4         0.14285714  0.          0.          1.          0.25\n",
            "   0.25       -0.5         0.          0.5       ]\n",
            " [-0.125       0.5         0.14285714  0.          0.25        1.\n",
            "   0.14285714 -0.28571429  0.          0.57142857]\n",
            " [-0.125       0.         -0.5         0.          0.25        0.14285714\n",
            "   1.          0.14285714  0.          0.25      ]\n",
            " [-0.5        -0.5        -0.28571429  0.         -0.5        -0.28571429\n",
            "   0.14285714  1.          0.         -0.28571429]\n",
            " [ 0.          0.          0.          0.          0.          0.\n",
            "   0.          0.                 nan  0.        ]\n",
            " [ 0.14285714  0.14285714  0.          0.          0.5         0.57142857\n",
            "   0.25       -0.28571429  0.          1.        ]]\n"
          ]
        },
        {
          "output_type": "stream",
          "name": "stderr",
          "text": [
            "/usr/local/lib/python3.7/dist-packages/pyanno/measures/helpers.py:166: RuntimeWarning: invalid value encountered in double_scalars\n",
            "  return (observed_agreement - chance_agreement) / (1. - chance_agreement)\n"
          ]
        }
      ],
      "source": [
        "m = pairwise_matrix(cohens_kappa, anno.annotations)\n",
        "print(m)"
      ]
    },
    {
      "cell_type": "code",
      "execution_count": null,
      "metadata": {
        "id": "TlChn_WeXmBn",
        "colab": {
          "base_uri": "https://localhost:8080/",
          "height": 269
        },
        "outputId": "f4bea521-0faf-47ad-a2e1-a0f7e1b90dda"
      },
      "outputs": [
        {
          "output_type": "display_data",
          "data": {
            "image/png": "[encoded data removed]",
            "text/plain": [
              "<Figure size 432x288 with 2 Axes>"
            ]
          },
          "metadata": {
            "needs_background": "light"
          }
        }
      ],
      "source": [
        "ax = seaborn.heatmap(m)\n",
        "plt.show()"
      ]
    },
    {
      "cell_type": "markdown",
      "metadata": {
        "id": "22VWJRCzXmBn"
      },
      "source": [
        "You can see that this 8 by 3 loop design will be less stable than an 8 choose 3 combinatorial design, because each codes with more others. "
      ]
    },
    {
      "cell_type": "markdown",
      "metadata": {
        "id": "s2qR6G4LXmBn"
      },
      "source": [
        "One can also assess the average Cohen's $\\kappa$ for all pairs of coders that have coded against one another:"
      ]
    },
    {
      "cell_type": "code",
      "execution_count": null,
      "metadata": {
        "id": "HwmQV4DsXmBo",
        "colab": {
          "base_uri": "https://localhost:8080/"
        },
        "outputId": "9d2c7ad0-cc21-4b91-a128-76e5f6376d5e"
      },
      "outputs": [
        {
          "output_type": "execute_result",
          "data": {
            "text/plain": [
              "0.40911598940065674"
            ]
          },
          "metadata": {},
          "execution_count": 19
        }
      ],
      "source": [
        "def pairwise_metric_average(metric, array):\n",
        "    \"\"\"Calculate the pairwise metric average for the real elements of metric function run on an array of annotations\"\"\"\n",
        "    p = permutations(range(array[0,:].size),2)\n",
        "    m = [metric(array[:,x[0]], array[:,x[1]]) for x in p]\n",
        "    clean_m = [c for c in m if not math.isnan(c)]\n",
        "    return reduce(lambda a, b: a + b, clean_m)/len(clean_m)    \n",
        " \n",
        "pairwise_metric_average(cohens_kappa, anno.annotations)"
      ]
    },
    {
      "cell_type": "markdown",
      "metadata": {
        "id": "Ascmoz7KXmBo"
      },
      "source": [
        "As recognized with Krippendorff's flexible $\\alpha$, our scores are *not* categorical, but rather ordered and her considered metric. Weighted $\\kappa$ allows you to count disagreements differently and is useful when codes are ordered as they are here. Here a weight matrix is added to the calculation, in which off-diagonal cells contain weights indicating the seriousness of the disagreement between each score. When automatically produced, it simply produces an arithmetic distance (e.g., 3-1=2), such that cells one off the diagonal are weighted 1, two off 2, etc. Here\n",
        "\n",
        "$\\kappa = 1-\\frac{\\sum^k_{i=1}\\sum^k_{j=1}w_{ij}x_{ij}}{\\sum^k_{i=1}\\sum^k_{j=1}w_{ij}m_{ij}}$\n",
        "\n",
        "where $\\kappa$ = $n$ codes and $w_{ij}$,$x_{ij}$, and $m_{ij}$ represent elements in the weight, observed, and expected matrices, respectively. (Obviously, when diagonal cells contain weights of 0 and off-diagonal cells weights of 1, this equals $\\kappa$)."
      ]
    },
    {
      "cell_type": "code",
      "execution_count": null,
      "metadata": {
        "id": "zYvYlv2LXmBo",
        "colab": {
          "base_uri": "https://localhost:8080/"
        },
        "outputId": "a14727cf-328c-4adb-a083-2b2da3324547"
      },
      "outputs": [
        {
          "output_type": "execute_result",
          "data": {
            "text/plain": [
              "0.5330240507874497"
            ]
          },
          "metadata": {},
          "execution_count": 20
        }
      ],
      "source": [
        "cohens_weighted_kappa(anno.annotations[:,0], anno.annotations[:,1])"
      ]
    },
    {
      "cell_type": "markdown",
      "metadata": {
        "id": "CJGmCFWrXmBo"
      },
      "source": [
        "Or averaged over the total:"
      ]
    },
    {
      "cell_type": "code",
      "execution_count": null,
      "metadata": {
        "id": "e49rv3hcXmBo",
        "colab": {
          "base_uri": "https://localhost:8080/"
        },
        "outputId": "4dbda5d1-5a67-4966-90e3-8a354c98a259"
      },
      "outputs": [
        {
          "output_type": "execute_result",
          "data": {
            "text/plain": [
              "0.5299113458717166"
            ]
          },
          "metadata": {},
          "execution_count": 21
        }
      ],
      "source": [
        "pairwise_metric_average(cohens_weighted_kappa,anno.annotations)"
      ]
    },
    {
      "cell_type": "markdown",
      "metadata": {
        "id": "khG_rqXhXmBo"
      },
      "source": [
        "Alternatively, if the annontation data can be understood as indicating real values, we can assess not agreement, but rather the correlation of values (Pearson's $\\rho$) or correlation of ranks (Spearman's $\\rho$) for pairs of coders:"
      ]
    },
    {
      "cell_type": "code",
      "execution_count": null,
      "metadata": {
        "id": "tEbM3AOPXmBp",
        "colab": {
          "base_uri": "https://localhost:8080/",
          "height": 521
        },
        "outputId": "48ec68b1-233d-4ad9-837b-3f82d08276ab"
      },
      "outputs": [
        {
          "output_type": "display_data",
          "data": {
            "image/png": "[encoded data removed]",
            "text/plain": [
              "<Figure size 432x288 with 2 Axes>"
            ]
          },
          "metadata": {
            "needs_background": "light"
          }
        },
        {
          "output_type": "display_data",
          "data": {
            "image/png": "[encoded data removed]",
            "text/plain": [
              "<Figure size 432x288 with 2 Axes>"
            ]
          },
          "metadata": {
            "needs_background": "light"
          }
        }
      ],
      "source": [
        "n = pairwise_matrix(pearsons_rho, anno.annotations)\n",
        "m = pairwise_matrix(spearmans_rho, anno.annotations)\n",
        "an = seaborn.heatmap(n)\n",
        "plt.show()\n",
        "am = seaborn.heatmap(m)\n",
        "plt.show()"
      ]
    },
    {
      "cell_type": "markdown",
      "metadata": {
        "id": "bkUnT6UXXmBp"
      },
      "source": [
        "Or averaged over all comparable pairs:"
      ]
    },
    {
      "cell_type": "code",
      "execution_count": null,
      "metadata": {
        "id": "1rvVGYhHXmBp",
        "colab": {
          "base_uri": "https://localhost:8080/"
        },
        "outputId": "e14b19a8-8cb8-455d-a546-48c5120c4182"
      },
      "outputs": [
        {
          "output_type": "stream",
          "name": "stdout",
          "text": [
            "0.6517219321175077 0.63808488688039\n"
          ]
        }
      ],
      "source": [
        "print(pairwise_metric_average(pearsons_rho,anno.annotations), pairwise_metric_average(spearmans_rho,anno.annotations))"
      ]
    },
    {
      "cell_type": "markdown",
      "metadata": {
        "id": "Oqf7-XrvXmBp"
      },
      "source": [
        "## <font color=\"red\">*Exercise 1*</font>\n",
        "\n",
        "<font color=\"red\">Perform a content annotation survey of some kind in which at least 3 people evaluate and code each piece of content, using Amazon Mechanical Turk as described in the [MTurk slides on Canvas](https://canvas.uchicago.edu/courses/39937/files/6674661?wrap=1), or by hand with friends.  With the resulting data, calculate, visualize and discuss inter-coder agreement or covariation with appropriate metrics. What does this means for the reliability of human assessments regarding content in your domain?"
      ]
    },
    {
      "cell_type": "code",
      "source": [
        "pwd"
      ],
      "metadata": {
        "colab": {
          "base_uri": "https://localhost:8080/",
          "height": 34
        },
        "id": "My2tyDG57beA",
        "outputId": "1ec3017d-f19c-4613-9961-d8b04ed25aaa"
      },
      "execution_count": null,
      "outputs": [
        {
          "output_type": "execute_result",
          "data": {
            "application/vnd.google.colaboratory.intrinsic+json": {
              "type": "string"
            },
            "text/plain": [
              "'/content/drive/MyDrive/Chicago/Academics/2022 Winter/Soci 40133 Content Analysis/Homework-Notebooks/data'"
            ]
          },
          "metadata": {},
          "execution_count": 8
        }
      ]
    },
    {
      "cell_type": "code",
      "source": [
        "#I tried using the Movies dataset from Week 5 breakout room discussion (18,968 movie transcripts from Mark Davies' Movies corpus with labels of genre: Action, Comedy, Crime, Drama, Horror, Romance)\n",
        "#However, this did not really work because I could not get the pickle to work\n",
        "\n",
        "import pandas as pd\n",
        "import numpy as np\n",
        "import scipy\n",
        "import pickle\n",
        "import sklearn\n",
        "import sklearn.naive_bayes\n",
        "import sklearn.tree\n",
        "import sklearn.ensemble\n",
        "import sklearn.neural_network\n",
        "import sklearn.decomposition\n",
        "\n",
        "!pip3 install pickle5\n",
        "import pickle5 as pickle\n",
        "\n",
        "\n",
        "X_train = pd.read_pickle('../data/movies/movies_X_train.pickle')\n",
        "X_test = pd.read_pickle('../data/movies/movies_X_test.pickle')\n",
        "y_train = pd.read_pickle('../data/movies/movies_y_train.pickle')\n",
        "y_test = pd.read_pickle('../data/movies/movies_y_test.pickle')"
      ],
      "metadata": {
        "colab": {
          "base_uri": "https://localhost:8080/",
          "height": 356
        },
        "id": "LAixCATx7OGe",
        "outputId": "bdcbe2c7-184b-4d0c-9820-56a2a382cc75"
      },
      "execution_count": null,
      "outputs": [
        {
          "output_type": "stream",
          "name": "stdout",
          "text": [
            "Requirement already satisfied: pickle5 in /usr/local/lib/python3.7/dist-packages (0.0.12)\n"
          ]
        },
        {
          "output_type": "error",
          "ename": "ValueError",
          "evalue": "ignored",
          "traceback": [
            "\u001b[0;31m---------------------------------------------------------------------------\u001b[0m",
            "\u001b[0;31mValueError\u001b[0m                                Traceback (most recent call last)",
            "\u001b[0;32m<ipython-input-14-2a11805c2fe8>\u001b[0m in \u001b[0;36m<module>\u001b[0;34m()\u001b[0m\n\u001b[1;32m     17\u001b[0m \u001b[0;34m\u001b[0m\u001b[0m\n\u001b[1;32m     18\u001b[0m \u001b[0;34m\u001b[0m\u001b[0m\n\u001b[0;32m---> 19\u001b[0;31m \u001b[0mX_train\u001b[0m \u001b[0;34m=\u001b[0m \u001b[0mpd\u001b[0m\u001b[0;34m.\u001b[0m\u001b[0mread_pickle\u001b[0m\u001b[0;34m(\u001b[0m\u001b[0;34m'../data/movies/movies_X_train.pickle'\u001b[0m\u001b[0;34m)\u001b[0m\u001b[0;34m\u001b[0m\u001b[0;34m\u001b[0m\u001b[0m\n\u001b[0m\u001b[1;32m     20\u001b[0m \u001b[0mX_test\u001b[0m \u001b[0;34m=\u001b[0m \u001b[0mpd\u001b[0m\u001b[0;34m.\u001b[0m\u001b[0mread_pickle\u001b[0m\u001b[0;34m(\u001b[0m\u001b[0;34m'../data/movies/movies_X_test.pickle'\u001b[0m\u001b[0;34m)\u001b[0m\u001b[0;34m\u001b[0m\u001b[0;34m\u001b[0m\u001b[0m\n\u001b[1;32m     21\u001b[0m \u001b[0my_train\u001b[0m \u001b[0;34m=\u001b[0m \u001b[0mpd\u001b[0m\u001b[0;34m.\u001b[0m\u001b[0mread_pickle\u001b[0m\u001b[0;34m(\u001b[0m\u001b[0;34m'../data/movies/movies_y_train.pickle'\u001b[0m\u001b[0;34m)\u001b[0m\u001b[0;34m\u001b[0m\u001b[0;34m\u001b[0m\u001b[0m\n",
            "\u001b[0;32m/usr/local/lib/python3.7/dist-packages/pandas/io/pickle.py\u001b[0m in \u001b[0;36mread_pickle\u001b[0;34m(filepath_or_buffer, compression, storage_options)\u001b[0m\n\u001b[1;32m    215\u001b[0m                     \u001b[0;31m# RawIOBase, BufferedIOBase, TextIOBase, TextIOWrapper, mmap]\";\u001b[0m\u001b[0;34m\u001b[0m\u001b[0;34m\u001b[0m\u001b[0;34m\u001b[0m\u001b[0m\n\u001b[1;32m    216\u001b[0m                     \u001b[0;31m# expected \"IO[bytes]\"\u001b[0m\u001b[0;34m\u001b[0m\u001b[0;34m\u001b[0m\u001b[0;34m\u001b[0m\u001b[0m\n\u001b[0;32m--> 217\u001b[0;31m                     \u001b[0;32mreturn\u001b[0m \u001b[0mpickle\u001b[0m\u001b[0;34m.\u001b[0m\u001b[0mload\u001b[0m\u001b[0;34m(\u001b[0m\u001b[0mhandles\u001b[0m\u001b[0;34m.\u001b[0m\u001b[0mhandle\u001b[0m\u001b[0;34m)\u001b[0m  \u001b[0;31m# type: ignore[arg-type]\u001b[0m\u001b[0;34m\u001b[0m\u001b[0;34m\u001b[0m\u001b[0m\n\u001b[0m\u001b[1;32m    218\u001b[0m             \u001b[0;32mexcept\u001b[0m \u001b[0mexcs_to_catch\u001b[0m\u001b[0;34m:\u001b[0m\u001b[0;34m\u001b[0m\u001b[0;34m\u001b[0m\u001b[0m\n\u001b[1;32m    219\u001b[0m                 \u001b[0;31m# e.g.\u001b[0m\u001b[0;34m\u001b[0m\u001b[0;34m\u001b[0m\u001b[0;34m\u001b[0m\u001b[0m\n",
            "\u001b[0;31mValueError\u001b[0m: unsupported pickle protocol: 5"
          ]
        }
      ]
    },
    {
      "cell_type": "code",
      "source": [
        "#For the purposes of this homework, I am using a manually coded dataset from three labelers\n",
        "#They were tasked with judging if a product review was fake or not (on a scale of 1 to 5) for a series of randomly selected product on Amazon\n",
        "\n",
        "x = np.array(\n",
        "    [\n",
        "     [2, 3, 5, 1, 2, 1, 4, 4, 3, 1],\n",
        "     [2, 4, 4, 1, 2, 4, 5, 3, 3, 2],\n",
        "     [4, 3, 4, 1, 3, 3, 3, 2, 3, 3]\n",
        "    ]\n",
        ")\n",
        "\n",
        "anno = AnnotationsContainer.from_array(x, missing_values=[-1])"
      ],
      "metadata": {
        "id": "2OKsnbMn7uLu"
      },
      "execution_count": null,
      "outputs": []
    },
    {
      "cell_type": "code",
      "source": [
        "anno.annotations"
      ],
      "metadata": {
        "colab": {
          "base_uri": "https://localhost:8080/"
        },
        "id": "U_5yyNxL7hZb",
        "outputId": "b7b20949-5bd8-4bc7-c355-b8f6f92c6195"
      },
      "execution_count": null,
      "outputs": [
        {
          "output_type": "execute_result",
          "data": {
            "text/plain": [
              "array([[1, 2, 4, 0, 1, 0, 3, 3, 2, 0],\n",
              "       [1, 3, 3, 0, 1, 3, 4, 2, 2, 1],\n",
              "       [3, 2, 3, 0, 2, 2, 2, 1, 2, 2]])"
            ]
          },
          "metadata": {},
          "execution_count": 17
        }
      ]
    },
    {
      "cell_type": "code",
      "source": [
        "anno.labels"
      ],
      "metadata": {
        "colab": {
          "base_uri": "https://localhost:8080/"
        },
        "id": "BiuWRcMo93ov",
        "outputId": "ca626cdd-20f3-44c8-f283-7a086b090b7c"
      },
      "execution_count": null,
      "outputs": [
        {
          "output_type": "execute_result",
          "data": {
            "text/plain": [
              "[1, 2, 3, 4, 5]"
            ]
          },
          "metadata": {},
          "execution_count": 19
        }
      ]
    },
    {
      "cell_type": "code",
      "source": [
        "anno.missing_values"
      ],
      "metadata": {
        "colab": {
          "base_uri": "https://localhost:8080/"
        },
        "id": "6euRg_ME95gu",
        "outputId": "ec60f919-7e01-4115-b04b-7742527cd36e"
      },
      "execution_count": null,
      "outputs": [
        {
          "output_type": "execute_result",
          "data": {
            "text/plain": [
              "[]"
            ]
          },
          "metadata": {},
          "execution_count": 20
        }
      ]
    },
    {
      "cell_type": "code",
      "source": [
        "pyanno.measures.agreement.labels_frequency(anno.annotations, 5)"
      ],
      "metadata": {
        "colab": {
          "base_uri": "https://localhost:8080/"
        },
        "id": "UpT3JS1K97Rm",
        "outputId": "436d5d07-75be-4e2a-ae7a-15383bf7b28e"
      },
      "execution_count": null,
      "outputs": [
        {
          "output_type": "execute_result",
          "data": {
            "text/plain": [
              "array([0.16666667, 0.2       , 0.33333333, 0.23333333, 0.06666667])"
            ]
          },
          "metadata": {},
          "execution_count": 21
        }
      ]
    },
    {
      "cell_type": "code",
      "source": [
        "#matrix of coded agreements between any two coders\n",
        "\n",
        "c = pyanno.measures.agreement.confusion_matrix(anno.annotations[:,0], anno.annotations[:,1],4)\n",
        "print(c)\n",
        "ac = seaborn.heatmap(c)\n",
        "plt.show()"
      ],
      "metadata": {
        "colab": {
          "base_uri": "https://localhost:8080/",
          "height": 335
        },
        "id": "5q_4Mjjc-Cke",
        "outputId": "65d0837a-68e9-4892-a1d9-2f82718d3cf8"
      },
      "execution_count": null,
      "outputs": [
        {
          "output_type": "stream",
          "name": "stdout",
          "text": [
            "[[0. 0. 0. 0.]\n",
            " [0. 0. 1. 1.]\n",
            " [0. 0. 0. 0.]\n",
            " [0. 0. 1. 0.]]\n"
          ]
        },
        {
          "output_type": "display_data",
          "data": {
            "image/png": "[encoded data removed]",
            "text/plain": [
              "<Figure size 432x288 with 2 Axes>"
            ]
          },
          "metadata": {
            "needs_background": "light"
          }
        }
      ]
    },
    {
      "cell_type": "code",
      "source": [
        "#expected agreement calculated from the confusion matrix above\n",
        "scotts_pi(anno.annotations[:,0], anno.annotations[:,1])"
      ],
      "metadata": {
        "colab": {
          "base_uri": "https://localhost:8080/"
        },
        "id": "NjKNrFIG-OUk",
        "outputId": "488089cd-44d6-487e-c171-1b8f2f4db5cf"
      },
      "execution_count": null,
      "outputs": [
        {
          "output_type": "execute_result",
          "data": {
            "text/plain": [
              "-0.49999999999999994"
            ]
          },
          "metadata": {},
          "execution_count": 24
        }
      ]
    },
    {
      "cell_type": "code",
      "source": [
        "#generalization of Scott's pi to n coders is Fleiss'  𝜅\n",
        "fleiss_kappa(anno.annotations[::])"
      ],
      "metadata": {
        "colab": {
          "base_uri": "https://localhost:8080/"
        },
        "id": "BVaVFzXX-hoN",
        "outputId": "856e05e8-3768-4c64-d8bc-ce5ed9e4d3df"
      },
      "execution_count": null,
      "outputs": [
        {
          "output_type": "execute_result",
          "data": {
            "text/plain": [
              "-0.030126336248785263"
            ]
          },
          "metadata": {},
          "execution_count": 26
        }
      ]
    },
    {
      "cell_type": "code",
      "source": [
        "#annotations as ordinally different\n",
        "krippendorffs_alpha(anno.annotations[::])"
      ],
      "metadata": {
        "colab": {
          "base_uri": "https://localhost:8080/"
        },
        "id": "-x68qXRX-swv",
        "outputId": "aa57c8c4-5582-44a2-9976-de42bd48f029"
      },
      "execution_count": null,
      "outputs": [
        {
          "output_type": "execute_result",
          "data": {
            "text/plain": [
              "-0.050899031811895146"
            ]
          },
          "metadata": {},
          "execution_count": 27
        }
      ]
    },
    {
      "cell_type": "code",
      "source": [
        "#possibility of agreement occurring by chance\n",
        "cohens_kappa(anno.annotations[:,0], anno.annotations[:,1])"
      ],
      "metadata": {
        "colab": {
          "base_uri": "https://localhost:8080/"
        },
        "id": "Pl_zI9oR-2d4",
        "outputId": "b46ede24-7839-44e4-f3f7-c87ad6d2b1d8"
      },
      "execution_count": null,
      "outputs": [
        {
          "output_type": "execute_result",
          "data": {
            "text/plain": [
              "-0.125"
            ]
          },
          "metadata": {},
          "execution_count": 29
        }
      ]
    },
    {
      "cell_type": "code",
      "source": [
        "m = pairwise_matrix(cohens_kappa, anno.annotations)\n",
        "print(m)"
      ],
      "metadata": {
        "colab": {
          "base_uri": "https://localhost:8080/"
        },
        "id": "NzODAh9-_AAl",
        "outputId": "36f10f81-2361-42f2-d363-3dcf59feccb6"
      },
      "execution_count": null,
      "outputs": [
        {
          "output_type": "stream",
          "name": "stdout",
          "text": [
            "[[ 1.         -0.125       0.14285714  0.          0.4        -0.125\n",
            "  -0.125      -0.5         0.          0.14285714]\n",
            " [-0.125       1.          0.14285714  0.          0.14285714  0.5\n",
            "   0.         -0.5         0.          0.14285714]\n",
            " [ 0.14285714  0.14285714  1.          0.          0.          0.14285714\n",
            "  -0.5        -0.28571429  0.          0.        ]\n",
            " [ 0.          0.          0.                 nan  0.          0.\n",
            "   0.          0.          0.          0.        ]\n",
            " [ 0.4         0.14285714  0.          0.          1.          0.25\n",
            "   0.25       -0.5         0.          0.5       ]\n",
            " [-0.125       0.5         0.14285714  0.          0.25        1.\n",
            "   0.14285714 -0.28571429  0.          0.57142857]\n",
            " [-0.125       0.         -0.5         0.          0.25        0.14285714\n",
            "   1.          0.14285714  0.          0.25      ]\n",
            " [-0.5        -0.5        -0.28571429  0.         -0.5        -0.28571429\n",
            "   0.14285714  1.          0.         -0.28571429]\n",
            " [ 0.          0.          0.          0.          0.          0.\n",
            "   0.          0.                 nan  0.        ]\n",
            " [ 0.14285714  0.14285714  0.          0.          0.5         0.57142857\n",
            "   0.25       -0.28571429  0.          1.        ]]\n"
          ]
        },
        {
          "output_type": "stream",
          "name": "stderr",
          "text": [
            "/usr/local/lib/python3.7/dist-packages/pyanno/measures/helpers.py:166: RuntimeWarning: invalid value encountered in double_scalars\n",
            "  return (observed_agreement - chance_agreement) / (1. - chance_agreement)\n"
          ]
        }
      ]
    },
    {
      "cell_type": "code",
      "source": [
        "ax = seaborn.heatmap(m)\n",
        "plt.show()"
      ],
      "metadata": {
        "colab": {
          "base_uri": "https://localhost:8080/",
          "height": 269
        },
        "id": "PqESAja2_FQ2",
        "outputId": "edf5f266-4c94-4bfa-c5ef-fba6836038e7"
      },
      "execution_count": null,
      "outputs": [
        {
          "output_type": "display_data",
          "data": {
            "image/png": "[encoded data removed]",
            "text/plain": [
              "<Figure size 432x288 with 2 Axes>"
            ]
          },
          "metadata": {
            "needs_background": "light"
          }
        }
      ]
    },
    {
      "cell_type": "code",
      "source": [
        "#average of Cohen's  𝜅  for all pairs of coders against each other\n",
        "def pairwise_metric_average(metric, array):\n",
        "    \"\"\"Calculate the pairwise metric average for the real elements of metric function run on an array of annotations\"\"\"\n",
        "    p = permutations(range(array[0,:].size),2)\n",
        "    m = [metric(array[:,x[0]], array[:,x[1]]) for x in p]\n",
        "    clean_m = [c for c in m if not math.isnan(c)]\n",
        "    return reduce(lambda a, b: a + b, clean_m)/len(clean_m)    \n",
        " \n",
        "pairwise_metric_average(cohens_kappa, anno.annotations)"
      ],
      "metadata": {
        "colab": {
          "base_uri": "https://localhost:8080/"
        },
        "id": "O7bsCb9e_N51",
        "outputId": "545aad7e-fc50-499b-864c-98a026a57744"
      },
      "execution_count": null,
      "outputs": [
        {
          "output_type": "execute_result",
          "data": {
            "text/plain": [
              "0.014047619047619041"
            ]
          },
          "metadata": {},
          "execution_count": 32
        }
      ]
    },
    {
      "cell_type": "code",
      "execution_count": null,
      "metadata": {
        "colab": {
          "base_uri": "https://localhost:8080/"
        },
        "outputId": "db689202-5b40-412c-cc76-6588c4b6497e",
        "id": "XDUNWss1_gRM"
      },
      "outputs": [
        {
          "output_type": "execute_result",
          "data": {
            "text/plain": [
              "-0.19999999999999996"
            ]
          },
          "metadata": {},
          "execution_count": 33
        }
      ],
      "source": [
        "cohens_weighted_kappa(anno.annotations[:,0], anno.annotations[:,1])"
      ]
    },
    {
      "cell_type": "code",
      "execution_count": null,
      "metadata": {
        "colab": {
          "base_uri": "https://localhost:8080/"
        },
        "outputId": "1e7a6991-409b-45b6-f2f4-f9a2ff7afcb6",
        "id": "36xkqqqu_gRN"
      },
      "outputs": [
        {
          "output_type": "execute_result",
          "data": {
            "text/plain": [
              "0.005517075517075508"
            ]
          },
          "metadata": {},
          "execution_count": 34
        }
      ],
      "source": [
        "#averaged over the total\n",
        "pairwise_metric_average(cohens_weighted_kappa,anno.annotations)"
      ]
    },
    {
      "cell_type": "code",
      "execution_count": null,
      "metadata": {
        "colab": {
          "base_uri": "https://localhost:8080/",
          "height": 640
        },
        "outputId": "011189e3-dd04-44f7-8fa6-e6ca4d4c2641",
        "id": "FHvdXCsz_gRN"
      },
      "outputs": [
        {
          "output_type": "stream",
          "name": "stderr",
          "text": [
            "/usr/local/lib/python3.7/dist-packages/scipy/stats/stats.py:3508: PearsonRConstantInputWarning: An input array is constant; the correlation coefficent is not defined.\n",
            "  warnings.warn(PearsonRConstantInputWarning())\n",
            "/usr/local/lib/python3.7/dist-packages/numpy/lib/function_base.py:2691: RuntimeWarning: invalid value encountered in true_divide\n",
            "  c /= stddev[:, None]\n",
            "/usr/local/lib/python3.7/dist-packages/numpy/lib/function_base.py:2692: RuntimeWarning: invalid value encountered in true_divide\n",
            "  c /= stddev[None, :]\n"
          ]
        },
        {
          "output_type": "display_data",
          "data": {
            "image/png": "[encoded data removed]",
            "text/plain": [
              "<Figure size 432x288 with 2 Axes>"
            ]
          },
          "metadata": {
            "needs_background": "light"
          }
        },
        {
          "output_type": "display_data",
          "data": {
            "image/png": "[encoded data removed]",
            "text/plain": [
              "<Figure size 432x288 with 2 Axes>"
            ]
          },
          "metadata": {
            "needs_background": "light"
          }
        }
      ],
      "source": [
        "#annotation as indicating real values to assess correlation of values (Pearson) and correlation of ranks (Spearman)\n",
        "n = pairwise_matrix(pearsons_rho, anno.annotations)\n",
        "m = pairwise_matrix(spearmans_rho, anno.annotations)\n",
        "an = seaborn.heatmap(n)\n",
        "plt.show()\n",
        "am = seaborn.heatmap(m)\n",
        "plt.show()"
      ]
    },
    {
      "cell_type": "code",
      "execution_count": null,
      "metadata": {
        "colab": {
          "base_uri": "https://localhost:8080/"
        },
        "outputId": "11d0f5a0-5b24-46ab-a3d9-736d0d5274fb",
        "id": "VUOBuF3j_gRN"
      },
      "outputs": [
        {
          "output_type": "stream",
          "name": "stdout",
          "text": [
            "-0.1017755832830656 -0.10235805013515854\n"
          ]
        },
        {
          "output_type": "stream",
          "name": "stderr",
          "text": [
            "/usr/local/lib/python3.7/dist-packages/scipy/stats/stats.py:3508: PearsonRConstantInputWarning: An input array is constant; the correlation coefficent is not defined.\n",
            "  warnings.warn(PearsonRConstantInputWarning())\n",
            "/usr/local/lib/python3.7/dist-packages/numpy/lib/function_base.py:2691: RuntimeWarning: invalid value encountered in true_divide\n",
            "  c /= stddev[:, None]\n",
            "/usr/local/lib/python3.7/dist-packages/numpy/lib/function_base.py:2692: RuntimeWarning: invalid value encountered in true_divide\n",
            "  c /= stddev[None, :]\n"
          ]
        }
      ],
      "source": [
        "#averaged over all comparable pairs\n",
        "print(pairwise_metric_average(pearsons_rho,anno.annotations), pairwise_metric_average(spearmans_rho,anno.annotations))"
      ]
    },
    {
      "cell_type": "markdown",
      "metadata": {
        "id": "CYbiP4gbXmBp"
      },
      "source": [
        "# Simple Simulated Examples for Classification\n",
        "\n",
        "Here we create a sandbox for you to explore different types of classified data and how different statistical classifiers perform on each type."
      ]
    },
    {
      "cell_type": "markdown",
      "metadata": {
        "id": "hwXlIc4TXmBp"
      },
      "source": [
        "## Generating example data\n",
        "\n",
        "We start by loading one of the \"cartoon\" or simplified data sets and then dividing it into training and testing sets. To maximize our ability to visualize, each dataset involves two classes, colored yellow and blue, arrayed along two dimensions (`x` and `y`). \n",
        "\n",
        "The four data patterns include: \n",
        "+ `random` in which the two classes are randomly distributed across both dimensions\n",
        "+ `andSplit` in which the two classes are linearly split along one of two dimensions (e.g., men like Adidas)\n",
        "+ `xorSplit` in which the two classes are split, oppositely, along each dimension (e.g., old ladies and young men like Nikes)\n",
        "+ `targetSplit` in which one class is nested within the other in two dimensions (e.g., middle aged, middle income people like vintage Mustangs)\n",
        "+ `multiBlobs` in which 5 classes are placed as bivariate Gaussians at random locations\n",
        "\n",
        "`noise` is a variable [0-1] that ranges from no noise in the prescribed pattern [0] to complete noise/randomness [1].\n",
        "\n",
        "Uncomment (remove the # in front of) each dataset, one at a time, and then run the cell and subsequent cells to examine how each machine learning approach captures each pattern.\n",
        "\n",
        "We use the popular `train_test_split()` function from `sklearn`, and the data pattern function source code is copied below for your convenience from `lucem_illud`'s [cartoons.py](https://github.com/UChicago-Computational-Content-Analysis/lucem_illud/blob/main/lucem_illud/cartoons.py) file."
      ]
    },
    {
      "cell_type": "code",
      "execution_count": null,
      "metadata": {
        "id": "1ok1YcB3XmBp"
      },
      "outputs": [],
      "source": [
        "def random(numPerCategory = 500):\n",
        "    datDict = {\n",
        "        'vect' : [np.random.rand(2) * 2 - 1 for i in range(2 * numPerCategory)],\n",
        "        'category' : [i % 2 for i in range(2 * numPerCategory)],\n",
        "    }\n",
        "\n",
        "    return pandas.DataFrame(datDict)\n",
        "\n",
        "def andSplit(noise = 0, numPerCategory = 500):\n",
        "    def genPoint(cat):\n",
        "        y = np.random.random_sample() * 2 - 1\n",
        "        if noise >= 0:\n",
        "            x = np.random.random_sample() - cat - (np.random.random_sample() - cat) * noise\n",
        "        else:\n",
        "            x = (1 - noise * np.random.random_sample()) - cat\n",
        "        return np.array([x, y])\n",
        "    datDict = {\n",
        "        'vect' : [genPoint(i % 2) for i in range(2 * numPerCategory)],\n",
        "        'category' : [i % 2 for i in range(2 * numPerCategory)],\n",
        "    }\n",
        "\n",
        "    return pandas.DataFrame(datDict)\n",
        "\n",
        "def xorSplit(noise = 0, numPerCategory = 500):\n",
        "    def genPoint(cat):\n",
        "        if cat == 1:\n",
        "            if np.random.randint(0,2) < 1:\n",
        "                y = np.random.random_sample() - np.random.random_sample() * noise * 2\n",
        "                x = np.random.random_sample() - np.random.random_sample() * noise * 2\n",
        "            else:\n",
        "                y = np.random.random_sample() - 1 - np.random.random_sample() * noise * 2\n",
        "                x = np.random.random_sample() - 1 - np.random.random_sample() * noise * 2\n",
        "        else:\n",
        "            if np.random.randint(0,2) < 1:\n",
        "                y = np.random.random_sample() - 1 - np.random.random_sample() * noise * 2\n",
        "                x = np.random.random_sample() - np.random.random_sample() * noise * 2\n",
        "            else:\n",
        "                y = np.random.random_sample() - np.random.random_sample() * noise * 2\n",
        "                x = np.random.random_sample() - 1 - np.random.random_sample() * noise * 2\n",
        "        return np.array([x, y])\n",
        "\n",
        "    datDict = {\n",
        "        'vect' : [genPoint(i % 2) for i in range(2 * numPerCategory)],\n",
        "        'category' : [i % 2 for i in range(2 * numPerCategory)],\n",
        "    }\n",
        "\n",
        "    return pandas.DataFrame(datDict)\n",
        "\n",
        "def targetSplit(noise = 0, numPerCategory = 500, innerRad = .3):\n",
        "    def genPoint(cat):\n",
        "        if cat == 0:\n",
        "            r = np.random.random_sample() * innerRad + (1 - innerRad) * np.random.random_sample() * noise\n",
        "        else:\n",
        "            r = np.random.random_sample() * (1 - innerRad) + innerRad - innerRad * np.random.random_sample() * noise\n",
        "        eta = 2 * np.pi * np.random.random_sample()\n",
        "        return np.array([r * np.cos(eta), r * np.sin(eta)])\n",
        "\n",
        "    datDict = {\n",
        "        'vect' : [genPoint(i % 2) for i in range(2 * numPerCategory)],\n",
        "        'category' : [i % 2 for i in range(2 * numPerCategory)],\n",
        "    }\n",
        "\n",
        "    return pandas.DataFrame(datDict)\n",
        "\n",
        "def multiBlobs(noise = 0, numPerCategory = 500, centers = 5):\n",
        "    if isinstance(centers, int):\n",
        "        n_samples = numPerCategory * centers\n",
        "    else:\n",
        "        n_samples = numPerCategory * len(centers)\n",
        "    X, y = sklearn.datasets.make_blobs(n_samples=n_samples, centers=centers, cluster_std = (.8 * (noise * 2 + 1)))\n",
        "    datDict = {\n",
        "        'vect' : list(X),\n",
        "        'category' : y,\n",
        "    }\n",
        "    return pandas.DataFrame(datDict)"
      ]
    },
    {
      "cell_type": "code",
      "execution_count": null,
      "metadata": {
        "id": "IuCxyiNOXmBq"
      },
      "outputs": [],
      "source": [
        "noise = .2\n",
        "\n",
        "#dfTrain, dfTest = sklearn.model_selection.train_test_split(lucem_illud.random(noise), test_size=.2)\n",
        "#dfTrain, dfTest = sklearn.model_selection.train_test_split(lucem_illud.andSplit(noise), test_size=.2)\n",
        "#dfTrain, dfTest = sklearn.model_selection.train_test_split(lucem_illud.xorSplit(noise), test_size=.2)\n",
        "dfTrain, dfTest = sklearn.model_selection.train_test_split(lucem_illud.targetSplit(noise), test_size=.2)\n",
        "#dfTrain, dfTest = sklearn.model_selection.train_test_split(lucem_illud.multiBlobs(noise), test_size=.2)"
      ]
    },
    {
      "cell_type": "markdown",
      "metadata": {
        "id": "8Y9x4gxEXmBq"
      },
      "source": [
        "We can easily visualize the rendered datasets because they are generated in two dimensions."
      ]
    },
    {
      "cell_type": "markdown",
      "metadata": {
        "id": "KO7iS7adXmBq"
      },
      "source": [
        "Let's see what dfTrain, a simulated data that we just made, looks like"
      ]
    },
    {
      "cell_type": "code",
      "execution_count": null,
      "metadata": {
        "id": "RrnYoBoMXmBq"
      },
      "outputs": [],
      "source": [
        "dfTrain"
      ]
    },
    {
      "cell_type": "markdown",
      "metadata": {
        "id": "ebwZtIMxXmBq"
      },
      "source": [
        "So, dfTrain has two columns, vect and category. We can plot this with `plotter()` from [lucem_illud/lucem_illud/cartoons.py](https://github.com/UChicago-Computational-Content-Analysis/lucem_illud/blob/main/lucem_illud/cartoons.py). Here's the source code:"
      ]
    },
    {
      "cell_type": "code",
      "execution_count": null,
      "metadata": {
        "id": "GRNd9bx-XmBq"
      },
      "outputs": [],
      "source": [
        "def plotter(df):\n",
        "    fig, ax = plt.subplots(figsize = (10,10))\n",
        "    pallet = seaborn.color_palette(palette='rainbow', n_colors= len(set(df['category'])))\n",
        "    for i, cat in enumerate(set(df['category'])):\n",
        "        a = np.stack(df[df['category'] == cat]['vect'])\n",
        "        ax.scatter(a[:,0], a[:, 1], c = pallet[i], label = cat)\n",
        "    ax.legend(loc = 'center right', title = 'Categories')\n",
        "    ax.axis('off')\n",
        "    plt.show()\n",
        "    plt.close()"
      ]
    },
    {
      "cell_type": "code",
      "execution_count": null,
      "metadata": {
        "id": "GxsKeqNaXmBr"
      },
      "outputs": [],
      "source": [
        "lucem_illud.plotter(dfTrain)"
      ]
    },
    {
      "cell_type": "markdown",
      "metadata": {
        "id": "OPXlJV0QXmBr"
      },
      "source": [
        "## Training a Machine Learning algorithm\n",
        "\n",
        "We can now pick a model, there are many more options in `scikit-learn`. These are just a few examples, which array along the machine learning \"tribes\" described in Pedro Domingos _The Master Algorithm_.\n",
        "\n",
        "Uncomment (remove the # in front of) each algorithm one at a time, then run the cell and subsequent cells to evaluate how it learns to understand the data."
      ]
    },
    {
      "cell_type": "code",
      "execution_count": null,
      "metadata": {
        "collapsed": true,
        "id": "oWouk8fkXmBr"
      },
      "outputs": [],
      "source": [
        "#Bayes\n",
        "#clf = sklearn.naive_bayes.GaussianNB()\n",
        "\n",
        "#Analogizes\n",
        "#clf = sklearn.svm.SVC(kernel = 'linear', probability = True) #slow, set probability = False to speed up\n",
        "#clf = sklearn.svm.SVC(kernel = 'poly', degree = 3, probability = True) #slower\n",
        "clf = sklearn.neighbors.KNeighborsClassifier(5, weights='distance')# k, 'distance' or 'uniform'\n",
        "\n",
        "#Classical Regression\n",
        "#clf = sklearn.linear_model.LogisticRegression()\n",
        "\n",
        "#Symbolists\n",
        "#clf = sklearn.tree.DecisionTreeClassifier()\n",
        "#clf = sklearn.ensemble.RandomForestClassifier()\n",
        "\n",
        "#Connectionists\n",
        "#clf = sklearn.neural_network.MLPClassifier()\n",
        "\n",
        "#Ensemble\n",
        "#clf = sklearn.ensemble.GradientBoostingClassifier()"
      ]
    },
    {
      "cell_type": "markdown",
      "metadata": {
        "id": "4VoMVPG-XmBr"
      },
      "source": [
        "We're using sklearn here. What is sklearn? It's an open source machine learning library for Python. We use sklearn because it features various machine learning algorithms and it works well with NumPy library. You don't need to understand the sklearn package in detail for the moment, but let's see what methods and attributes sklearn has, because we're going to use some of them:"
      ]
    },
    {
      "cell_type": "code",
      "execution_count": null,
      "metadata": {
        "id": "a94ZlaEgXmBr"
      },
      "outputs": [],
      "source": [
        "dir(sklearn)"
      ]
    },
    {
      "cell_type": "markdown",
      "metadata": {
        "id": "rICF9-haXmBr"
      },
      "source": [
        "Now we fit the model by giving it our training data"
      ]
    },
    {
      "cell_type": "code",
      "execution_count": null,
      "metadata": {
        "id": "_1D5ylXUXmBr"
      },
      "outputs": [],
      "source": [
        "clf.fit(np.stack(dfTrain['vect'], axis=0), dfTrain['category'])"
      ]
    },
    {
      "cell_type": "markdown",
      "metadata": {
        "id": "cx1uxUdHXmBs"
      },
      "source": [
        "Here, \"stack\" function is used. Why did we use stack function here? This is because dfTrain['vect'] is a sequence, while clf.fit() takes an array element. Let's see what dfTrain['vect'] looks like:"
      ]
    },
    {
      "cell_type": "code",
      "execution_count": null,
      "metadata": {
        "id": "ilDgDYvLXmBs"
      },
      "outputs": [],
      "source": [
        "dfTrain['vect']"
      ]
    },
    {
      "cell_type": "markdown",
      "metadata": {
        "id": "hePB7roiXmBs"
      },
      "source": [
        "And let's see what np.stack(dfTrain['vect']) does:"
      ]
    },
    {
      "cell_type": "code",
      "execution_count": null,
      "metadata": {
        "id": "MO9y7ADhXmBs"
      },
      "outputs": [],
      "source": [
        "np.stack(dfTrain['vect'])"
      ]
    },
    {
      "cell_type": "markdown",
      "metadata": {
        "id": "AHQx_70NXmBs"
      },
      "source": [
        "As you can see, stack function takes a sequence of arrays (which have the same shape) and joins them along a new axis."
      ]
    },
    {
      "cell_type": "markdown",
      "metadata": {
        "id": "7ICvvrbWXmBs"
      },
      "source": [
        "## Algorithm evaluation\n",
        "\n",
        "We can look at few measurements of each classifier's performance by using the testing set. These `lucem_illud` functions are in [metrics.py](https://github.com/UChicago-Computational-Content-Analysis/lucem_illud/blob/main/lucem_illud/metrics.py), and we will skip copying source code this time due to length."
      ]
    },
    {
      "cell_type": "code",
      "execution_count": null,
      "metadata": {
        "id": "i69Fs9mnXmBs"
      },
      "outputs": [],
      "source": [
        "lucem_illud.evaluateClassifier(clf, dfTest)"
      ]
    },
    {
      "cell_type": "markdown",
      "metadata": {
        "id": "LjyiYFl-XmBs"
      },
      "source": [
        "This lets us look at which classes do better:"
      ]
    },
    {
      "cell_type": "code",
      "execution_count": null,
      "metadata": {
        "id": "h5mRAx0UXmBs"
      },
      "outputs": [],
      "source": [
        "lucem_illud.plotConfusionMatrix(clf, dfTest)"
      ]
    },
    {
      "cell_type": "markdown",
      "metadata": {
        "id": "42Ndhx6XXmBt"
      },
      "source": [
        "The greater the area under the curve the better."
      ]
    },
    {
      "cell_type": "code",
      "execution_count": null,
      "metadata": {
        "id": "R-UDzXeLXmBt"
      },
      "outputs": [],
      "source": [
        "lucem_illud.plotMultiROC(clf, dfTest)"
      ]
    },
    {
      "cell_type": "markdown",
      "metadata": {
        "id": "T2_xXMJPXmBt"
      },
      "source": [
        "We can also look at the regions the classifer identifies as one class or the other:"
      ]
    },
    {
      "cell_type": "code",
      "execution_count": null,
      "metadata": {
        "id": "ChuhIb45XmBt"
      },
      "outputs": [],
      "source": [
        "lucem_illud.plotregions(clf, dfTrain)"
      ]
    },
    {
      "cell_type": "markdown",
      "metadata": {
        "id": "Kaxo-DSbXmBt"
      },
      "source": [
        "## Now we do the same for real data\n",
        "\n",
        "Available data sets include:\n",
        "+ Reddit threads \"classified\" by thread topic\n",
        "+ 20 newsgroups \"classified\" by group topic\n",
        "+ Senate press releases \"classified\" by Senator (2 senators)\n",
        "+ Senate press releases \"classified\" by Senator (5 senators)\n",
        "+ Emails classified as Spam or Ham"
      ]
    },
    {
      "cell_type": "code",
      "execution_count": null,
      "metadata": {
        "id": "ZfT5PKEMXmBt"
      },
      "outputs": [],
      "source": [
        "dfTrain, dfTest = sklearn.model_selection.train_test_split(lucem_illud.loadReddit(), test_size=.2)\n",
        "#dfTrain, dfTest = sklearn.model_selection.train_test_split(lucem_illud.loadNewsGroups(), test_size=.2)\n",
        "#dfTrain, dfTest = sklearn.model_selection.train_test_split(lucem_illud.loadSenateSmall(), test_size=.2)\n",
        "#dfTrain, dfTest = sklearn.model_selection.train_test_split(lucem_illud.loadSenateLarge(), test_size=.2)\n",
        "#dfTrain, dfTest = sklearn.model_selection.train_test_split(lucem_illud.loadSpam(), test_size=.2)"
      ]
    },
    {
      "cell_type": "code",
      "execution_count": null,
      "metadata": {
        "collapsed": true,
        "id": "h6PYwW0lXmBt"
      },
      "outputs": [],
      "source": [
        "#Classical Regression\n",
        "clf = sklearn.linear_model.LogisticRegression()\n",
        "\n",
        "#Bayes\n",
        "# clf = sklearn.naive_bayes.GaussianNB()\n",
        "\n",
        "#Analogizes\n",
        "#clf = sklearn.svm.SVC(kernel = 'linear', probability = True) #slow, set probability = False to speed up, but lose ROC\n",
        "#clf = sklearn.svm.SVC(kernel = 'poly', degree = 3, probability = True) #slower\n",
        "#clf = sklearn.neighbors.KNeighborsClassifier(5, weights='distance')# k, 'distance' or 'uniform'\n",
        "\n",
        "#Symbolists\n",
        "#clf = sklearn.tree.DecisionTreeClassifier()\n",
        "#clf = sklearn.ensemble.RandomForestClassifier()\n",
        "\n",
        "#Connectionists\n",
        "#clf = sklearn.neural_network.MLPClassifier()\n",
        "\n",
        "#Ensemble\n",
        "#clf = sklearn.ensemble.GradientBoostingClassifier()"
      ]
    },
    {
      "cell_type": "code",
      "execution_count": null,
      "metadata": {
        "id": "RfC19VykXmBt"
      },
      "outputs": [],
      "source": [
        "clf.fit(np.stack(dfTrain['vect'], axis=0), dfTrain['category'])"
      ]
    },
    {
      "cell_type": "code",
      "execution_count": null,
      "metadata": {
        "id": "dQ2u7BdeXmBt"
      },
      "outputs": [],
      "source": [
        "lucem_illud.evaluateClassifier(clf, dfTest)"
      ]
    },
    {
      "cell_type": "code",
      "execution_count": null,
      "metadata": {
        "id": "ydjeumLhXmBu"
      },
      "outputs": [],
      "source": [
        "lucem_illud.plotConfusionMatrix(clf, dfTest)"
      ]
    },
    {
      "cell_type": "code",
      "execution_count": null,
      "metadata": {
        "id": "KpWZjGDcXmBu"
      },
      "outputs": [],
      "source": [
        "lucem_illud.plotMultiROC(clf, dfTest)"
      ]
    },
    {
      "cell_type": "code",
      "execution_count": null,
      "metadata": {
        "id": "y2CwpZxeXmBu"
      },
      "outputs": [],
      "source": [
        "lucem_illud.plotregions(clf, dfTrain)"
      ]
    },
    {
      "cell_type": "markdown",
      "metadata": {
        "id": "EbFJBeMZXmBu"
      },
      "source": [
        "## <font color=\"red\">*Exercise 2*</font>\n",
        "\n",
        "<font color=\"red\">Go back through all of the cells above and generate 10 distinct artificial datasets and classify them with all of the available methods. Add a cell immediately below and describe which classifier(s) worked best with which artificially constructed data source and why. Then go through all of the empirical datasets (i.e., Newsgroups, Senate Small, Senate Large, Email Spam) and classify them with all available methods. Add a second cell immediately below and describe which classifier(s) worked best with which data set and why.\n",
        "\n",
        "<font color=\"red\">***Stretch*** (but also required) Wander through the SKLearn documentation available [here](http://scikit-learn.org/stable/), particularly perusing the classifiers. In cells following, identify and implement a new classifier that we have not yet used (e.g., AdaBoost, CART) on one artificial dataset and one real dataset (used above). Then, in the next cell describe the classifier, detail how it compares with the approaches above, and why it performed better or worse than others."
      ]
    },
    {
      "cell_type": "code",
      "source": [
        "noise1 = .2\n",
        "noise2 = .99\n",
        "\n",
        "dfTrain1, dfTest1 = sklearn.model_selection.train_test_split(lucem_illud.random(), test_size=.2)\n",
        "dfTrain2, dfTest2 = sklearn.model_selection.train_test_split(lucem_illud.andSplit(noise1), test_size=.2)\n",
        "dfTrain3, dfTest3 = sklearn.model_selection.train_test_split(lucem_illud.xorSplit(noise1), test_size=.2)\n",
        "dfTrain4, dfTest4 = sklearn.model_selection.train_test_split(lucem_illud.targetSplit(noise1), test_size=.2)\n",
        "dfTrain5, dfTest5 = sklearn.model_selection.train_test_split(lucem_illud.multiBlobs(noise1), test_size=.2)\n",
        "\n",
        "dfTrain6, dfTest6 = sklearn.model_selection.train_test_split(lucem_illud.random(), test_size=.2)\n",
        "dfTrain7, dfTest7 = sklearn.model_selection.train_test_split(lucem_illud.andSplit(noise2), test_size=.2)\n",
        "dfTrain8, dfTest8 = sklearn.model_selection.train_test_split(lucem_illud.xorSplit(noise2), test_size=.2)\n",
        "dfTrain9, dfTest9 = sklearn.model_selection.train_test_split(lucem_illud.targetSplit(noise2), test_size=.2)\n",
        "dfTrain10, dfTest10 = sklearn.model_selection.train_test_split(lucem_illud.multiBlobs(noise2), test_size=.2)"
      ],
      "metadata": {
        "id": "TdEvuV-TkMo3"
      },
      "execution_count": null,
      "outputs": []
    },
    {
      "cell_type": "code",
      "source": [
        "def plotter(df):\n",
        "    fig, ax = plt.subplots(figsize = (10,10))\n",
        "    pallet = seaborn.color_palette(palette='rainbow', n_colors= len(set(df['category'])))\n",
        "    for i, cat in enumerate(set(df['category'])):\n",
        "        a = np.stack(df[df['category'] == cat]['vect'])\n",
        "        ax.scatter(a[:,0], a[:, 1], c = pallet[i], label = cat)\n",
        "    ax.legend(loc = 'center right', title = 'Categories')\n",
        "    ax.axis('off')\n",
        "    plt.show()\n",
        "    plt.close()"
      ],
      "metadata": {
        "id": "o4eqkK678OW4"
      },
      "execution_count": null,
      "outputs": []
    },
    {
      "cell_type": "code",
      "source": [
        "#Training machine learning algorithm\n",
        "\n",
        "#Classical Regression\n",
        "clf1 = sklearn.linear_model.LogisticRegression()\n",
        "\n",
        "#Bayes\n",
        "clf2 = sklearn.naive_bayes.GaussianNB()\n",
        "\n",
        "#Analogizes\n",
        "clf3 = sklearn.svm.SVC(kernel = 'linear', probability = True) #slow, set probability = False to speed up, but lose ROC\n",
        "clf4 = sklearn.svm.SVC(kernel = 'poly', degree = 3, probability = True) #slower\n",
        "clf5 = sklearn.neighbors.KNeighborsClassifier(5, weights='distance')# k, 'distance' or 'uniform'\n",
        "\n",
        "#Symbolists\n",
        "clf6 = sklearn.tree.DecisionTreeClassifier()\n",
        "clf7 = sklearn.ensemble.RandomForestClassifier()\n",
        "\n",
        "#Connectionists\n",
        "clf8 = sklearn.neural_network.MLPClassifier()\n",
        "\n",
        "#Ensemble\n",
        "clf9 = sklearn.ensemble.GradientBoostingClassifier()"
      ],
      "metadata": {
        "id": "v-x2CS1w8Ot-"
      },
      "execution_count": null,
      "outputs": []
    },
    {
      "cell_type": "code",
      "source": [
        "#Fitting the model by giving it training data\n",
        "'''\n",
        "clf[j].fit(np.stack(dfTrain1['vect'], axis=0), dfTrain[i]['category'])\n",
        "clf.fit(np.stack(dfTrain2['vect'], axis=0), dfTrain2['category'])\n",
        "clf.fit(np.stack(dfTrain3['vect'], axis=0), dfTrain3['category'])\n",
        "clf.fit(np.stack(dfTrain4['vect'], axis=0), dfTrain4['category'])\n",
        "clf.fit(np.stack(dfTrain5['vect'], axis=0), dfTrain5['category'])\n",
        "clf.fit(np.stack(dfTrain6['vect'], axis=0), dfTrain6['category'])\n",
        "clf.fit(np.stack(dfTrain7['vect'], axis=0), dfTrain7['category'])\n",
        "clf.fit(np.stack(dfTrain8['vect'], axis=0), dfTrain8['category'])\n",
        "clf.fit(np.stack(dfTrain9['vect'], axis=0), dfTrain9['category'])\n",
        "clf.fit(np.stack(dfTrain10['vect'], axis=0), dfTrain10['category'])\n",
        "'''"
      ],
      "metadata": {
        "id": "ZIK-yUreDiQ6"
      },
      "execution_count": null,
      "outputs": []
    },
    {
      "cell_type": "code",
      "source": [
        "#going through. the different models and dataset\n",
        "classifiers = {}\n",
        "\n",
        "for i in range(1,11):\n",
        "    trainingData = locals()[f'dfTrain{i}']\n",
        "    testData = locals()[f'dfTest{i}']\n",
        "    for j in range(1,10):\n",
        "        classifiers[f'classifier{j}data{i}'] = locals()[f'clf{j}']\n",
        "        classifiers[f'classifier{j}data{i}'].fit(np.stack(trainingData['vect'], axis=0), trainingData['category'])\n",
        "        print('')\n",
        "        print(f'running classifier{j}data{i}')\n",
        "        print(lucem_illud.evaluateClassifier(locals()[f'clf{j}'], testData))\n",
        "\n",
        "#Interesting thoughts and observations:\n",
        "#For Data1, K Neighbors seemed to best\n",
        "#For Data2, neural network seemed to best\n",
        "#For Data3, neural network seemed to best\n",
        "#For Data4, linear SVM seemed to work best\n",
        "#For Data5, naive Bayes seemed to work best\n",
        "#For Data6, decision tree seemed to work best\n",
        "#For Data7, linear SVM seemed to work best\n",
        "#For Data8, K Neighbors seemed to best\n",
        "#For Data9, K Neighbors seemed to best\n",
        "#For Data10, neural network seemed to best"
      ],
      "metadata": {
        "id": "IUrP_SpjDuJ_",
        "colab": {
          "base_uri": "https://localhost:8080/"
        },
        "outputId": "15c12098-479e-4c3d-9589-d3efeb5f5b0a"
      },
      "execution_count": null,
      "outputs": [
        {
          "output_type": "stream",
          "name": "stdout",
          "text": [
            "\n",
            "running classifier1data1\n",
            "          Error_Rate       AUC  Precision  Average_Precision    Recall\n",
            "Category                                                              \n",
            "0               0.45  0.553383   0.522124           0.504266  0.621053\n",
            "1               0.45  0.553383   0.586207           0.554729  0.485714\n",
            "\n",
            "running classifier2data1\n",
            "          Error_Rate       AUC  Precision  Average_Precision    Recall\n",
            "Category                                                              \n",
            "0              0.465  0.536591   0.509434           0.494573  0.568421\n",
            "1              0.465  0.536591   0.563830           0.544600  0.504762\n",
            "\n",
            "running classifier3data1\n",
            "          Error_Rate       AUC  Precision  Average_Precision    Recall\n",
            "Category                                                              \n",
            "0              0.455  0.546115   0.519231           0.500142  0.568421\n",
            "1              0.455  0.546115   0.572917           0.550099  0.523810\n",
            "\n",
            "running classifier4data1\n",
            "          Error_Rate       AUC  Precision  Average_Precision    Recall\n",
            "Category                                                              \n",
            "0               0.43  0.578446   0.533835           0.518971  0.747368\n",
            "1               0.43  0.578446   0.641791           0.572829  0.409524\n",
            "\n",
            "running classifier5data1\n",
            "          Error_Rate       AUC  Precision  Average_Precision    Recall\n",
            "Category                                                              \n",
            "0              0.515  0.483459   0.457447           0.467055  0.452632\n",
            "1              0.515  0.483459   0.509434           0.516995  0.514286\n",
            "\n",
            "running classifier6data1\n",
            "          Error_Rate       AUC  Precision  Average_Precision    Recall\n",
            "Category                                                              \n",
            "0              0.535  0.462406   0.433333           0.457895  0.410526\n",
            "1              0.535  0.462406   0.490909           0.507468  0.514286\n",
            "\n",
            "running classifier7data1\n",
            "          Error_Rate       AUC  Precision  Average_Precision    Recall\n",
            "Category                                                              \n",
            "0               0.51  0.490226   0.465347           0.470224  0.494737\n",
            "1               0.51  0.490226   0.515152           0.520216  0.485714\n",
            "\n",
            "running classifier8data1\n",
            "          Error_Rate       AUC  Precision  Average_Precision    Recall\n",
            "Category                                                              \n",
            "0              0.445  0.557644   0.527273           0.506914  0.610526\n",
            "1              0.445  0.557644   0.588889           0.557249  0.504762\n",
            "\n",
            "running classifier9data1\n",
            "          Error_Rate       AUC  Precision  Average_Precision    Recall\n",
            "Category                                                              \n",
            "0              0.445  0.555138       0.53           0.505684  0.557895\n",
            "1              0.445  0.555138       0.58           0.555381  0.552381\n",
            "\n",
            "running classifier1data2\n",
            "          Error_Rate       AUC  Precision  Average_Precision    Recall\n",
            "Category                                                              \n",
            "0                0.1  0.899038   0.913043           0.858913  0.875000\n",
            "1                0.1  0.899038   0.888889           0.860513  0.923077\n",
            "\n",
            "running classifier2data2\n",
            "          Error_Rate       AUC  Precision  Average_Precision    Recall\n",
            "Category                                                              \n",
            "0                0.1  0.899038   0.913043           0.858913  0.875000\n",
            "1                0.1  0.899038   0.888889           0.860513  0.923077\n",
            "\n",
            "running classifier3data2\n",
            "          Error_Rate       AUC  Precision  Average_Precision    Recall\n",
            "Category                                                              \n",
            "0              0.105  0.894231   0.903226           0.850323  0.875000\n",
            "1              0.105  0.894231   0.887850           0.856017  0.913462\n",
            "\n",
            "running classifier4data2\n",
            "          Error_Rate       AUC  Precision  Average_Precision    Recall\n",
            "Category                                                              \n",
            "0               0.13  0.871795   0.830189           0.801006  0.916667\n",
            "1               0.13  0.871795   0.914894           0.846547  0.826923\n",
            "\n",
            "running classifier5data2\n",
            "          Error_Rate       AUC  Precision  Average_Precision    Recall\n",
            "Category                                                              \n",
            "0              0.115  0.884215   0.892473           0.836617  0.864583\n",
            "1              0.115  0.884215   0.878505           0.844033  0.903846\n",
            "\n",
            "running classifier6data2\n",
            "          Error_Rate       AUC  Precision  Average_Precision    Recall\n",
            "Category                                                              \n",
            "0               0.11  0.889423   0.893617           0.841915  0.875000\n",
            "1               0.11  0.889423   0.886792           0.851524  0.903846\n",
            "\n",
            "running classifier7data2\n",
            "          Error_Rate       AUC  Precision  Average_Precision    Recall\n",
            "Category                                                              \n",
            "0              0.105  0.893429   0.921348           0.856985  0.854167\n",
            "1              0.105  0.893429   0.873874           0.850055  0.932692\n",
            "\n",
            "running classifier8data2\n",
            "          Error_Rate       AUC  Precision  Average_Precision    Recall\n",
            "Category                                                              \n",
            "0                0.1  0.898638   0.922222           0.862338  0.864583\n",
            "1                0.1  0.898638   0.881818           0.857465  0.932692\n",
            "\n",
            "running classifier9data2\n",
            "          Error_Rate      AUC  Precision  Average_Precision    Recall\n",
            "Category                                                             \n",
            "0               0.13  0.86899   0.880435           0.817867  0.843750\n",
            "1               0.13  0.86899   0.861111           0.825032  0.894231\n",
            "\n",
            "running classifier1data3\n",
            "          Error_Rate       AUC  Precision  Average_Precision    Recall\n",
            "Category                                                              \n",
            "0               0.47  0.534926   0.571429           0.548760  0.452830\n",
            "1               0.47  0.534926   0.500000           0.488511  0.617021\n",
            "\n",
            "running classifier2data3\n",
            "          Error_Rate       AUC  Precision  Average_Precision    Recall\n",
            "Category                                                              \n",
            "0               0.46  0.540747   0.571429           0.551887  0.528302\n",
            "1               0.46  0.540747   0.509804           0.492019  0.553191\n",
            "\n",
            "running classifier3data3\n",
            "          Error_Rate       AUC  Precision  Average_Precision    Recall\n",
            "Category                                                              \n",
            "0              0.325  0.666901   0.658915           0.633375  0.801887\n",
            "1              0.325  0.666901   0.704225           0.594588  0.531915\n",
            "\n",
            "running classifier4data3\n",
            "          Error_Rate       AUC  Precision  Average_Precision    Recall\n",
            "Category                                                              \n",
            "0              0.335  0.679145   0.854545           0.673902  0.443396\n",
            "1              0.335  0.679145   0.593103           0.582627  0.914894\n",
            "\n",
            "running classifier5data3\n",
            "          Error_Rate       AUC  Precision  Average_Precision    Recall\n",
            "Category                                                              \n",
            "0              0.145  0.854777   0.866667           0.819025  0.858491\n",
            "1              0.145  0.854777   0.842105           0.786685  0.851064\n",
            "\n",
            "running classifier6data3\n",
            "          Error_Rate       AUC  Precision  Average_Precision    Recall\n",
            "Category                                                              \n",
            "0               0.18  0.819952   0.836538           0.781593  0.820755\n",
            "1               0.18  0.819952   0.802083           0.742026  0.819149\n",
            "\n",
            "running classifier7data3\n",
            "          Error_Rate       AUC  Precision  Average_Precision    Recall\n",
            "Category                                                              \n",
            "0               0.16  0.840626   0.862745           0.806241  0.830189\n",
            "1               0.16  0.840626   0.816327           0.764746  0.851064\n"
          ]
        },
        {
          "output_type": "stream",
          "name": "stderr",
          "text": [
            "/usr/local/lib/python3.7/dist-packages/sklearn/neural_network/_multilayer_perceptron.py:696: ConvergenceWarning: Stochastic Optimizer: Maximum iterations (200) reached and the optimization hasn't converged yet.\n",
            "  ConvergenceWarning,\n"
          ]
        },
        {
          "output_type": "stream",
          "name": "stdout",
          "text": [
            "\n",
            "running classifier8data3\n",
            "          Error_Rate       AUC  Precision  Average_Precision    Recall\n",
            "Category                                                              \n",
            "0               0.09  0.910277   0.923077           0.885994  0.905660\n",
            "1               0.09  0.910277   0.895833           0.859592  0.914894\n",
            "\n",
            "running classifier9data3\n",
            "          Error_Rate       AUC  Precision  Average_Precision    Recall\n",
            "Category                                                              \n",
            "0              0.125  0.876054   0.900990           0.848492  0.858491\n",
            "1              0.125  0.876054   0.848485           0.808221  0.893617\n",
            "\n",
            "running classifier1data4\n",
            "          Error_Rate       AUC  Precision  Average_Precision    Recall\n",
            "Category                                                              \n",
            "0               0.34  0.683838   0.576389           0.566559  0.922222\n",
            "1               0.34  0.683838   0.875000           0.694773  0.445455\n",
            "\n",
            "running classifier2data4\n",
            "          Error_Rate       AUC  Precision  Average_Precision    Recall\n",
            "Category                                                              \n",
            "0               0.08  0.922222   0.885417           0.861227  0.944444\n",
            "1               0.08  0.922222   0.951923           0.911731  0.900000\n",
            "\n",
            "running classifier3data4\n",
            "          Error_Rate       AUC  Precision  Average_Precision    Recall\n",
            "Category                                                              \n",
            "0               0.36  0.671717    0.55625           0.555069  0.988889\n",
            "1               0.36  0.671717    0.97500           0.700682  0.354545\n",
            "\n",
            "running classifier4data4\n",
            "          Error_Rate       AUC  Precision  Average_Precision    Recall\n",
            "Category                                                              \n",
            "0              0.435  0.604545   0.508475           0.508475  1.000000\n",
            "1              0.435  0.604545   1.000000           0.644091  0.209091\n",
            "\n",
            "running classifier5data4\n",
            "          Error_Rate       AUC  Precision  Average_Precision    Recall\n",
            "Category                                                              \n",
            "0              0.105  0.895455   0.870968           0.828871  0.900000\n",
            "1              0.105  0.895455   0.915888           0.875973  0.890909\n",
            "\n",
            "running classifier6data4\n",
            "          Error_Rate       AUC  Precision  Average_Precision    Recall\n",
            "Category                                                              \n",
            "0               0.11  0.889899   0.869565           0.822947  0.888889\n",
            "1               0.11  0.889899   0.907407           0.868418  0.890909\n",
            "\n",
            "running classifier7data4\n",
            "          Error_Rate       AUC  Precision  Average_Precision    Recall\n",
            "Category                                                              \n",
            "0              0.095  0.907576   0.865979           0.838247  0.933333\n",
            "1              0.095  0.907576   0.941748           0.895450  0.881818\n"
          ]
        },
        {
          "output_type": "stream",
          "name": "stderr",
          "text": [
            "/usr/local/lib/python3.7/dist-packages/sklearn/neural_network/_multilayer_perceptron.py:696: ConvergenceWarning: Stochastic Optimizer: Maximum iterations (200) reached and the optimization hasn't converged yet.\n",
            "  ConvergenceWarning,\n"
          ]
        },
        {
          "output_type": "stream",
          "name": "stdout",
          "text": [
            "\n",
            "running classifier8data4\n",
            "          Error_Rate       AUC  Precision  Average_Precision    Recall\n",
            "Category                                                              \n",
            "0               0.09  0.915152   0.852941           0.839510  0.966667\n",
            "1               0.09  0.915152   0.969388           0.912199  0.863636\n",
            "\n",
            "running classifier9data4\n",
            "          Error_Rate       AUC  Precision  Average_Precision    Recall\n",
            "Category                                                              \n",
            "0              0.105  0.896465   0.863158           0.826433  0.911111\n",
            "1              0.105  0.896465   0.923810           0.879632  0.881818\n"
          ]
        },
        {
          "output_type": "stream",
          "name": "stderr",
          "text": [
            "/usr/local/lib/python3.7/dist-packages/sklearn/linear_model/_logistic.py:818: ConvergenceWarning: lbfgs failed to converge (status=1):\n",
            "STOP: TOTAL NO. of ITERATIONS REACHED LIMIT.\n",
            "\n",
            "Increase the number of iterations (max_iter) or scale the data as shown in:\n",
            "    https://scikit-learn.org/stable/modules/preprocessing.html\n",
            "Please also refer to the documentation for alternative solver options:\n",
            "    https://scikit-learn.org/stable/modules/linear_model.html#logistic-regression\n",
            "  extra_warning_msg=_LOGISTIC_SOLVER_CONVERGENCE_MSG,\n"
          ]
        },
        {
          "output_type": "stream",
          "name": "stdout",
          "text": [
            "\n",
            "running classifier1data5\n",
            "          Error_Rate       AUC  Precision  Average_Precision  Recall\n",
            "Category                                                            \n",
            "0              0.000  1.000000   1.000000           1.000000    1.00\n",
            "1              0.002  0.995000   1.000000           0.992000    0.99\n",
            "2              0.000  1.000000   1.000000           1.000000    1.00\n",
            "3              0.002  0.998744   0.990291           0.990291    1.00\n",
            "4              0.000  1.000000   1.000000           1.000000    1.00\n",
            "\n",
            "running classifier2data5\n",
            "          Error_Rate  AUC  Precision  Average_Precision  Recall\n",
            "Category                                                       \n",
            "0                0.0  1.0        1.0                1.0     1.0\n",
            "1                0.0  1.0        1.0                1.0     1.0\n",
            "2                0.0  1.0        1.0                1.0     1.0\n",
            "3                0.0  1.0        1.0                1.0     1.0\n",
            "4                0.0  1.0        1.0                1.0     1.0\n",
            "\n",
            "running classifier3data5\n",
            "          Error_Rate       AUC  Precision  Average_Precision    Recall\n",
            "Category                                                              \n",
            "0              0.000  1.000000   1.000000           1.000000  1.000000\n",
            "1              0.000  1.000000   1.000000           1.000000  1.000000\n",
            "2              0.002  0.998768   0.989474           0.989474  1.000000\n",
            "3              0.002  0.995098   1.000000           0.992196  0.990196\n",
            "4              0.000  1.000000   1.000000           1.000000  1.000000\n",
            "\n",
            "running classifier4data5\n",
            "          Error_Rate       AUC  Precision  Average_Precision    Recall\n",
            "Category                                                              \n",
            "0              0.000  1.000000   1.000000           1.000000  1.000000\n",
            "1              0.002  0.995000   1.000000           0.992000  0.990000\n",
            "2              0.002  0.994681   1.000000           0.991362  0.989362\n",
            "3              0.004  0.997487   0.980769           0.980769  1.000000\n",
            "4              0.000  1.000000   1.000000           1.000000  1.000000\n",
            "\n",
            "running classifier5data5\n",
            "          Error_Rate       AUC  Precision  Average_Precision    Recall\n",
            "Category                                                              \n",
            "0              0.000  1.000000   1.000000           1.000000  1.000000\n",
            "1              0.000  1.000000   1.000000           1.000000  1.000000\n",
            "2              0.002  0.998768   0.989474           0.989474  1.000000\n",
            "3              0.002  0.995098   1.000000           0.992196  0.990196\n",
            "4              0.000  1.000000   1.000000           1.000000  1.000000\n",
            "\n",
            "running classifier6data5\n",
            "          Error_Rate       AUC  Precision  Average_Precision    Recall\n",
            "Category                                                              \n",
            "0              0.000  1.000000   1.000000           1.000000  1.000000\n",
            "1              0.004  0.993750   0.990000           0.982100  0.990000\n",
            "2              0.004  0.993449   0.989362           0.980837  0.989362\n",
            "3              0.004  0.993842   0.990196           0.982488  0.990196\n",
            "4              0.000  1.000000   1.000000           1.000000  1.000000\n",
            "\n",
            "running classifier7data5\n",
            "          Error_Rate       AUC  Precision  Average_Precision    Recall\n",
            "Category                                                              \n",
            "0              0.000  1.000000   1.000000           1.000000  1.000000\n",
            "1              0.000  1.000000   1.000000           1.000000  1.000000\n",
            "2              0.002  0.998768   0.989474           0.989474  1.000000\n",
            "3              0.002  0.995098   1.000000           0.992196  0.990196\n",
            "4              0.000  1.000000   1.000000           1.000000  1.000000\n",
            "\n",
            "running classifier8data5\n",
            "          Error_Rate       AUC  Precision  Average_Precision    Recall\n",
            "Category                                                              \n",
            "0              0.000  1.000000   1.000000           1.000000  1.000000\n",
            "1              0.000  1.000000   1.000000           1.000000  1.000000\n",
            "2              0.002  0.998768   0.989474           0.989474  1.000000\n",
            "3              0.002  0.995098   1.000000           0.992196  0.990196\n",
            "4              0.000  1.000000   1.000000           1.000000  1.000000\n",
            "\n",
            "running classifier9data5\n",
            "          Error_Rate       AUC  Precision  Average_Precision    Recall\n",
            "Category                                                              \n",
            "0              0.000  1.000000   1.000000           1.000000  1.000000\n",
            "1              0.002  0.995000   1.000000           0.992000  0.990000\n",
            "2              0.002  0.998768   0.989474           0.989474  1.000000\n",
            "3              0.004  0.993842   0.990196           0.982488  0.990196\n",
            "4              0.000  1.000000   1.000000           1.000000  1.000000\n",
            "\n",
            "running classifier1data6\n",
            "          Error_Rate       AUC  Precision  Average_Precision    Recall\n",
            "Category                                                              \n",
            "0               0.52  0.481333   0.467890           0.476004  0.525773\n",
            "1               0.52  0.481333   0.494505           0.506046  0.436893\n",
            "\n",
            "running classifier2data6\n",
            "          Error_Rate       AUC  Precision  Average_Precision    Recall\n",
            "Category                                                              \n",
            "0               0.52  0.480733   0.466667           0.475739  0.505155\n",
            "1               0.52  0.480733   0.494737           0.505754  0.456311\n",
            "\n",
            "running classifier3data6\n",
            "          Error_Rate       AUC  Precision  Average_Precision    Recall\n",
            "Category                                                              \n",
            "0               0.51  0.490742   0.476190           0.480459  0.515464\n",
            "1               0.51  0.490742   0.505263           0.510462  0.466019\n",
            "\n",
            "running classifier4data6\n",
            "          Error_Rate       AUC  Precision  Average_Precision    Recall\n",
            "Category                                                              \n",
            "0               0.53  0.473126   0.462810           0.472189  0.577320\n",
            "1               0.53  0.473126   0.481013           0.502461  0.368932\n",
            "\n",
            "running classifier5data6\n",
            "          Error_Rate       AUC  Precision  Average_Precision    Recall\n",
            "Category                                                              \n",
            "0               0.57  0.431588   0.423423           0.455164  0.484536\n",
            "1               0.57  0.431588   0.438202           0.485921  0.378641\n",
            "\n",
            "running classifier6data6\n",
            "          Error_Rate       AUC  Precision  Average_Precision    Recall\n",
            "Category                                                              \n",
            "0               0.49  0.510159   0.495050           0.490180  0.515464\n",
            "1               0.49  0.510159   0.525253           0.520176  0.504854\n",
            "\n",
            "running classifier7data6\n",
            "          Error_Rate       AUC  Precision  Average_Precision    Recall\n",
            "Category                                                              \n",
            "0               0.54  0.462216   0.452174           0.467403  0.536082\n",
            "1               0.54  0.462216   0.470588           0.497753  0.388350\n",
            "\n",
            "running classifier8data6\n",
            "          Error_Rate       AUC  Precision  Average_Precision    Recall\n",
            "Category                                                              \n",
            "0              0.535  0.465269   0.450980           0.468867  0.474227\n",
            "1              0.535  0.465269   0.479592           0.498843  0.456311\n",
            "\n",
            "running classifier9data6\n",
            "          Error_Rate       AUC  Precision  Average_Precision    Recall\n",
            "Category                                                              \n",
            "0              0.565  0.435242   0.421569           0.456881  0.443299\n",
            "1              0.565  0.435242   0.448980           0.486797  0.427184\n",
            "\n",
            "running classifier1data7\n",
            "          Error_Rate      AUC  Precision  Average_Precision    Recall\n",
            "Category                                                             \n",
            "0               0.48  0.52227   0.541176           0.526690  0.446602\n",
            "1               0.48  0.52227   0.504348           0.496569  0.597938\n",
            "\n",
            "running classifier2data7\n",
            "          Error_Rate      AUC  Precision  Average_Precision    Recall\n",
            "Category                                                             \n",
            "0               0.51  0.48894   0.504673           0.509586  0.524272\n",
            "1               0.51  0.48894   0.473118           0.479610  0.453608\n",
            "\n",
            "running classifier3data7\n",
            "          Error_Rate       AUC  Precision  Average_Precision    Recall\n",
            "Category                                                              \n",
            "0               0.44  0.559604   0.572816           0.548118  0.572816\n",
            "1               0.44  0.559604   0.546392           0.518544  0.546392\n",
            "\n",
            "running classifier4data7\n",
            "          Error_Rate       AUC  Precision  Average_Precision    Recall\n",
            "Category                                                              \n",
            "0              0.525  0.478881   0.486486           0.505034  0.349515\n",
            "1              0.525  0.478881   0.468254           0.474814  0.608247\n",
            "\n",
            "running classifier5data7\n",
            "          Error_Rate       AUC  Precision  Average_Precision    Recall\n",
            "Category                                                              \n",
            "0               0.53  0.471624   0.483146           0.501702  0.417476\n",
            "1               0.53  0.471624   0.459459           0.471571  0.525773\n",
            "\n",
            "running classifier6data7\n",
            "          Error_Rate       AUC  Precision  Average_Precision    Recall\n",
            "Category                                                              \n",
            "0              0.505  0.495896   0.510638           0.512967  0.466019\n",
            "1              0.505  0.495896   0.481132           0.482966  0.525773\n",
            "\n",
            "running classifier7data7\n",
            "          Error_Rate      AUC  Precision  Average_Precision    Recall\n",
            "Category                                                             \n",
            "0              0.455  0.54474   0.558824           0.539252  0.553398\n",
            "1              0.455  0.54474   0.530612           0.509452  0.536082\n",
            "\n",
            "running classifier8data7\n",
            "          Error_Rate       AUC  Precision  Average_Precision    Recall\n",
            "Category                                                              \n",
            "0              0.485  0.515014       0.53           0.522718  0.514563\n",
            "1              0.485  0.515014       0.50           0.492732  0.515464\n",
            "\n",
            "running classifier9data7\n",
            "          Error_Rate       AUC  Precision  Average_Precision    Recall\n",
            "Category                                                              \n",
            "0              0.495  0.506506   0.522222           0.518296  0.456311\n",
            "1              0.495  0.506506   0.490909           0.488290  0.556701\n",
            "\n",
            "running classifier1data8\n",
            "          Error_Rate       AUC  Precision  Average_Precision    Recall\n",
            "Category                                                              \n",
            "0              0.505  0.498997   0.523810           0.524501  0.419048\n",
            "1              0.505  0.498997   0.474138           0.474501  0.578947\n",
            "\n",
            "running classifier2data8\n",
            "          Error_Rate      AUC  Precision  Average_Precision    Recall\n",
            "Category                                                             \n",
            "0              0.535  0.47193   0.486111           0.512037  0.333333\n",
            "1              0.535  0.47193   0.453125           0.461645  0.610526\n",
            "\n",
            "running classifier3data8\n",
            "          Error_Rate       AUC  Precision  Average_Precision    Recall\n",
            "Category                                                              \n",
            "0              0.505  0.500501   0.525641            0.52525  0.390476\n",
            "1              0.505  0.500501   0.475410            0.47525  0.610526\n",
            "\n",
            "running classifier4data8\n",
            "          Error_Rate       AUC  Precision  Average_Precision    Recall\n",
            "Category                                                              \n",
            "0               0.43  0.582957   0.693878           0.579684  0.323810\n",
            "1               0.43  0.582957   0.529801           0.521148  0.842105\n",
            "\n",
            "running classifier5data8\n",
            "          Error_Rate       AUC  Precision  Average_Precision    Recall\n",
            "Category                                                              \n",
            "0               0.47  0.531328   0.557895           0.541604  0.504762\n",
            "1               0.47  0.531328   0.504762           0.491604  0.557895\n",
            "\n",
            "running classifier6data8\n",
            "          Error_Rate      AUC  Precision  Average_Precision    Recall\n",
            "Category                                                             \n",
            "0              0.465  0.53208   0.553571           0.541871  0.590476\n",
            "1              0.465  0.53208   0.511364           0.492225  0.473684\n",
            "\n",
            "running classifier7data8\n",
            "          Error_Rate       AUC  Precision  Average_Precision    Recall\n",
            "Category                                                              \n",
            "0               0.49  0.507268   0.531532           0.528670  0.561905\n",
            "1               0.49  0.507268   0.483146           0.478687  0.452632\n",
            "\n",
            "running classifier8data8\n",
            "          Error_Rate       AUC  Precision  Average_Precision    Recall\n",
            "Category                                                              \n",
            "0               0.37  0.631078   0.659794           0.607160  0.609524\n",
            "1               0.37  0.631078   0.601942           0.557846  0.652632\n",
            "\n",
            "running classifier9data8\n",
            "          Error_Rate       AUC  Precision  Average_Precision    Recall\n",
            "Category                                                              \n",
            "0               0.46  0.537845   0.559633           0.545120  0.580952\n",
            "1               0.46  0.537845   0.516484           0.495523  0.494737\n",
            "\n",
            "running classifier1data9\n",
            "          Error_Rate       AUC  Precision  Average_Precision    Recall\n",
            "Category                                                              \n",
            "0                0.5  0.508271   0.537313           0.529222  0.342857\n",
            "1                0.5  0.508271   0.481203           0.479179  0.673684\n",
            "\n",
            "running classifier2data9\n",
            "          Error_Rate       AUC  Precision  Average_Precision    Recall\n",
            "Category                                                              \n",
            "0               0.47  0.537343   0.577465           0.545486  0.390476\n",
            "1               0.47  0.537343   0.503876           0.494757  0.684211\n",
            "\n",
            "running classifier3data9\n",
            "          Error_Rate       AUC  Precision  Average_Precision    Recall\n",
            "Category                                                              \n",
            "0               0.51  0.500752   0.526316           0.525376  0.285714\n",
            "1               0.51  0.500752   0.475524           0.475375  0.715789\n",
            "\n",
            "running classifier4data9\n",
            "          Error_Rate       AUC  Precision  Average_Precision    Recall\n",
            "Category                                                              \n",
            "0               0.47  0.542356   0.607843           0.549458  0.295238\n",
            "1               0.47  0.542356   0.503356           0.497386  0.789474\n",
            "\n",
            "running classifier5data9\n",
            "          Error_Rate       AUC  Precision  Average_Precision    Recall\n",
            "Category                                                              \n",
            "0              0.515  0.485965   0.510417           0.518194  0.466667\n",
            "1              0.515  0.485965   0.461538           0.468198  0.505263\n",
            "\n",
            "running classifier6data9\n",
            "          Error_Rate       AUC  Precision  Average_Precision    Recall\n",
            "Category                                                              \n",
            "0               0.51  0.489724   0.514851           0.519974  0.495238\n",
            "1               0.51  0.489724   0.464646           0.469987  0.484211\n",
            "\n",
            "running classifier7data9\n",
            "          Error_Rate       AUC  Precision  Average_Precision    Recall\n",
            "Category                                                              \n",
            "0              0.465  0.535589   0.561224           0.543975  0.523810\n",
            "1              0.465  0.535589   0.509804           0.494051  0.547368\n",
            "\n",
            "running classifier8data9\n",
            "          Error_Rate       AUC  Precision  Average_Precision    Recall\n",
            "Category                                                              \n",
            "0               0.48  0.525815   0.558442           0.538695  0.409524\n",
            "1               0.48  0.525815   0.495935           0.488442  0.642105\n",
            "\n",
            "running classifier9data9\n",
            "          Error_Rate      AUC  Precision  Average_Precision    Recall\n",
            "Category                                                             \n",
            "0              0.455  0.54812   0.579545           0.551494  0.485714\n",
            "1              0.455  0.54812   0.517857           0.501165  0.610526\n"
          ]
        },
        {
          "output_type": "stream",
          "name": "stderr",
          "text": [
            "/usr/local/lib/python3.7/dist-packages/sklearn/linear_model/_logistic.py:818: ConvergenceWarning: lbfgs failed to converge (status=1):\n",
            "STOP: TOTAL NO. of ITERATIONS REACHED LIMIT.\n",
            "\n",
            "Increase the number of iterations (max_iter) or scale the data as shown in:\n",
            "    https://scikit-learn.org/stable/modules/preprocessing.html\n",
            "Please also refer to the documentation for alternative solver options:\n",
            "    https://scikit-learn.org/stable/modules/linear_model.html#logistic-regression\n",
            "  extra_warning_msg=_LOGISTIC_SOLVER_CONVERGENCE_MSG,\n"
          ]
        },
        {
          "output_type": "stream",
          "name": "stdout",
          "text": [
            "\n",
            "running classifier1data10\n",
            "          Error_Rate       AUC  Precision  Average_Precision    Recall\n",
            "Category                                                              \n",
            "0              0.164  0.761752   0.504673           0.386341  0.650602\n",
            "1              0.176  0.740000   0.555556           0.413333  0.600000\n",
            "2              0.000  1.000000   1.000000           1.000000  1.000000\n",
            "3              0.214  0.637127   0.525641           0.334156  0.369369\n",
            "4              0.102  0.854888   0.769912           0.648056  0.776786\n",
            "\n",
            "running classifier2data10\n",
            "          Error_Rate       AUC  Precision  Average_Precision    Recall\n",
            "Category                                                              \n",
            "0              0.164  0.766577   0.504587           0.390365  0.662651\n",
            "1              0.170  0.717500   0.582418           0.402681  0.530000\n",
            "2              0.000  1.000000   1.000000           1.000000  1.000000\n",
            "3              0.194  0.691829   0.574468           0.393471  0.486486\n",
            "4              0.100  0.856176   0.776786           0.653396  0.776786\n",
            "\n",
            "running classifier3data10\n",
            "          Error_Rate       AUC  Precision  Average_Precision    Recall\n",
            "Category                                                              \n",
            "0              0.168  0.764179   0.495495           0.384340  0.662651\n",
            "1              0.172  0.738750   0.567308           0.416712  0.590000\n",
            "2              0.000  1.000000   1.000000           1.000000  1.000000\n",
            "3              0.210  0.649355   0.536585           0.346701  0.396396\n",
            "4              0.106  0.842784   0.770642           0.633982  0.750000\n",
            "\n",
            "running classifier4data10\n",
            "          Error_Rate       AUC  Precision  Average_Precision    Recall\n",
            "Category                                                              \n",
            "0              0.200  0.793245   0.442177           0.382283  0.783133\n",
            "1              0.162  0.673750   0.655738           0.382295  0.400000\n",
            "2              0.000  1.000000   1.000000           1.000000  1.000000\n",
            "3              0.184  0.733667   0.585586           0.434910  0.585586\n",
            "4              0.122  0.784840   0.793103           0.574608  0.616071\n",
            "\n",
            "running classifier5data10\n",
            "          Error_Rate       AUC  Precision  Average_Precision    Recall\n",
            "Category                                                              \n",
            "0              0.212  0.679899   0.394495           0.284377  0.518072\n",
            "1              0.206  0.650000   0.482353           0.315765  0.410000\n",
            "2              0.002  0.998768   0.989474           0.989474  1.000000\n",
            "3              0.252  0.628801   0.429907           0.308159  0.414414\n",
            "4              0.148  0.774439   0.682692           0.514778  0.633929\n",
            "\n",
            "running classifier6data10\n",
            "          Error_Rate       AUC  Precision  Average_Precision    Recall\n",
            "Category                                                              \n",
            "0              0.230  0.659458   0.359649           0.261658  0.493976\n",
            "1              0.212  0.653750   0.467391           0.314978  0.430000\n",
            "2              0.000  1.000000   1.000000           1.000000  1.000000\n",
            "3              0.242  0.632009   0.450000           0.314432  0.405405\n",
            "4              0.148  0.768087   0.690000           0.511089  0.616071\n",
            "\n",
            "running classifier7data10\n",
            "          Error_Rate       AUC  Precision  Average_Precision    Recall\n",
            "Category                                                              \n",
            "0              0.206  0.702797   0.412281           0.305460  0.566265\n",
            "1              0.206  0.672500   0.484536           0.333732  0.470000\n",
            "2              0.000  1.000000   1.000000           1.000000  1.000000\n",
            "3              0.246  0.616561   0.436170           0.301108  0.369369\n",
            "4              0.130  0.795563   0.732673           0.560088  0.660714\n",
            "\n",
            "running classifier8data10\n",
            "          Error_Rate       AUC  Precision  Average_Precision    Recall\n",
            "Category                                                              \n",
            "0              0.170  0.772630   0.491379           0.389453  0.686747\n",
            "1              0.208  0.738750   0.485075           0.385299  0.650000\n",
            "2              0.000  1.000000   1.000000           1.000000  1.000000\n",
            "3              0.222  0.577260   0.500000           0.282108  0.216216\n",
            "4              0.100  0.849825   0.787037           0.651305  0.758929\n",
            "\n",
            "running classifier9data10\n",
            "          Error_Rate       AUC  Precision  Average_Precision    Recall\n",
            "Category                                                              \n",
            "0              0.180  0.747335   0.469027           0.359499  0.638554\n",
            "1              0.220  0.660000   0.450980           0.315451  0.460000\n",
            "2              0.000  1.000000   1.000000           1.000000  1.000000\n",
            "3              0.248  0.608838   0.428571           0.294579  0.351351\n",
            "4              0.116  0.814111   0.770000           0.599375  0.687500\n"
          ]
        }
      ]
    },
    {
      "cell_type": "markdown",
      "source": [
        "Empirical data: newsgroups, senate small, senate large, spam"
      ],
      "metadata": {
        "id": "dSOfX7MCEjPS"
      }
    },
    {
      "cell_type": "code",
      "source": [
        "#these cells took forever to run and would not load in the data\n",
        "#but the process of seeing which model fits best would be similar as above\n",
        "dfTrain1, dfTest1 = sklearn.model_selection.train_test_split(lucem_illud.loadNewsGroups(), n=10)"
      ],
      "metadata": {
        "colab": {
          "base_uri": "https://localhost:8080/",
          "height": 298
        },
        "id": "g_jSlLPMEs-X",
        "outputId": "6716dc51-502a-4df7-8515-4dbfe9f36e18"
      },
      "execution_count": null,
      "outputs": [
        {
          "output_type": "error",
          "ename": "KeyboardInterrupt",
          "evalue": "ignored",
          "traceback": [
            "\u001b[0;31m---------------------------------------------------------------------------\u001b[0m",
            "\u001b[0;31mKeyboardInterrupt\u001b[0m                         Traceback (most recent call last)",
            "\u001b[0;32m<ipython-input-51-b85ac4cef6a3>\u001b[0m in \u001b[0;36m<module>\u001b[0;34m()\u001b[0m\n\u001b[0;32m----> 1\u001b[0;31m \u001b[0mdfTrain1\u001b[0m\u001b[0;34m,\u001b[0m \u001b[0mdfTest1\u001b[0m \u001b[0;34m=\u001b[0m \u001b[0msklearn\u001b[0m\u001b[0;34m.\u001b[0m\u001b[0mmodel_selection\u001b[0m\u001b[0;34m.\u001b[0m\u001b[0mtrain_test_split\u001b[0m\u001b[0;34m(\u001b[0m\u001b[0mlucem_illud\u001b[0m\u001b[0;34m.\u001b[0m\u001b[0mloadNewsGroups\u001b[0m\u001b[0;34m(\u001b[0m\u001b[0;34m)\u001b[0m\u001b[0;34m,\u001b[0m \u001b[0mn\u001b[0m\u001b[0;34m=\u001b[0m\u001b[0;36m10\u001b[0m\u001b[0;34m)\u001b[0m\u001b[0;34m\u001b[0m\u001b[0;34m\u001b[0m\u001b[0m\n\u001b[0m",
            "\u001b[0;32m/usr/local/lib/python3.7/dist-packages/lucem_illud/loaders.py\u001b[0m in \u001b[0;36mloadNewsGroups\u001b[0;34m(categories, dataDirectory)\u001b[0m\n\u001b[1;32m     85\u001b[0m \u001b[0;32mdef\u001b[0m \u001b[0mloadNewsGroups\u001b[0m\u001b[0;34m(\u001b[0m\u001b[0mcategories\u001b[0m \u001b[0;34m=\u001b[0m \u001b[0;34m[\u001b[0m\u001b[0;34m'comp.sys.mac.hardware'\u001b[0m\u001b[0;34m,\u001b[0m \u001b[0;34m'comp.windows.x'\u001b[0m\u001b[0;34m,\u001b[0m \u001b[0;34m'misc.forsale'\u001b[0m\u001b[0;34m,\u001b[0m \u001b[0;34m'rec.autos'\u001b[0m\u001b[0;34m]\u001b[0m\u001b[0;34m,\u001b[0m \u001b[0mdataDirectory\u001b[0m\u001b[0;34m=\u001b[0m\u001b[0mdataDirectory\u001b[0m\u001b[0;34m)\u001b[0m\u001b[0;34m:\u001b[0m\u001b[0;34m\u001b[0m\u001b[0;34m\u001b[0m\u001b[0m\n\u001b[1;32m     86\u001b[0m     \u001b[0mnewsgroupsCategories\u001b[0m \u001b[0;34m=\u001b[0m \u001b[0mcategories\u001b[0m\u001b[0;34m\u001b[0m\u001b[0;34m\u001b[0m\u001b[0m\n\u001b[0;32m---> 87\u001b[0;31m     \u001b[0mnewsgroups\u001b[0m \u001b[0;34m=\u001b[0m \u001b[0msklearn\u001b[0m\u001b[0;34m.\u001b[0m\u001b[0mdatasets\u001b[0m\u001b[0;34m.\u001b[0m\u001b[0mfetch_20newsgroups\u001b[0m\u001b[0;34m(\u001b[0m\u001b[0msubset\u001b[0m\u001b[0;34m=\u001b[0m\u001b[0;34m'train'\u001b[0m\u001b[0;34m,\u001b[0m \u001b[0mdata_home\u001b[0m \u001b[0;34m=\u001b[0m \u001b[0mdataDirectory\u001b[0m\u001b[0;34m)\u001b[0m\u001b[0;34m\u001b[0m\u001b[0;34m\u001b[0m\u001b[0m\n\u001b[0m\u001b[1;32m     88\u001b[0m     \u001b[0mnewsgroupsDF\u001b[0m \u001b[0;34m=\u001b[0m \u001b[0mpandas\u001b[0m\u001b[0;34m.\u001b[0m\u001b[0mDataFrame\u001b[0m\u001b[0;34m(\u001b[0m\u001b[0mcolumns\u001b[0m \u001b[0;34m=\u001b[0m \u001b[0;34m[\u001b[0m\u001b[0;34m'text'\u001b[0m\u001b[0;34m,\u001b[0m \u001b[0;34m'category'\u001b[0m\u001b[0;34m,\u001b[0m \u001b[0;34m'source_file'\u001b[0m\u001b[0;34m]\u001b[0m\u001b[0;34m)\u001b[0m\u001b[0;34m\u001b[0m\u001b[0;34m\u001b[0m\u001b[0m\n\u001b[1;32m     89\u001b[0m \u001b[0;34m\u001b[0m\u001b[0m\n",
            "\u001b[0;32m/usr/local/lib/python3.7/dist-packages/sklearn/datasets/_twenty_newsgroups.py\u001b[0m in \u001b[0;36mfetch_20newsgroups\u001b[0;34m(data_home, subset, categories, shuffle, random_state, remove, download_if_missing, return_X_y)\u001b[0m\n\u001b[1;32m    263\u001b[0m             \u001b[0mlogger\u001b[0m\u001b[0;34m.\u001b[0m\u001b[0minfo\u001b[0m\u001b[0;34m(\u001b[0m\u001b[0;34m\"Downloading 20news dataset. This may take a few minutes.\"\u001b[0m\u001b[0;34m)\u001b[0m\u001b[0;34m\u001b[0m\u001b[0;34m\u001b[0m\u001b[0m\n\u001b[1;32m    264\u001b[0m             cache = _download_20newsgroups(\n\u001b[0;32m--> 265\u001b[0;31m                 \u001b[0mtarget_dir\u001b[0m\u001b[0;34m=\u001b[0m\u001b[0mtwenty_home\u001b[0m\u001b[0;34m,\u001b[0m \u001b[0mcache_path\u001b[0m\u001b[0;34m=\u001b[0m\u001b[0mcache_path\u001b[0m\u001b[0;34m\u001b[0m\u001b[0;34m\u001b[0m\u001b[0m\n\u001b[0m\u001b[1;32m    266\u001b[0m             )\n\u001b[1;32m    267\u001b[0m         \u001b[0;32melse\u001b[0m\u001b[0;34m:\u001b[0m\u001b[0;34m\u001b[0m\u001b[0;34m\u001b[0m\u001b[0m\n",
            "\u001b[0;32m/usr/local/lib/python3.7/dist-packages/sklearn/datasets/_twenty_newsgroups.py\u001b[0m in \u001b[0;36m_download_20newsgroups\u001b[0;34m(target_dir, cache_path)\u001b[0m\n\u001b[1;32m     87\u001b[0m         \u001b[0mf\u001b[0m\u001b[0;34m.\u001b[0m\u001b[0mwrite\u001b[0m\u001b[0;34m(\u001b[0m\u001b[0mcompressed_content\u001b[0m\u001b[0;34m)\u001b[0m\u001b[0;34m\u001b[0m\u001b[0;34m\u001b[0m\u001b[0m\n\u001b[1;32m     88\u001b[0m \u001b[0;34m\u001b[0m\u001b[0m\n\u001b[0;32m---> 89\u001b[0;31m     \u001b[0mshutil\u001b[0m\u001b[0;34m.\u001b[0m\u001b[0mrmtree\u001b[0m\u001b[0;34m(\u001b[0m\u001b[0mtarget_dir\u001b[0m\u001b[0;34m)\u001b[0m\u001b[0;34m\u001b[0m\u001b[0;34m\u001b[0m\u001b[0m\n\u001b[0m\u001b[1;32m     90\u001b[0m     \u001b[0;32mreturn\u001b[0m \u001b[0mcache\u001b[0m\u001b[0;34m\u001b[0m\u001b[0;34m\u001b[0m\u001b[0m\n\u001b[1;32m     91\u001b[0m \u001b[0;34m\u001b[0m\u001b[0m\n",
            "\u001b[0;32m/usr/lib/python3.7/shutil.py\u001b[0m in \u001b[0;36mrmtree\u001b[0;34m(path, ignore_errors, onerror)\u001b[0m\n\u001b[1;32m    492\u001b[0m         \u001b[0;32mtry\u001b[0m\u001b[0;34m:\u001b[0m\u001b[0;34m\u001b[0m\u001b[0;34m\u001b[0m\u001b[0m\n\u001b[1;32m    493\u001b[0m             \u001b[0;32mif\u001b[0m \u001b[0mos\u001b[0m\u001b[0;34m.\u001b[0m\u001b[0mpath\u001b[0m\u001b[0;34m.\u001b[0m\u001b[0msamestat\u001b[0m\u001b[0;34m(\u001b[0m\u001b[0morig_st\u001b[0m\u001b[0;34m,\u001b[0m \u001b[0mos\u001b[0m\u001b[0;34m.\u001b[0m\u001b[0mfstat\u001b[0m\u001b[0;34m(\u001b[0m\u001b[0mfd\u001b[0m\u001b[0;34m)\u001b[0m\u001b[0;34m)\u001b[0m\u001b[0;34m:\u001b[0m\u001b[0;34m\u001b[0m\u001b[0;34m\u001b[0m\u001b[0m\n\u001b[0;32m--> 494\u001b[0;31m                 \u001b[0m_rmtree_safe_fd\u001b[0m\u001b[0;34m(\u001b[0m\u001b[0mfd\u001b[0m\u001b[0;34m,\u001b[0m \u001b[0mpath\u001b[0m\u001b[0;34m,\u001b[0m \u001b[0monerror\u001b[0m\u001b[0;34m)\u001b[0m\u001b[0;34m\u001b[0m\u001b[0;34m\u001b[0m\u001b[0m\n\u001b[0m\u001b[1;32m    495\u001b[0m                 \u001b[0;32mtry\u001b[0m\u001b[0;34m:\u001b[0m\u001b[0;34m\u001b[0m\u001b[0;34m\u001b[0m\u001b[0m\n\u001b[1;32m    496\u001b[0m                     \u001b[0mos\u001b[0m\u001b[0;34m.\u001b[0m\u001b[0mrmdir\u001b[0m\u001b[0;34m(\u001b[0m\u001b[0mpath\u001b[0m\u001b[0;34m)\u001b[0m\u001b[0;34m\u001b[0m\u001b[0;34m\u001b[0m\u001b[0m\n",
            "\u001b[0;32m/usr/lib/python3.7/shutil.py\u001b[0m in \u001b[0;36m_rmtree_safe_fd\u001b[0;34m(topfd, path, onerror)\u001b[0m\n\u001b[1;32m    430\u001b[0m                 \u001b[0;32mtry\u001b[0m\u001b[0;34m:\u001b[0m\u001b[0;34m\u001b[0m\u001b[0;34m\u001b[0m\u001b[0m\n\u001b[1;32m    431\u001b[0m                     \u001b[0;32mif\u001b[0m \u001b[0mos\u001b[0m\u001b[0;34m.\u001b[0m\u001b[0mpath\u001b[0m\u001b[0;34m.\u001b[0m\u001b[0msamestat\u001b[0m\u001b[0;34m(\u001b[0m\u001b[0morig_st\u001b[0m\u001b[0;34m,\u001b[0m \u001b[0mos\u001b[0m\u001b[0;34m.\u001b[0m\u001b[0mfstat\u001b[0m\u001b[0;34m(\u001b[0m\u001b[0mdirfd\u001b[0m\u001b[0;34m)\u001b[0m\u001b[0;34m)\u001b[0m\u001b[0;34m:\u001b[0m\u001b[0;34m\u001b[0m\u001b[0;34m\u001b[0m\u001b[0m\n\u001b[0;32m--> 432\u001b[0;31m                         \u001b[0m_rmtree_safe_fd\u001b[0m\u001b[0;34m(\u001b[0m\u001b[0mdirfd\u001b[0m\u001b[0;34m,\u001b[0m \u001b[0mfullname\u001b[0m\u001b[0;34m,\u001b[0m \u001b[0monerror\u001b[0m\u001b[0;34m)\u001b[0m\u001b[0;34m\u001b[0m\u001b[0;34m\u001b[0m\u001b[0m\n\u001b[0m\u001b[1;32m    433\u001b[0m                         \u001b[0;32mtry\u001b[0m\u001b[0;34m:\u001b[0m\u001b[0;34m\u001b[0m\u001b[0;34m\u001b[0m\u001b[0m\n\u001b[1;32m    434\u001b[0m                             \u001b[0mos\u001b[0m\u001b[0;34m.\u001b[0m\u001b[0mrmdir\u001b[0m\u001b[0;34m(\u001b[0m\u001b[0mentry\u001b[0m\u001b[0;34m.\u001b[0m\u001b[0mname\u001b[0m\u001b[0;34m,\u001b[0m \u001b[0mdir_fd\u001b[0m\u001b[0;34m=\u001b[0m\u001b[0mtopfd\u001b[0m\u001b[0;34m)\u001b[0m\u001b[0;34m\u001b[0m\u001b[0;34m\u001b[0m\u001b[0m\n",
            "\u001b[0;32m/usr/lib/python3.7/shutil.py\u001b[0m in \u001b[0;36m_rmtree_safe_fd\u001b[0;34m(topfd, path, onerror)\u001b[0m\n\u001b[1;32m    430\u001b[0m                 \u001b[0;32mtry\u001b[0m\u001b[0;34m:\u001b[0m\u001b[0;34m\u001b[0m\u001b[0;34m\u001b[0m\u001b[0m\n\u001b[1;32m    431\u001b[0m                     \u001b[0;32mif\u001b[0m \u001b[0mos\u001b[0m\u001b[0;34m.\u001b[0m\u001b[0mpath\u001b[0m\u001b[0;34m.\u001b[0m\u001b[0msamestat\u001b[0m\u001b[0;34m(\u001b[0m\u001b[0morig_st\u001b[0m\u001b[0;34m,\u001b[0m \u001b[0mos\u001b[0m\u001b[0;34m.\u001b[0m\u001b[0mfstat\u001b[0m\u001b[0;34m(\u001b[0m\u001b[0mdirfd\u001b[0m\u001b[0;34m)\u001b[0m\u001b[0;34m)\u001b[0m\u001b[0;34m:\u001b[0m\u001b[0;34m\u001b[0m\u001b[0;34m\u001b[0m\u001b[0m\n\u001b[0;32m--> 432\u001b[0;31m                         \u001b[0m_rmtree_safe_fd\u001b[0m\u001b[0;34m(\u001b[0m\u001b[0mdirfd\u001b[0m\u001b[0;34m,\u001b[0m \u001b[0mfullname\u001b[0m\u001b[0;34m,\u001b[0m \u001b[0monerror\u001b[0m\u001b[0;34m)\u001b[0m\u001b[0;34m\u001b[0m\u001b[0;34m\u001b[0m\u001b[0m\n\u001b[0m\u001b[1;32m    433\u001b[0m                         \u001b[0;32mtry\u001b[0m\u001b[0;34m:\u001b[0m\u001b[0;34m\u001b[0m\u001b[0;34m\u001b[0m\u001b[0m\n\u001b[1;32m    434\u001b[0m                             \u001b[0mos\u001b[0m\u001b[0;34m.\u001b[0m\u001b[0mrmdir\u001b[0m\u001b[0;34m(\u001b[0m\u001b[0mentry\u001b[0m\u001b[0;34m.\u001b[0m\u001b[0mname\u001b[0m\u001b[0;34m,\u001b[0m \u001b[0mdir_fd\u001b[0m\u001b[0;34m=\u001b[0m\u001b[0mtopfd\u001b[0m\u001b[0;34m)\u001b[0m\u001b[0;34m\u001b[0m\u001b[0;34m\u001b[0m\u001b[0m\n",
            "\u001b[0;32m/usr/lib/python3.7/shutil.py\u001b[0m in \u001b[0;36m_rmtree_safe_fd\u001b[0;34m(topfd, path, onerror)\u001b[0m\n\u001b[1;32m    448\u001b[0m         \u001b[0;32melse\u001b[0m\u001b[0;34m:\u001b[0m\u001b[0;34m\u001b[0m\u001b[0;34m\u001b[0m\u001b[0m\n\u001b[1;32m    449\u001b[0m             \u001b[0;32mtry\u001b[0m\u001b[0;34m:\u001b[0m\u001b[0;34m\u001b[0m\u001b[0;34m\u001b[0m\u001b[0m\n\u001b[0;32m--> 450\u001b[0;31m                 \u001b[0mos\u001b[0m\u001b[0;34m.\u001b[0m\u001b[0munlink\u001b[0m\u001b[0;34m(\u001b[0m\u001b[0mentry\u001b[0m\u001b[0;34m.\u001b[0m\u001b[0mname\u001b[0m\u001b[0;34m,\u001b[0m \u001b[0mdir_fd\u001b[0m\u001b[0;34m=\u001b[0m\u001b[0mtopfd\u001b[0m\u001b[0;34m)\u001b[0m\u001b[0;34m\u001b[0m\u001b[0;34m\u001b[0m\u001b[0m\n\u001b[0m\u001b[1;32m    451\u001b[0m             \u001b[0;32mexcept\u001b[0m \u001b[0mOSError\u001b[0m\u001b[0;34m:\u001b[0m\u001b[0;34m\u001b[0m\u001b[0;34m\u001b[0m\u001b[0m\n\u001b[1;32m    452\u001b[0m                 \u001b[0monerror\u001b[0m\u001b[0;34m(\u001b[0m\u001b[0mos\u001b[0m\u001b[0;34m.\u001b[0m\u001b[0munlink\u001b[0m\u001b[0;34m,\u001b[0m \u001b[0mfullname\u001b[0m\u001b[0;34m,\u001b[0m \u001b[0msys\u001b[0m\u001b[0;34m.\u001b[0m\u001b[0mexc_info\u001b[0m\u001b[0;34m(\u001b[0m\u001b[0;34m)\u001b[0m\u001b[0;34m)\u001b[0m\u001b[0;34m\u001b[0m\u001b[0;34m\u001b[0m\u001b[0m\n",
            "\u001b[0;31mKeyboardInterrupt\u001b[0m: "
          ]
        }
      ]
    },
    {
      "cell_type": "code",
      "source": [
        "dfTrain2, dfTest2 = sklearn.model_selection.train_test_split(lucem_illud.loadSenateSmall())"
      ],
      "metadata": {
        "id": "k5CzIhEYE3RK"
      },
      "execution_count": null,
      "outputs": []
    },
    {
      "cell_type": "code",
      "source": [
        "dfTrain3, dfTest3 = sklearn.model_selection.train_test_split(lucem_illud.loadSenateLarge())"
      ],
      "metadata": {
        "id": "QHx4JnFCE7we"
      },
      "execution_count": null,
      "outputs": []
    },
    {
      "cell_type": "code",
      "source": [
        "dfTrain4, dfTest4 = sklearn.model_selection.train_test_split(lucem_illud.loadSpam())"
      ],
      "metadata": {
        "id": "85CUdFouE-gO"
      },
      "execution_count": null,
      "outputs": []
    },
    {
      "cell_type": "code",
      "source": [
        "def plotter(df):\n",
        "    fig, ax = plt.subplots(figsize = (10,10))\n",
        "    pallet = seaborn.color_palette(palette='rainbow', n_colors= len(set(df['category'])))\n",
        "    for i, cat in enumerate(set(df['category'])):\n",
        "        a = np.stack(df[df['category'] == cat]['vect'])\n",
        "        ax.scatter(a[:,0], a[:, 1], c = pallet[i], label = cat)\n",
        "    ax.legend(loc = 'center right', title = 'Categories')\n",
        "    ax.axis('off')\n",
        "    plt.show()\n",
        "    plt.close()"
      ],
      "metadata": {
        "id": "v6qdfskxEK8L"
      },
      "execution_count": null,
      "outputs": []
    },
    {
      "cell_type": "code",
      "source": [
        "#Training machine learning algorithm\n",
        "\n",
        "#Classical Regression\n",
        "clf1 = sklearn.linear_model.LogisticRegression()\n",
        "\n",
        "#Bayes\n",
        "clf2 = sklearn.naive_bayes.GaussianNB()\n",
        "\n",
        "#Analogizes\n",
        "clf3 = sklearn.svm.SVC(kernel = 'linear', probability = True) #slow, set probability = False to speed up, but lose ROC\n",
        "clf4 = sklearn.svm.SVC(kernel = 'poly', degree = 3, probability = True) #slower\n",
        "clf5 = sklearn.neighbors.KNeighborsClassifier(5, weights='distance')# k, 'distance' or 'uniform'\n",
        "\n",
        "#Symbolists\n",
        "clf6 = sklearn.tree.DecisionTreeClassifier()\n",
        "clf7 = sklearn.ensemble.RandomForestClassifier()\n",
        "\n",
        "#Connectionists\n",
        "clf8 = sklearn.neural_network.MLPClassifier()\n",
        "\n",
        "#Ensemble\n",
        "clf9 = sklearn.ensemble.GradientBoostingClassifier()"
      ],
      "metadata": {
        "id": "9oHxhKt8Ef_P"
      },
      "execution_count": null,
      "outputs": []
    },
    {
      "cell_type": "code",
      "source": [
        "#going through. the different models and dataset\n",
        "classifiers = {}\n",
        "\n",
        "for i in range(1,11):\n",
        "    trainingData = locals()[f'dfTrain{i}']\n",
        "    testData = locals()[f'dfTest{i}']\n",
        "    for j in range(1,10):\n",
        "        classifiers[f'classifier{j}data{i}'] = locals()[f'clf{j}']\n",
        "        classifiers[f'classifier{j}data{i}'].fit(np.stack(trainingData['vect'], axis=0), trainingData['category'])\n",
        "        print('')\n",
        "        print(f'running classifier{j}data{i}')\n",
        "        print(lucem_illud.evaluateClassifier(locals()[f'clf{j}'], testData))\n",
        "\n",
        "#seeing which model had the best precision"
      ],
      "metadata": {
        "id": "jAxRMj2LGETs"
      },
      "execution_count": null,
      "outputs": []
    },
    {
      "cell_type": "markdown",
      "metadata": {
        "id": "jVP9kdnCXmBu"
      },
      "source": [
        "# Clinton / Obama Press Releases\n",
        "\n",
        "We often will not have nicely prepared data, so we will work though the proccess of cleaning and structuring in more detail here:\n",
        "\n",
        "While the Clinton and Obama Senatorial Press Releases are not hand-coded, we can imagine that we have been given a stack of such press releases, but lost the metadata associated with which senatorial office issued which. If we label a few of them, how well can our classifier do at recovering the rest? "
      ]
    },
    {
      "cell_type": "code",
      "execution_count": null,
      "metadata": {
        "collapsed": true,
        "id": "8WL01LDIXmBu"
      },
      "outputs": [],
      "source": [
        "ObamaClintonReleases = pandas.read_csv('../data/ObamaClintonReleases.csv', index_col=0)"
      ]
    },
    {
      "cell_type": "markdown",
      "metadata": {
        "id": "hbzjjN-VXmBu"
      },
      "source": [
        "I'm pretty sure that you're all familiar with pandas, but, just to clarify: why do we use pandas here? pandas is a Python library which is widely used for analyzing and wrangling data. In particular, pandas loads data and creates data frame, a Python object that looks familiar to us (since it looks like a excel table) and easy to work with. So, using pandas.read_csv function, we take in the csv file and convert it into a data frame. "
      ]
    },
    {
      "cell_type": "code",
      "execution_count": null,
      "metadata": {
        "id": "kGqRiu4yXmBu",
        "colab": {
          "base_uri": "https://localhost:8080/"
        },
        "outputId": "48d708fc-9959-497a-e955-b684c0848544"
      },
      "outputs": [
        {
          "output_type": "execute_result",
          "data": {
            "text/plain": [
              "pandas.core.frame.DataFrame"
            ]
          },
          "metadata": {},
          "execution_count": 53
        }
      ],
      "source": [
        "type(ObamaClintonReleases)"
      ]
    },
    {
      "cell_type": "markdown",
      "metadata": {
        "id": "dLPV3M5IXmBu"
      },
      "source": [
        "It's a DataFrame! and it looks like this:"
      ]
    },
    {
      "cell_type": "code",
      "execution_count": null,
      "metadata": {
        "id": "REH0z69IXmBv",
        "colab": {
          "base_uri": "https://localhost:8080/",
          "height": 950
        },
        "outputId": "f6c8c875-46ed-47a3-90fa-2f244a935268"
      },
      "outputs": [
        {
          "output_type": "execute_result",
          "data": {
            "text/html": [
              "\n",
              "  <div id=\"df-dbd4045b-6961-4427-a091-40d6693f9d3b\">\n",
              "    <div class=\"colab-df-container\">\n",
              "      <div>\n",
              "<style scoped>\n",
              "    .dataframe tbody tr th:only-of-type {\n",
              "        vertical-align: middle;\n",
              "    }\n",
              "\n",
              "    .dataframe tbody tr th {\n",
              "        vertical-align: top;\n",
              "    }\n",
              "\n",
              "    .dataframe thead th {\n",
              "        text-align: right;\n",
              "    }\n",
              "</style>\n",
              "<table border=\"1\" class=\"dataframe\">\n",
              "  <thead>\n",
              "    <tr style=\"text-align: right;\">\n",
              "      <th></th>\n",
              "      <th>download_url</th>\n",
              "      <th>html_url</th>\n",
              "      <th>name</th>\n",
              "      <th>path</th>\n",
              "      <th>text</th>\n",
              "      <th>targetSenator</th>\n",
              "    </tr>\n",
              "  </thead>\n",
              "  <tbody>\n",
              "    <tr>\n",
              "      <th>0</th>\n",
              "      <td>https://raw.githubusercontent.com/lintool/Grim...</td>\n",
              "      <td>https://github.com/lintool/GrimmerSenatePressR...</td>\n",
              "      <td>10Apr2007Obama430.txt</td>\n",
              "      <td>raw/Obama/10Apr2007Obama430.txt</td>\n",
              "      <td>Obama Calls on IRS to Protect Taxpayers    ...</td>\n",
              "      <td>Obama</td>\n",
              "    </tr>\n",
              "    <tr>\n",
              "      <th>1</th>\n",
              "      <td>https://raw.githubusercontent.com/lintool/Grim...</td>\n",
              "      <td>https://github.com/lintool/GrimmerSenatePressR...</td>\n",
              "      <td>10Apr2008Obama108.txt</td>\n",
              "      <td>raw/Obama/10Apr2008Obama108.txt</td>\n",
              "      <td>Statement from Senator Barack Obama on the ...</td>\n",
              "      <td>Obama</td>\n",
              "    </tr>\n",
              "    <tr>\n",
              "      <th>2</th>\n",
              "      <td>https://raw.githubusercontent.com/lintool/Grim...</td>\n",
              "      <td>https://github.com/lintool/GrimmerSenatePressR...</td>\n",
              "      <td>10Aug2005Obama674.txt</td>\n",
              "      <td>raw/Obama/10Aug2005Obama674.txt</td>\n",
              "      <td>Obama Says Bill Will Help Cut Off Supply of...</td>\n",
              "      <td>Obama</td>\n",
              "    </tr>\n",
              "    <tr>\n",
              "      <th>3</th>\n",
              "      <td>https://raw.githubusercontent.com/lintool/Grim...</td>\n",
              "      <td>https://github.com/lintool/GrimmerSenatePressR...</td>\n",
              "      <td>10Aug2005Obama675.txt</td>\n",
              "      <td>raw/Obama/10Aug2005Obama675.txt</td>\n",
              "      <td>Obama  Durbin Say Illinois Will Receive 33 ...</td>\n",
              "      <td>Obama</td>\n",
              "    </tr>\n",
              "    <tr>\n",
              "      <th>4</th>\n",
              "      <td>https://raw.githubusercontent.com/lintool/Grim...</td>\n",
              "      <td>https://github.com/lintool/GrimmerSenatePressR...</td>\n",
              "      <td>10Aug2006Obama508.txt</td>\n",
              "      <td>raw/Obama/10Aug2006Obama508.txt</td>\n",
              "      <td>Obama Introduces Bill to Help Tap Power of ...</td>\n",
              "      <td>Obama</td>\n",
              "    </tr>\n",
              "    <tr>\n",
              "      <th>...</th>\n",
              "      <td>...</td>\n",
              "      <td>...</td>\n",
              "      <td>...</td>\n",
              "      <td>...</td>\n",
              "      <td>...</td>\n",
              "      <td>...</td>\n",
              "    </tr>\n",
              "    <tr>\n",
              "      <th>1704</th>\n",
              "      <td>https://raw.githubusercontent.com/lintool/Grim...</td>\n",
              "      <td>https://github.com/lintool/GrimmerSenatePressR...</td>\n",
              "      <td>1Sep2005Clinton285.txt</td>\n",
              "      <td>raw/Clinton/1Sep2005Clinton285.txt</td>\n",
              "      <td>September 1  2005 Senator Clinton Visit Infoto...</td>\n",
              "      <td>Clinton</td>\n",
              "    </tr>\n",
              "    <tr>\n",
              "      <th>1705</th>\n",
              "      <td>https://raw.githubusercontent.com/lintool/Grim...</td>\n",
              "      <td>https://github.com/lintool/GrimmerSenatePressR...</td>\n",
              "      <td>1Sep2005Clinton286.txt</td>\n",
              "      <td>raw/Clinton/1Sep2005Clinton286.txt</td>\n",
              "      <td>September 1  2005 Senator Clinton Announces Ex...</td>\n",
              "      <td>Clinton</td>\n",
              "    </tr>\n",
              "    <tr>\n",
              "      <th>1706</th>\n",
              "      <td>https://raw.githubusercontent.com/lintool/Grim...</td>\n",
              "      <td>https://github.com/lintool/GrimmerSenatePressR...</td>\n",
              "      <td>1Sep2005Clinton287.txt</td>\n",
              "      <td>raw/Clinton/1Sep2005Clinton287.txt</td>\n",
              "      <td>September 1  2005 Senator Clinton Joins Local ...</td>\n",
              "      <td>Clinton</td>\n",
              "    </tr>\n",
              "    <tr>\n",
              "      <th>1707</th>\n",
              "      <td>https://raw.githubusercontent.com/lintool/Grim...</td>\n",
              "      <td>https://github.com/lintool/GrimmerSenatePressR...</td>\n",
              "      <td>1Sep2006Clinton207.txt</td>\n",
              "      <td>raw/Clinton/1Sep2006Clinton207.txt</td>\n",
              "      <td>September 1  2006 Clintons Meet with Cazenovia...</td>\n",
              "      <td>Clinton</td>\n",
              "    </tr>\n",
              "    <tr>\n",
              "      <th>1708</th>\n",
              "      <td>https://raw.githubusercontent.com/lintool/Grim...</td>\n",
              "      <td>https://github.com/lintool/GrimmerSenatePressR...</td>\n",
              "      <td>1Sep2006Clinton208.txt</td>\n",
              "      <td>raw/Clinton/1Sep2006Clinton208.txt</td>\n",
              "      <td>September 1  2006 Al Qaeda Publishes Online  D...</td>\n",
              "      <td>Clinton</td>\n",
              "    </tr>\n",
              "  </tbody>\n",
              "</table>\n",
              "<p>1709 rows × 6 columns</p>\n",
              "</div>\n",
              "      <button class=\"colab-df-convert\" onclick=\"convertToInteractive('df-dbd4045b-6961-4427-a091-40d6693f9d3b')\"\n",
              "              title=\"Convert this dataframe to an interactive table.\"\n",
              "              style=\"display:none;\">\n",
              "        \n",
              "  <svg xmlns=\"http://www.w3.org/2000/svg\" height=\"24px\"viewBox=\"0 0 24 24\"\n",
              "       width=\"24px\">\n",
              "    <path d=\"M0 0h24v24H0V0z\" fill=\"none\"/>\n",
              "    <path d=\"M18.56 5.44l.94 2.06.94-2.06 2.06-.94-2.06-.94-.94-2.06-.94 2.06-2.06.94zm-11 1L8.5 8.5l.94-2.06 2.06-.94-2.06-.94L8.5 2.5l-.94 2.06-2.06.94zm10 10l.94 2.06.94-2.06 2.06-.94-2.06-.94-.94-2.06-.94 2.06-2.06.94z\"/><path d=\"M17.41 7.96l-1.37-1.37c-.4-.4-.92-.59-1.43-.59-.52 0-1.04.2-1.43.59L10.3 9.45l-7.72 7.72c-.78.78-.78 2.05 0 2.83L4 21.41c.39.39.9.59 1.41.59.51 0 1.02-.2 1.41-.59l7.78-7.78 2.81-2.81c.8-.78.8-2.07 0-2.86zM5.41 20L4 18.59l7.72-7.72 1.47 1.35L5.41 20z\"/>\n",
              "  </svg>\n",
              "      </button>\n",
              "      \n",
              "  <style>\n",
              "    .colab-df-container {\n",
              "      display:flex;\n",
              "      flex-wrap:wrap;\n",
              "      gap: 12px;\n",
              "    }\n",
              "\n",
              "    .colab-df-convert {\n",
              "      background-color: #E8F0FE;\n",
              "      border: none;\n",
              "      border-radius: 50%;\n",
              "      cursor: pointer;\n",
              "      display: none;\n",
              "      fill: #1967D2;\n",
              "      height: 32px;\n",
              "      padding: 0 0 0 0;\n",
              "      width: 32px;\n",
              "    }\n",
              "\n",
              "    .colab-df-convert:hover {\n",
              "      background-color: #E2EBFA;\n",
              "      box-shadow: 0px 1px 2px rgba(60, 64, 67, 0.3), 0px 1px 3px 1px rgba(60, 64, 67, 0.15);\n",
              "      fill: #174EA6;\n",
              "    }\n",
              "\n",
              "    [theme=dark] .colab-df-convert {\n",
              "      background-color: #3B4455;\n",
              "      fill: #D2E3FC;\n",
              "    }\n",
              "\n",
              "    [theme=dark] .colab-df-convert:hover {\n",
              "      background-color: #434B5C;\n",
              "      box-shadow: 0px 1px 3px 1px rgba(0, 0, 0, 0.15);\n",
              "      filter: drop-shadow(0px 1px 2px rgba(0, 0, 0, 0.3));\n",
              "      fill: #FFFFFF;\n",
              "    }\n",
              "  </style>\n",
              "\n",
              "      <script>\n",
              "        const buttonEl =\n",
              "          document.querySelector('#df-dbd4045b-6961-4427-a091-40d6693f9d3b button.colab-df-convert');\n",
              "        buttonEl.style.display =\n",
              "          google.colab.kernel.accessAllowed ? 'block' : 'none';\n",
              "\n",
              "        async function convertToInteractive(key) {\n",
              "          const element = document.querySelector('#df-dbd4045b-6961-4427-a091-40d6693f9d3b');\n",
              "          const dataTable =\n",
              "            await google.colab.kernel.invokeFunction('convertToInteractive',\n",
              "                                                     [key], {});\n",
              "          if (!dataTable) return;\n",
              "\n",
              "          const docLinkHtml = 'Like what you see? Visit the ' +\n",
              "            '<a target=\"_blank\" href=https://colab.research.google.com/notebooks/data_table.ipynb>data table notebook</a>'\n",
              "            + ' to learn more about interactive tables.';\n",
              "          element.innerHTML = '';\n",
              "          dataTable['output_type'] = 'display_data';\n",
              "          await google.colab.output.renderOutput(dataTable, element);\n",
              "          const docLink = document.createElement('div');\n",
              "          docLink.innerHTML = docLinkHtml;\n",
              "          element.appendChild(docLink);\n",
              "        }\n",
              "      </script>\n",
              "    </div>\n",
              "  </div>\n",
              "  "
            ],
            "text/plain": [
              "                                           download_url  ... targetSenator\n",
              "0     https://raw.githubusercontent.com/lintool/Grim...  ...         Obama\n",
              "1     https://raw.githubusercontent.com/lintool/Grim...  ...         Obama\n",
              "2     https://raw.githubusercontent.com/lintool/Grim...  ...         Obama\n",
              "3     https://raw.githubusercontent.com/lintool/Grim...  ...         Obama\n",
              "4     https://raw.githubusercontent.com/lintool/Grim...  ...         Obama\n",
              "...                                                 ...  ...           ...\n",
              "1704  https://raw.githubusercontent.com/lintool/Grim...  ...       Clinton\n",
              "1705  https://raw.githubusercontent.com/lintool/Grim...  ...       Clinton\n",
              "1706  https://raw.githubusercontent.com/lintool/Grim...  ...       Clinton\n",
              "1707  https://raw.githubusercontent.com/lintool/Grim...  ...       Clinton\n",
              "1708  https://raw.githubusercontent.com/lintool/Grim...  ...       Clinton\n",
              "\n",
              "[1709 rows x 6 columns]"
            ]
          },
          "metadata": {},
          "execution_count": 54
        }
      ],
      "source": [
        "ObamaClintonReleases"
      ]
    },
    {
      "cell_type": "markdown",
      "metadata": {
        "id": "W2NnyaA4XmBv"
      },
      "source": [
        "Neat! Let's turn the 'targetSenator' column into a binary category variable."
      ]
    },
    {
      "cell_type": "code",
      "execution_count": null,
      "metadata": {
        "collapsed": true,
        "id": "9HMirgIYXmBv"
      },
      "outputs": [],
      "source": [
        "ObamaClintonReleases['category'] = [s == 'Obama' for s in ObamaClintonReleases['targetSenator']]"
      ]
    },
    {
      "cell_type": "markdown",
      "metadata": {
        "id": "Rp8U7wTRXmBv"
      },
      "source": [
        "Tokenize and normalize"
      ]
    },
    {
      "cell_type": "code",
      "execution_count": null,
      "metadata": {
        "collapsed": true,
        "id": "iVpAWHygXmBv"
      },
      "outputs": [],
      "source": [
        "ObamaClintonReleases['tokenized_text'] = ObamaClintonReleases['text'].apply(lambda x: lucem_illud.word_tokenize(x))\n",
        "ObamaClintonReleases['normalized_text'] = ObamaClintonReleases['tokenized_text'].apply(lambda x: lucem_illud.normalizeTokens(x))"
      ]
    },
    {
      "cell_type": "markdown",
      "metadata": {
        "id": "hXI7P86iXmBv"
      },
      "source": [
        "Let's split the data into training data and testing data."
      ]
    },
    {
      "cell_type": "code",
      "execution_count": null,
      "metadata": {
        "collapsed": true,
        "id": "RvVy-l8YXmBv"
      },
      "outputs": [],
      "source": [
        "holdBackFraction = .2\n",
        "train_data_df, test_data_df = sklearn.model_selection.train_test_split(ObamaClintonReleases, test_size=holdBackFraction)"
      ]
    },
    {
      "cell_type": "code",
      "execution_count": null,
      "metadata": {
        "id": "SrumbTFvXmBv",
        "colab": {
          "base_uri": "https://localhost:8080/"
        },
        "outputId": "6168250a-ef99-4208-b935-6342b7fa2430"
      },
      "outputs": [
        {
          "output_type": "stream",
          "name": "stdout",
          "text": [
            "1367\n",
            "342\n"
          ]
        }
      ],
      "source": [
        "print(len(train_data_df))\n",
        "print(len(test_data_df))"
      ]
    },
    {
      "cell_type": "markdown",
      "metadata": {
        "id": "9JX5I_wNXmBv"
      },
      "source": [
        "## Logistic Regression"
      ]
    },
    {
      "cell_type": "markdown",
      "metadata": {
        "id": "Awd4KW03XmBv"
      },
      "source": [
        "First, let's try with a logistic regression, which may be familiar to you from statistical methods classes. First, we must turn the training dataset into a tf-idf matrix (`lucem_illud.generateVecs()` will help with this but for now we are doing it the long way):"
      ]
    },
    {
      "cell_type": "code",
      "execution_count": null,
      "metadata": {
        "collapsed": true,
        "id": "szeh36u9XmBw"
      },
      "outputs": [],
      "source": [
        "TFVectorizer = sklearn.feature_extraction.text.TfidfVectorizer(max_df=100, min_df=2, stop_words='english', norm='l2')\n",
        "TFVects = TFVectorizer.fit_transform(train_data_df['text'])"
      ]
    },
    {
      "cell_type": "markdown",
      "metadata": {
        "id": "o83xlsFHXmBw"
      },
      "source": [
        "The core function here is TfidfVectorizer, which takes a collection of raw documents and turn them to a tf-idf matrix. Just to recap: tf-idf means term frequency-inverse document frequency, a statistic (or, more precisely, a product of two statistics, term frequency and inverse document frequency) that shows the importance of a term vis-a-vis documents. TF, or, term frequency, counts how many times a term is used in a document; IDF, or, inverse-document-frequency, measures common or rare a term appears across documents. \n",
        "\n",
        "Let's look at three parameters of TfidfVectorizer: max_df = 100, min_df = 2, and norm='l2'. What do those parameters mean? \n",
        "\n",
        "(1) max_df = 100\n",
        "\n",
        "Here, we specified a thredhold of 100, and the terms that have a document frequency higher than 100 would be ignored.\n",
        "\n",
        "(2) min_df = 2\n",
        "\n",
        "We specified a lower bound, 2, and the terms that have a document frequency lower than 2 will be ignored.\n",
        "\n",
        "(3) norm = 'l2'\n",
        "\n",
        "This parameter is about vector normalization. In machine learning, we commonly normalize vectors, i.e., change the length of vectors and turn them into a unit vector, before passing them into algorithms. There are various ways of normalizations, and this parameter specifies how we normalize vectors. Here, we set the norm to l2, in which case, we normalize the vectors such that squares of vector elements sums to 1. Alternatively, we can set it to l1, in which case the sum of absolute values of vector elements, not the square of vector elements, is 1. "
      ]
    },
    {
      "cell_type": "markdown",
      "metadata": {
        "id": "laph2u-eXmBw"
      },
      "source": [
        "fit_transform() literally fits to data and then transform it. So, fit_transform() is just a combination of two steps--(1) fitting parameters to data; (2) then, using the vocabulary and document frequencies learned by fit(), transforming documents into document-term matrix. So, it's the same as fit followed by transform. "
      ]
    },
    {
      "cell_type": "markdown",
      "metadata": {
        "id": "bsN76WdgXmBw"
      },
      "source": [
        "Note that we can use the CountVectorizer instead, which simply produces a matrix of word counts."
      ]
    },
    {
      "cell_type": "code",
      "execution_count": null,
      "metadata": {
        "scrolled": true,
        "id": "aPfyNS7kXmBw",
        "colab": {
          "base_uri": "https://localhost:8080/"
        },
        "outputId": "307c9a06-c12d-46e7-c5c7-37c8196a133e"
      },
      "outputs": [
        {
          "output_type": "execute_result",
          "data": {
            "text/plain": [
              "(1367, 11152)"
            ]
          },
          "metadata": {},
          "execution_count": 61
        }
      ],
      "source": [
        "TFVects.shape"
      ]
    },
    {
      "cell_type": "markdown",
      "metadata": {
        "id": "SB21URaKXmBw"
      },
      "source": [
        "We can save this in the dataframe to make things easier"
      ]
    },
    {
      "cell_type": "code",
      "execution_count": null,
      "metadata": {
        "collapsed": true,
        "id": "5LLSpjTuXmBw"
      },
      "outputs": [],
      "source": [
        "train_data_df['vect'] = [np.array(v).flatten() for v in TFVects.todense()]"
      ]
    },
    {
      "cell_type": "markdown",
      "metadata": {
        "id": "lgumTt2rXmBw"
      },
      "source": [
        "Looks simple, but we need to know what todense() does here. todense() returns a dense matrix representation of the matrix. Why do we need this? As you can see above, the TFVects, a document-term matrix, has 11349 columns, and this matrix is sparse, in the sense that it is comprised mostly of zeros. Dense matrices, in contrast, are the matrices that are comprised of mostly non-zeros. Then why do we make sparse matrices into dense ones? Because zero values don't contain important information but take up so much memory."
      ]
    },
    {
      "cell_type": "markdown",
      "metadata": {
        "id": "WlLNhqssXmBw"
      },
      "source": [
        "In a regression, we cannot have more variables than cases. So, we need to first do a dimension reduction. First, we will approah this with PCA. You have previously seen this in week 3. Here we are not concerned about visualization, but rather classification and so all principal components are calculated. Watch out: we have to use `stack` not `sum` for combining the vectors. We note that you could also use topic loading and embedding dimensions as featured variables."
      ]
    },
    {
      "cell_type": "code",
      "execution_count": null,
      "metadata": {
        "collapsed": true,
        "id": "yLxxicunXmBx"
      },
      "outputs": [],
      "source": [
        "pca = sklearn.decomposition.PCA()\n",
        "reduced_data = pca.fit_transform(np.stack(train_data_df['vect'], axis=0))"
      ]
    },
    {
      "cell_type": "markdown",
      "metadata": {
        "id": "qd9Qn0VhXmBx"
      },
      "source": [
        "We can store the PCA space vectors in the dataframe too:"
      ]
    },
    {
      "cell_type": "code",
      "execution_count": null,
      "metadata": {
        "collapsed": true,
        "id": "lgZJuKkPXmBx"
      },
      "outputs": [],
      "source": [
        "train_data_df['pca'] = [r for r in reduced_data]"
      ]
    },
    {
      "cell_type": "markdown",
      "metadata": {
        "id": "rweiCfTjXmBx"
      },
      "source": [
        "Visualization in 2D:"
      ]
    },
    {
      "cell_type": "code",
      "execution_count": null,
      "metadata": {
        "id": "Bc5bCBw1XmBx",
        "colab": {
          "base_uri": "https://localhost:8080/",
          "height": 643
        },
        "outputId": "1300913b-1fe5-4136-f11e-03832d16beff"
      },
      "outputs": [
        {
          "output_type": "stream",
          "name": "stderr",
          "text": [
            "*c* argument looks like a single numeric RGB or RGBA sequence, which should be avoided as value-mapping will have precedence in case its length matches with *x* & *y*.  Please use the *color* keyword-argument or provide a 2-D array with a single row if you intend to specify the same RGB or RGBA value for all points.\n",
            "*c* argument looks like a single numeric RGB or RGBA sequence, which should be avoided as value-mapping will have precedence in case its length matches with *x* & *y*.  Please use the *color* keyword-argument or provide a 2-D array with a single row if you intend to specify the same RGB or RGBA value for all points.\n"
          ]
        },
        {
          "output_type": "display_data",
          "data": {
            "image/png": "[encoded data removed]",
            "text/plain": [
              "<Figure size 720x720 with 1 Axes>"
            ]
          },
          "metadata": {
            "needs_background": "light"
          }
        }
      ],
      "source": [
        "fig, ax = plt.subplots(figsize = (10,10))\n",
        "ax.axis('off')\n",
        "pallet = seaborn.color_palette(palette='coolwarm', n_colors = 2)\n",
        "\n",
        "#Plot Obama\n",
        "a = np.stack(train_data_df[train_data_df['category']]['pca'])\n",
        "ax.scatter(a[:,0], a[:, 1], c = pallet[0], label = \"True\")\n",
        "\n",
        "#Plot not Obama\n",
        "a = np.stack(train_data_df[train_data_df['category'].eq(False)]['pca'])\n",
        "ax.scatter(a[:,0], a[:, 1], c = pallet[1], label = \"False\")\n",
        "    \n",
        "ax.legend(loc = 'upper right', title = 'Is Obama')\n",
        "plt.title('True Classes, Training Set')\n",
        "plt.show()"
      ]
    },
    {
      "cell_type": "markdown",
      "metadata": {
        "id": "gWmxC_uRXmBx"
      },
      "source": [
        "PCA cannot distinguish Obama very well. Let's perform a screeplot to see how many Principal Components we need."
      ]
    },
    {
      "cell_type": "code",
      "execution_count": null,
      "metadata": {
        "id": "UGV0HgqFXmBx",
        "colab": {
          "base_uri": "https://localhost:8080/",
          "height": 349
        },
        "outputId": "966edaa7-29ce-4b53-f4ef-93f9af3e911a"
      },
      "outputs": [
        {
          "output_type": "display_data",
          "data": {
            "image/png": "[encoded data removed]",
            "text/plain": [
              "<Figure size 1152x360 with 3 Axes>"
            ]
          },
          "metadata": {
            "needs_background": "light"
          }
        }
      ],
      "source": [
        "n = len(train_data_df)\n",
        "\n",
        "fig, (ax1, ax2, ax3) = plt.subplots(ncols=3, figsize = (16, 5), sharey=True)\n",
        "\n",
        "eigen_vals = np.arange(n) + 1\n",
        "ax1.plot(eigen_vals, pca.explained_variance_ratio_, 'ro-', linewidth=1)\n",
        "ax1.set_title('Scree Plot (Full)')\n",
        "ax1.set_xlabel('Principal Component')\n",
        "ax1.set_ylabel('Proportion of Explained Variance')\n",
        "\n",
        "eigen_vals = np.arange(50) + 1\n",
        "ax2.plot(eigen_vals, pca.explained_variance_ratio_[:50], 'ro-', linewidth=1)\n",
        "ax2.set_title('Scree Plot (First 50 Principal Components)')\n",
        "ax2.set_xlabel('Principal Component')\n",
        "ax2.set_ylabel('Proportion of Explained Variance')\n",
        "\n",
        "\n",
        "eigen_vals = np.arange(20) + 1\n",
        "ax3.plot(eigen_vals, pca.explained_variance_ratio_[:20], 'ro-', linewidth=2)\n",
        "ax3.set_title('Scree Plot (First 50 Principal Components)')\n",
        "ax3.set_xlabel('Principal Component')\n",
        "ax3.set_ylabel('Proportion of Explained Variance')\n",
        "\n",
        "plt.show()"
      ]
    },
    {
      "cell_type": "markdown",
      "metadata": {
        "id": "VqQKMlm2XmBx"
      },
      "source": [
        "Let's choose the first 10 pricipal components as our covariates."
      ]
    },
    {
      "cell_type": "code",
      "execution_count": null,
      "metadata": {
        "collapsed": true,
        "id": "41xAvs0IXmBx"
      },
      "outputs": [],
      "source": [
        "train_data_df['pca_reduced_10'] = train_data_df['pca'].apply(lambda x: x[:10])"
      ]
    },
    {
      "cell_type": "markdown",
      "metadata": {
        "id": "3hy4b2XoXmBy"
      },
      "source": [
        "Now we fit a logistic regression to our data."
      ]
    },
    {
      "cell_type": "code",
      "execution_count": null,
      "metadata": {
        "id": "XdrcueXxXmBy",
        "colab": {
          "base_uri": "https://localhost:8080/"
        },
        "outputId": "e9fb845e-edff-481e-a95e-1360693d18e5"
      },
      "outputs": [
        {
          "output_type": "execute_result",
          "data": {
            "text/plain": [
              "LogisticRegression()"
            ]
          },
          "metadata": {},
          "execution_count": 68
        }
      ],
      "source": [
        "logistic = sklearn.linear_model.LogisticRegression()\n",
        "logistic.fit(np.stack(train_data_df['pca_reduced_10'], axis=0), train_data_df['category'])"
      ]
    },
    {
      "cell_type": "markdown",
      "metadata": {
        "id": "_tWuHmkRXmBy"
      },
      "source": [
        "Let's see how the logistic regression performs on the training dataset from which we develop the model. Unfortunately, the mean accuracy is only about 64%."
      ]
    },
    {
      "cell_type": "code",
      "execution_count": null,
      "metadata": {
        "id": "Lqa_Ra7LXmBy",
        "colab": {
          "base_uri": "https://localhost:8080/"
        },
        "outputId": "b3c739f6-e9df-4c02-d07a-60f35246b41b"
      },
      "outputs": [
        {
          "output_type": "execute_result",
          "data": {
            "text/plain": [
              "0.6664228237015362"
            ]
          },
          "metadata": {},
          "execution_count": 69
        }
      ],
      "source": [
        "logistic.score(np.stack(train_data_df['pca_reduced_10'], axis=0), train_data_df['category'])"
      ]
    },
    {
      "cell_type": "markdown",
      "metadata": {
        "id": "YR1d1rMnXmBy"
      },
      "source": [
        "How does it perform on the testing dataset, which we \"held out\" and did not use for model training? We need to repeat all the steps on the testing data, but without retraining:"
      ]
    },
    {
      "cell_type": "code",
      "execution_count": null,
      "metadata": {
        "id": "nO0HzcP_XmBy",
        "colab": {
          "base_uri": "https://localhost:8080/"
        },
        "outputId": "784f09ca-2475-404f-9aff-5ef14255ef03"
      },
      "outputs": [
        {
          "output_type": "execute_result",
          "data": {
            "text/plain": [
              "0.6403508771929824"
            ]
          },
          "metadata": {},
          "execution_count": 70
        }
      ],
      "source": [
        "#Create vectors\n",
        "TFVects_test = TFVectorizer.transform(test_data_df['text'])\n",
        "test_data_df['vect'] = [np.array(v).flatten() for v in TFVects_test.todense()]\n",
        "\n",
        "#PCA\n",
        "reduced_data_test = pca.transform(np.stack(test_data_df['vect'], axis=0))\n",
        "test_data_df['pca'] = [r for r in reduced_data_test]\n",
        "test_data_df['pca_reduced_10'] = test_data_df['pca'].apply(lambda x: x[:10])\n",
        "\n",
        "#Test\n",
        "logistic.score(np.stack(test_data_df['pca_reduced_10'], axis=0), test_data_df['category'])"
      ]
    },
    {
      "cell_type": "markdown",
      "metadata": {
        "id": "O7qsPPDkXmBy"
      },
      "source": [
        "Slightly poorer. How about using more dimensions (40)?"
      ]
    },
    {
      "cell_type": "code",
      "execution_count": null,
      "metadata": {
        "id": "c9mUhTK3XmBy",
        "colab": {
          "base_uri": "https://localhost:8080/"
        },
        "outputId": "10597886-e7c9-4051-e189-7ca4ebc62b96"
      },
      "outputs": [
        {
          "output_type": "stream",
          "name": "stdout",
          "text": [
            "Training:\n",
            "0.7439648866130212\n",
            "Testing:\n",
            "0.7134502923976608\n"
          ]
        }
      ],
      "source": [
        "train_data_df['pca_reduced_40'] = train_data_df['pca'].apply(lambda x: x[:40])\n",
        "test_data_df['pca_reduced_40'] = test_data_df['pca'].apply(lambda x: x[:40])\n",
        "\n",
        "logistic.fit(np.stack(train_data_df['pca_reduced_40'], axis=0), train_data_df['category'])\n",
        "\n",
        "print(\"Training:\")\n",
        "print(logistic.score(np.stack(train_data_df['pca_reduced_40'], axis=0), train_data_df['category']))\n",
        "print(\"Testing:\")\n",
        "print(logistic.score(np.stack(test_data_df['pca_reduced_40'], axis=0), test_data_df['category']))"
      ]
    },
    {
      "cell_type": "markdown",
      "metadata": {
        "id": "3_-e2LV7XmBy"
      },
      "source": [
        "Or still more (100)?"
      ]
    },
    {
      "cell_type": "code",
      "execution_count": null,
      "metadata": {
        "id": "W8BF3rslXmBz",
        "colab": {
          "base_uri": "https://localhost:8080/"
        },
        "outputId": "eb4511a9-4054-45a0-996c-2ffdf545deda"
      },
      "outputs": [
        {
          "output_type": "stream",
          "name": "stdout",
          "text": [
            "Training:\n",
            "0.825164594001463\n",
            "Testing:\n",
            "0.7748538011695907\n"
          ]
        }
      ],
      "source": [
        "train_data_df['pca_reduced_100'] = train_data_df['pca'].apply(lambda x: x[:100])\n",
        "test_data_df['pca_reduced_100'] = test_data_df['pca'].apply(lambda x: x[:100])\n",
        "\n",
        "logistic.fit(np.stack(train_data_df['pca_reduced_100'], axis=0), train_data_df['category'])\n",
        "\n",
        "print(\"Training:\")\n",
        "print(logistic.score(np.stack(train_data_df['pca_reduced_100'], axis=0), train_data_df['category']))\n",
        "print(\"Testing:\")\n",
        "print(logistic.score(np.stack(test_data_df['pca_reduced_100'], axis=0), test_data_df['category']))"
      ]
    },
    {
      "cell_type": "markdown",
      "metadata": {
        "id": "onhunccTXmBz"
      },
      "source": [
        "Or even more (200)!"
      ]
    },
    {
      "cell_type": "code",
      "execution_count": null,
      "metadata": {
        "id": "qCgelyAqXmBz",
        "colab": {
          "base_uri": "https://localhost:8080/"
        },
        "outputId": "5075fc87-b1f1-4e96-9ecc-f6122711082b"
      },
      "outputs": [
        {
          "output_type": "stream",
          "name": "stdout",
          "text": [
            "Training:\n",
            "0.8675932699341624\n",
            "Testing:\n",
            "0.804093567251462\n"
          ]
        }
      ],
      "source": [
        "train_data_df['pca_reduced_200'] = train_data_df['pca'].apply(lambda x: x[:200])\n",
        "test_data_df['pca_reduced_200'] = test_data_df['pca'].apply(lambda x: x[:200])\n",
        "\n",
        "logistic.fit(np.stack(train_data_df['pca_reduced_200'], axis=0), train_data_df['category'])\n",
        "\n",
        "print(\"Training:\")\n",
        "print(logistic.score(np.stack(train_data_df['pca_reduced_200'], axis=0), train_data_df['category']))\n",
        "print(\"Testing:\")\n",
        "print(logistic.score(np.stack(test_data_df['pca_reduced_200'], axis=0), test_data_df['category']))"
      ]
    },
    {
      "cell_type": "markdown",
      "metadata": {
        "id": "Wzgdmz2LXmBz"
      },
      "source": [
        "This is becoming ridiculous (400)!"
      ]
    },
    {
      "cell_type": "code",
      "execution_count": null,
      "metadata": {
        "id": "Ny14TAo0XmBz",
        "colab": {
          "base_uri": "https://localhost:8080/"
        },
        "outputId": "659c871b-f73f-404c-bfd5-2857523d570f"
      },
      "outputs": [
        {
          "output_type": "stream",
          "name": "stdout",
          "text": [
            "Training:\n",
            "0.9070958302852963\n",
            "Testing:\n",
            "0.8421052631578947\n"
          ]
        }
      ],
      "source": [
        "train_data_df['pca_reduced_400'] = train_data_df['pca'].apply(lambda x: x[:400])\n",
        "test_data_df['pca_reduced_400'] = test_data_df['pca'].apply(lambda x: x[:400])\n",
        "\n",
        "logistic.fit(np.stack(train_data_df['pca_reduced_400'], axis=0), train_data_df['category'])\n",
        "\n",
        "print(\"Training:\")\n",
        "print(logistic.score(np.stack(train_data_df['pca_reduced_400'], axis=0), train_data_df['category']))\n",
        "print(\"Testing:\")\n",
        "print(logistic.score(np.stack(test_data_df['pca_reduced_400'], axis=0), test_data_df['category']))"
      ]
    },
    {
      "cell_type": "markdown",
      "metadata": {
        "id": "CsZnf6wTXmBz"
      },
      "source": [
        "Increasing the number of covariates would overfit our data, and it seems that using a logistic regression, our prediction accuracy is at best about 65%. We can, however, try a logistic regression that uses the TF-IDF scores for each word, but with an L1 regularization or L1-norm loss function, which is also known as least absolute deviations (LAD), least absolute errors (LAE) or L1 penalty. It minimizes the sum of the absolute differences (S) between the target value ($Y_i$) and the estimated values ($f(x_i)$) and prunes all insignificant variables (i.e., word TF-IDF scores):\n",
        "\n",
        "$S=\\sum^n_{i=1}|y_i=f(x_i)|$\n",
        "\n",
        "The result is a model retaining only the most individually significant features."
      ]
    },
    {
      "cell_type": "code",
      "execution_count": null,
      "metadata": {
        "id": "jQpP2IelXmBz",
        "colab": {
          "base_uri": "https://localhost:8080/"
        },
        "outputId": "592b7702-d44e-46d8-faa2-2fbbd96066ed"
      },
      "outputs": [
        {
          "output_type": "stream",
          "name": "stdout",
          "text": [
            "0.9553767373811266\n"
          ]
        }
      ],
      "source": [
        "logistic_l1= sklearn.linear_model.LogisticRegression(penalty='l2')\n",
        "logistic_l1.fit(np.stack(train_data_df['vect'], axis=0), train_data_df['category'])\n",
        "print(logistic_l1.score(np.stack(train_data_df['vect'], axis=0), train_data_df['category']))"
      ]
    },
    {
      "cell_type": "markdown",
      "metadata": {
        "id": "3tqIDj_GXmBz"
      },
      "source": [
        "Train the model using training data, and then test it on the testing data."
      ]
    },
    {
      "cell_type": "code",
      "execution_count": null,
      "metadata": {
        "id": "KEzOfXfgXmB0",
        "colab": {
          "base_uri": "https://localhost:8080/"
        },
        "outputId": "6e882fc4-edf0-4e82-bb85-2f9c98f8f55b"
      },
      "outputs": [
        {
          "output_type": "stream",
          "name": "stdout",
          "text": [
            "0.8450292397660819\n"
          ]
        }
      ],
      "source": [
        "print(logistic_l1.score(np.stack(test_data_df['vect'], axis=0), test_data_df['category']))"
      ]
    },
    {
      "cell_type": "markdown",
      "metadata": {
        "id": "IPuyVWFqXmB0"
      },
      "source": [
        "81% accuracy seems like the best we can get by using a logistic regression."
      ]
    },
    {
      "cell_type": "markdown",
      "metadata": {
        "id": "IC7PUUJiXmB0"
      },
      "source": [
        "## <font color=\"red\">*Exercise 3*</font>\n",
        "\n",
        "<font color=\"red\">In the cells immediately following, perform logistic regression classification using training, testing and extrapolation (uncoded) data from texts and hand-classifications associated with your final project (e.g., these could be crowd-sourced codes gathered through Amazon Mechanical Turk in Exercise 1). Visualize the confusion matrix for training and testing sets. Calculate precision, recall, the F-measure, and AUC, then perform an ROC visualization. How do these classifiers perform? Exrapolate codes from these models to all uncoded data.\n"
      ]
    },
    {
      "cell_type": "code",
      "source": [
        "#my final project dataset on three journals of higher education from 1930 to 1950 \n",
        "#might not be most suitable for supervised learning methods of analysis\n",
        "#for the purposes of this homework, I will attempt to assess whether the reporting of higher education changed after the Second World War"
      ],
      "metadata": {
        "id": "rAY_Yb3NGi9B"
      },
      "execution_count": null,
      "outputs": []
    },
    {
      "cell_type": "code",
      "source": [
        "#read the json file into panda dataframe\n",
        "import pandas as pd\n",
        "df = pd.read_json('education_corpora.jsonl', lines=True)\n",
        "\n",
        "jstorSample = df.sample(n=3500)\n",
        "\n",
        "jstorCategories = ['The School Review', 'The Journal of Higher Education', 'Review of Educational Research']\n",
        "\n",
        "for category in jstorCategories:\n",
        "  for index, row in jstorSample.iterrows():\n",
        "      for key in row['unigramCount']:\n",
        "          sentence = \"\"\n",
        "          value = row['unigramCount'][key]\n",
        "          for i in range(value):\n",
        "              sentence = sentence + key + \"\"\n",
        "      jstorSample.loc[index, 'text'] = sentence\n",
        "\n",
        "jstorSample['category'] = jstorSample['isPartOf']"
      ],
      "metadata": {
        "id": "JC__QzosFRW1"
      },
      "execution_count": null,
      "outputs": []
    },
    {
      "cell_type": "code",
      "source": [
        "#Apply our functions, notice each row is a list of lists now\n",
        "jstorSample['tokenized_sents'] = jstorSample['text'].apply(lambda x: [lucem_illud.word_tokenize(s) for s in lucem_illud.sent_tokenize(x)])\n",
        "#jstorSample['normalized_sents'] = jstorSample['tokenized_sents'].apply(lambda x: [lucem_illud.normalizeTokens(s, lemma=False) for s in x])\n",
        "jstorSample['normalized_sents'] = jstorSample['tokenized_sents'].apply(lambda x: [lucem_illud.normalizeTokens(s) for s in x])"
      ],
      "metadata": {
        "id": "1ttdixlTGhLP"
      },
      "execution_count": null,
      "outputs": []
    },
    {
      "cell_type": "code",
      "source": [
        "jstorSample"
      ],
      "metadata": {
        "colab": {
          "base_uri": "https://localhost:8080/",
          "height": 1000
        },
        "id": "39g6GbdiHiz2",
        "outputId": "c0fce0ee-e590-4ba9-ec33-b56630a1afef"
      },
      "execution_count": null,
      "outputs": [
        {
          "output_type": "execute_result",
          "data": {
            "text/html": [
              "\n",
              "  <div id=\"df-c6ae0663-6590-41ad-92ed-0fd44287fc89\">\n",
              "    <div class=\"colab-df-container\">\n",
              "      <div>\n",
              "<style scoped>\n",
              "    .dataframe tbody tr th:only-of-type {\n",
              "        vertical-align: middle;\n",
              "    }\n",
              "\n",
              "    .dataframe tbody tr th {\n",
              "        vertical-align: top;\n",
              "    }\n",
              "\n",
              "    .dataframe thead th {\n",
              "        text-align: right;\n",
              "    }\n",
              "</style>\n",
              "<table border=\"1\" class=\"dataframe\">\n",
              "  <thead>\n",
              "    <tr style=\"text-align: right;\">\n",
              "      <th></th>\n",
              "      <th>creator</th>\n",
              "      <th>datePublished</th>\n",
              "      <th>docSubType</th>\n",
              "      <th>docType</th>\n",
              "      <th>id</th>\n",
              "      <th>identifier</th>\n",
              "      <th>isPartOf</th>\n",
              "      <th>issueNumber</th>\n",
              "      <th>language</th>\n",
              "      <th>outputFormat</th>\n",
              "      <th>pageCount</th>\n",
              "      <th>pageEnd</th>\n",
              "      <th>pageStart</th>\n",
              "      <th>pagination</th>\n",
              "      <th>provider</th>\n",
              "      <th>publicationYear</th>\n",
              "      <th>publisher</th>\n",
              "      <th>sourceCategory</th>\n",
              "      <th>tdmCategory</th>\n",
              "      <th>title</th>\n",
              "      <th>url</th>\n",
              "      <th>volumeNumber</th>\n",
              "      <th>wordCount</th>\n",
              "      <th>unigramCount</th>\n",
              "      <th>bigramCount</th>\n",
              "      <th>trigramCount</th>\n",
              "      <th>text</th>\n",
              "      <th>category</th>\n",
              "      <th>tokenized_sents</th>\n",
              "      <th>normalized_sents</th>\n",
              "    </tr>\n",
              "  </thead>\n",
              "  <tbody>\n",
              "    <tr>\n",
              "      <th>5922</th>\n",
              "      <td>[Virginia F. Matson, Paul R. Pierce]</td>\n",
              "      <td>1946-02-01</td>\n",
              "      <td>research-article</td>\n",
              "      <td>article</td>\n",
              "      <td>http://www.jstor.org/stable/1082612</td>\n",
              "      <td>[{'name': 'issn', 'value': '00366773'}, {'name...</td>\n",
              "      <td>The School Review</td>\n",
              "      <td>2</td>\n",
              "      <td>[eng]</td>\n",
              "      <td>[unigram, bigram, trigram]</td>\n",
              "      <td>7</td>\n",
              "      <td>89</td>\n",
              "      <td>83</td>\n",
              "      <td>pp. 83-89</td>\n",
              "      <td>jstor</td>\n",
              "      <td>1946</td>\n",
              "      <td>University of Chicago Press</td>\n",
              "      <td>[Education, Social Sciences]</td>\n",
              "      <td>[Education - Specialized education]</td>\n",
              "      <td>Science in the Core Curriculum</td>\n",
              "      <td>http://www.jstor.org/stable/1082612</td>\n",
              "      <td>54</td>\n",
              "      <td>3193</td>\n",
              "      <td>{'\"Meeting': 1, 'services': 1, 'remains': 1, '...</td>\n",
              "      <td>{'third-year boy': 1, 'Responsibilities.\" Each...</td>\n",
              "      <td>{'cases, and filled': 1, 'more classes in': 1,...</td>\n",
              "      <td>clinics</td>\n",
              "      <td>The School Review</td>\n",
              "      <td>[[clinics]]</td>\n",
              "      <td>[[clinic]]</td>\n",
              "    </tr>\n",
              "    <tr>\n",
              "      <th>5487</th>\n",
              "      <td>[Roy A. Price]</td>\n",
              "      <td>1936-04-01</td>\n",
              "      <td>book-review</td>\n",
              "      <td>article</td>\n",
              "      <td>http://www.jstor.org/stable/1080259</td>\n",
              "      <td>[{'name': 'issn', 'value': '00366773'}, {'name...</td>\n",
              "      <td>The School Review</td>\n",
              "      <td>4</td>\n",
              "      <td>[eng]</td>\n",
              "      <td>[unigram, bigram, trigram]</td>\n",
              "      <td>2</td>\n",
              "      <td>308</td>\n",
              "      <td>307</td>\n",
              "      <td>pp. 307-308</td>\n",
              "      <td>jstor</td>\n",
              "      <td>1936</td>\n",
              "      <td>University of Chicago Press</td>\n",
              "      <td>[Education, Social Sciences]</td>\n",
              "      <td>NaN</td>\n",
              "      <td>The Evolution of the Social Sciences in the Sc...</td>\n",
              "      <td>http://www.jstor.org/stable/1080259</td>\n",
              "      <td>44</td>\n",
              "      <td>654</td>\n",
              "      <td>{'interest': 1, 'extent': 1, 'find': 1, 'namel...</td>\n",
              "      <td>{'elementary-school and': 1, 'REVIEW [April': ...</td>\n",
              "      <td>{'and Henry Johnson': 1, 'past.\" Roy A.': 1, '...</td>\n",
              "      <td>REVIEW</td>\n",
              "      <td>The School Review</td>\n",
              "      <td>[[REVIEW]]</td>\n",
              "      <td>[[review]]</td>\n",
              "    </tr>\n",
              "    <tr>\n",
              "      <th>1668</th>\n",
              "      <td>[Willard B. Spalding, William C. Kvaraceus]</td>\n",
              "      <td>1943-12-01</td>\n",
              "      <td>research-article</td>\n",
              "      <td>article</td>\n",
              "      <td>http://www.jstor.org/stable/1081310</td>\n",
              "      <td>[{'name': 'issn', 'value': '00366773'}, {'name...</td>\n",
              "      <td>The School Review</td>\n",
              "      <td>10</td>\n",
              "      <td>[eng]</td>\n",
              "      <td>[unigram, bigram, trigram]</td>\n",
              "      <td>4</td>\n",
              "      <td>613</td>\n",
              "      <td>610</td>\n",
              "      <td>pp. 610-613</td>\n",
              "      <td>jstor</td>\n",
              "      <td>1943</td>\n",
              "      <td>University of Chicago Press</td>\n",
              "      <td>[Education, Social Sciences]</td>\n",
              "      <td>[Philosophy - Applied philosophy]</td>\n",
              "      <td>The Secondary Schools in Transition: 1635-1943</td>\n",
              "      <td>http://www.jstor.org/stable/1081310</td>\n",
              "      <td>51</td>\n",
              "      <td>1871</td>\n",
              "      <td>{'and': 60, 'past': 2, 'fascism': 1, 'who': 9,...</td>\n",
              "      <td>{'future prospects': 1, 'or out-': 1, 'leader-...</td>\n",
              "      <td>{'and its energies': 1, 'to ar- rive': 1, 'in ...</td>\n",
              "      <td>WeWeWeWeWe</td>\n",
              "      <td>The School Review</td>\n",
              "      <td>[[WeWeWeWeWe]]</td>\n",
              "      <td>[[wewewewewe]]</td>\n",
              "    </tr>\n",
              "    <tr>\n",
              "      <th>6276</th>\n",
              "      <td>[H. A. Basilius]</td>\n",
              "      <td>1945-12-01</td>\n",
              "      <td>research-article</td>\n",
              "      <td>article</td>\n",
              "      <td>http://www.jstor.org/stable/1976980</td>\n",
              "      <td>[{'name': 'issn', 'value': '00221546'}, {'name...</td>\n",
              "      <td>The Journal of Higher Education</td>\n",
              "      <td>9</td>\n",
              "      <td>[eng]</td>\n",
              "      <td>[unigram, bigram, trigram]</td>\n",
              "      <td>7</td>\n",
              "      <td>478</td>\n",
              "      <td>472</td>\n",
              "      <td>pp. 472-478</td>\n",
              "      <td>jstor</td>\n",
              "      <td>1945</td>\n",
              "      <td>Ohio State University Press</td>\n",
              "      <td>[Education, Social Sciences]</td>\n",
              "      <td>[Arts - Literature]</td>\n",
              "      <td>An Open Letter Addressed to the Dean of an Art...</td>\n",
              "      <td>http://www.jstor.org/stable/1976980</td>\n",
              "      <td>16</td>\n",
              "      <td>3290</td>\n",
              "      <td>{'sterile': 1, 'would,': 1, 'member': 3, 'disc...</td>\n",
              "      <td>{'the three-part': 1, 'the record': 1, 'We sho...</td>\n",
              "      <td>{'by the class': 2, 'to translate sound': 1, '...</td>\n",
              "      <td>form.form.</td>\n",
              "      <td>The Journal of Higher Education</td>\n",
              "      <td>[[form.form]]</td>\n",
              "      <td>[[form.form]]</td>\n",
              "    </tr>\n",
              "    <tr>\n",
              "      <th>251</th>\n",
              "      <td>NaN</td>\n",
              "      <td>1949-02-01</td>\n",
              "      <td>misc</td>\n",
              "      <td>article</td>\n",
              "      <td>http://www.jstor.org/stable/1082296</td>\n",
              "      <td>[{'name': 'issn', 'value': '00366773'}, {'name...</td>\n",
              "      <td>The School Review</td>\n",
              "      <td>2</td>\n",
              "      <td>[eng]</td>\n",
              "      <td>[unigram, bigram, trigram]</td>\n",
              "      <td>18</td>\n",
              "      <td>121</td>\n",
              "      <td>104</td>\n",
              "      <td>pp. 104-121</td>\n",
              "      <td>jstor</td>\n",
              "      <td>1949</td>\n",
              "      <td>University of Chicago Press</td>\n",
              "      <td>[Education, Social Sciences]</td>\n",
              "      <td>[Education - Formal education]</td>\n",
              "      <td>Selected References on Secondary-School Instru...</td>\n",
              "      <td>http://www.jstor.org/stable/1082296</td>\n",
              "      <td>57</td>\n",
              "      <td>8487</td>\n",
              "      <td>{'Learners,\"': 1, 'Dynamics,\"': 1, '217.': 1, ...</td>\n",
              "      <td>{'School Mathe-': 1, 'Language Journal,': 11, ...</td>\n",
              "      <td>{'for challenging the': 1, 'the United Nations...</td>\n",
              "      <td>Effective</td>\n",
              "      <td>The School Review</td>\n",
              "      <td>[[Effective]]</td>\n",
              "      <td>[[effective]]</td>\n",
              "    </tr>\n",
              "    <tr>\n",
              "      <th>...</th>\n",
              "      <td>...</td>\n",
              "      <td>...</td>\n",
              "      <td>...</td>\n",
              "      <td>...</td>\n",
              "      <td>...</td>\n",
              "      <td>...</td>\n",
              "      <td>...</td>\n",
              "      <td>...</td>\n",
              "      <td>...</td>\n",
              "      <td>...</td>\n",
              "      <td>...</td>\n",
              "      <td>...</td>\n",
              "      <td>...</td>\n",
              "      <td>...</td>\n",
              "      <td>...</td>\n",
              "      <td>...</td>\n",
              "      <td>...</td>\n",
              "      <td>...</td>\n",
              "      <td>...</td>\n",
              "      <td>...</td>\n",
              "      <td>...</td>\n",
              "      <td>...</td>\n",
              "      <td>...</td>\n",
              "      <td>...</td>\n",
              "      <td>...</td>\n",
              "      <td>...</td>\n",
              "      <td>...</td>\n",
              "      <td>...</td>\n",
              "      <td>...</td>\n",
              "      <td>...</td>\n",
              "    </tr>\n",
              "    <tr>\n",
              "      <th>1194</th>\n",
              "      <td>[Pedro T. Orata]</td>\n",
              "      <td>1937-03-01</td>\n",
              "      <td>research-article</td>\n",
              "      <td>article</td>\n",
              "      <td>http://www.jstor.org/stable/1974613</td>\n",
              "      <td>[{'name': 'issn', 'value': '00221546'}, {'name...</td>\n",
              "      <td>The Journal of Higher Education</td>\n",
              "      <td>3</td>\n",
              "      <td>[eng]</td>\n",
              "      <td>[unigram, bigram, trigram]</td>\n",
              "      <td>9</td>\n",
              "      <td>158</td>\n",
              "      <td>150</td>\n",
              "      <td>pp. 150-158</td>\n",
              "      <td>jstor</td>\n",
              "      <td>1937</td>\n",
              "      <td>Ohio State University Press</td>\n",
              "      <td>[Education, Social Sciences]</td>\n",
              "      <td>[Business - Business administration]</td>\n",
              "      <td>The Problem Professor of Education</td>\n",
              "      <td>http://www.jstor.org/stable/1974613</td>\n",
              "      <td>8</td>\n",
              "      <td>4332</td>\n",
              "      <td>{'theories': 8, 'satisfactory': 1, 'also': 2, ...</td>\n",
              "      <td>{'student in': 1, 'seen.\" B': 1, 'valid and': ...</td>\n",
              "      <td>{'compartmentalization of school': 1, 'with th...</td>\n",
              "      <td>them,</td>\n",
              "      <td>The Journal of Higher Education</td>\n",
              "      <td>[[them]]</td>\n",
              "      <td>[[]]</td>\n",
              "    </tr>\n",
              "    <tr>\n",
              "      <th>41</th>\n",
              "      <td>[Wayne W. Soper, J. Harold Goldthorpe]</td>\n",
              "      <td>1944-04-01</td>\n",
              "      <td>research-article</td>\n",
              "      <td>article</td>\n",
              "      <td>http://www.jstor.org/stable/1168221</td>\n",
              "      <td>[{'name': 'issn', 'value': '00346543'}, {'name...</td>\n",
              "      <td>Review of Educational Research</td>\n",
              "      <td>2</td>\n",
              "      <td>[eng]</td>\n",
              "      <td>[unigram, bigram, trigram]</td>\n",
              "      <td>12</td>\n",
              "      <td>150</td>\n",
              "      <td>139</td>\n",
              "      <td>pp. 139-150</td>\n",
              "      <td>jstor</td>\n",
              "      <td>1944</td>\n",
              "      <td>Sage Publications, Inc.</td>\n",
              "      <td>[Education, Social Sciences]</td>\n",
              "      <td>[Philosophy - Applied philosophy]</td>\n",
              "      <td>The Support of Education</td>\n",
              "      <td>http://www.jstor.org/stable/1168221</td>\n",
              "      <td>14</td>\n",
              "      <td>6329</td>\n",
              "      <td>{'opportunity': 2, 'goals': 1, '31:': 3, 'Patt...</td>\n",
              "      <td>{'tax causes': 1, 'property taxation.': 1, 'ap...</td>\n",
              "      <td>{'States are not': 1, 'and Chisholm (15)': 1, ...</td>\n",
              "      <td>ever</td>\n",
              "      <td>Review of Educational Research</td>\n",
              "      <td>[[ever]]</td>\n",
              "      <td>[[]]</td>\n",
              "    </tr>\n",
              "    <tr>\n",
              "      <th>6028</th>\n",
              "      <td>[E. S. Jones]</td>\n",
              "      <td>1938-11-01</td>\n",
              "      <td>research-article</td>\n",
              "      <td>article</td>\n",
              "      <td>http://www.jstor.org/stable/1974644</td>\n",
              "      <td>[{'name': 'issn', 'value': '00221546'}, {'name...</td>\n",
              "      <td>The Journal of Higher Education</td>\n",
              "      <td>8</td>\n",
              "      <td>[eng]</td>\n",
              "      <td>[unigram, bigram, trigram]</td>\n",
              "      <td>4</td>\n",
              "      <td>439</td>\n",
              "      <td>436</td>\n",
              "      <td>pp. 436-439</td>\n",
              "      <td>jstor</td>\n",
              "      <td>1938</td>\n",
              "      <td>Ohio State University Press</td>\n",
              "      <td>[Education, Social Sciences]</td>\n",
              "      <td>[Social sciences - Psychology, Education - Edu...</td>\n",
              "      <td>Reliability in Marking Examinations</td>\n",
              "      <td>http://www.jstor.org/stable/1974644</td>\n",
              "      <td>9</td>\n",
              "      <td>1520</td>\n",
              "      <td>{'point': 1, 'Examination': 1, 'causing': 1, '...</td>\n",
              "      <td>{'different projects': 1, 'correlation approac...</td>\n",
              "      <td>{'but they had': 1, 'possible manner and': 1, ...</td>\n",
              "      <td>.</td>\n",
              "      <td>The Journal of Higher Education</td>\n",
              "      <td>[[]]</td>\n",
              "      <td>[[]]</td>\n",
              "    </tr>\n",
              "    <tr>\n",
              "      <th>743</th>\n",
              "      <td>[Oliver R. Floyd]</td>\n",
              "      <td>1933-02-01</td>\n",
              "      <td>book-review</td>\n",
              "      <td>article</td>\n",
              "      <td>http://www.jstor.org/stable/1080971</td>\n",
              "      <td>[{'name': 'issn', 'value': '00366773'}, {'name...</td>\n",
              "      <td>The School Review</td>\n",
              "      <td>2</td>\n",
              "      <td>[eng]</td>\n",
              "      <td>[unigram, bigram, trigram]</td>\n",
              "      <td>2</td>\n",
              "      <td>157</td>\n",
              "      <td>156</td>\n",
              "      <td>pp. 156-157</td>\n",
              "      <td>jstor</td>\n",
              "      <td>1933</td>\n",
              "      <td>University of Chicago Press</td>\n",
              "      <td>[Education, Social Sciences]</td>\n",
              "      <td>NaN</td>\n",
              "      <td>Sociology for the Senior High School</td>\n",
              "      <td>http://www.jstor.org/stable/1080971</td>\n",
              "      <td>41</td>\n",
              "      <td>702</td>\n",
              "      <td>{'kind': 1, 'positions.': 1, 'valuable': 1, '1...</td>\n",
              "      <td>{'of faith': 1, 'serve to': 1, 'an attitude': ...</td>\n",
              "      <td>{'further study rather': 1, 'in the social': 1...</td>\n",
              "      <td>frontier,</td>\n",
              "      <td>The School Review</td>\n",
              "      <td>[[frontier]]</td>\n",
              "      <td>[[frontier]]</td>\n",
              "    </tr>\n",
              "    <tr>\n",
              "      <th>2577</th>\n",
              "      <td>[Cyril O. Houle, William Bowden]</td>\n",
              "      <td>1950-06-01</td>\n",
              "      <td>research-article</td>\n",
              "      <td>article</td>\n",
              "      <td>http://www.jstor.org/stable/1168554</td>\n",
              "      <td>[{'name': 'issn', 'value': '00346543'}, {'name...</td>\n",
              "      <td>Review of Educational Research</td>\n",
              "      <td>3</td>\n",
              "      <td>[eng]</td>\n",
              "      <td>[unigram, bigram, trigram]</td>\n",
              "      <td>9</td>\n",
              "      <td>206</td>\n",
              "      <td>198</td>\n",
              "      <td>pp. 198-206</td>\n",
              "      <td>jstor</td>\n",
              "      <td>1950</td>\n",
              "      <td>Sage Publications, Inc.</td>\n",
              "      <td>[Education, Social Sciences]</td>\n",
              "      <td>[Biological sciences - Biology]</td>\n",
              "      <td>The Content of Adult Education</td>\n",
              "      <td>http://www.jstor.org/stable/1168554</td>\n",
              "      <td>20</td>\n",
              "      <td>4240</td>\n",
              "      <td>{'state.': 1, 'settlement,': 1, 'provide.': 1,...</td>\n",
              "      <td>{'education in': 6, '1949, No.': 1, 'be drawn'...</td>\n",
              "      <td>{'thru further study': 1, 'six months. Fenton'...</td>\n",
              "      <td>defines</td>\n",
              "      <td>Review of Educational Research</td>\n",
              "      <td>[[defines]]</td>\n",
              "      <td>[[define]]</td>\n",
              "    </tr>\n",
              "  </tbody>\n",
              "</table>\n",
              "<p>3500 rows × 30 columns</p>\n",
              "</div>\n",
              "      <button class=\"colab-df-convert\" onclick=\"convertToInteractive('df-c6ae0663-6590-41ad-92ed-0fd44287fc89')\"\n",
              "              title=\"Convert this dataframe to an interactive table.\"\n",
              "              style=\"display:none;\">\n",
              "        \n",
              "  <svg xmlns=\"http://www.w3.org/2000/svg\" height=\"24px\"viewBox=\"0 0 24 24\"\n",
              "       width=\"24px\">\n",
              "    <path d=\"M0 0h24v24H0V0z\" fill=\"none\"/>\n",
              "    <path d=\"M18.56 5.44l.94 2.06.94-2.06 2.06-.94-2.06-.94-.94-2.06-.94 2.06-2.06.94zm-11 1L8.5 8.5l.94-2.06 2.06-.94-2.06-.94L8.5 2.5l-.94 2.06-2.06.94zm10 10l.94 2.06.94-2.06 2.06-.94-2.06-.94-.94-2.06-.94 2.06-2.06.94z\"/><path d=\"M17.41 7.96l-1.37-1.37c-.4-.4-.92-.59-1.43-.59-.52 0-1.04.2-1.43.59L10.3 9.45l-7.72 7.72c-.78.78-.78 2.05 0 2.83L4 21.41c.39.39.9.59 1.41.59.51 0 1.02-.2 1.41-.59l7.78-7.78 2.81-2.81c.8-.78.8-2.07 0-2.86zM5.41 20L4 18.59l7.72-7.72 1.47 1.35L5.41 20z\"/>\n",
              "  </svg>\n",
              "      </button>\n",
              "      \n",
              "  <style>\n",
              "    .colab-df-container {\n",
              "      display:flex;\n",
              "      flex-wrap:wrap;\n",
              "      gap: 12px;\n",
              "    }\n",
              "\n",
              "    .colab-df-convert {\n",
              "      background-color: #E8F0FE;\n",
              "      border: none;\n",
              "      border-radius: 50%;\n",
              "      cursor: pointer;\n",
              "      display: none;\n",
              "      fill: #1967D2;\n",
              "      height: 32px;\n",
              "      padding: 0 0 0 0;\n",
              "      width: 32px;\n",
              "    }\n",
              "\n",
              "    .colab-df-convert:hover {\n",
              "      background-color: #E2EBFA;\n",
              "      box-shadow: 0px 1px 2px rgba(60, 64, 67, 0.3), 0px 1px 3px 1px rgba(60, 64, 67, 0.15);\n",
              "      fill: #174EA6;\n",
              "    }\n",
              "\n",
              "    [theme=dark] .colab-df-convert {\n",
              "      background-color: #3B4455;\n",
              "      fill: #D2E3FC;\n",
              "    }\n",
              "\n",
              "    [theme=dark] .colab-df-convert:hover {\n",
              "      background-color: #434B5C;\n",
              "      box-shadow: 0px 1px 3px 1px rgba(0, 0, 0, 0.15);\n",
              "      filter: drop-shadow(0px 1px 2px rgba(0, 0, 0, 0.3));\n",
              "      fill: #FFFFFF;\n",
              "    }\n",
              "  </style>\n",
              "\n",
              "      <script>\n",
              "        const buttonEl =\n",
              "          document.querySelector('#df-c6ae0663-6590-41ad-92ed-0fd44287fc89 button.colab-df-convert');\n",
              "        buttonEl.style.display =\n",
              "          google.colab.kernel.accessAllowed ? 'block' : 'none';\n",
              "\n",
              "        async function convertToInteractive(key) {\n",
              "          const element = document.querySelector('#df-c6ae0663-6590-41ad-92ed-0fd44287fc89');\n",
              "          const dataTable =\n",
              "            await google.colab.kernel.invokeFunction('convertToInteractive',\n",
              "                                                     [key], {});\n",
              "          if (!dataTable) return;\n",
              "\n",
              "          const docLinkHtml = 'Like what you see? Visit the ' +\n",
              "            '<a target=\"_blank\" href=https://colab.research.google.com/notebooks/data_table.ipynb>data table notebook</a>'\n",
              "            + ' to learn more about interactive tables.';\n",
              "          element.innerHTML = '';\n",
              "          dataTable['output_type'] = 'display_data';\n",
              "          await google.colab.output.renderOutput(dataTable, element);\n",
              "          const docLink = document.createElement('div');\n",
              "          docLink.innerHTML = docLinkHtml;\n",
              "          element.appendChild(docLink);\n",
              "        }\n",
              "      </script>\n",
              "    </div>\n",
              "  </div>\n",
              "  "
            ],
            "text/plain": [
              "                                          creator  ... normalized_sents\n",
              "5922         [Virginia F. Matson, Paul R. Pierce]  ...       [[clinic]]\n",
              "5487                               [Roy A. Price]  ...       [[review]]\n",
              "1668  [Willard B. Spalding, William C. Kvaraceus]  ...   [[wewewewewe]]\n",
              "6276                             [H. A. Basilius]  ...    [[form.form]]\n",
              "251                                           NaN  ...    [[effective]]\n",
              "...                                           ...  ...              ...\n",
              "1194                             [Pedro T. Orata]  ...             [[]]\n",
              "41         [Wayne W. Soper, J. Harold Goldthorpe]  ...             [[]]\n",
              "6028                                [E. S. Jones]  ...             [[]]\n",
              "743                             [Oliver R. Floyd]  ...     [[frontier]]\n",
              "2577             [Cyril O. Houle, William Bowden]  ...       [[define]]\n",
              "\n",
              "[3500 rows x 30 columns]"
            ]
          },
          "metadata": {},
          "execution_count": 87
        }
      ]
    },
    {
      "cell_type": "code",
      "source": [
        "jstorSample['year'] = pd.to_numeric(jstorSample.datePublished.str[:4])"
      ],
      "metadata": {
        "id": "fUXyRNM5H9x9"
      },
      "execution_count": null,
      "outputs": []
    },
    {
      "cell_type": "code",
      "source": [
        "jstorSample['label'] = np.where((jstorSample['year'] > 1949), True)"
      ],
      "metadata": {
        "colab": {
          "base_uri": "https://localhost:8080/",
          "height": 191
        },
        "id": "SsvmPYjaIG9f",
        "outputId": "90f81e15-6a1e-4997-e64d-0d799533acdf"
      },
      "execution_count": null,
      "outputs": [
        {
          "output_type": "error",
          "ename": "ValueError",
          "evalue": "ignored",
          "traceback": [
            "\u001b[0;31m---------------------------------------------------------------------------\u001b[0m",
            "\u001b[0;31mValueError\u001b[0m                                Traceback (most recent call last)",
            "\u001b[0;32m<ipython-input-94-35eacb6c9352>\u001b[0m in \u001b[0;36m<module>\u001b[0;34m()\u001b[0m\n\u001b[0;32m----> 1\u001b[0;31m \u001b[0mjstorSample\u001b[0m\u001b[0;34m[\u001b[0m\u001b[0;34m'label'\u001b[0m\u001b[0;34m]\u001b[0m \u001b[0;34m=\u001b[0m \u001b[0mnp\u001b[0m\u001b[0;34m.\u001b[0m\u001b[0mwhere\u001b[0m\u001b[0;34m(\u001b[0m\u001b[0;34m(\u001b[0m\u001b[0mjstorSample\u001b[0m\u001b[0;34m[\u001b[0m\u001b[0;34m'year'\u001b[0m\u001b[0;34m]\u001b[0m \u001b[0;34m>\u001b[0m \u001b[0;36m1949\u001b[0m\u001b[0;34m)\u001b[0m\u001b[0;34m,\u001b[0m \u001b[0;32mTrue\u001b[0m\u001b[0;34m)\u001b[0m\u001b[0;34m\u001b[0m\u001b[0;34m\u001b[0m\u001b[0m\n\u001b[0m",
            "\u001b[0;32m<__array_function__ internals>\u001b[0m in \u001b[0;36mwhere\u001b[0;34m(*args, **kwargs)\u001b[0m\n",
            "\u001b[0;31mValueError\u001b[0m: either both or neither of x and y should be given"
          ]
        }
      ]
    },
    {
      "cell_type": "code",
      "source": [
        "#splitting the corpus data into training set and holdout set\n",
        "holdBackFraction = .2\n",
        "train_data_df, test_data_df = lucem_illud.trainTestSplit(jstorSample, holdBackFraction=holdBackFraction)"
      ],
      "metadata": {
        "id": "c67ZA2AeG863"
      },
      "execution_count": null,
      "outputs": []
    },
    {
      "cell_type": "code",
      "source": [
        "TFVectorizer = sklearn.feature_extraction.text.TfidfVectorizer(max_df=100, min_df=2, stop_words='english', norm='l2')\n",
        "TFVects = TFVectorizer.fit_transform(train_data_df['text'])"
      ],
      "metadata": {
        "id": "XWh_EEv6G_J1"
      },
      "execution_count": null,
      "outputs": []
    },
    {
      "cell_type": "code",
      "source": [
        "TFVects.shape"
      ],
      "metadata": {
        "colab": {
          "base_uri": "https://localhost:8080/"
        },
        "id": "jTM7HZMlHCyZ",
        "outputId": "99005f07-51b9-466b-9652-b8c278b237af"
      },
      "execution_count": null,
      "outputs": [
        {
          "output_type": "execute_result",
          "data": {
            "text/plain": [
              "(2800, 331)"
            ]
          },
          "metadata": {},
          "execution_count": 97
        }
      ]
    },
    {
      "cell_type": "code",
      "source": [
        "train_data_df['vect'] = [np.array(v).flatten() for v in TFVects.todense()]"
      ],
      "metadata": {
        "id": "jHTeb0DtHD3n"
      },
      "execution_count": null,
      "outputs": []
    },
    {
      "cell_type": "code",
      "execution_count": null,
      "metadata": {
        "collapsed": true,
        "id": "st-959i-HLi_"
      },
      "outputs": [],
      "source": [
        "pca = sklearn.decomposition.PCA()\n",
        "reduced_data = pca.fit_transform(np.stack(train_data_df['vect'], axis=0))"
      ]
    },
    {
      "cell_type": "code",
      "execution_count": null,
      "metadata": {
        "collapsed": true,
        "id": "AFWUiBN8HLjA"
      },
      "outputs": [],
      "source": [
        "train_data_df['pca'] = [r for r in reduced_data]"
      ]
    },
    {
      "cell_type": "code",
      "execution_count": null,
      "metadata": {
        "colab": {
          "base_uri": "https://localhost:8080/",
          "height": 955
        },
        "outputId": "b28f6964-3ac3-4073-c02d-f32151a6efb8",
        "id": "mWNI24WyHLjA"
      },
      "outputs": [
        {
          "output_type": "error",
          "ename": "KeyError",
          "evalue": "ignored",
          "traceback": [
            "\u001b[0;31m---------------------------------------------------------------------------\u001b[0m",
            "\u001b[0;31mKeyError\u001b[0m                                  Traceback (most recent call last)",
            "\u001b[0;32m<ipython-input-88-457e93ebcae1>\u001b[0m in \u001b[0;36m<module>\u001b[0;34m()\u001b[0m\n\u001b[1;32m      4\u001b[0m \u001b[0;34m\u001b[0m\u001b[0m\n\u001b[1;32m      5\u001b[0m \u001b[0;31m#Plot after\u001b[0m\u001b[0;34m\u001b[0m\u001b[0;34m\u001b[0m\u001b[0;34m\u001b[0m\u001b[0m\n\u001b[0;32m----> 6\u001b[0;31m \u001b[0ma\u001b[0m \u001b[0;34m=\u001b[0m \u001b[0mnp\u001b[0m\u001b[0;34m.\u001b[0m\u001b[0mstack\u001b[0m\u001b[0;34m(\u001b[0m\u001b[0mtrain_data_df\u001b[0m\u001b[0;34m[\u001b[0m\u001b[0mtrain_data_df\u001b[0m\u001b[0;34m[\u001b[0m\u001b[0;34m'datePublished'\u001b[0m\u001b[0;34m]\u001b[0m\u001b[0;34m]\u001b[0m\u001b[0;34m[\u001b[0m\u001b[0;34m'pca'\u001b[0m\u001b[0;34m]\u001b[0m\u001b[0;34m)\u001b[0m\u001b[0;34m\u001b[0m\u001b[0;34m\u001b[0m\u001b[0m\n\u001b[0m\u001b[1;32m      7\u001b[0m \u001b[0max\u001b[0m\u001b[0;34m.\u001b[0m\u001b[0mscatter\u001b[0m\u001b[0;34m(\u001b[0m\u001b[0ma\u001b[0m\u001b[0;34m[\u001b[0m\u001b[0;34m:\u001b[0m\u001b[0;34m,\u001b[0m\u001b[0;36m0\u001b[0m\u001b[0;34m]\u001b[0m\u001b[0;34m,\u001b[0m \u001b[0ma\u001b[0m\u001b[0;34m[\u001b[0m\u001b[0;34m:\u001b[0m\u001b[0;34m,\u001b[0m \u001b[0;36m1\u001b[0m\u001b[0;34m]\u001b[0m\u001b[0;34m,\u001b[0m \u001b[0mc\u001b[0m \u001b[0;34m=\u001b[0m \u001b[0mpallet\u001b[0m\u001b[0;34m[\u001b[0m\u001b[0;36m0\u001b[0m\u001b[0;34m]\u001b[0m\u001b[0;34m,\u001b[0m \u001b[0mlabel\u001b[0m \u001b[0;34m=\u001b[0m \u001b[0;34m\"True\"\u001b[0m\u001b[0;34m)\u001b[0m\u001b[0;34m\u001b[0m\u001b[0;34m\u001b[0m\u001b[0m\n\u001b[1;32m      8\u001b[0m \u001b[0;34m\u001b[0m\u001b[0m\n",
            "\u001b[0;32m/usr/local/lib/python3.7/dist-packages/pandas/core/frame.py\u001b[0m in \u001b[0;36m__getitem__\u001b[0;34m(self, key)\u001b[0m\n\u001b[1;32m   3462\u001b[0m             \u001b[0;32mif\u001b[0m \u001b[0mis_iterator\u001b[0m\u001b[0;34m(\u001b[0m\u001b[0mkey\u001b[0m\u001b[0;34m)\u001b[0m\u001b[0;34m:\u001b[0m\u001b[0;34m\u001b[0m\u001b[0;34m\u001b[0m\u001b[0m\n\u001b[1;32m   3463\u001b[0m                 \u001b[0mkey\u001b[0m \u001b[0;34m=\u001b[0m \u001b[0mlist\u001b[0m\u001b[0;34m(\u001b[0m\u001b[0mkey\u001b[0m\u001b[0;34m)\u001b[0m\u001b[0;34m\u001b[0m\u001b[0;34m\u001b[0m\u001b[0m\n\u001b[0;32m-> 3464\u001b[0;31m             \u001b[0mindexer\u001b[0m \u001b[0;34m=\u001b[0m \u001b[0mself\u001b[0m\u001b[0;34m.\u001b[0m\u001b[0mloc\u001b[0m\u001b[0;34m.\u001b[0m\u001b[0m_get_listlike_indexer\u001b[0m\u001b[0;34m(\u001b[0m\u001b[0mkey\u001b[0m\u001b[0;34m,\u001b[0m \u001b[0maxis\u001b[0m\u001b[0;34m=\u001b[0m\u001b[0;36m1\u001b[0m\u001b[0;34m)\u001b[0m\u001b[0;34m[\u001b[0m\u001b[0;36m1\u001b[0m\u001b[0;34m]\u001b[0m\u001b[0;34m\u001b[0m\u001b[0;34m\u001b[0m\u001b[0m\n\u001b[0m\u001b[1;32m   3465\u001b[0m \u001b[0;34m\u001b[0m\u001b[0m\n\u001b[1;32m   3466\u001b[0m         \u001b[0;31m# take() does not accept boolean indexers\u001b[0m\u001b[0;34m\u001b[0m\u001b[0;34m\u001b[0m\u001b[0;34m\u001b[0m\u001b[0m\n",
            "\u001b[0;32m/usr/local/lib/python3.7/dist-packages/pandas/core/indexing.py\u001b[0m in \u001b[0;36m_get_listlike_indexer\u001b[0;34m(self, key, axis)\u001b[0m\n\u001b[1;32m   1312\u001b[0m             \u001b[0mkeyarr\u001b[0m\u001b[0;34m,\u001b[0m \u001b[0mindexer\u001b[0m\u001b[0;34m,\u001b[0m \u001b[0mnew_indexer\u001b[0m \u001b[0;34m=\u001b[0m \u001b[0max\u001b[0m\u001b[0;34m.\u001b[0m\u001b[0m_reindex_non_unique\u001b[0m\u001b[0;34m(\u001b[0m\u001b[0mkeyarr\u001b[0m\u001b[0;34m)\u001b[0m\u001b[0;34m\u001b[0m\u001b[0;34m\u001b[0m\u001b[0m\n\u001b[1;32m   1313\u001b[0m \u001b[0;34m\u001b[0m\u001b[0m\n\u001b[0;32m-> 1314\u001b[0;31m         \u001b[0mself\u001b[0m\u001b[0;34m.\u001b[0m\u001b[0m_validate_read_indexer\u001b[0m\u001b[0;34m(\u001b[0m\u001b[0mkeyarr\u001b[0m\u001b[0;34m,\u001b[0m \u001b[0mindexer\u001b[0m\u001b[0;34m,\u001b[0m \u001b[0maxis\u001b[0m\u001b[0;34m)\u001b[0m\u001b[0;34m\u001b[0m\u001b[0;34m\u001b[0m\u001b[0m\n\u001b[0m\u001b[1;32m   1315\u001b[0m \u001b[0;34m\u001b[0m\u001b[0m\n\u001b[1;32m   1316\u001b[0m         if needs_i8_conversion(ax.dtype) or isinstance(\n",
            "\u001b[0;32m/usr/local/lib/python3.7/dist-packages/pandas/core/indexing.py\u001b[0m in \u001b[0;36m_validate_read_indexer\u001b[0;34m(self, key, indexer, axis)\u001b[0m\n\u001b[1;32m   1372\u001b[0m                 \u001b[0;32mif\u001b[0m \u001b[0muse_interval_msg\u001b[0m\u001b[0;34m:\u001b[0m\u001b[0;34m\u001b[0m\u001b[0;34m\u001b[0m\u001b[0m\n\u001b[1;32m   1373\u001b[0m                     \u001b[0mkey\u001b[0m \u001b[0;34m=\u001b[0m \u001b[0mlist\u001b[0m\u001b[0;34m(\u001b[0m\u001b[0mkey\u001b[0m\u001b[0;34m)\u001b[0m\u001b[0;34m\u001b[0m\u001b[0;34m\u001b[0m\u001b[0m\n\u001b[0;32m-> 1374\u001b[0;31m                 \u001b[0;32mraise\u001b[0m \u001b[0mKeyError\u001b[0m\u001b[0;34m(\u001b[0m\u001b[0;34mf\"None of [{key}] are in the [{axis_name}]\"\u001b[0m\u001b[0;34m)\u001b[0m\u001b[0;34m\u001b[0m\u001b[0;34m\u001b[0m\u001b[0m\n\u001b[0m\u001b[1;32m   1375\u001b[0m \u001b[0;34m\u001b[0m\u001b[0m\n\u001b[1;32m   1376\u001b[0m             \u001b[0mnot_found\u001b[0m \u001b[0;34m=\u001b[0m \u001b[0mlist\u001b[0m\u001b[0;34m(\u001b[0m\u001b[0mensure_index\u001b[0m\u001b[0;34m(\u001b[0m\u001b[0mkey\u001b[0m\u001b[0;34m)\u001b[0m\u001b[0;34m[\u001b[0m\u001b[0mmissing_mask\u001b[0m\u001b[0;34m.\u001b[0m\u001b[0mnonzero\u001b[0m\u001b[0;34m(\u001b[0m\u001b[0;34m)\u001b[0m\u001b[0;34m[\u001b[0m\u001b[0;36m0\u001b[0m\u001b[0;34m]\u001b[0m\u001b[0;34m]\u001b[0m\u001b[0;34m.\u001b[0m\u001b[0munique\u001b[0m\u001b[0;34m(\u001b[0m\u001b[0;34m)\u001b[0m\u001b[0;34m)\u001b[0m\u001b[0;34m\u001b[0m\u001b[0;34m\u001b[0m\u001b[0m\n",
            "\u001b[0;31mKeyError\u001b[0m: \"None of [Index(['1941-06-01', '1935-04-01', '1937-10-01', '1932-09-01', '1937-10-01',\\n       '1939-03-01', '1931-09-01', '1931-12-01', '1947-04-01', '1935-05-01',\\n       ...\\n       '1940-06-01', '1949-10-01', '1937-10-01', '1937-01-01', '1931-06-01',\\n       '1933-09-01', '1938-09-01', '1945-06-01', '1933-10-01', '1949-10-01'],\\n      dtype='object', length=2800)] are in the [columns]\""
          ]
        },
        {
          "output_type": "display_data",
          "data": {
            "image/png": "[encoded data removed]",
            "text/plain": [
              "<Figure size 720x720 with 1 Axes>"
            ]
          },
          "metadata": {
            "needs_background": "light"
          }
        }
      ],
      "source": [
        "fig, ax = plt.subplots(figsize = (10,10))\n",
        "ax.axis('off')\n",
        "pallet = seaborn.color_palette(palette='coolwarm', n_colors = 2)\n",
        "\n",
        "#Plot after\n",
        "a = np.stack(train_data_df[train_data_df['datePublished']]['pca'])\n",
        "ax.scatter(a[:,0], a[:, 1], c = pallet[0], label = \"True\")\n",
        "\n",
        "#Plot before\n",
        "a = np.stack(train_data_df[train_data_df['datePublished'].eq(False)]['pca'])\n",
        "ax.scatter(a[:,0], a[:, 1], c = pallet[1], label = \"False\")\n",
        "    \n",
        "ax.legend(loc = 'upper right', title = 'Is After')\n",
        "plt.title('True Classes, Training Set')\n",
        "plt.show()"
      ]
    },
    {
      "cell_type": "markdown",
      "metadata": {
        "collapsed": true,
        "id": "EKiziFYCXmB0"
      },
      "source": [
        "# Decision Trees"
      ]
    },
    {
      "cell_type": "markdown",
      "metadata": {
        "id": "HrthlvX_XmB0"
      },
      "source": [
        "Decision trees can be used to predict both categorical/class labels (i.e., classification) and continuous labels (i.e., regression)."
      ]
    },
    {
      "cell_type": "code",
      "execution_count": null,
      "metadata": {
        "collapsed": true,
        "id": "8V6D7JgZXmB0",
        "colab": {
          "base_uri": "https://localhost:8080/",
          "height": 677
        },
        "outputId": "bf39d85f-8f14-488f-d96e-8ae53aae9ec8"
      },
      "outputs": [
        {
          "output_type": "stream",
          "name": "stderr",
          "text": [
            "*c* argument looks like a single numeric RGB or RGBA sequence, which should be avoided as value-mapping will have precedence in case its length matches with *x* & *y*.  Please use the *color* keyword-argument or provide a 2-D array with a single row if you intend to specify the same RGB or RGBA value for all points.\n",
            "*c* argument looks like a single numeric RGB or RGBA sequence, which should be avoided as value-mapping will have precedence in case its length matches with *x* & *y*.  Please use the *color* keyword-argument or provide a 2-D array with a single row if you intend to specify the same RGB or RGBA value for all points.\n",
            "*c* argument looks like a single numeric RGB or RGBA sequence, which should be avoided as value-mapping will have precedence in case its length matches with *x* & *y*.  Please use the *color* keyword-argument or provide a 2-D array with a single row if you intend to specify the same RGB or RGBA value for all points.\n",
            "*c* argument looks like a single numeric RGB or RGBA sequence, which should be avoided as value-mapping will have precedence in case its length matches with *x* & *y*.  Please use the *color* keyword-argument or provide a 2-D array with a single row if you intend to specify the same RGB or RGBA value for all points.\n",
            "*c* argument looks like a single numeric RGB or RGBA sequence, which should be avoided as value-mapping will have precedence in case its length matches with *x* & *y*.  Please use the *color* keyword-argument or provide a 2-D array with a single row if you intend to specify the same RGB or RGBA value for all points.\n"
          ]
        },
        {
          "output_type": "display_data",
          "data": {
            "image/png": "[encoded data removed]",
            "text/plain": [
              "<Figure size 720x720 with 1 Axes>"
            ]
          },
          "metadata": {
            "needs_background": "light"
          }
        }
      ],
      "source": [
        "blobs_df = lucem_illud.multiBlobs(noise=.2, centers=[(0,0), (0,5), (5,0), (-5,0), (0,-5)])\n",
        "df_exampleTree_train, df_exampleTree_test = sklearn.model_selection.train_test_split(blobs_df, test_size=.2)\n",
        "lucem_illud.plotter(df_exampleTree_train)"
      ]
    },
    {
      "cell_type": "markdown",
      "metadata": {
        "id": "b3GhlD4EXmB0"
      },
      "source": [
        "Now we import our Decision Tree classifier from sklearn.tree (familiar syntax) and fit it using the fit method."
      ]
    },
    {
      "cell_type": "code",
      "execution_count": null,
      "metadata": {
        "collapsed": true,
        "id": "JJy3j64fXmB0",
        "colab": {
          "base_uri": "https://localhost:8080/"
        },
        "outputId": "4a8ced7b-e209-4ab8-c379-8b1150626c8b"
      },
      "outputs": [
        {
          "output_type": "execute_result",
          "data": {
            "text/plain": [
              "DecisionTreeClassifier(max_depth=4, random_state=0)"
            ]
          },
          "metadata": {},
          "execution_count": 103
        }
      ],
      "source": [
        "clf_tree = sklearn.tree.DecisionTreeClassifier(max_depth=4,random_state=0)\n",
        "clf_tree.fit(np.stack(df_exampleTree_train['vect'], axis =0), df_exampleTree_train['category'])"
      ]
    },
    {
      "cell_type": "markdown",
      "metadata": {
        "id": "arEpdvyEXmB1"
      },
      "source": [
        "To see what's going on visually with the classification: "
      ]
    },
    {
      "cell_type": "code",
      "execution_count": null,
      "metadata": {
        "collapsed": true,
        "id": "IuohOVzUXmB1",
        "colab": {
          "base_uri": "https://localhost:8080/",
          "height": 677
        },
        "outputId": "802a16f9-bd06-447d-dee7-1adc1e71eef0"
      },
      "outputs": [
        {
          "output_type": "stream",
          "name": "stderr",
          "text": [
            "*c* argument looks like a single numeric RGB or RGBA sequence, which should be avoided as value-mapping will have precedence in case its length matches with *x* & *y*.  Please use the *color* keyword-argument or provide a 2-D array with a single row if you intend to specify the same RGB or RGBA value for all points.\n",
            "*c* argument looks like a single numeric RGB or RGBA sequence, which should be avoided as value-mapping will have precedence in case its length matches with *x* & *y*.  Please use the *color* keyword-argument or provide a 2-D array with a single row if you intend to specify the same RGB or RGBA value for all points.\n",
            "*c* argument looks like a single numeric RGB or RGBA sequence, which should be avoided as value-mapping will have precedence in case its length matches with *x* & *y*.  Please use the *color* keyword-argument or provide a 2-D array with a single row if you intend to specify the same RGB or RGBA value for all points.\n",
            "*c* argument looks like a single numeric RGB or RGBA sequence, which should be avoided as value-mapping will have precedence in case its length matches with *x* & *y*.  Please use the *color* keyword-argument or provide a 2-D array with a single row if you intend to specify the same RGB or RGBA value for all points.\n",
            "*c* argument looks like a single numeric RGB or RGBA sequence, which should be avoided as value-mapping will have precedence in case its length matches with *x* & *y*.  Please use the *color* keyword-argument or provide a 2-D array with a single row if you intend to specify the same RGB or RGBA value for all points.\n"
          ]
        },
        {
          "output_type": "display_data",
          "data": {
            "image/png": "[encoded data removed]",
            "text/plain": [
              "<Figure size 720x720 with 1 Axes>"
            ]
          },
          "metadata": {
            "needs_background": "light"
          }
        }
      ],
      "source": [
        "lucem_illud.plotregions(clf_tree, df_exampleTree_train)"
      ]
    },
    {
      "cell_type": "code",
      "execution_count": null,
      "metadata": {
        "collapsed": true,
        "id": "iGN8wx4GXmB1",
        "colab": {
          "base_uri": "https://localhost:8080/",
          "height": 231
        },
        "outputId": "7876b2ba-7f29-4199-9f03-21eac79679e3"
      },
      "outputs": [
        {
          "output_type": "execute_result",
          "data": {
            "text/html": [
              "\n",
              "  <div id=\"df-3001000c-01a0-4fce-a6a3-13ecb162c608\">\n",
              "    <div class=\"colab-df-container\">\n",
              "      <div>\n",
              "<style scoped>\n",
              "    .dataframe tbody tr th:only-of-type {\n",
              "        vertical-align: middle;\n",
              "    }\n",
              "\n",
              "    .dataframe tbody tr th {\n",
              "        vertical-align: top;\n",
              "    }\n",
              "\n",
              "    .dataframe thead th {\n",
              "        text-align: right;\n",
              "    }\n",
              "</style>\n",
              "<table border=\"1\" class=\"dataframe\">\n",
              "  <thead>\n",
              "    <tr style=\"text-align: right;\">\n",
              "      <th></th>\n",
              "      <th>Error_Rate</th>\n",
              "      <th>AUC</th>\n",
              "      <th>Precision</th>\n",
              "      <th>Average_Precision</th>\n",
              "      <th>Recall</th>\n",
              "    </tr>\n",
              "    <tr>\n",
              "      <th>Category</th>\n",
              "      <th></th>\n",
              "      <th></th>\n",
              "      <th></th>\n",
              "      <th></th>\n",
              "      <th></th>\n",
              "    </tr>\n",
              "  </thead>\n",
              "  <tbody>\n",
              "    <tr>\n",
              "      <th>0</th>\n",
              "      <td>0.036</td>\n",
              "      <td>0.946746</td>\n",
              "      <td>0.900000</td>\n",
              "      <td>0.842531</td>\n",
              "      <td>0.918367</td>\n",
              "    </tr>\n",
              "    <tr>\n",
              "      <th>1</th>\n",
              "      <td>0.012</td>\n",
              "      <td>0.977104</td>\n",
              "      <td>0.979167</td>\n",
              "      <td>0.947201</td>\n",
              "      <td>0.959184</td>\n",
              "    </tr>\n",
              "    <tr>\n",
              "      <th>2</th>\n",
              "      <td>0.012</td>\n",
              "      <td>0.981250</td>\n",
              "      <td>0.970000</td>\n",
              "      <td>0.946900</td>\n",
              "      <td>0.970000</td>\n",
              "    </tr>\n",
              "    <tr>\n",
              "      <th>3</th>\n",
              "      <td>0.008</td>\n",
              "      <td>0.987108</td>\n",
              "      <td>0.979167</td>\n",
              "      <td>0.962767</td>\n",
              "      <td>0.979167</td>\n",
              "    </tr>\n",
              "    <tr>\n",
              "      <th>4</th>\n",
              "      <td>0.008</td>\n",
              "      <td>0.988190</td>\n",
              "      <td>0.981481</td>\n",
              "      <td>0.967306</td>\n",
              "      <td>0.981481</td>\n",
              "    </tr>\n",
              "  </tbody>\n",
              "</table>\n",
              "</div>\n",
              "      <button class=\"colab-df-convert\" onclick=\"convertToInteractive('df-3001000c-01a0-4fce-a6a3-13ecb162c608')\"\n",
              "              title=\"Convert this dataframe to an interactive table.\"\n",
              "              style=\"display:none;\">\n",
              "        \n",
              "  <svg xmlns=\"http://www.w3.org/2000/svg\" height=\"24px\"viewBox=\"0 0 24 24\"\n",
              "       width=\"24px\">\n",
              "    <path d=\"M0 0h24v24H0V0z\" fill=\"none\"/>\n",
              "    <path d=\"M18.56 5.44l.94 2.06.94-2.06 2.06-.94-2.06-.94-.94-2.06-.94 2.06-2.06.94zm-11 1L8.5 8.5l.94-2.06 2.06-.94-2.06-.94L8.5 2.5l-.94 2.06-2.06.94zm10 10l.94 2.06.94-2.06 2.06-.94-2.06-.94-.94-2.06-.94 2.06-2.06.94z\"/><path d=\"M17.41 7.96l-1.37-1.37c-.4-.4-.92-.59-1.43-.59-.52 0-1.04.2-1.43.59L10.3 9.45l-7.72 7.72c-.78.78-.78 2.05 0 2.83L4 21.41c.39.39.9.59 1.41.59.51 0 1.02-.2 1.41-.59l7.78-7.78 2.81-2.81c.8-.78.8-2.07 0-2.86zM5.41 20L4 18.59l7.72-7.72 1.47 1.35L5.41 20z\"/>\n",
              "  </svg>\n",
              "      </button>\n",
              "      \n",
              "  <style>\n",
              "    .colab-df-container {\n",
              "      display:flex;\n",
              "      flex-wrap:wrap;\n",
              "      gap: 12px;\n",
              "    }\n",
              "\n",
              "    .colab-df-convert {\n",
              "      background-color: #E8F0FE;\n",
              "      border: none;\n",
              "      border-radius: 50%;\n",
              "      cursor: pointer;\n",
              "      display: none;\n",
              "      fill: #1967D2;\n",
              "      height: 32px;\n",
              "      padding: 0 0 0 0;\n",
              "      width: 32px;\n",
              "    }\n",
              "\n",
              "    .colab-df-convert:hover {\n",
              "      background-color: #E2EBFA;\n",
              "      box-shadow: 0px 1px 2px rgba(60, 64, 67, 0.3), 0px 1px 3px 1px rgba(60, 64, 67, 0.15);\n",
              "      fill: #174EA6;\n",
              "    }\n",
              "\n",
              "    [theme=dark] .colab-df-convert {\n",
              "      background-color: #3B4455;\n",
              "      fill: #D2E3FC;\n",
              "    }\n",
              "\n",
              "    [theme=dark] .colab-df-convert:hover {\n",
              "      background-color: #434B5C;\n",
              "      box-shadow: 0px 1px 3px 1px rgba(0, 0, 0, 0.15);\n",
              "      filter: drop-shadow(0px 1px 2px rgba(0, 0, 0, 0.3));\n",
              "      fill: #FFFFFF;\n",
              "    }\n",
              "  </style>\n",
              "\n",
              "      <script>\n",
              "        const buttonEl =\n",
              "          document.querySelector('#df-3001000c-01a0-4fce-a6a3-13ecb162c608 button.colab-df-convert');\n",
              "        buttonEl.style.display =\n",
              "          google.colab.kernel.accessAllowed ? 'block' : 'none';\n",
              "\n",
              "        async function convertToInteractive(key) {\n",
              "          const element = document.querySelector('#df-3001000c-01a0-4fce-a6a3-13ecb162c608');\n",
              "          const dataTable =\n",
              "            await google.colab.kernel.invokeFunction('convertToInteractive',\n",
              "                                                     [key], {});\n",
              "          if (!dataTable) return;\n",
              "\n",
              "          const docLinkHtml = 'Like what you see? Visit the ' +\n",
              "            '<a target=\"_blank\" href=https://colab.research.google.com/notebooks/data_table.ipynb>data table notebook</a>'\n",
              "            + ' to learn more about interactive tables.';\n",
              "          element.innerHTML = '';\n",
              "          dataTable['output_type'] = 'display_data';\n",
              "          await google.colab.output.renderOutput(dataTable, element);\n",
              "          const docLink = document.createElement('div');\n",
              "          docLink.innerHTML = docLinkHtml;\n",
              "          element.appendChild(docLink);\n",
              "        }\n",
              "      </script>\n",
              "    </div>\n",
              "  </div>\n",
              "  "
            ],
            "text/plain": [
              "          Error_Rate       AUC  Precision  Average_Precision    Recall\n",
              "Category                                                              \n",
              "0              0.036  0.946746   0.900000           0.842531  0.918367\n",
              "1              0.012  0.977104   0.979167           0.947201  0.959184\n",
              "2              0.012  0.981250   0.970000           0.946900  0.970000\n",
              "3              0.008  0.987108   0.979167           0.962767  0.979167\n",
              "4              0.008  0.988190   0.981481           0.967306  0.981481"
            ]
          },
          "metadata": {},
          "execution_count": 105
        }
      ],
      "source": [
        "lucem_illud.evaluateClassifier(clf_tree, df_exampleTree_test)"
      ]
    },
    {
      "cell_type": "markdown",
      "metadata": {
        "id": "v-XS4E1zXmB1"
      },
      "source": [
        "Lets look at accuracy:"
      ]
    },
    {
      "cell_type": "code",
      "execution_count": null,
      "metadata": {
        "collapsed": true,
        "id": "MvY04W9-XmB1",
        "colab": {
          "base_uri": "https://localhost:8080/"
        },
        "outputId": "9db7a2a4-1d9c-4715-f89e-0076afb37bb3"
      },
      "outputs": [
        {
          "output_type": "execute_result",
          "data": {
            "text/plain": [
              "0.962"
            ]
          },
          "metadata": {},
          "execution_count": 106
        }
      ],
      "source": [
        "sklearn.metrics.accuracy_score(df_exampleTree_test['category'],clf_tree.predict(np.stack(df_exampleTree_test['vect'], axis = 0)))"
      ]
    },
    {
      "cell_type": "markdown",
      "metadata": {
        "id": "xgWqmECLXmB1"
      },
      "source": [
        "What happens if we trim the tree?"
      ]
    },
    {
      "cell_type": "code",
      "execution_count": null,
      "metadata": {
        "collapsed": true,
        "id": "pTLTbUwOXmB1",
        "colab": {
          "base_uri": "https://localhost:8080/",
          "height": 264
        },
        "outputId": "cf260a98-7718-4f8e-df92-dd0f00e8d08c"
      },
      "outputs": [
        {
          "output_type": "display_data",
          "data": {
            "image/png": "[encoded data removed]",
            "text/plain": [
              "<Figure size 432x288 with 1 Axes>"
            ]
          },
          "metadata": {
            "needs_background": "light"
          }
        }
      ],
      "source": [
        "depthvec = []\n",
        "scorevec = []\n",
        "for i in range(1,20):\n",
        "    tree2 = sklearn.tree.DecisionTreeClassifier(max_depth=i,random_state=0)\n",
        "    tree2.fit(np.stack(df_exampleTree_train['vect'], axis =0), df_exampleTree_train['category'])\n",
        "    score = sklearn.metrics.accuracy_score(df_exampleTree_test['category'], tree2.predict(np.stack(df_exampleTree_test['vect'], axis = 0)))\n",
        "    depthvec.append(i)\n",
        "    scorevec.append(score)\n",
        "plt.scatter(depthvec,scorevec)\n",
        "plt.show()"
      ]
    },
    {
      "cell_type": "markdown",
      "metadata": {
        "id": "vq5LnM_fXmB1"
      },
      "source": [
        "We can select different layers of the decision tree or \"prune\" it. At approximately four layers down in the decision tree, the shape is somewhat odd, suggesting that our model is overfitting beyond those four layers."
      ]
    },
    {
      "cell_type": "markdown",
      "metadata": {
        "id": "xi6sZeS9XmB1"
      },
      "source": [
        "Combining multiple overfitting estimators turns out to be a key idea in machine learning. This is called **bagging** and is a type of **ensemble** method. The idea is to make many randomized estimators--each can overfit, as decision trees are wont to do--but then to combine them, ultimately producing a better classification. A **random forest** is produced by bagging decision trees."
      ]
    },
    {
      "cell_type": "code",
      "execution_count": null,
      "metadata": {
        "collapsed": true,
        "id": "ZcEwzAUlXmB2"
      },
      "outputs": [],
      "source": [
        "tree = sklearn.tree.DecisionTreeClassifier(max_depth=10) #Create an instance of our decision tree classifier.\n",
        "\n",
        "bag = sklearn.ensemble.BaggingClassifier(tree, n_estimators=100, max_samples=0.8, random_state=1) #Each tree uses up to 80% of the data"
      ]
    },
    {
      "cell_type": "code",
      "execution_count": null,
      "metadata": {
        "collapsed": true,
        "id": "I2Mm4WqIXmB2",
        "colab": {
          "base_uri": "https://localhost:8080/"
        },
        "outputId": "15a39b07-90c1-446e-a5f7-a27c7da0f7ce"
      },
      "outputs": [
        {
          "output_type": "execute_result",
          "data": {
            "text/plain": [
              "BaggingClassifier(base_estimator=DecisionTreeClassifier(max_depth=10),\n",
              "                  max_samples=0.8, n_estimators=100, random_state=1)"
            ]
          },
          "metadata": {},
          "execution_count": 109
        }
      ],
      "source": [
        "bag.fit(np.stack(df_exampleTree_train['vect'], axis =0), df_exampleTree_train['category']) #Fit the bagged classifier"
      ]
    },
    {
      "cell_type": "code",
      "execution_count": null,
      "metadata": {
        "collapsed": true,
        "id": "AGKjGZp6XmB2",
        "colab": {
          "base_uri": "https://localhost:8080/",
          "height": 677
        },
        "outputId": "a516aff7-56a2-468d-b94b-1a5e59de831a"
      },
      "outputs": [
        {
          "output_type": "stream",
          "name": "stderr",
          "text": [
            "*c* argument looks like a single numeric RGB or RGBA sequence, which should be avoided as value-mapping will have precedence in case its length matches with *x* & *y*.  Please use the *color* keyword-argument or provide a 2-D array with a single row if you intend to specify the same RGB or RGBA value for all points.\n",
            "*c* argument looks like a single numeric RGB or RGBA sequence, which should be avoided as value-mapping will have precedence in case its length matches with *x* & *y*.  Please use the *color* keyword-argument or provide a 2-D array with a single row if you intend to specify the same RGB or RGBA value for all points.\n",
            "*c* argument looks like a single numeric RGB or RGBA sequence, which should be avoided as value-mapping will have precedence in case its length matches with *x* & *y*.  Please use the *color* keyword-argument or provide a 2-D array with a single row if you intend to specify the same RGB or RGBA value for all points.\n",
            "*c* argument looks like a single numeric RGB or RGBA sequence, which should be avoided as value-mapping will have precedence in case its length matches with *x* & *y*.  Please use the *color* keyword-argument or provide a 2-D array with a single row if you intend to specify the same RGB or RGBA value for all points.\n",
            "*c* argument looks like a single numeric RGB or RGBA sequence, which should be avoided as value-mapping will have precedence in case its length matches with *x* & *y*.  Please use the *color* keyword-argument or provide a 2-D array with a single row if you intend to specify the same RGB or RGBA value for all points.\n"
          ]
        },
        {
          "output_type": "display_data",
          "data": {
            "image/png": "[encoded data removed]",
            "text/plain": [
              "<Figure size 720x720 with 1 Axes>"
            ]
          },
          "metadata": {
            "needs_background": "light"
          }
        }
      ],
      "source": [
        "lucem_illud.plotregions(bag, df_exampleTree_test)"
      ]
    },
    {
      "cell_type": "code",
      "execution_count": null,
      "metadata": {
        "collapsed": true,
        "id": "2qR8MO9fXmB2",
        "colab": {
          "base_uri": "https://localhost:8080/",
          "height": 231
        },
        "outputId": "0284e1e5-b4e2-4738-c0ca-86123fdf97a1"
      },
      "outputs": [
        {
          "output_type": "execute_result",
          "data": {
            "text/html": [
              "\n",
              "  <div id=\"df-b38fa3df-34be-4f64-bd3b-3e9e3ed63eee\">\n",
              "    <div class=\"colab-df-container\">\n",
              "      <div>\n",
              "<style scoped>\n",
              "    .dataframe tbody tr th:only-of-type {\n",
              "        vertical-align: middle;\n",
              "    }\n",
              "\n",
              "    .dataframe tbody tr th {\n",
              "        vertical-align: top;\n",
              "    }\n",
              "\n",
              "    .dataframe thead th {\n",
              "        text-align: right;\n",
              "    }\n",
              "</style>\n",
              "<table border=\"1\" class=\"dataframe\">\n",
              "  <thead>\n",
              "    <tr style=\"text-align: right;\">\n",
              "      <th></th>\n",
              "      <th>Error_Rate</th>\n",
              "      <th>AUC</th>\n",
              "      <th>Precision</th>\n",
              "      <th>Average_Precision</th>\n",
              "      <th>Recall</th>\n",
              "    </tr>\n",
              "    <tr>\n",
              "      <th>Category</th>\n",
              "      <th></th>\n",
              "      <th></th>\n",
              "      <th></th>\n",
              "      <th></th>\n",
              "      <th></th>\n",
              "    </tr>\n",
              "  </thead>\n",
              "  <tbody>\n",
              "    <tr>\n",
              "      <th>0</th>\n",
              "      <td>0.036</td>\n",
              "      <td>0.950604</td>\n",
              "      <td>0.892157</td>\n",
              "      <td>0.842431</td>\n",
              "      <td>0.928571</td>\n",
              "    </tr>\n",
              "    <tr>\n",
              "      <th>1</th>\n",
              "      <td>0.012</td>\n",
              "      <td>0.977104</td>\n",
              "      <td>0.979167</td>\n",
              "      <td>0.947201</td>\n",
              "      <td>0.959184</td>\n",
              "    </tr>\n",
              "    <tr>\n",
              "      <th>2</th>\n",
              "      <td>0.012</td>\n",
              "      <td>0.981250</td>\n",
              "      <td>0.970000</td>\n",
              "      <td>0.946900</td>\n",
              "      <td>0.970000</td>\n",
              "    </tr>\n",
              "    <tr>\n",
              "      <th>3</th>\n",
              "      <td>0.008</td>\n",
              "      <td>0.987108</td>\n",
              "      <td>0.979167</td>\n",
              "      <td>0.962767</td>\n",
              "      <td>0.979167</td>\n",
              "    </tr>\n",
              "    <tr>\n",
              "      <th>4</th>\n",
              "      <td>0.008</td>\n",
              "      <td>0.984836</td>\n",
              "      <td>0.990566</td>\n",
              "      <td>0.969050</td>\n",
              "      <td>0.972222</td>\n",
              "    </tr>\n",
              "  </tbody>\n",
              "</table>\n",
              "</div>\n",
              "      <button class=\"colab-df-convert\" onclick=\"convertToInteractive('df-b38fa3df-34be-4f64-bd3b-3e9e3ed63eee')\"\n",
              "              title=\"Convert this dataframe to an interactive table.\"\n",
              "              style=\"display:none;\">\n",
              "        \n",
              "  <svg xmlns=\"http://www.w3.org/2000/svg\" height=\"24px\"viewBox=\"0 0 24 24\"\n",
              "       width=\"24px\">\n",
              "    <path d=\"M0 0h24v24H0V0z\" fill=\"none\"/>\n",
              "    <path d=\"M18.56 5.44l.94 2.06.94-2.06 2.06-.94-2.06-.94-.94-2.06-.94 2.06-2.06.94zm-11 1L8.5 8.5l.94-2.06 2.06-.94-2.06-.94L8.5 2.5l-.94 2.06-2.06.94zm10 10l.94 2.06.94-2.06 2.06-.94-2.06-.94-.94-2.06-.94 2.06-2.06.94z\"/><path d=\"M17.41 7.96l-1.37-1.37c-.4-.4-.92-.59-1.43-.59-.52 0-1.04.2-1.43.59L10.3 9.45l-7.72 7.72c-.78.78-.78 2.05 0 2.83L4 21.41c.39.39.9.59 1.41.59.51 0 1.02-.2 1.41-.59l7.78-7.78 2.81-2.81c.8-.78.8-2.07 0-2.86zM5.41 20L4 18.59l7.72-7.72 1.47 1.35L5.41 20z\"/>\n",
              "  </svg>\n",
              "      </button>\n",
              "      \n",
              "  <style>\n",
              "    .colab-df-container {\n",
              "      display:flex;\n",
              "      flex-wrap:wrap;\n",
              "      gap: 12px;\n",
              "    }\n",
              "\n",
              "    .colab-df-convert {\n",
              "      background-color: #E8F0FE;\n",
              "      border: none;\n",
              "      border-radius: 50%;\n",
              "      cursor: pointer;\n",
              "      display: none;\n",
              "      fill: #1967D2;\n",
              "      height: 32px;\n",
              "      padding: 0 0 0 0;\n",
              "      width: 32px;\n",
              "    }\n",
              "\n",
              "    .colab-df-convert:hover {\n",
              "      background-color: #E2EBFA;\n",
              "      box-shadow: 0px 1px 2px rgba(60, 64, 67, 0.3), 0px 1px 3px 1px rgba(60, 64, 67, 0.15);\n",
              "      fill: #174EA6;\n",
              "    }\n",
              "\n",
              "    [theme=dark] .colab-df-convert {\n",
              "      background-color: #3B4455;\n",
              "      fill: #D2E3FC;\n",
              "    }\n",
              "\n",
              "    [theme=dark] .colab-df-convert:hover {\n",
              "      background-color: #434B5C;\n",
              "      box-shadow: 0px 1px 3px 1px rgba(0, 0, 0, 0.15);\n",
              "      filter: drop-shadow(0px 1px 2px rgba(0, 0, 0, 0.3));\n",
              "      fill: #FFFFFF;\n",
              "    }\n",
              "  </style>\n",
              "\n",
              "      <script>\n",
              "        const buttonEl =\n",
              "          document.querySelector('#df-b38fa3df-34be-4f64-bd3b-3e9e3ed63eee button.colab-df-convert');\n",
              "        buttonEl.style.display =\n",
              "          google.colab.kernel.accessAllowed ? 'block' : 'none';\n",
              "\n",
              "        async function convertToInteractive(key) {\n",
              "          const element = document.querySelector('#df-b38fa3df-34be-4f64-bd3b-3e9e3ed63eee');\n",
              "          const dataTable =\n",
              "            await google.colab.kernel.invokeFunction('convertToInteractive',\n",
              "                                                     [key], {});\n",
              "          if (!dataTable) return;\n",
              "\n",
              "          const docLinkHtml = 'Like what you see? Visit the ' +\n",
              "            '<a target=\"_blank\" href=https://colab.research.google.com/notebooks/data_table.ipynb>data table notebook</a>'\n",
              "            + ' to learn more about interactive tables.';\n",
              "          element.innerHTML = '';\n",
              "          dataTable['output_type'] = 'display_data';\n",
              "          await google.colab.output.renderOutput(dataTable, element);\n",
              "          const docLink = document.createElement('div');\n",
              "          docLink.innerHTML = docLinkHtml;\n",
              "          element.appendChild(docLink);\n",
              "        }\n",
              "      </script>\n",
              "    </div>\n",
              "  </div>\n",
              "  "
            ],
            "text/plain": [
              "          Error_Rate       AUC  Precision  Average_Precision    Recall\n",
              "Category                                                              \n",
              "0              0.036  0.950604   0.892157           0.842431  0.928571\n",
              "1              0.012  0.977104   0.979167           0.947201  0.959184\n",
              "2              0.012  0.981250   0.970000           0.946900  0.970000\n",
              "3              0.008  0.987108   0.979167           0.962767  0.979167\n",
              "4              0.008  0.984836   0.990566           0.969050  0.972222"
            ]
          },
          "metadata": {},
          "execution_count": 111
        }
      ],
      "source": [
        "lucem_illud.evaluateClassifier(bag, df_exampleTree_test)"
      ]
    },
    {
      "cell_type": "code",
      "execution_count": null,
      "metadata": {
        "collapsed": true,
        "id": "MYH_Ek0qXmB2",
        "colab": {
          "base_uri": "https://localhost:8080/",
          "height": 295
        },
        "outputId": "01437421-b503-46ed-a019-314bde8e4609"
      },
      "outputs": [
        {
          "output_type": "display_data",
          "data": {
            "image/png": "[encoded data removed]",
            "text/plain": [
              "<Figure size 432x288 with 1 Axes>"
            ]
          },
          "metadata": {
            "needs_background": "light"
          }
        }
      ],
      "source": [
        "lucem_illud.plotConfusionMatrix(bag, df_exampleTree_test)"
      ]
    },
    {
      "cell_type": "markdown",
      "metadata": {
        "id": "OVPyvoT-XmB2"
      },
      "source": [
        "## <font color=\"red\">*Exercise 4*</font>\n",
        "\n",
        "<font color=\"red\">In the cells immediately following, perform decision tree and random forest classification (binary, multinomial or continuous) using training, testing and extrapolation (uncoded) data from texts and hand-classifications associated with your final project. As with ***Exercise 2***, these could be crowd-sourced codes gathered through Amazon Mechanical Turk last week. Visualize the classification of data points. Calculate relevant metrics (e.g., precision, recall, the F-measure, and AUC). Now build an ensemble classifier by bagging trees into a random forest. Visualize the result. How do these classifiers perform? What does ensemble learning do?"
      ]
    },
    {
      "cell_type": "code",
      "source": [
        "clf_tree = sklearn.tree.DecisionTreeClassifier(max_depth=4,random_state=0)\n",
        "clf_tree.fit(np.stack(train_data_df['vect'], axis =0), train_data_df['label'])\n",
        "\n",
        "#though I was not able to convert the data for my final project in a format that could work with supervised learning methods\n",
        "#I took a try at answering this question and writing out what code I would use to analyze it with decision tree and random forest models"
      ],
      "metadata": {
        "colab": {
          "base_uri": "https://localhost:8080/",
          "height": 480
        },
        "id": "Y_H1KNK8I4cP",
        "outputId": "5bd5139b-3154-441a-c311-805b3ef2974e"
      },
      "execution_count": null,
      "outputs": [
        {
          "output_type": "error",
          "ename": "KeyError",
          "evalue": "ignored",
          "traceback": [
            "\u001b[0;31m---------------------------------------------------------------------------\u001b[0m",
            "\u001b[0;31mKeyError\u001b[0m                                  Traceback (most recent call last)",
            "\u001b[0;32m/usr/local/lib/python3.7/dist-packages/pandas/core/indexes/base.py\u001b[0m in \u001b[0;36mget_loc\u001b[0;34m(self, key, method, tolerance)\u001b[0m\n\u001b[1;32m   3360\u001b[0m             \u001b[0;32mtry\u001b[0m\u001b[0;34m:\u001b[0m\u001b[0;34m\u001b[0m\u001b[0;34m\u001b[0m\u001b[0m\n\u001b[0;32m-> 3361\u001b[0;31m                 \u001b[0;32mreturn\u001b[0m \u001b[0mself\u001b[0m\u001b[0;34m.\u001b[0m\u001b[0m_engine\u001b[0m\u001b[0;34m.\u001b[0m\u001b[0mget_loc\u001b[0m\u001b[0;34m(\u001b[0m\u001b[0mcasted_key\u001b[0m\u001b[0;34m)\u001b[0m\u001b[0;34m\u001b[0m\u001b[0;34m\u001b[0m\u001b[0m\n\u001b[0m\u001b[1;32m   3362\u001b[0m             \u001b[0;32mexcept\u001b[0m \u001b[0mKeyError\u001b[0m \u001b[0;32mas\u001b[0m \u001b[0merr\u001b[0m\u001b[0;34m:\u001b[0m\u001b[0;34m\u001b[0m\u001b[0;34m\u001b[0m\u001b[0m\n",
            "\u001b[0;32m/usr/local/lib/python3.7/dist-packages/pandas/_libs/index.pyx\u001b[0m in \u001b[0;36mpandas._libs.index.IndexEngine.get_loc\u001b[0;34m()\u001b[0m\n",
            "\u001b[0;32m/usr/local/lib/python3.7/dist-packages/pandas/_libs/index.pyx\u001b[0m in \u001b[0;36mpandas._libs.index.IndexEngine.get_loc\u001b[0;34m()\u001b[0m\n",
            "\u001b[0;32mpandas/_libs/hashtable_class_helper.pxi\u001b[0m in \u001b[0;36mpandas._libs.hashtable.PyObjectHashTable.get_item\u001b[0;34m()\u001b[0m\n",
            "\u001b[0;32mpandas/_libs/hashtable_class_helper.pxi\u001b[0m in \u001b[0;36mpandas._libs.hashtable.PyObjectHashTable.get_item\u001b[0;34m()\u001b[0m\n",
            "\u001b[0;31mKeyError\u001b[0m: 'vect'",
            "\nThe above exception was the direct cause of the following exception:\n",
            "\u001b[0;31mKeyError\u001b[0m                                  Traceback (most recent call last)",
            "\u001b[0;32m<ipython-input-114-8437b6085f79>\u001b[0m in \u001b[0;36m<module>\u001b[0;34m()\u001b[0m\n\u001b[1;32m      1\u001b[0m \u001b[0mclf_tree\u001b[0m \u001b[0;34m=\u001b[0m \u001b[0msklearn\u001b[0m\u001b[0;34m.\u001b[0m\u001b[0mtree\u001b[0m\u001b[0;34m.\u001b[0m\u001b[0mDecisionTreeClassifier\u001b[0m\u001b[0;34m(\u001b[0m\u001b[0mmax_depth\u001b[0m\u001b[0;34m=\u001b[0m\u001b[0;36m4\u001b[0m\u001b[0;34m,\u001b[0m\u001b[0mrandom_state\u001b[0m\u001b[0;34m=\u001b[0m\u001b[0;36m0\u001b[0m\u001b[0;34m)\u001b[0m\u001b[0;34m\u001b[0m\u001b[0;34m\u001b[0m\u001b[0m\n\u001b[0;32m----> 2\u001b[0;31m \u001b[0mclf_tree\u001b[0m\u001b[0;34m.\u001b[0m\u001b[0mfit\u001b[0m\u001b[0;34m(\u001b[0m\u001b[0mnp\u001b[0m\u001b[0;34m.\u001b[0m\u001b[0mstack\u001b[0m\u001b[0;34m(\u001b[0m\u001b[0mtrain_data_df\u001b[0m\u001b[0;34m[\u001b[0m\u001b[0;34m'vect'\u001b[0m\u001b[0;34m]\u001b[0m\u001b[0;34m,\u001b[0m \u001b[0maxis\u001b[0m \u001b[0;34m=\u001b[0m\u001b[0;36m0\u001b[0m\u001b[0;34m)\u001b[0m\u001b[0;34m,\u001b[0m \u001b[0mtrain_data_df\u001b[0m\u001b[0;34m[\u001b[0m\u001b[0;34m'label'\u001b[0m\u001b[0;34m]\u001b[0m\u001b[0;34m)\u001b[0m\u001b[0;34m\u001b[0m\u001b[0;34m\u001b[0m\u001b[0m\n\u001b[0m\u001b[1;32m      3\u001b[0m \u001b[0;34m\u001b[0m\u001b[0m\n\u001b[1;32m      4\u001b[0m \u001b[0;31m#though I was not able to convert the data for my final project in a format that could work with supervised learning methods\u001b[0m\u001b[0;34m\u001b[0m\u001b[0;34m\u001b[0m\u001b[0;34m\u001b[0m\u001b[0m\n\u001b[1;32m      5\u001b[0m \u001b[0;31m#I took a try at answering this question and writing out what code I would use to analyze it with decision tree and random forest models\u001b[0m\u001b[0;34m\u001b[0m\u001b[0;34m\u001b[0m\u001b[0;34m\u001b[0m\u001b[0m\n",
            "\u001b[0;32m/usr/local/lib/python3.7/dist-packages/pandas/core/frame.py\u001b[0m in \u001b[0;36m__getitem__\u001b[0;34m(self, key)\u001b[0m\n\u001b[1;32m   3456\u001b[0m             \u001b[0;32mif\u001b[0m \u001b[0mself\u001b[0m\u001b[0;34m.\u001b[0m\u001b[0mcolumns\u001b[0m\u001b[0;34m.\u001b[0m\u001b[0mnlevels\u001b[0m \u001b[0;34m>\u001b[0m \u001b[0;36m1\u001b[0m\u001b[0;34m:\u001b[0m\u001b[0;34m\u001b[0m\u001b[0;34m\u001b[0m\u001b[0m\n\u001b[1;32m   3457\u001b[0m                 \u001b[0;32mreturn\u001b[0m \u001b[0mself\u001b[0m\u001b[0;34m.\u001b[0m\u001b[0m_getitem_multilevel\u001b[0m\u001b[0;34m(\u001b[0m\u001b[0mkey\u001b[0m\u001b[0;34m)\u001b[0m\u001b[0;34m\u001b[0m\u001b[0;34m\u001b[0m\u001b[0m\n\u001b[0;32m-> 3458\u001b[0;31m             \u001b[0mindexer\u001b[0m \u001b[0;34m=\u001b[0m \u001b[0mself\u001b[0m\u001b[0;34m.\u001b[0m\u001b[0mcolumns\u001b[0m\u001b[0;34m.\u001b[0m\u001b[0mget_loc\u001b[0m\u001b[0;34m(\u001b[0m\u001b[0mkey\u001b[0m\u001b[0;34m)\u001b[0m\u001b[0;34m\u001b[0m\u001b[0;34m\u001b[0m\u001b[0m\n\u001b[0m\u001b[1;32m   3459\u001b[0m             \u001b[0;32mif\u001b[0m \u001b[0mis_integer\u001b[0m\u001b[0;34m(\u001b[0m\u001b[0mindexer\u001b[0m\u001b[0;34m)\u001b[0m\u001b[0;34m:\u001b[0m\u001b[0;34m\u001b[0m\u001b[0;34m\u001b[0m\u001b[0m\n\u001b[1;32m   3460\u001b[0m                 \u001b[0mindexer\u001b[0m \u001b[0;34m=\u001b[0m \u001b[0;34m[\u001b[0m\u001b[0mindexer\u001b[0m\u001b[0;34m]\u001b[0m\u001b[0;34m\u001b[0m\u001b[0;34m\u001b[0m\u001b[0m\n",
            "\u001b[0;32m/usr/local/lib/python3.7/dist-packages/pandas/core/indexes/base.py\u001b[0m in \u001b[0;36mget_loc\u001b[0;34m(self, key, method, tolerance)\u001b[0m\n\u001b[1;32m   3361\u001b[0m                 \u001b[0;32mreturn\u001b[0m \u001b[0mself\u001b[0m\u001b[0;34m.\u001b[0m\u001b[0m_engine\u001b[0m\u001b[0;34m.\u001b[0m\u001b[0mget_loc\u001b[0m\u001b[0;34m(\u001b[0m\u001b[0mcasted_key\u001b[0m\u001b[0;34m)\u001b[0m\u001b[0;34m\u001b[0m\u001b[0;34m\u001b[0m\u001b[0m\n\u001b[1;32m   3362\u001b[0m             \u001b[0;32mexcept\u001b[0m \u001b[0mKeyError\u001b[0m \u001b[0;32mas\u001b[0m \u001b[0merr\u001b[0m\u001b[0;34m:\u001b[0m\u001b[0;34m\u001b[0m\u001b[0;34m\u001b[0m\u001b[0m\n\u001b[0;32m-> 3363\u001b[0;31m                 \u001b[0;32mraise\u001b[0m \u001b[0mKeyError\u001b[0m\u001b[0;34m(\u001b[0m\u001b[0mkey\u001b[0m\u001b[0;34m)\u001b[0m \u001b[0;32mfrom\u001b[0m \u001b[0merr\u001b[0m\u001b[0;34m\u001b[0m\u001b[0;34m\u001b[0m\u001b[0m\n\u001b[0m\u001b[1;32m   3364\u001b[0m \u001b[0;34m\u001b[0m\u001b[0m\n\u001b[1;32m   3365\u001b[0m         \u001b[0;32mif\u001b[0m \u001b[0mis_scalar\u001b[0m\u001b[0;34m(\u001b[0m\u001b[0mkey\u001b[0m\u001b[0;34m)\u001b[0m \u001b[0;32mand\u001b[0m \u001b[0misna\u001b[0m\u001b[0;34m(\u001b[0m\u001b[0mkey\u001b[0m\u001b[0;34m)\u001b[0m \u001b[0;32mand\u001b[0m \u001b[0;32mnot\u001b[0m \u001b[0mself\u001b[0m\u001b[0;34m.\u001b[0m\u001b[0mhasnans\u001b[0m\u001b[0;34m:\u001b[0m\u001b[0;34m\u001b[0m\u001b[0;34m\u001b[0m\u001b[0m\n",
            "\u001b[0;31mKeyError\u001b[0m: 'vect'"
          ]
        }
      ]
    },
    {
      "cell_type": "code",
      "source": [
        "#tree plot\n",
        "lucem_illud.plotregions(clf_tree, train_data_df)\n",
        "\n",
        "#evaluating decisino tree model\n",
        "lucem_illud.evaluateClassifier(clf_tree, test_data_df)\n",
        "sklearn.metrics.accuracy_score(test_data_df['label'],clf_tree.predict(np.stack(test_data_df['vect'], axis = 0)))"
      ],
      "metadata": {
        "id": "a7jeZx1qJr3y"
      },
      "execution_count": null,
      "outputs": []
    },
    {
      "cell_type": "code",
      "source": [
        "depthvec = []\n",
        "scorevec = []\n",
        "for i in range(1,20):\n",
        "    tree2 = sklearn.tree.DecisionTreeClassifier(max_depth=i,random_state=0)\n",
        "    tree2.fit(np.stack(train_data_df['vect'], axis =0), train_data_df['label'])\n",
        "    score = sklearn.metrics.accuracy_score(test_data_df['label'], tree2.predict(np.stack(test_data_df['vect'], axis = 0)))\n",
        "    depthvec.append(i)\n",
        "    scorevec.append(score)\n",
        "plt.scatter(depthvec,scorevec)\n",
        "plt.show()"
      ],
      "metadata": {
        "id": "zC5VFPNLKQLd"
      },
      "execution_count": null,
      "outputs": []
    },
    {
      "cell_type": "code",
      "source": [
        "tree = sklearn.tree.DecisionTreeClassifier(max_depth=5)\n",
        "\n",
        "#bagging decision trees together for random forest, where each tree uses up to 70% of the data\n",
        "bag = sklearn.ensemble.BaggingClassifier(tree, n_estimators=100, max_samples=0.7, random_state=1)\n",
        "\n",
        "#fit the bagged classifier\n",
        "bag.fit(np.stack(train_data_df['vect'], axis =0), train_data_df['label'])\n",
        "\n",
        "#plot the random forest model\n",
        "lucem_illud.plotregions(bag, test_data_df)\n",
        "\n",
        "#evaluate random forest model\n",
        "lucem_illud.evaluateClassifier(bag, test_data_df)\n",
        "\n",
        "#using confusion matrix\n",
        "lucem_illud.plotConfusionMatrix(bag, test_data_df)\n",
        "\n",
        "#what is accuracy?\n",
        "lucem_illud.plotMultiROC(bag, test_data_df)"
      ],
      "metadata": {
        "id": "zel3Q9zdKhML"
      },
      "execution_count": null,
      "outputs": []
    },
    {
      "cell_type": "markdown",
      "metadata": {
        "collapsed": true,
        "id": "V_J_vJt8XmB2"
      },
      "source": [
        "# K-Nearest Neighbors"
      ]
    },
    {
      "cell_type": "markdown",
      "metadata": {
        "id": "YT46bhRkXmB2"
      },
      "source": [
        "The K-Nearest neighbors classifier takes a simpler premise than those before: Find the closest labeled datapoint in set and \"borrow\" its label.\n",
        "\n",
        "Let's use newsgroup data again."
      ]
    },
    {
      "cell_type": "code",
      "source": [
        "newsgroupsDF[:5]"
      ],
      "metadata": {
        "id": "bHPyVME_Lzxk"
      },
      "execution_count": null,
      "outputs": []
    },
    {
      "cell_type": "markdown",
      "metadata": {
        "id": "UFL-OQ0iXmB3"
      },
      "source": [
        "Make a testing and training set:"
      ]
    },
    {
      "cell_type": "code",
      "execution_count": null,
      "metadata": {
        "collapsed": true,
        "id": "7_dCr1X6XmB3"
      },
      "outputs": [],
      "source": [
        "holdBackFraction = .2\n",
        "train_ng_df, test_ng_df = sklearn.model_selection.train_test_split(newsgroupsDF, test_size=holdBackFraction)"
      ]
    },
    {
      "cell_type": "markdown",
      "metadata": {
        "id": "oQUnOFoYXmB3"
      },
      "source": [
        "Let's initialize our k-nearest neighbors classifier:"
      ]
    },
    {
      "cell_type": "code",
      "execution_count": null,
      "metadata": {
        "collapsed": true,
        "id": "fpslDWksXmB3"
      },
      "outputs": [],
      "source": [
        "n_neighbors = 15\n",
        "weights=\"uniform\"\n",
        "clf_knearest = sklearn.neighbors.KNeighborsClassifier(n_neighbors, weights=weights)"
      ]
    },
    {
      "cell_type": "markdown",
      "metadata": {
        "id": "M3yA6xdIXmB3"
      },
      "source": [
        "Let's try to classify using the TF-IDF vectors:"
      ]
    },
    {
      "cell_type": "code",
      "execution_count": null,
      "metadata": {
        "collapsed": true,
        "id": "paGr6-hdXmB3"
      },
      "outputs": [],
      "source": [
        "TFVectorizer_ng = sklearn.feature_extraction.text.TfidfVectorizer(max_df=100, min_df=2, stop_words='english', norm='l2')\n",
        "TFVects_ng = TFVectorizer_ng.fit_transform(train_ng_df['text'])\n",
        "train_ng_df['vect'] = [np.array(v).flatten() for v in TFVects_ng.todense()]"
      ]
    },
    {
      "cell_type": "code",
      "execution_count": null,
      "metadata": {
        "collapsed": true,
        "id": "mvojXVOPXmB3"
      },
      "outputs": [],
      "source": [
        "clf_knearest.fit(np.stack(train_ng_df['vect'], axis = 0), train_ng_df['category'])"
      ]
    },
    {
      "cell_type": "code",
      "execution_count": null,
      "metadata": {
        "collapsed": true,
        "id": "aiDA0lQXXmB3"
      },
      "outputs": [],
      "source": [
        "lucem_illud.evaluateClassifier(clf_knearest, train_ng_df)"
      ]
    },
    {
      "cell_type": "markdown",
      "metadata": {
        "id": "OoXL5wGVXmB4"
      },
      "source": [
        "And lets look at the testing data"
      ]
    },
    {
      "cell_type": "code",
      "execution_count": null,
      "metadata": {
        "collapsed": true,
        "id": "rVFL7XhVXmB4"
      },
      "outputs": [],
      "source": [
        "#Create vectors\n",
        "TFVects_test = TFVectorizer_ng.transform(test_ng_df['text'])\n",
        "test_ng_df['vect'] = [np.array(v).flatten() for v in TFVects_test.todense()]\n",
        "\n",
        "#Add to df\n",
        "test_ng_df['nb_predict'] = clf_knearest.predict(np.stack(test_ng_df['vect'], axis=0))\n",
        "\n",
        "#Test\n",
        "print(\"Testing score:\")\n",
        "print(clf_knearest.score(np.stack(test_ng_df['vect'], axis=0), test_ng_df['category']))"
      ]
    },
    {
      "cell_type": "markdown",
      "metadata": {
        "id": "PlX_GdjEXmB4"
      },
      "source": [
        "Let's produce another confusion matrix:"
      ]
    },
    {
      "cell_type": "code",
      "execution_count": null,
      "metadata": {
        "collapsed": true,
        "id": "xS8IhWPCXmB4"
      },
      "outputs": [],
      "source": [
        "lucem_illud.plotConfusionMatrix(clf_knearest, test_ng_df)"
      ]
    },
    {
      "cell_type": "markdown",
      "metadata": {
        "id": "O6axlivQXmB4"
      },
      "source": [
        "You can produce the PCA space visual if you want, altough it can take a very long time, so we'll leave it optionally commented out:"
      ]
    },
    {
      "cell_type": "code",
      "execution_count": null,
      "metadata": {
        "collapsed": true,
        "id": "0uDPBtM0XmB4"
      },
      "outputs": [],
      "source": [
        "#lucem_illud.plotregions(clf_knearest, test_ng_df)"
      ]
    },
    {
      "cell_type": "markdown",
      "metadata": {
        "id": "kEgtfGG_XmB4"
      },
      "source": [
        "## <font color=\"red\">*Exercise 5*</font>\n",
        "\n",
        "<font color=\"red\">In the cells immediately following, perform and visualize k-nearest neighbor classification using training, testing and extrapolation (uncoded) data from texts and hand-classifications associated with your final project. Visualize the classification of data points and calculate relevant metrics (e.g., precision, recall, the F-measure, and AUC). Articulate how the *k*-nearest neighbor approach relates to *k*-means clustering explored in ***week 3***?"
      ]
    },
    {
      "cell_type": "code",
      "source": [
        "#Similarly as Exercise 4, though I was not able to convert the data for my final project in a format that could work with supervised learning methods\n",
        "#I took a try at answering this question and writing out what code I would use to analyze it with decision tree and random forest models"
      ],
      "metadata": {
        "id": "aBbxVYYqL1V5"
      },
      "execution_count": null,
      "outputs": []
    },
    {
      "cell_type": "code",
      "execution_count": null,
      "metadata": {
        "collapsed": true,
        "id": "i_wrYS88L9V9"
      },
      "outputs": [],
      "source": [
        "n_neighbors = 15\n",
        "weights=\"uniform\"\n",
        "clf_knearest = sklearn.neighbors.KNeighborsClassifier(n_neighbors, weights=weights)"
      ]
    },
    {
      "cell_type": "code",
      "execution_count": null,
      "metadata": {
        "collapsed": true,
        "colab": {
          "base_uri": "https://localhost:8080/",
          "height": 480
        },
        "id": "YnPyn4ZJL9V9",
        "outputId": "feb9cb05-c3c9-4bdd-c7fc-274549e6ca54"
      },
      "outputs": [
        {
          "output_type": "error",
          "ename": "KeyError",
          "evalue": "ignored",
          "traceback": [
            "\u001b[0;31m---------------------------------------------------------------------------\u001b[0m",
            "\u001b[0;31mKeyError\u001b[0m                                  Traceback (most recent call last)",
            "\u001b[0;32m/usr/local/lib/python3.7/dist-packages/pandas/core/indexes/base.py\u001b[0m in \u001b[0;36mget_loc\u001b[0;34m(self, key, method, tolerance)\u001b[0m\n\u001b[1;32m   3360\u001b[0m             \u001b[0;32mtry\u001b[0m\u001b[0;34m:\u001b[0m\u001b[0;34m\u001b[0m\u001b[0;34m\u001b[0m\u001b[0m\n\u001b[0;32m-> 3361\u001b[0;31m                 \u001b[0;32mreturn\u001b[0m \u001b[0mself\u001b[0m\u001b[0;34m.\u001b[0m\u001b[0m_engine\u001b[0m\u001b[0;34m.\u001b[0m\u001b[0mget_loc\u001b[0m\u001b[0;34m(\u001b[0m\u001b[0mcasted_key\u001b[0m\u001b[0;34m)\u001b[0m\u001b[0;34m\u001b[0m\u001b[0;34m\u001b[0m\u001b[0m\n\u001b[0m\u001b[1;32m   3362\u001b[0m             \u001b[0;32mexcept\u001b[0m \u001b[0mKeyError\u001b[0m \u001b[0;32mas\u001b[0m \u001b[0merr\u001b[0m\u001b[0;34m:\u001b[0m\u001b[0;34m\u001b[0m\u001b[0;34m\u001b[0m\u001b[0m\n",
            "\u001b[0;32m/usr/local/lib/python3.7/dist-packages/pandas/_libs/index.pyx\u001b[0m in \u001b[0;36mpandas._libs.index.IndexEngine.get_loc\u001b[0;34m()\u001b[0m\n",
            "\u001b[0;32m/usr/local/lib/python3.7/dist-packages/pandas/_libs/index.pyx\u001b[0m in \u001b[0;36mpandas._libs.index.IndexEngine.get_loc\u001b[0;34m()\u001b[0m\n",
            "\u001b[0;32mpandas/_libs/hashtable_class_helper.pxi\u001b[0m in \u001b[0;36mpandas._libs.hashtable.PyObjectHashTable.get_item\u001b[0;34m()\u001b[0m\n",
            "\u001b[0;32mpandas/_libs/hashtable_class_helper.pxi\u001b[0m in \u001b[0;36mpandas._libs.hashtable.PyObjectHashTable.get_item\u001b[0;34m()\u001b[0m\n",
            "\u001b[0;31mKeyError\u001b[0m: 'vect'",
            "\nThe above exception was the direct cause of the following exception:\n",
            "\u001b[0;31mKeyError\u001b[0m                                  Traceback (most recent call last)",
            "\u001b[0;32m<ipython-input-118-532da822c697>\u001b[0m in \u001b[0;36m<module>\u001b[0;34m()\u001b[0m\n\u001b[0;32m----> 1\u001b[0;31m \u001b[0mclf_knearest\u001b[0m\u001b[0;34m.\u001b[0m\u001b[0mfit\u001b[0m\u001b[0;34m(\u001b[0m\u001b[0mnp\u001b[0m\u001b[0;34m.\u001b[0m\u001b[0mstack\u001b[0m\u001b[0;34m(\u001b[0m\u001b[0mtrain_data_df\u001b[0m\u001b[0;34m[\u001b[0m\u001b[0;34m'vect'\u001b[0m\u001b[0;34m]\u001b[0m\u001b[0;34m,\u001b[0m \u001b[0maxis\u001b[0m \u001b[0;34m=\u001b[0m \u001b[0;36m0\u001b[0m\u001b[0;34m)\u001b[0m\u001b[0;34m,\u001b[0m \u001b[0mtrain_data_df\u001b[0m\u001b[0;34m[\u001b[0m\u001b[0;34m'label'\u001b[0m\u001b[0;34m]\u001b[0m\u001b[0;34m)\u001b[0m\u001b[0;34m\u001b[0m\u001b[0;34m\u001b[0m\u001b[0m\n\u001b[0m",
            "\u001b[0;32m/usr/local/lib/python3.7/dist-packages/pandas/core/frame.py\u001b[0m in \u001b[0;36m__getitem__\u001b[0;34m(self, key)\u001b[0m\n\u001b[1;32m   3456\u001b[0m             \u001b[0;32mif\u001b[0m \u001b[0mself\u001b[0m\u001b[0;34m.\u001b[0m\u001b[0mcolumns\u001b[0m\u001b[0;34m.\u001b[0m\u001b[0mnlevels\u001b[0m \u001b[0;34m>\u001b[0m \u001b[0;36m1\u001b[0m\u001b[0;34m:\u001b[0m\u001b[0;34m\u001b[0m\u001b[0;34m\u001b[0m\u001b[0m\n\u001b[1;32m   3457\u001b[0m                 \u001b[0;32mreturn\u001b[0m \u001b[0mself\u001b[0m\u001b[0;34m.\u001b[0m\u001b[0m_getitem_multilevel\u001b[0m\u001b[0;34m(\u001b[0m\u001b[0mkey\u001b[0m\u001b[0;34m)\u001b[0m\u001b[0;34m\u001b[0m\u001b[0;34m\u001b[0m\u001b[0m\n\u001b[0;32m-> 3458\u001b[0;31m             \u001b[0mindexer\u001b[0m \u001b[0;34m=\u001b[0m \u001b[0mself\u001b[0m\u001b[0;34m.\u001b[0m\u001b[0mcolumns\u001b[0m\u001b[0;34m.\u001b[0m\u001b[0mget_loc\u001b[0m\u001b[0;34m(\u001b[0m\u001b[0mkey\u001b[0m\u001b[0;34m)\u001b[0m\u001b[0;34m\u001b[0m\u001b[0;34m\u001b[0m\u001b[0m\n\u001b[0m\u001b[1;32m   3459\u001b[0m             \u001b[0;32mif\u001b[0m \u001b[0mis_integer\u001b[0m\u001b[0;34m(\u001b[0m\u001b[0mindexer\u001b[0m\u001b[0;34m)\u001b[0m\u001b[0;34m:\u001b[0m\u001b[0;34m\u001b[0m\u001b[0;34m\u001b[0m\u001b[0m\n\u001b[1;32m   3460\u001b[0m                 \u001b[0mindexer\u001b[0m \u001b[0;34m=\u001b[0m \u001b[0;34m[\u001b[0m\u001b[0mindexer\u001b[0m\u001b[0;34m]\u001b[0m\u001b[0;34m\u001b[0m\u001b[0;34m\u001b[0m\u001b[0m\n",
            "\u001b[0;32m/usr/local/lib/python3.7/dist-packages/pandas/core/indexes/base.py\u001b[0m in \u001b[0;36mget_loc\u001b[0;34m(self, key, method, tolerance)\u001b[0m\n\u001b[1;32m   3361\u001b[0m                 \u001b[0;32mreturn\u001b[0m \u001b[0mself\u001b[0m\u001b[0;34m.\u001b[0m\u001b[0m_engine\u001b[0m\u001b[0;34m.\u001b[0m\u001b[0mget_loc\u001b[0m\u001b[0;34m(\u001b[0m\u001b[0mcasted_key\u001b[0m\u001b[0;34m)\u001b[0m\u001b[0;34m\u001b[0m\u001b[0;34m\u001b[0m\u001b[0m\n\u001b[1;32m   3362\u001b[0m             \u001b[0;32mexcept\u001b[0m \u001b[0mKeyError\u001b[0m \u001b[0;32mas\u001b[0m \u001b[0merr\u001b[0m\u001b[0;34m:\u001b[0m\u001b[0;34m\u001b[0m\u001b[0;34m\u001b[0m\u001b[0m\n\u001b[0;32m-> 3363\u001b[0;31m                 \u001b[0;32mraise\u001b[0m \u001b[0mKeyError\u001b[0m\u001b[0;34m(\u001b[0m\u001b[0mkey\u001b[0m\u001b[0;34m)\u001b[0m \u001b[0;32mfrom\u001b[0m \u001b[0merr\u001b[0m\u001b[0;34m\u001b[0m\u001b[0;34m\u001b[0m\u001b[0m\n\u001b[0m\u001b[1;32m   3364\u001b[0m \u001b[0;34m\u001b[0m\u001b[0m\n\u001b[1;32m   3365\u001b[0m         \u001b[0;32mif\u001b[0m \u001b[0mis_scalar\u001b[0m\u001b[0;34m(\u001b[0m\u001b[0mkey\u001b[0m\u001b[0;34m)\u001b[0m \u001b[0;32mand\u001b[0m \u001b[0misna\u001b[0m\u001b[0;34m(\u001b[0m\u001b[0mkey\u001b[0m\u001b[0;34m)\u001b[0m \u001b[0;32mand\u001b[0m \u001b[0;32mnot\u001b[0m \u001b[0mself\u001b[0m\u001b[0;34m.\u001b[0m\u001b[0mhasnans\u001b[0m\u001b[0;34m:\u001b[0m\u001b[0;34m\u001b[0m\u001b[0;34m\u001b[0m\u001b[0m\n",
            "\u001b[0;31mKeyError\u001b[0m: 'vect'"
          ]
        }
      ],
      "source": [
        "clf_knearest.fit(np.stack(train_data_df['vect'], axis = 0), train_data_df['label'])"
      ]
    },
    {
      "cell_type": "code",
      "execution_count": null,
      "metadata": {
        "collapsed": true,
        "id": "_5F8W4kkL9V9"
      },
      "outputs": [],
      "source": [
        "#evaluating K nearest neighbors classifier\n",
        "lucem_illud.evaluateClassifier(clf_knearest, train_data_df)\n",
        "\n",
        "#using confusion matrix\n",
        "lucem_illud.plotConfusionMatrix(clf_knearest, test_data_df)\n",
        "\n",
        "#what is accuracy?\n",
        "lucem_illud.plotMultiROC(clf_knearest, test_data_df)"
      ]
    },
    {
      "cell_type": "markdown",
      "metadata": {
        "collapsed": true,
        "id": "RpRFn6EGXmB4"
      },
      "source": [
        "# SVMs\n",
        "\n",
        "Now we will examine Support Vector Machines, an approach that creates the partition that preserves the \"maximum margin\" between classes.\n",
        "\n",
        "We will use a few sub forums from reddit--which tend to share text rather than memes--namely `talesfromtechsupport`, `badroommates`, `weeabootales` and `relationships`. The top 100 text posts from each have been saved to `data/reddit.csv`."
      ]
    },
    {
      "cell_type": "code",
      "execution_count": null,
      "metadata": {
        "collapsed": true,
        "id": "MA5RDSXrXmB4"
      },
      "outputs": [],
      "source": [
        "redditDf = pandas.read_csv('../data/reddit.csv', index_col = 0)\n",
        "\n",
        "#Drop a couple missing values\n",
        "\n",
        "redditDf = redditDf.dropna()\n",
        "\n",
        "#Set category\n",
        "\n",
        "redditDf['category'] = redditDf['subreddit']\n",
        "\n",
        "#tokenize and normalize\n",
        "redditDf['tokenized_text'] = redditDf['text'].apply(lambda x: lucem_illud.word_tokenize(x))\n",
        "redditDf['normalized_text'] = redditDf['tokenized_text'].apply(lambda x: lucem_illud.normalizeTokens(x))"
      ]
    },
    {
      "cell_type": "markdown",
      "metadata": {
        "id": "ySjnDv4FXmB5"
      },
      "source": [
        "We will tf.idf the data to make our vectors:"
      ]
    },
    {
      "cell_type": "code",
      "execution_count": null,
      "metadata": {
        "collapsed": true,
        "id": "Zvns1AHkXmB5"
      },
      "outputs": [],
      "source": [
        "redditTFVectorizer = sklearn.feature_extraction.text.TfidfVectorizer(max_df=0.5, min_df=3, stop_words='english', norm='l2')\n",
        "redditTFVects = redditTFVectorizer.fit_transform([' '.join(l) for l in redditDf['normalized_text']])\n",
        "redditDf['vect'] = [np.array(v).flatten() for v in redditTFVects.todense()]"
      ]
    },
    {
      "cell_type": "markdown",
      "metadata": {
        "id": "-nU-3KiJXmB5"
      },
      "source": [
        "Initilize the model and make a train test split:"
      ]
    },
    {
      "cell_type": "code",
      "execution_count": null,
      "metadata": {
        "collapsed": true,
        "id": "8z1vo2gfXmB5"
      },
      "outputs": [],
      "source": [
        "holdBackFraction = .2\n",
        "train_redditDf, test_redditDf = sklearn.model_selection.train_test_split(redditDf, test_size=holdBackFraction)"
      ]
    },
    {
      "cell_type": "code",
      "execution_count": null,
      "metadata": {
        "collapsed": true,
        "id": "MJvyTAZWXmB5"
      },
      "outputs": [],
      "source": [
        "clf_svm = sklearn.svm.SVC(kernel='linear', probability = False)\n",
        "#probability = True is slower but  lets you call predict_proba()\n",
        "clf_svm.fit(np.stack(train_redditDf['vect'], axis=0), train_redditDf['category'])"
      ]
    },
    {
      "cell_type": "markdown",
      "metadata": {
        "id": "enimwlQwXmB5"
      },
      "source": [
        "...and consider the results:"
      ]
    },
    {
      "cell_type": "code",
      "execution_count": null,
      "metadata": {
        "collapsed": true,
        "id": "dh-rgJSpXmB5"
      },
      "outputs": [],
      "source": [
        "lucem_illud.evaluateClassifier(clf_svm, test_redditDf)"
      ]
    },
    {
      "cell_type": "code",
      "execution_count": null,
      "metadata": {
        "collapsed": true,
        "id": "UGGszpFlXmB5"
      },
      "outputs": [],
      "source": [
        "lucem_illud.plotConfusionMatrix(clf_svm, test_redditDf)"
      ]
    },
    {
      "cell_type": "code",
      "execution_count": null,
      "metadata": {
        "collapsed": true,
        "id": "z1DZerfBXmB5"
      },
      "outputs": [],
      "source": [
        "lucem_illud.plotregions(clf_svm, test_redditDf)"
      ]
    },
    {
      "cell_type": "markdown",
      "metadata": {
        "id": "Ws430m4UXmB5"
      },
      "source": [
        "# Neural Nets\n",
        "\n",
        "We include an example of a simple neural network, the Multi-layer Perceptron (MLP) that learns a function $f(\\cdot): R^m \\rightarrow R^o$ by training on a dataset, where $m$ is the number of dimensions for input and $o$ is the number of dimensions for output. Given a set of features $X = {x_1, x_2, ..., x_m}$ and a target $y$, it can learn a non-linear function approximator for either classification or regression. It is different from logistic regression, in that between the input and the output layer, there can be one or more non-linear layers, called hidden layers. The following figure shows a one hidden layer MLP with scalar output. ![title](../data/multilayerperceptron_network.png) The leftmost layer, known as the input layer, consists of a set of \"neurons\" $\\{x_i | x_1, x_2, ..., x_m\\}$ representing the input features (e.g., weighted words). Each neuron in the hidden layer transforms the values from the previous layer with a weighted linear summation $w_1x_1 + w_2x_2 + ... + w_mx_m$, followed by a non-linear activation function $g(\\cdot):R \\rightarrow R$ - like the logistic or hyperbolic tan function. The output layer receives the values from the last hidden layer and transforms them into output values."
      ]
    },
    {
      "cell_type": "code",
      "execution_count": null,
      "metadata": {
        "collapsed": true,
        "id": "DNHKK4HfXmB6"
      },
      "outputs": [],
      "source": [
        "clf_nn = sklearn.neural_network.MLPClassifier()\n",
        "clf_nn.fit(np.stack(train_redditDf['vect'], axis=0), train_redditDf['category'])"
      ]
    },
    {
      "cell_type": "code",
      "execution_count": null,
      "metadata": {
        "collapsed": true,
        "id": "PN7cCFjpXmB6"
      },
      "outputs": [],
      "source": [
        "lucem_illud.evaluateClassifier(clf_nn, test_redditDf)"
      ]
    },
    {
      "cell_type": "code",
      "execution_count": null,
      "metadata": {
        "collapsed": true,
        "id": "9CwuMAEIXmB6"
      },
      "outputs": [],
      "source": [
        "lucem_illud.plotConfusionMatrix(clf_nn, test_redditDf)"
      ]
    },
    {
      "cell_type": "code",
      "execution_count": null,
      "metadata": {
        "collapsed": true,
        "id": "9PGADh63XmB6"
      },
      "outputs": [],
      "source": [
        "lucem_illud.plotregions(clf_nn, test_redditDf)"
      ]
    },
    {
      "cell_type": "markdown",
      "metadata": {
        "id": "MC39vY4_XmB6"
      },
      "source": [
        "It performs very well."
      ]
    },
    {
      "cell_type": "markdown",
      "metadata": {
        "id": "JslZ7Sg4XmB6"
      },
      "source": [
        "## <font color=\"red\">*Exercise 6*</font>\n",
        "\n",
        "<font color=\"red\">In the cells immediately following, perform a neural network classification and calculate relevant metrics (e.g., precision, recall, the F-measure, and AUC). How does this classify relevant to *k*-nearest neighbor, logistic and decision-tree approaches?"
      ]
    },
    {
      "cell_type": "code",
      "source": [
        "#Similarly as Exercise 4 and 5, though I was not able to convert the data for my final project in a format that could work with supervised learning methods\n",
        "#I took a try at answering this question and writing out what code I would use to analyze it with decision tree and random forest models"
      ],
      "metadata": {
        "id": "0Ibyei7gMh1i"
      },
      "execution_count": null,
      "outputs": []
    },
    {
      "cell_type": "code",
      "source": [
        "clf_nn = sklearn.neural_network.MLPClassifier()\n",
        "clf_nn.fit(np.stack(train_data_df['vect'], axis=0), train_data_df['label'])"
      ],
      "metadata": {
        "id": "lnc_j_3kMoE8",
        "outputId": "1e8041ce-15e7-4098-f389-e18000afbeb6",
        "colab": {
          "base_uri": "https://localhost:8080/",
          "height": 480
        }
      },
      "execution_count": null,
      "outputs": [
        {
          "output_type": "error",
          "ename": "KeyError",
          "evalue": "ignored",
          "traceback": [
            "\u001b[0;31m---------------------------------------------------------------------------\u001b[0m",
            "\u001b[0;31mKeyError\u001b[0m                                  Traceback (most recent call last)",
            "\u001b[0;32m/usr/local/lib/python3.7/dist-packages/pandas/core/indexes/base.py\u001b[0m in \u001b[0;36mget_loc\u001b[0;34m(self, key, method, tolerance)\u001b[0m\n\u001b[1;32m   3360\u001b[0m             \u001b[0;32mtry\u001b[0m\u001b[0;34m:\u001b[0m\u001b[0;34m\u001b[0m\u001b[0;34m\u001b[0m\u001b[0m\n\u001b[0;32m-> 3361\u001b[0;31m                 \u001b[0;32mreturn\u001b[0m \u001b[0mself\u001b[0m\u001b[0;34m.\u001b[0m\u001b[0m_engine\u001b[0m\u001b[0;34m.\u001b[0m\u001b[0mget_loc\u001b[0m\u001b[0;34m(\u001b[0m\u001b[0mcasted_key\u001b[0m\u001b[0;34m)\u001b[0m\u001b[0;34m\u001b[0m\u001b[0;34m\u001b[0m\u001b[0m\n\u001b[0m\u001b[1;32m   3362\u001b[0m             \u001b[0;32mexcept\u001b[0m \u001b[0mKeyError\u001b[0m \u001b[0;32mas\u001b[0m \u001b[0merr\u001b[0m\u001b[0;34m:\u001b[0m\u001b[0;34m\u001b[0m\u001b[0;34m\u001b[0m\u001b[0m\n",
            "\u001b[0;32m/usr/local/lib/python3.7/dist-packages/pandas/_libs/index.pyx\u001b[0m in \u001b[0;36mpandas._libs.index.IndexEngine.get_loc\u001b[0;34m()\u001b[0m\n",
            "\u001b[0;32m/usr/local/lib/python3.7/dist-packages/pandas/_libs/index.pyx\u001b[0m in \u001b[0;36mpandas._libs.index.IndexEngine.get_loc\u001b[0;34m()\u001b[0m\n",
            "\u001b[0;32mpandas/_libs/hashtable_class_helper.pxi\u001b[0m in \u001b[0;36mpandas._libs.hashtable.PyObjectHashTable.get_item\u001b[0;34m()\u001b[0m\n",
            "\u001b[0;32mpandas/_libs/hashtable_class_helper.pxi\u001b[0m in \u001b[0;36mpandas._libs.hashtable.PyObjectHashTable.get_item\u001b[0;34m()\u001b[0m\n",
            "\u001b[0;31mKeyError\u001b[0m: 'vect'",
            "\nThe above exception was the direct cause of the following exception:\n",
            "\u001b[0;31mKeyError\u001b[0m                                  Traceback (most recent call last)",
            "\u001b[0;32m<ipython-input-119-7cfc23b0c6c7>\u001b[0m in \u001b[0;36m<module>\u001b[0;34m()\u001b[0m\n\u001b[1;32m      1\u001b[0m \u001b[0mclf_nn\u001b[0m \u001b[0;34m=\u001b[0m \u001b[0msklearn\u001b[0m\u001b[0;34m.\u001b[0m\u001b[0mneural_network\u001b[0m\u001b[0;34m.\u001b[0m\u001b[0mMLPClassifier\u001b[0m\u001b[0;34m(\u001b[0m\u001b[0;34m)\u001b[0m\u001b[0;34m\u001b[0m\u001b[0;34m\u001b[0m\u001b[0m\n\u001b[0;32m----> 2\u001b[0;31m \u001b[0mclf_nn\u001b[0m\u001b[0;34m.\u001b[0m\u001b[0mfit\u001b[0m\u001b[0;34m(\u001b[0m\u001b[0mnp\u001b[0m\u001b[0;34m.\u001b[0m\u001b[0mstack\u001b[0m\u001b[0;34m(\u001b[0m\u001b[0mtrain_data_df\u001b[0m\u001b[0;34m[\u001b[0m\u001b[0;34m'vect'\u001b[0m\u001b[0;34m]\u001b[0m\u001b[0;34m,\u001b[0m \u001b[0maxis\u001b[0m\u001b[0;34m=\u001b[0m\u001b[0;36m0\u001b[0m\u001b[0;34m)\u001b[0m\u001b[0;34m,\u001b[0m \u001b[0mtrain_data_df\u001b[0m\u001b[0;34m[\u001b[0m\u001b[0;34m'label'\u001b[0m\u001b[0;34m]\u001b[0m\u001b[0;34m)\u001b[0m\u001b[0;34m\u001b[0m\u001b[0;34m\u001b[0m\u001b[0m\n\u001b[0m",
            "\u001b[0;32m/usr/local/lib/python3.7/dist-packages/pandas/core/frame.py\u001b[0m in \u001b[0;36m__getitem__\u001b[0;34m(self, key)\u001b[0m\n\u001b[1;32m   3456\u001b[0m             \u001b[0;32mif\u001b[0m \u001b[0mself\u001b[0m\u001b[0;34m.\u001b[0m\u001b[0mcolumns\u001b[0m\u001b[0;34m.\u001b[0m\u001b[0mnlevels\u001b[0m \u001b[0;34m>\u001b[0m \u001b[0;36m1\u001b[0m\u001b[0;34m:\u001b[0m\u001b[0;34m\u001b[0m\u001b[0;34m\u001b[0m\u001b[0m\n\u001b[1;32m   3457\u001b[0m                 \u001b[0;32mreturn\u001b[0m \u001b[0mself\u001b[0m\u001b[0;34m.\u001b[0m\u001b[0m_getitem_multilevel\u001b[0m\u001b[0;34m(\u001b[0m\u001b[0mkey\u001b[0m\u001b[0;34m)\u001b[0m\u001b[0;34m\u001b[0m\u001b[0;34m\u001b[0m\u001b[0m\n\u001b[0;32m-> 3458\u001b[0;31m             \u001b[0mindexer\u001b[0m \u001b[0;34m=\u001b[0m \u001b[0mself\u001b[0m\u001b[0;34m.\u001b[0m\u001b[0mcolumns\u001b[0m\u001b[0;34m.\u001b[0m\u001b[0mget_loc\u001b[0m\u001b[0;34m(\u001b[0m\u001b[0mkey\u001b[0m\u001b[0;34m)\u001b[0m\u001b[0;34m\u001b[0m\u001b[0;34m\u001b[0m\u001b[0m\n\u001b[0m\u001b[1;32m   3459\u001b[0m             \u001b[0;32mif\u001b[0m \u001b[0mis_integer\u001b[0m\u001b[0;34m(\u001b[0m\u001b[0mindexer\u001b[0m\u001b[0;34m)\u001b[0m\u001b[0;34m:\u001b[0m\u001b[0;34m\u001b[0m\u001b[0;34m\u001b[0m\u001b[0m\n\u001b[1;32m   3460\u001b[0m                 \u001b[0mindexer\u001b[0m \u001b[0;34m=\u001b[0m \u001b[0;34m[\u001b[0m\u001b[0mindexer\u001b[0m\u001b[0;34m]\u001b[0m\u001b[0;34m\u001b[0m\u001b[0;34m\u001b[0m\u001b[0m\n",
            "\u001b[0;32m/usr/local/lib/python3.7/dist-packages/pandas/core/indexes/base.py\u001b[0m in \u001b[0;36mget_loc\u001b[0;34m(self, key, method, tolerance)\u001b[0m\n\u001b[1;32m   3361\u001b[0m                 \u001b[0;32mreturn\u001b[0m \u001b[0mself\u001b[0m\u001b[0;34m.\u001b[0m\u001b[0m_engine\u001b[0m\u001b[0;34m.\u001b[0m\u001b[0mget_loc\u001b[0m\u001b[0;34m(\u001b[0m\u001b[0mcasted_key\u001b[0m\u001b[0;34m)\u001b[0m\u001b[0;34m\u001b[0m\u001b[0;34m\u001b[0m\u001b[0m\n\u001b[1;32m   3362\u001b[0m             \u001b[0;32mexcept\u001b[0m \u001b[0mKeyError\u001b[0m \u001b[0;32mas\u001b[0m \u001b[0merr\u001b[0m\u001b[0;34m:\u001b[0m\u001b[0;34m\u001b[0m\u001b[0;34m\u001b[0m\u001b[0m\n\u001b[0;32m-> 3363\u001b[0;31m                 \u001b[0;32mraise\u001b[0m \u001b[0mKeyError\u001b[0m\u001b[0;34m(\u001b[0m\u001b[0mkey\u001b[0m\u001b[0;34m)\u001b[0m \u001b[0;32mfrom\u001b[0m \u001b[0merr\u001b[0m\u001b[0;34m\u001b[0m\u001b[0;34m\u001b[0m\u001b[0m\n\u001b[0m\u001b[1;32m   3364\u001b[0m \u001b[0;34m\u001b[0m\u001b[0m\n\u001b[1;32m   3365\u001b[0m         \u001b[0;32mif\u001b[0m \u001b[0mis_scalar\u001b[0m\u001b[0;34m(\u001b[0m\u001b[0mkey\u001b[0m\u001b[0;34m)\u001b[0m \u001b[0;32mand\u001b[0m \u001b[0misna\u001b[0m\u001b[0;34m(\u001b[0m\u001b[0mkey\u001b[0m\u001b[0;34m)\u001b[0m \u001b[0;32mand\u001b[0m \u001b[0;32mnot\u001b[0m \u001b[0mself\u001b[0m\u001b[0;34m.\u001b[0m\u001b[0mhasnans\u001b[0m\u001b[0;34m:\u001b[0m\u001b[0;34m\u001b[0m\u001b[0;34m\u001b[0m\u001b[0m\n",
            "\u001b[0;31mKeyError\u001b[0m: 'vect'"
          ]
        }
      ]
    },
    {
      "cell_type": "code",
      "source": [
        "#evaluating neural networks classifier\n",
        "lucem_illud.evaluateClassifier(clf_neural_network, train_data_df)\n",
        "\n",
        "#using confusion matrix\n",
        "lucem_illud.plotConfusionMatrix(clf_neural_network, test_data_df)\n",
        "\n",
        "#what is accuracy?\n",
        "lucem_illud.plotMultiROC(clf_neural_network, test_data_df)"
      ],
      "metadata": {
        "id": "nmDfhrnJNVIu"
      },
      "execution_count": null,
      "outputs": []
    },
    {
      "cell_type": "markdown",
      "metadata": {
        "id": "4cJ-SkJpAdhp"
      },
      "source": [
        "## Classification with BERT Pipelines\n",
        "Now, instead of classifying based on \"old\" NLP methods, we will now use the popular Transformers package default 'pipelines'. This package has methods for a wide range of common NLP tasks using contextual word embeddings. Note that for this homework, we are not building new contextual models ourselves, merely using existing models in Transformers. We will spend Weeks 7 and 8 learning more about Transformers, so do not worry about fully understanding them this week.\n",
        "\n",
        "[Transformers Documentation](https://huggingface.co/transformers/)\n",
        "\n",
        "[Transformers GitHub](https://github.com/huggingface/transformers)\n",
        "\n",
        "The following sections of code are taken from the [Summary of Tasks](https://huggingface.co/transformers/task_summary.html) page in the Transformers documentation."
      ]
    },
    {
      "cell_type": "markdown",
      "metadata": {
        "id": "WqTAhBf3-ZMi"
      },
      "source": [
        "### Sequence Classification (e.g., sentiment)\n",
        "Sequence classification is the task of classifying sequences according to a given number of classes. An example of\n",
        "sequence classification is the GLUE dataset. If you would like to fine-tune a\n",
        "model on a GLUE sequence classification task, you may leverage the [run_glue.py](https://github.com/huggingface/transformers/tree/master/examples/text-classification/run_glue.py) and\n",
        "[run_pl_glue.py](https://github.com/huggingface/transformers/tree/master/examples/text-classification/run_pl_glue.py) or\n",
        "[run_tf_glue.py](https://github.com/huggingface/transformers/tree/master/examples/text-classification/run_tf_glue.py) scripts.\n",
        "\n",
        "Here is an example of using pipelines to do sentiment analysis: identifying if a sentence is positive or negative. It\n",
        "leverages a fine-tuned model on sst2, which is a GLUE task.\n",
        "\n",
        "This returns a label (\"POSITIVE\" or \"NEGATIVE\") alongside a score, as follows:"
      ]
    },
    {
      "cell_type": "code",
      "execution_count": null,
      "metadata": {
        "id": "h5eXH5lA-ZMi"
      },
      "outputs": [],
      "source": [
        "from transformers import pipeline\n",
        "nlp = pipeline(\"sentiment-analysis\")\n",
        "result = nlp(\"I hate you\")[0]\n",
        "print(f\"label: {result['label']}, with score: {round(result['score'], 4)}\")\n",
        "result = nlp(\"I love you\")[0]\n",
        "print(f\"label: {result['label']}, with score: {round(result['score'], 4)}\")"
      ]
    },
    {
      "cell_type": "markdown",
      "metadata": {
        "id": "6dYX9haN-ZMj"
      },
      "source": [
        "Here is an example of doing a sequence classification using a model to determine if two sequences are paraphrases of\n",
        "each other. The process is the following:\n",
        "\n",
        "1. Instantiate a tokenizer and a model from the checkpoint name. The model is identified as a BERT model and loads it\n",
        "   with the weights stored in the checkpoint.\n",
        "2. Build a sequence from the two sentences, with the correct model-specific separators token type ids and attention\n",
        "   masks (`PreTrainedTokenizer.encode` and `PreTrainedTokenizer.__call__` take\n",
        "   care of this).\n",
        "3. Pass this sequence through the model so that it is classified in one of the two available classes: 0 (not a\n",
        "   paraphrase) and 1 (is a paraphrase).\n",
        "4. Compute the softmax of the result to get probabilities over the classes.\n",
        "5. Print the results."
      ]
    },
    {
      "cell_type": "code",
      "execution_count": null,
      "metadata": {
        "id": "LmUMMNsM-ZMk"
      },
      "outputs": [],
      "source": [
        "from transformers import AutoTokenizer, AutoModelForSequenceClassification\n",
        "import torch\n",
        "tokenizer = AutoTokenizer.from_pretrained(\"bert-base-cased-finetuned-mrpc\")\n",
        "model = AutoModelForSequenceClassification.from_pretrained(\"bert-base-cased-finetuned-mrpc\")\n",
        "classes = [\"not paraphrase\", \"is paraphrase\"]\n",
        "sequence_0 = \"The company HuggingFace is based in New York City\"\n",
        "sequence_1 = \"Apples are especially bad for your health\"\n",
        "sequence_2 = \"HuggingFace's headquarters are situated in Manhattan\"\n",
        "paraphrase = tokenizer(sequence_0, sequence_2, return_tensors=\"pt\")\n",
        "not_paraphrase = tokenizer(sequence_0, sequence_1, return_tensors=\"pt\")\n",
        "paraphrase_classification_logits = model(**paraphrase).logits\n",
        "not_paraphrase_classification_logits = model(**not_paraphrase).logits\n",
        "paraphrase_results = torch.softmax(paraphrase_classification_logits, dim=1).tolist()[0]\n",
        "not_paraphrase_results = torch.softmax(not_paraphrase_classification_logits, dim=1).tolist()[0]\n",
        "# Should be paraphrase\n",
        "for i in range(len(classes)):\n",
        "    print(f\"{classes[i]}: {int(round(paraphrase_results[i] * 100))}%\")\n",
        "# Should not be paraphrase\n",
        "for i in range(len(classes)):\n",
        "    print(f\"{classes[i]}: {int(round(not_paraphrase_results[i] * 100))}%\")"
      ]
    },
    {
      "cell_type": "markdown",
      "metadata": {
        "id": "H2oChnp1-ZMm"
      },
      "source": [
        "### Extractive Question Answering"
      ]
    },
    {
      "cell_type": "markdown",
      "metadata": {
        "id": "12uRPuEq-ZMm"
      },
      "source": [
        "Extractive Question Answering is the task of extracting an answer from a text given a question. An example of a\n",
        "question answering dataset is the SQuAD dataset, which is entirely based on that task. If you would like to fine-tune a\n",
        "model on a SQuAD task, you may leverage the [run_squad.py](https://github.com/huggingface/transformers/tree/master/examples/question-answering/run_squad.py) and\n",
        "[run_tf_squad.py](https://github.com/huggingface/transformers/tree/master/examples/question-answering/run_tf_squad.py) scripts.\n",
        "\n",
        "\n",
        "Here is an example of using pipelines to do question answering: extracting an answer from a text given a question. It\n",
        "leverages a fine-tuned model on SQuAD."
      ]
    },
    {
      "cell_type": "code",
      "execution_count": null,
      "metadata": {
        "id": "Ast1vLPT-ZMm"
      },
      "outputs": [],
      "source": [
        "from transformers import pipeline\n",
        "nlp = pipeline(\"question-answering\")\n",
        "context = r\"\"\"\n",
        "Extractive Question Answering is the task of extracting an answer from a text given a question. An example of a\n",
        "question answering dataset is the SQuAD dataset, which is entirely based on that task. If you would like to fine-tune\n",
        "a model on a SQuAD task, you may leverage the examples/question-answering/run_squad.py script.\n",
        "\"\"\""
      ]
    },
    {
      "cell_type": "markdown",
      "metadata": {
        "id": "r5fq8iB0-ZMn"
      },
      "source": [
        "This returns an answer extracted from the text, a confidence score, alongside \"start\" and \"end\" values, which are the\n",
        "positions of the extracted answer in the text."
      ]
    },
    {
      "cell_type": "code",
      "execution_count": null,
      "metadata": {
        "id": "gMSCEtkU-ZMn"
      },
      "outputs": [],
      "source": [
        "result = nlp(question=\"What is extractive question answering?\", context=context)\n",
        "print(f\"Answer: '{result['answer']}', score: {round(result['score'], 4)}, start: {result['start']}, end: {result['end']}\")\n",
        "result = nlp(question=\"What is a good example of a question answering dataset?\", context=context)\n",
        "print(f\"Answer: '{result['answer']}', score: {round(result['score'], 4)}, start: {result['start']}, end: {result['end']}\")"
      ]
    },
    {
      "cell_type": "markdown",
      "metadata": {
        "id": "4t3RxO8D-ZMn"
      },
      "source": [
        "Here is an example of question answering using a model and a tokenizer. The process is the following:\n",
        "\n",
        "1. Instantiate a tokenizer and a model from the checkpoint name. The model is identified as a BERT model and loads it\n",
        "   with the weights stored in the checkpoint.\n",
        "2. Define a text and a few questions.\n",
        "3. Iterate over the questions and build a sequence from the text and the current question, with the correct\n",
        "   model-specific separators token type ids and attention masks.\n",
        "4. Pass this sequence through the model. This outputs a range of scores across the entire sequence of tokens (question and\n",
        "   text), for both the start and end positions.\n",
        "5. Compute the softmax of the result to get probabilities over the tokens.\n",
        "6. Fetch the tokens from the identified start and stop values, convert those tokens to a string.\n",
        "7. Print the results."
      ]
    },
    {
      "cell_type": "code",
      "execution_count": null,
      "metadata": {
        "id": "tbvf9egg-ZMo"
      },
      "outputs": [],
      "source": [
        "from transformers import AutoTokenizer, AutoModelForQuestionAnswering\n",
        "import torch\n",
        "tokenizer = AutoTokenizer.from_pretrained(\"bert-large-uncased-whole-word-masking-finetuned-squad\")\n",
        "model = AutoModelForQuestionAnswering.from_pretrained(\"bert-large-uncased-whole-word-masking-finetuned-squad\")\n",
        "text = r\"\"\"\n",
        "🤗 Transformers (formerly known as pytorch-transformers and pytorch-pretrained-bert) provides general-purpose\n",
        "architectures (BERT, GPT-2, RoBERTa, XLM, DistilBert, XLNet…) for Natural Language Understanding (NLU) and Natural\n",
        "Language Generation (NLG) with over 32+ pretrained models in 100+ languages and deep interoperability between\n",
        "TensorFlow 2.0 and PyTorch.\n",
        "\"\"\"\n",
        "questions = [\n",
        "    \"How many pretrained models are available in 🤗 Transformers?\",\n",
        "    \"What does 🤗 Transformers provide?\",\n",
        "    \"🤗 Transformers provides interoperability between which frameworks?\",\n",
        "]\n",
        "for question in questions:\n",
        "    inputs = tokenizer(question, text, add_special_tokens=True, return_tensors=\"pt\")\n",
        "    input_ids = inputs[\"input_ids\"].tolist()[0]\n",
        "\n",
        "    text_tokens = tokenizer.convert_ids_to_tokens(input_ids)\n",
        "    outputs = model(**inputs)\n",
        "    answer_start_scores = outputs.start_logits\n",
        "    answer_end_scores = outputs.end_logits\n",
        "\n",
        "    answer_start = torch.argmax(\n",
        "        answer_start_scores\n",
        "    )  # Get the most likely beginning of answer with the argmax of the score\n",
        "    answer_end = torch.argmax(answer_end_scores) + 1  # Get the most likely end of answer with the argmax of the score\n",
        "\n",
        "    answer = tokenizer.convert_tokens_to_string(tokenizer.convert_ids_to_tokens(input_ids[answer_start:answer_end]))\n",
        "\n",
        "    print(f\"Question: {question}\")\n",
        "    print(f\"Answer: {answer}\")"
      ]
    },
    {
      "cell_type": "markdown",
      "metadata": {
        "id": "9D-UPVX8XmB8"
      },
      "source": [
        "## <font color=\"red\">*Exercise 7*</font>\n",
        "\n",
        "<font color=\"red\">In the cells immediately following, use the pipeline functions or the word or sentence vector functions (e.g., similarity) to explore the social game underlying the production and meaning of texts associated with your final project. How does BERT help you gain insight regarding your research question that is similar and different from prior methods?"
      ]
    },
    {
      "cell_type": "code",
      "source": [
        "jstorSample"
      ],
      "metadata": {
        "colab": {
          "base_uri": "https://localhost:8080/",
          "height": 1000
        },
        "id": "kZItpoZNN1Jl",
        "outputId": "c586dcf2-ceb4-4ec2-87cc-e6cde2d69655"
      },
      "execution_count": 122,
      "outputs": [
        {
          "output_type": "execute_result",
          "data": {
            "text/html": [
              "\n",
              "  <div id=\"df-35a471fd-1538-46b8-b187-e2b0fce5ee94\">\n",
              "    <div class=\"colab-df-container\">\n",
              "      <div>\n",
              "<style scoped>\n",
              "    .dataframe tbody tr th:only-of-type {\n",
              "        vertical-align: middle;\n",
              "    }\n",
              "\n",
              "    .dataframe tbody tr th {\n",
              "        vertical-align: top;\n",
              "    }\n",
              "\n",
              "    .dataframe thead th {\n",
              "        text-align: right;\n",
              "    }\n",
              "</style>\n",
              "<table border=\"1\" class=\"dataframe\">\n",
              "  <thead>\n",
              "    <tr style=\"text-align: right;\">\n",
              "      <th></th>\n",
              "      <th>creator</th>\n",
              "      <th>datePublished</th>\n",
              "      <th>docSubType</th>\n",
              "      <th>docType</th>\n",
              "      <th>id</th>\n",
              "      <th>identifier</th>\n",
              "      <th>isPartOf</th>\n",
              "      <th>issueNumber</th>\n",
              "      <th>language</th>\n",
              "      <th>outputFormat</th>\n",
              "      <th>pageCount</th>\n",
              "      <th>pageEnd</th>\n",
              "      <th>pageStart</th>\n",
              "      <th>pagination</th>\n",
              "      <th>provider</th>\n",
              "      <th>publicationYear</th>\n",
              "      <th>publisher</th>\n",
              "      <th>sourceCategory</th>\n",
              "      <th>tdmCategory</th>\n",
              "      <th>title</th>\n",
              "      <th>url</th>\n",
              "      <th>volumeNumber</th>\n",
              "      <th>wordCount</th>\n",
              "      <th>unigramCount</th>\n",
              "      <th>bigramCount</th>\n",
              "      <th>trigramCount</th>\n",
              "      <th>text</th>\n",
              "      <th>category</th>\n",
              "      <th>tokenized_sents</th>\n",
              "      <th>normalized_sents</th>\n",
              "      <th>year</th>\n",
              "    </tr>\n",
              "  </thead>\n",
              "  <tbody>\n",
              "    <tr>\n",
              "      <th>5922</th>\n",
              "      <td>[Virginia F. Matson, Paul R. Pierce]</td>\n",
              "      <td>1946-02-01</td>\n",
              "      <td>research-article</td>\n",
              "      <td>article</td>\n",
              "      <td>http://www.jstor.org/stable/1082612</td>\n",
              "      <td>[{'name': 'issn', 'value': '00366773'}, {'name...</td>\n",
              "      <td>The School Review</td>\n",
              "      <td>2</td>\n",
              "      <td>[eng]</td>\n",
              "      <td>[unigram, bigram, trigram]</td>\n",
              "      <td>7</td>\n",
              "      <td>89</td>\n",
              "      <td>83</td>\n",
              "      <td>pp. 83-89</td>\n",
              "      <td>jstor</td>\n",
              "      <td>1946</td>\n",
              "      <td>University of Chicago Press</td>\n",
              "      <td>[Education, Social Sciences]</td>\n",
              "      <td>[Education - Specialized education]</td>\n",
              "      <td>Science in the Core Curriculum</td>\n",
              "      <td>http://www.jstor.org/stable/1082612</td>\n",
              "      <td>54</td>\n",
              "      <td>3193</td>\n",
              "      <td>{'\"Meeting': 1, 'services': 1, 'remains': 1, '...</td>\n",
              "      <td>{'third-year boy': 1, 'Responsibilities.\" Each...</td>\n",
              "      <td>{'cases, and filled': 1, 'more classes in': 1,...</td>\n",
              "      <td>clinics</td>\n",
              "      <td>The School Review</td>\n",
              "      <td>[[clinics]]</td>\n",
              "      <td>[[clinic]]</td>\n",
              "      <td>1946</td>\n",
              "    </tr>\n",
              "    <tr>\n",
              "      <th>5487</th>\n",
              "      <td>[Roy A. Price]</td>\n",
              "      <td>1936-04-01</td>\n",
              "      <td>book-review</td>\n",
              "      <td>article</td>\n",
              "      <td>http://www.jstor.org/stable/1080259</td>\n",
              "      <td>[{'name': 'issn', 'value': '00366773'}, {'name...</td>\n",
              "      <td>The School Review</td>\n",
              "      <td>4</td>\n",
              "      <td>[eng]</td>\n",
              "      <td>[unigram, bigram, trigram]</td>\n",
              "      <td>2</td>\n",
              "      <td>308</td>\n",
              "      <td>307</td>\n",
              "      <td>pp. 307-308</td>\n",
              "      <td>jstor</td>\n",
              "      <td>1936</td>\n",
              "      <td>University of Chicago Press</td>\n",
              "      <td>[Education, Social Sciences]</td>\n",
              "      <td>NaN</td>\n",
              "      <td>The Evolution of the Social Sciences in the Sc...</td>\n",
              "      <td>http://www.jstor.org/stable/1080259</td>\n",
              "      <td>44</td>\n",
              "      <td>654</td>\n",
              "      <td>{'interest': 1, 'extent': 1, 'find': 1, 'namel...</td>\n",
              "      <td>{'elementary-school and': 1, 'REVIEW [April': ...</td>\n",
              "      <td>{'and Henry Johnson': 1, 'past.\" Roy A.': 1, '...</td>\n",
              "      <td>REVIEW</td>\n",
              "      <td>The School Review</td>\n",
              "      <td>[[REVIEW]]</td>\n",
              "      <td>[[review]]</td>\n",
              "      <td>1936</td>\n",
              "    </tr>\n",
              "    <tr>\n",
              "      <th>1668</th>\n",
              "      <td>[Willard B. Spalding, William C. Kvaraceus]</td>\n",
              "      <td>1943-12-01</td>\n",
              "      <td>research-article</td>\n",
              "      <td>article</td>\n",
              "      <td>http://www.jstor.org/stable/1081310</td>\n",
              "      <td>[{'name': 'issn', 'value': '00366773'}, {'name...</td>\n",
              "      <td>The School Review</td>\n",
              "      <td>10</td>\n",
              "      <td>[eng]</td>\n",
              "      <td>[unigram, bigram, trigram]</td>\n",
              "      <td>4</td>\n",
              "      <td>613</td>\n",
              "      <td>610</td>\n",
              "      <td>pp. 610-613</td>\n",
              "      <td>jstor</td>\n",
              "      <td>1943</td>\n",
              "      <td>University of Chicago Press</td>\n",
              "      <td>[Education, Social Sciences]</td>\n",
              "      <td>[Philosophy - Applied philosophy]</td>\n",
              "      <td>The Secondary Schools in Transition: 1635-1943</td>\n",
              "      <td>http://www.jstor.org/stable/1081310</td>\n",
              "      <td>51</td>\n",
              "      <td>1871</td>\n",
              "      <td>{'and': 60, 'past': 2, 'fascism': 1, 'who': 9,...</td>\n",
              "      <td>{'future prospects': 1, 'or out-': 1, 'leader-...</td>\n",
              "      <td>{'and its energies': 1, 'to ar- rive': 1, 'in ...</td>\n",
              "      <td>WeWeWeWeWe</td>\n",
              "      <td>The School Review</td>\n",
              "      <td>[[WeWeWeWeWe]]</td>\n",
              "      <td>[[wewewewewe]]</td>\n",
              "      <td>1943</td>\n",
              "    </tr>\n",
              "    <tr>\n",
              "      <th>6276</th>\n",
              "      <td>[H. A. Basilius]</td>\n",
              "      <td>1945-12-01</td>\n",
              "      <td>research-article</td>\n",
              "      <td>article</td>\n",
              "      <td>http://www.jstor.org/stable/1976980</td>\n",
              "      <td>[{'name': 'issn', 'value': '00221546'}, {'name...</td>\n",
              "      <td>The Journal of Higher Education</td>\n",
              "      <td>9</td>\n",
              "      <td>[eng]</td>\n",
              "      <td>[unigram, bigram, trigram]</td>\n",
              "      <td>7</td>\n",
              "      <td>478</td>\n",
              "      <td>472</td>\n",
              "      <td>pp. 472-478</td>\n",
              "      <td>jstor</td>\n",
              "      <td>1945</td>\n",
              "      <td>Ohio State University Press</td>\n",
              "      <td>[Education, Social Sciences]</td>\n",
              "      <td>[Arts - Literature]</td>\n",
              "      <td>An Open Letter Addressed to the Dean of an Art...</td>\n",
              "      <td>http://www.jstor.org/stable/1976980</td>\n",
              "      <td>16</td>\n",
              "      <td>3290</td>\n",
              "      <td>{'sterile': 1, 'would,': 1, 'member': 3, 'disc...</td>\n",
              "      <td>{'the three-part': 1, 'the record': 1, 'We sho...</td>\n",
              "      <td>{'by the class': 2, 'to translate sound': 1, '...</td>\n",
              "      <td>form.form.</td>\n",
              "      <td>The Journal of Higher Education</td>\n",
              "      <td>[[form.form]]</td>\n",
              "      <td>[[form.form]]</td>\n",
              "      <td>1945</td>\n",
              "    </tr>\n",
              "    <tr>\n",
              "      <th>251</th>\n",
              "      <td>NaN</td>\n",
              "      <td>1949-02-01</td>\n",
              "      <td>misc</td>\n",
              "      <td>article</td>\n",
              "      <td>http://www.jstor.org/stable/1082296</td>\n",
              "      <td>[{'name': 'issn', 'value': '00366773'}, {'name...</td>\n",
              "      <td>The School Review</td>\n",
              "      <td>2</td>\n",
              "      <td>[eng]</td>\n",
              "      <td>[unigram, bigram, trigram]</td>\n",
              "      <td>18</td>\n",
              "      <td>121</td>\n",
              "      <td>104</td>\n",
              "      <td>pp. 104-121</td>\n",
              "      <td>jstor</td>\n",
              "      <td>1949</td>\n",
              "      <td>University of Chicago Press</td>\n",
              "      <td>[Education, Social Sciences]</td>\n",
              "      <td>[Education - Formal education]</td>\n",
              "      <td>Selected References on Secondary-School Instru...</td>\n",
              "      <td>http://www.jstor.org/stable/1082296</td>\n",
              "      <td>57</td>\n",
              "      <td>8487</td>\n",
              "      <td>{'Learners,\"': 1, 'Dynamics,\"': 1, '217.': 1, ...</td>\n",
              "      <td>{'School Mathe-': 1, 'Language Journal,': 11, ...</td>\n",
              "      <td>{'for challenging the': 1, 'the United Nations...</td>\n",
              "      <td>Effective</td>\n",
              "      <td>The School Review</td>\n",
              "      <td>[[Effective]]</td>\n",
              "      <td>[[effective]]</td>\n",
              "      <td>1949</td>\n",
              "    </tr>\n",
              "    <tr>\n",
              "      <th>...</th>\n",
              "      <td>...</td>\n",
              "      <td>...</td>\n",
              "      <td>...</td>\n",
              "      <td>...</td>\n",
              "      <td>...</td>\n",
              "      <td>...</td>\n",
              "      <td>...</td>\n",
              "      <td>...</td>\n",
              "      <td>...</td>\n",
              "      <td>...</td>\n",
              "      <td>...</td>\n",
              "      <td>...</td>\n",
              "      <td>...</td>\n",
              "      <td>...</td>\n",
              "      <td>...</td>\n",
              "      <td>...</td>\n",
              "      <td>...</td>\n",
              "      <td>...</td>\n",
              "      <td>...</td>\n",
              "      <td>...</td>\n",
              "      <td>...</td>\n",
              "      <td>...</td>\n",
              "      <td>...</td>\n",
              "      <td>...</td>\n",
              "      <td>...</td>\n",
              "      <td>...</td>\n",
              "      <td>...</td>\n",
              "      <td>...</td>\n",
              "      <td>...</td>\n",
              "      <td>...</td>\n",
              "      <td>...</td>\n",
              "    </tr>\n",
              "    <tr>\n",
              "      <th>1194</th>\n",
              "      <td>[Pedro T. Orata]</td>\n",
              "      <td>1937-03-01</td>\n",
              "      <td>research-article</td>\n",
              "      <td>article</td>\n",
              "      <td>http://www.jstor.org/stable/1974613</td>\n",
              "      <td>[{'name': 'issn', 'value': '00221546'}, {'name...</td>\n",
              "      <td>The Journal of Higher Education</td>\n",
              "      <td>3</td>\n",
              "      <td>[eng]</td>\n",
              "      <td>[unigram, bigram, trigram]</td>\n",
              "      <td>9</td>\n",
              "      <td>158</td>\n",
              "      <td>150</td>\n",
              "      <td>pp. 150-158</td>\n",
              "      <td>jstor</td>\n",
              "      <td>1937</td>\n",
              "      <td>Ohio State University Press</td>\n",
              "      <td>[Education, Social Sciences]</td>\n",
              "      <td>[Business - Business administration]</td>\n",
              "      <td>The Problem Professor of Education</td>\n",
              "      <td>http://www.jstor.org/stable/1974613</td>\n",
              "      <td>8</td>\n",
              "      <td>4332</td>\n",
              "      <td>{'theories': 8, 'satisfactory': 1, 'also': 2, ...</td>\n",
              "      <td>{'student in': 1, 'seen.\" B': 1, 'valid and': ...</td>\n",
              "      <td>{'compartmentalization of school': 1, 'with th...</td>\n",
              "      <td>them,</td>\n",
              "      <td>The Journal of Higher Education</td>\n",
              "      <td>[[them]]</td>\n",
              "      <td>[[]]</td>\n",
              "      <td>1937</td>\n",
              "    </tr>\n",
              "    <tr>\n",
              "      <th>41</th>\n",
              "      <td>[Wayne W. Soper, J. Harold Goldthorpe]</td>\n",
              "      <td>1944-04-01</td>\n",
              "      <td>research-article</td>\n",
              "      <td>article</td>\n",
              "      <td>http://www.jstor.org/stable/1168221</td>\n",
              "      <td>[{'name': 'issn', 'value': '00346543'}, {'name...</td>\n",
              "      <td>Review of Educational Research</td>\n",
              "      <td>2</td>\n",
              "      <td>[eng]</td>\n",
              "      <td>[unigram, bigram, trigram]</td>\n",
              "      <td>12</td>\n",
              "      <td>150</td>\n",
              "      <td>139</td>\n",
              "      <td>pp. 139-150</td>\n",
              "      <td>jstor</td>\n",
              "      <td>1944</td>\n",
              "      <td>Sage Publications, Inc.</td>\n",
              "      <td>[Education, Social Sciences]</td>\n",
              "      <td>[Philosophy - Applied philosophy]</td>\n",
              "      <td>The Support of Education</td>\n",
              "      <td>http://www.jstor.org/stable/1168221</td>\n",
              "      <td>14</td>\n",
              "      <td>6329</td>\n",
              "      <td>{'opportunity': 2, 'goals': 1, '31:': 3, 'Patt...</td>\n",
              "      <td>{'tax causes': 1, 'property taxation.': 1, 'ap...</td>\n",
              "      <td>{'States are not': 1, 'and Chisholm (15)': 1, ...</td>\n",
              "      <td>ever</td>\n",
              "      <td>Review of Educational Research</td>\n",
              "      <td>[[ever]]</td>\n",
              "      <td>[[]]</td>\n",
              "      <td>1944</td>\n",
              "    </tr>\n",
              "    <tr>\n",
              "      <th>6028</th>\n",
              "      <td>[E. S. Jones]</td>\n",
              "      <td>1938-11-01</td>\n",
              "      <td>research-article</td>\n",
              "      <td>article</td>\n",
              "      <td>http://www.jstor.org/stable/1974644</td>\n",
              "      <td>[{'name': 'issn', 'value': '00221546'}, {'name...</td>\n",
              "      <td>The Journal of Higher Education</td>\n",
              "      <td>8</td>\n",
              "      <td>[eng]</td>\n",
              "      <td>[unigram, bigram, trigram]</td>\n",
              "      <td>4</td>\n",
              "      <td>439</td>\n",
              "      <td>436</td>\n",
              "      <td>pp. 436-439</td>\n",
              "      <td>jstor</td>\n",
              "      <td>1938</td>\n",
              "      <td>Ohio State University Press</td>\n",
              "      <td>[Education, Social Sciences]</td>\n",
              "      <td>[Social sciences - Psychology, Education - Edu...</td>\n",
              "      <td>Reliability in Marking Examinations</td>\n",
              "      <td>http://www.jstor.org/stable/1974644</td>\n",
              "      <td>9</td>\n",
              "      <td>1520</td>\n",
              "      <td>{'point': 1, 'Examination': 1, 'causing': 1, '...</td>\n",
              "      <td>{'different projects': 1, 'correlation approac...</td>\n",
              "      <td>{'but they had': 1, 'possible manner and': 1, ...</td>\n",
              "      <td>.</td>\n",
              "      <td>The Journal of Higher Education</td>\n",
              "      <td>[[]]</td>\n",
              "      <td>[[]]</td>\n",
              "      <td>1938</td>\n",
              "    </tr>\n",
              "    <tr>\n",
              "      <th>743</th>\n",
              "      <td>[Oliver R. Floyd]</td>\n",
              "      <td>1933-02-01</td>\n",
              "      <td>book-review</td>\n",
              "      <td>article</td>\n",
              "      <td>http://www.jstor.org/stable/1080971</td>\n",
              "      <td>[{'name': 'issn', 'value': '00366773'}, {'name...</td>\n",
              "      <td>The School Review</td>\n",
              "      <td>2</td>\n",
              "      <td>[eng]</td>\n",
              "      <td>[unigram, bigram, trigram]</td>\n",
              "      <td>2</td>\n",
              "      <td>157</td>\n",
              "      <td>156</td>\n",
              "      <td>pp. 156-157</td>\n",
              "      <td>jstor</td>\n",
              "      <td>1933</td>\n",
              "      <td>University of Chicago Press</td>\n",
              "      <td>[Education, Social Sciences]</td>\n",
              "      <td>NaN</td>\n",
              "      <td>Sociology for the Senior High School</td>\n",
              "      <td>http://www.jstor.org/stable/1080971</td>\n",
              "      <td>41</td>\n",
              "      <td>702</td>\n",
              "      <td>{'kind': 1, 'positions.': 1, 'valuable': 1, '1...</td>\n",
              "      <td>{'of faith': 1, 'serve to': 1, 'an attitude': ...</td>\n",
              "      <td>{'further study rather': 1, 'in the social': 1...</td>\n",
              "      <td>frontier,</td>\n",
              "      <td>The School Review</td>\n",
              "      <td>[[frontier]]</td>\n",
              "      <td>[[frontier]]</td>\n",
              "      <td>1933</td>\n",
              "    </tr>\n",
              "    <tr>\n",
              "      <th>2577</th>\n",
              "      <td>[Cyril O. Houle, William Bowden]</td>\n",
              "      <td>1950-06-01</td>\n",
              "      <td>research-article</td>\n",
              "      <td>article</td>\n",
              "      <td>http://www.jstor.org/stable/1168554</td>\n",
              "      <td>[{'name': 'issn', 'value': '00346543'}, {'name...</td>\n",
              "      <td>Review of Educational Research</td>\n",
              "      <td>3</td>\n",
              "      <td>[eng]</td>\n",
              "      <td>[unigram, bigram, trigram]</td>\n",
              "      <td>9</td>\n",
              "      <td>206</td>\n",
              "      <td>198</td>\n",
              "      <td>pp. 198-206</td>\n",
              "      <td>jstor</td>\n",
              "      <td>1950</td>\n",
              "      <td>Sage Publications, Inc.</td>\n",
              "      <td>[Education, Social Sciences]</td>\n",
              "      <td>[Biological sciences - Biology]</td>\n",
              "      <td>The Content of Adult Education</td>\n",
              "      <td>http://www.jstor.org/stable/1168554</td>\n",
              "      <td>20</td>\n",
              "      <td>4240</td>\n",
              "      <td>{'state.': 1, 'settlement,': 1, 'provide.': 1,...</td>\n",
              "      <td>{'education in': 6, '1949, No.': 1, 'be drawn'...</td>\n",
              "      <td>{'thru further study': 1, 'six months. Fenton'...</td>\n",
              "      <td>defines</td>\n",
              "      <td>Review of Educational Research</td>\n",
              "      <td>[[defines]]</td>\n",
              "      <td>[[define]]</td>\n",
              "      <td>1950</td>\n",
              "    </tr>\n",
              "  </tbody>\n",
              "</table>\n",
              "<p>3500 rows × 31 columns</p>\n",
              "</div>\n",
              "      <button class=\"colab-df-convert\" onclick=\"convertToInteractive('df-35a471fd-1538-46b8-b187-e2b0fce5ee94')\"\n",
              "              title=\"Convert this dataframe to an interactive table.\"\n",
              "              style=\"display:none;\">\n",
              "        \n",
              "  <svg xmlns=\"http://www.w3.org/2000/svg\" height=\"24px\"viewBox=\"0 0 24 24\"\n",
              "       width=\"24px\">\n",
              "    <path d=\"M0 0h24v24H0V0z\" fill=\"none\"/>\n",
              "    <path d=\"M18.56 5.44l.94 2.06.94-2.06 2.06-.94-2.06-.94-.94-2.06-.94 2.06-2.06.94zm-11 1L8.5 8.5l.94-2.06 2.06-.94-2.06-.94L8.5 2.5l-.94 2.06-2.06.94zm10 10l.94 2.06.94-2.06 2.06-.94-2.06-.94-.94-2.06-.94 2.06-2.06.94z\"/><path d=\"M17.41 7.96l-1.37-1.37c-.4-.4-.92-.59-1.43-.59-.52 0-1.04.2-1.43.59L10.3 9.45l-7.72 7.72c-.78.78-.78 2.05 0 2.83L4 21.41c.39.39.9.59 1.41.59.51 0 1.02-.2 1.41-.59l7.78-7.78 2.81-2.81c.8-.78.8-2.07 0-2.86zM5.41 20L4 18.59l7.72-7.72 1.47 1.35L5.41 20z\"/>\n",
              "  </svg>\n",
              "      </button>\n",
              "      \n",
              "  <style>\n",
              "    .colab-df-container {\n",
              "      display:flex;\n",
              "      flex-wrap:wrap;\n",
              "      gap: 12px;\n",
              "    }\n",
              "\n",
              "    .colab-df-convert {\n",
              "      background-color: #E8F0FE;\n",
              "      border: none;\n",
              "      border-radius: 50%;\n",
              "      cursor: pointer;\n",
              "      display: none;\n",
              "      fill: #1967D2;\n",
              "      height: 32px;\n",
              "      padding: 0 0 0 0;\n",
              "      width: 32px;\n",
              "    }\n",
              "\n",
              "    .colab-df-convert:hover {\n",
              "      background-color: #E2EBFA;\n",
              "      box-shadow: 0px 1px 2px rgba(60, 64, 67, 0.3), 0px 1px 3px 1px rgba(60, 64, 67, 0.15);\n",
              "      fill: #174EA6;\n",
              "    }\n",
              "\n",
              "    [theme=dark] .colab-df-convert {\n",
              "      background-color: #3B4455;\n",
              "      fill: #D2E3FC;\n",
              "    }\n",
              "\n",
              "    [theme=dark] .colab-df-convert:hover {\n",
              "      background-color: #434B5C;\n",
              "      box-shadow: 0px 1px 3px 1px rgba(0, 0, 0, 0.15);\n",
              "      filter: drop-shadow(0px 1px 2px rgba(0, 0, 0, 0.3));\n",
              "      fill: #FFFFFF;\n",
              "    }\n",
              "  </style>\n",
              "\n",
              "      <script>\n",
              "        const buttonEl =\n",
              "          document.querySelector('#df-35a471fd-1538-46b8-b187-e2b0fce5ee94 button.colab-df-convert');\n",
              "        buttonEl.style.display =\n",
              "          google.colab.kernel.accessAllowed ? 'block' : 'none';\n",
              "\n",
              "        async function convertToInteractive(key) {\n",
              "          const element = document.querySelector('#df-35a471fd-1538-46b8-b187-e2b0fce5ee94');\n",
              "          const dataTable =\n",
              "            await google.colab.kernel.invokeFunction('convertToInteractive',\n",
              "                                                     [key], {});\n",
              "          if (!dataTable) return;\n",
              "\n",
              "          const docLinkHtml = 'Like what you see? Visit the ' +\n",
              "            '<a target=\"_blank\" href=https://colab.research.google.com/notebooks/data_table.ipynb>data table notebook</a>'\n",
              "            + ' to learn more about interactive tables.';\n",
              "          element.innerHTML = '';\n",
              "          dataTable['output_type'] = 'display_data';\n",
              "          await google.colab.output.renderOutput(dataTable, element);\n",
              "          const docLink = document.createElement('div');\n",
              "          docLink.innerHTML = docLinkHtml;\n",
              "          element.appendChild(docLink);\n",
              "        }\n",
              "      </script>\n",
              "    </div>\n",
              "  </div>\n",
              "  "
            ],
            "text/plain": [
              "                                          creator  ...  year\n",
              "5922         [Virginia F. Matson, Paul R. Pierce]  ...  1946\n",
              "5487                               [Roy A. Price]  ...  1936\n",
              "1668  [Willard B. Spalding, William C. Kvaraceus]  ...  1943\n",
              "6276                             [H. A. Basilius]  ...  1945\n",
              "251                                           NaN  ...  1949\n",
              "...                                           ...  ...   ...\n",
              "1194                             [Pedro T. Orata]  ...  1937\n",
              "41         [Wayne W. Soper, J. Harold Goldthorpe]  ...  1944\n",
              "6028                                [E. S. Jones]  ...  1938\n",
              "743                             [Oliver R. Floyd]  ...  1933\n",
              "2577             [Cyril O. Houle, William Bowden]  ...  1950\n",
              "\n",
              "[3500 rows x 31 columns]"
            ]
          },
          "metadata": {},
          "execution_count": 122
        }
      ]
    },
    {
      "cell_type": "code",
      "source": [
        "#the BERT pipelines did not seem to work with my data corpus\n",
        "#I was trying to use it to explore the tension in the goal of higher education: a general development of the mind v.s. pragmatic and pre-professional\n",
        "\n",
        "from transformers import pipeline\n",
        "nlp = pipeline(\"sentiment-analysis\")\n",
        "result = nlp(\"grade\", \"technical\", \"professional\")[0]\n",
        "print(f\"label: {result['label']}, with score: {round(result['score'], 4)}\")\n",
        "result = nlp(\"education\", \"interest\", \"learning\")[0]\n",
        "print(f\"label: {result['label']}, with score: {round(result['score'], 4)}\")"
      ],
      "metadata": {
        "colab": {
          "base_uri": "https://localhost:8080/",
          "height": 356
        },
        "id": "3VikiW-wNgn3",
        "outputId": "2d92ae6e-a462-4654-c01b-86f4b96d5fa3"
      },
      "execution_count": 123,
      "outputs": [
        {
          "output_type": "error",
          "ename": "ModuleNotFoundError",
          "evalue": "ignored",
          "traceback": [
            "\u001b[0;31m---------------------------------------------------------------------------\u001b[0m",
            "\u001b[0;31mModuleNotFoundError\u001b[0m                       Traceback (most recent call last)",
            "\u001b[0;32m<ipython-input-123-0835a9c0c8ed>\u001b[0m in \u001b[0;36m<module>\u001b[0;34m()\u001b[0m\n\u001b[1;32m      2\u001b[0m \u001b[0;31m#I was trying to use it to explore the tension in the goal of higher education: a general development of the mind v.s. pragmatic and pre-professional\u001b[0m\u001b[0;34m\u001b[0m\u001b[0;34m\u001b[0m\u001b[0;34m\u001b[0m\u001b[0m\n\u001b[1;32m      3\u001b[0m \u001b[0;34m\u001b[0m\u001b[0m\n\u001b[0;32m----> 4\u001b[0;31m \u001b[0;32mfrom\u001b[0m \u001b[0mtransformers\u001b[0m \u001b[0;32mimport\u001b[0m \u001b[0mpipeline\u001b[0m\u001b[0;34m\u001b[0m\u001b[0;34m\u001b[0m\u001b[0m\n\u001b[0m\u001b[1;32m      5\u001b[0m \u001b[0mnlp\u001b[0m \u001b[0;34m=\u001b[0m \u001b[0mpipeline\u001b[0m\u001b[0;34m(\u001b[0m\u001b[0;34m\"sentiment-analysis\"\u001b[0m\u001b[0;34m)\u001b[0m\u001b[0;34m\u001b[0m\u001b[0;34m\u001b[0m\u001b[0m\n\u001b[1;32m      6\u001b[0m \u001b[0mresult\u001b[0m \u001b[0;34m=\u001b[0m \u001b[0mnlp\u001b[0m\u001b[0;34m(\u001b[0m\u001b[0;34m\"grade\"\u001b[0m\u001b[0;34m,\u001b[0m \u001b[0;34m\"technical\"\u001b[0m\u001b[0;34m,\u001b[0m \u001b[0;34m\"professional\"\u001b[0m\u001b[0;34m)\u001b[0m\u001b[0;34m[\u001b[0m\u001b[0;36m0\u001b[0m\u001b[0;34m]\u001b[0m\u001b[0;34m\u001b[0m\u001b[0;34m\u001b[0m\u001b[0m\n",
            "\u001b[0;31mModuleNotFoundError\u001b[0m: No module named 'transformers'",
            "",
            "\u001b[0;31m---------------------------------------------------------------------------\u001b[0;32m\nNOTE: If your import is failing due to a missing package, you can\nmanually install dependencies using either !pip or !apt.\n\nTo view examples of installing some common dependencies, click the\n\"Open Examples\" button below.\n\u001b[0;31m---------------------------------------------------------------------------\u001b[0m\n"
          ],
          "errorDetails": {
            "actions": [
              {
                "action": "open_url",
                "actionText": "Open Examples",
                "url": "/notebooks/snippets/importing_libraries.ipynb"
              }
            ]
          }
        }
      ]
    },
    {
      "cell_type": "code",
      "source": [
        "result = nlp(question=\"What is the goal of higher education?\", context=context)\n",
        "print(f\"Answer: '{result['answer']}', score: {round(result['score'], 4)}, start: {result['start']}, end: {result['end']}\")\n",
        "result = nlp(question=\"What is a good example of a question answering dataset?\", context=context)\n",
        "print(f\"Answer: '{result['answer']}', score: {round(result['score'], 4)}, start: {result['start']}, end: {result['end']}\")"
      ],
      "metadata": {
        "id": "2NoMvwmPOD9V"
      },
      "execution_count": null,
      "outputs": []
    }
  ],
  "metadata": {
    "kernelspec": {
      "display_name": "Python 3 (ipykernel)",
      "language": "python",
      "name": "python3"
    },
    "language_info": {
      "codemirror_mode": {
        "name": "ipython",
        "version": 3
      },
      "file_extension": ".py",
      "mimetype": "text/x-python",
      "name": "python",
      "nbconvert_exporter": "python",
      "pygments_lexer": "ipython3",
      "version": "3.8.8"
    },
    "colab": {
      "name": "5-Classifying-Meanings-and-Documents-Draft2.ipynb",
      "provenance": [],
      "collapsed_sections": []
    }
  },
  "nbformat": 4,
  "nbformat_minor": 0
}